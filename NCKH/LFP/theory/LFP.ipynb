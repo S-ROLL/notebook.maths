{
 "cells": [
  {
   "cell_type": "markdown",
   "metadata": {},
   "source": [
    "<h1 style=\"text-align: center;\">Linear-Fractional Programming</h1>"
   ]
  },
  {
   "cell_type": "markdown",
   "metadata": {},
   "source": [
    "## Sources"
   ]
  },
  {
   "cell_type": "markdown",
   "metadata": {},
   "source": [
    "- [LINEAR-FRACTIONAL PROGRAMMING: THEORY, METHODS, APPLICATIONS & SOFTWARE - Erik B. Bajalinov](https://drive.google.com/file/d/1GEY5EmSs1RNBHyWmEYf3AaFXoo8GEht6/view?usp=share_link)"
   ]
  },
  {
   "cell_type": "markdown",
   "metadata": {},
   "source": [
    "## Contents"
   ]
  },
  {
   "cell_type": "markdown",
   "metadata": {},
   "source": [
    "1. INTRODUCTION\n",
    "2. BASIC LINEAR ALGEBRA\n",
    "3. **INTRODUCTION TO LFP**\n",
    "4. THE SIMPLEX METHOD\n",
    "5. DUALITY THEORY\n",
    "6. SENSITIVITY ANALYSIS\n",
    "7. INTERCONNECTION BETWEEN LFP AND LP\n",
    "8. **INTEGER LINEAR-FRACTIONAL PROGRAMMING**\n",
    "9.  SPECIAL LFP PROBLEMS\n",
    "10. ADVANCED METHODS AND ALGORITHMS IN LFP\n",
    "11. ADVANCED TOPICS IN LFP\n",
    "12. COMPUTATIONAL ASPECTS\n",
    "13. THE WINGULFPACKAGE"
   ]
  },
  {
   "cell_type": "markdown",
   "metadata": {},
   "source": [
    "## Introduction to LFP"
   ]
  },
  {
   "cell_type": "markdown",
   "metadata": {},
   "source": [
    "## Integer linear-fractional programming"
   ]
  }
 ],
 "metadata": {
  "language_info": {
   "name": "python"
  },
  "orig_nbformat": 4
 },
 "nbformat": 4,
 "nbformat_minor": 2
}
