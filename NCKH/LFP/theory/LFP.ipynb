{
 "cells": [
  {
   "cell_type": "markdown",
   "metadata": {},
   "source": [
    "<h1 style=\"text-align: center;\">Linear-Fractional Programming</h1>"
   ]
  },
  {
   "cell_type": "markdown",
   "metadata": {},
   "source": [
    "## Sources"
   ]
  },
  {
   "cell_type": "markdown",
   "metadata": {},
   "source": [
    "- [LINEAR-FRACTIONAL PROGRAMMING: THEORY, METHODS, APPLICATIONS & SOFTWARE - Erik B. Bajalinov](https://drive.google.com/file/d/1GEY5EmSs1RNBHyWmEYf3AaFXoo8GEht6/view?usp=share_link)"
   ]
  }
 ],
 "metadata": {
  "language_info": {
   "name": "python"
  },
  "orig_nbformat": 4
 },
 "nbformat": 4,
 "nbformat_minor": 2
}
