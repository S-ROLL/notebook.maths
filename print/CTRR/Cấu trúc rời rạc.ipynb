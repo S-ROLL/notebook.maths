{
 "cells": [
  {
   "cell_type": "markdown",
   "id": "84882185",
   "metadata": {},
   "source": [
    "# Cơ sở Logic"
   ]
  },
  {
   "cell_type": "markdown",
   "id": "f875e6c2",
   "metadata": {},
   "source": [
    "## Phép toán"
   ]
  },
  {
   "cell_type": "markdown",
   "id": "c46ac173",
   "metadata": {},
   "source": [
    "### Phủ định\n",
    "\n",
    "| $P$ | $\\neg P$ |\n",
    "|-------|--------|\n",
    "|   0   |   1    |\n",
    "|   1   |   0    |\n",
    "\n",
    "### Hội (và)\n",
    "| $P$ | $Q$ | $P \\land Q$ |\n",
    "|-------|-------|-----------|\n",
    "|   0   |   0   |     0     |\n",
    "|   0   |   1   |     0     |\n",
    "|   1   |   0   |     0     |\n",
    "|   **1**   |   **1**   |     **1**     |\n",
    "\n",
    "### Tuyển (hoặc)\n",
    "| $P$ | $Q$ | $P \\lor Q$ |\n",
    "|-------|-------|-----------|\n",
    "|   **0**   |   **0**   |     **0**     |\n",
    "|   0   |   1   |     1     |\n",
    "|   1   |   0   |     1     |\n",
    "|   1   |   1   |     1     |\n",
    "\n",
    "### Kéo theo\n",
    "| $P$ | $Q$ | $P \\to Q$ |\n",
    "|-------|-------|-----------|\n",
    "|   0   |   0   |     1     |\n",
    "|   0   |   1   |     1     |\n",
    "|   **1**   |   **0**   |     **0**     |\n",
    "|   1   |   1   |     1     |\n",
    "\n",
    "### Tương đương (Nếu và chỉ nếu)\n",
    "| $P$ | $Q$ | $P \\leftrightarrow Q$ |\n",
    "|-------|-------|-----------|\n",
    "|   **0**   |   **0**   |     **1**     |\n",
    "|   0   |   1   |     0     |\n",
    "|   1   |   0   |     0     |\n",
    "|   **1**   |   **1**   |     **1**     |\n"
   ]
  },
  {
   "cell_type": "markdown",
   "id": "37b88647",
   "metadata": {},
   "source": [
    "## Dạng mệnh đề"
   ]
  },
  {
   "cell_type": "markdown",
   "id": "d4410eac",
   "metadata": {},
   "source": [
    "- Sơ cấp\n",
    "\n",
    "- Hằng đúng \n",
    "\n",
    "- Hằng sai"
   ]
  },
  {
   "cell_type": "markdown",
   "id": "935d1eea",
   "metadata": {},
   "source": [
    "## Tương đương logic \\& Hệ quả logic"
   ]
  },
  {
   "cell_type": "markdown",
   "id": "dca6bc90",
   "metadata": {},
   "source": [
    "### Tương đương logic"
   ]
  },
  {
   "cell_type": "markdown",
   "id": "81c6741b",
   "metadata": {},
   "source": [
    "- $P, \\: Q \\to$ công thức $\\ldots$\n",
    "\n",
    "- $P \\Leftrightarrow Q (P \\equiv Q, P = Q)$ đgl tương đương logic.\n",
    "\n",
    "- $P \\leftrightarrow Q$ đgl hằng đúng."
   ]
  },
  {
   "cell_type": "markdown",
   "id": "f9e01f98",
   "metadata": {},
   "source": [
    "### Hệ quả logic"
   ]
  },
  {
   "cell_type": "markdown",
   "id": "6a88b353",
   "metadata": {},
   "source": [
    "- $P \\Rightarrow Q$ đgl hệ quả logic.\n",
    "- $P \\to Q$ đgl hằng đúng."
   ]
  },
  {
   "cell_type": "markdown",
   "id": "f70e5f16",
   "metadata": {},
   "source": [
    "**Note**\n",
    "\n",
    "- C/m $P \\Rightarrow Q$ $\\to$ c/m $P \\to Q$ chân trị $1$."
   ]
  },
  {
   "cell_type": "markdown",
   "id": "6cc2c4cf",
   "metadata": {},
   "source": [
    "## Quy luật logic"
   ]
  },
  {
   "cell_type": "markdown",
   "id": "b37c1a2e",
   "metadata": {},
   "source": [
    "| **Luật** | **Công thức** |\n",
    "|-------|-------|\n",
    "|   Phủ định của phủ định   |   $\\neg \\neg P \\equiv P$   |\n",
    "| De Morgan | $\\neg (P \\land Q) \\equiv \\neg P \\lor \\neg Q$ </br> $\\neg (P \\lor Q) \\equiv \\neg P \\land \\neg Q$ |\n",
    "| Giao hoán | $P \\lor Q \\equiv Q \\lor P$ </br> $P \\land Q \\equiv Q \\land P$ |\n",
    "| Kết hợp | $P \\land (Q \\land R) \\equiv (P \\land Q) \\land R$ </br> $P \\lor (Q \\lor R) \\equiv (P \\lor Q) \\lor R$ |\n",
    "| Phân phối | $P \\land (Q \\lor R) \\equiv (P \\land Q) \\lor (P \\land R)$ </br> $P \\lor (Q \\land R) \\equiv (P \\lor Q) \\land (P \\lor R)$ |\n",
    "| Luỹ đẳng | $P \\land P \\equiv P$ </br> $P \\lor P \\equiv P$ |\n",
    "| Trung hoà | $P \\land 1 \\equiv P$ </br> $P \\lor 0 \\equiv P$ |\n",
    "| Phần tử bù | $P \\land \\neg P \\equiv 0$ </br> $P \\lor \\neg P \\equiv 1$ |\n",
    "| Thống trị | $P \\land 0 \\equiv 0$ </br> $P \\lor 1 \\equiv 1$ |\n",
    "| Hấp thụ | $P \\land (P \\lor Q) \\equiv P$ </br> $P \\lor (P \\land Q) \\equiv P$ |\n",
    "| Phản chứng | $P \\to Q \\equiv \\neg P \\lor Q \\equiv \\neg Q \\to \\neg P$ </br> $\\neg (P \\to Q) \\equiv P \\land \\neg Q$|"
   ]
  },
  {
   "cell_type": "markdown",
   "id": "2bc20caf",
   "metadata": {},
   "source": [
    "## Quy tắc suy diễn"
   ]
  },
  {
   "cell_type": "markdown",
   "id": "7353034d",
   "metadata": {},
   "source": [
    "- Khẳng định\n",
    "\n",
    "$$\n",
    "\\frac{P \\to Q, \\: P}{\\therefore Q}\n",
    "$$\n",
    "\n",
    "- Phủ định\n",
    "\n",
    "$$\n",
    "\\frac{P \\to Q, \\: \\neg Q}{\\therefore \\neg P}\n",
    "$$\n",
    "\n",
    "- Tam đoạn luận\n",
    "\n",
    "$$\n",
    "\\frac{P \\to Q, \\: Q \\to R}{\\therefore P \\to R}\n",
    "$$\n",
    "\n",
    "- Tam đoạn luận rời \n",
    "\n",
    "$$\n",
    "\\frac{P \\lor Q, \\: \\neg Q}{\\therefore P}\n",
    "$$\n",
    "\n",
    "or\n",
    "\n",
    "$$\n",
    "\\frac{P \\lor Q, \\: \\neg P}{\\therefore Q}\n",
    "$$\n",
    "\n",
    "- Mâu thuẫn\n",
    "\n",
    "$$\n",
    "P \\to Q \\equiv (P \\land \\neg Q) \\to 0\n",
    "$$\n",
    "\n",
    "trong đó $P = P_1 \\land P_2 \\land \\ldots \\land P_N$"
   ]
  },
  {
   "cell_type": "markdown",
   "id": "28199e5e",
   "metadata": {},
   "source": [
    "## Vị từ - lượng từ "
   ]
  },
  {
   "cell_type": "markdown",
   "id": "17280219",
   "metadata": {},
   "source": [
    "### Vị từ"
   ]
  },
  {
   "cell_type": "markdown",
   "id": "7f8e3cc9",
   "metadata": {},
   "source": [
    "$P(x,y,\\ldots) \\to P(a,b,\\ldots)$ có chân trị $0$ hoặc $1$."
   ]
  },
  {
   "cell_type": "markdown",
   "id": "c9a023e5",
   "metadata": {},
   "source": [
    "### Lượng từ"
   ]
  },
  {
   "cell_type": "markdown",
   "id": "d4873098",
   "metadata": {},
   "source": [
    "#### Với mọi"
   ]
  },
  {
   "cell_type": "markdown",
   "id": "4af754fd",
   "metadata": {},
   "source": [
    "- $\\forall$ trong đó $\\land$\n",
    "    \n",
    "    - **Đúng** với tất cả.\n",
    "\n",
    "    - **Sai** với một."
   ]
  },
  {
   "cell_type": "markdown",
   "id": "d345fb06",
   "metadata": {},
   "source": [
    "- $\\neg (\\forall x \\in A, \\: P(x)) \\equiv \\exists x \\in A, \\neg P(x)$"
   ]
  },
  {
   "cell_type": "markdown",
   "id": "137d178c",
   "metadata": {},
   "source": [
    "#### Tồn tại"
   ]
  },
  {
   "cell_type": "markdown",
   "id": "27dc6ac8",
   "metadata": {},
   "source": [
    "- $\\exists$ trong đó $\\lor$\n",
    "\n",
    "    - **Đúng** với một.\n",
    "    \n",
    "    - **Sai** với tất cả."
   ]
  },
  {
   "cell_type": "markdown",
   "id": "d6e2cf72",
   "metadata": {},
   "source": [
    "- $\\neg (\\exists x \\in A, \\: P(x)) \\equiv \\forall x \\in A, \\: \\neg P(x)$"
   ]
  },
  {
   "cell_type": "markdown",
   "id": "27e98a71",
   "metadata": {},
   "source": [
    "#### Đặc biệt hoá phổ dụng\n",
    "#### Tổng quát hoá phổ dụng"
   ]
  },
  {
   "cell_type": "markdown",
   "id": "b9749e9b",
   "metadata": {},
   "source": [
    "### Quy tắc suy diễn"
   ]
  },
  {
   "cell_type": "markdown",
   "id": "6167e5e8",
   "metadata": {},
   "source": [
    "#### C/m Phản chứng\n",
    "\n",
    "$$\n",
    "P \\Rightarrow Q \\equiv (P \\land \\neg Q) \\Rightarrow 0\n",
    "$$"
   ]
  },
  {
   "cell_type": "markdown",
   "id": "171f4c9d",
   "metadata": {},
   "source": [
    "#### C/m trực tiếp"
   ]
  },
  {
   "cell_type": "markdown",
   "id": "c1173475",
   "metadata": {},
   "source": [
    "#### C/m theo trường hợp (vét cạn)"
   ]
  },
  {
   "cell_type": "markdown",
   "id": "c9b6010f",
   "metadata": {},
   "source": [
    "#### C/m gián tiếp (PC)"
   ]
  },
  {
   "cell_type": "markdown",
   "id": "8e54ffd0",
   "metadata": {},
   "source": [
    "$P \\Rightarrow Q$ và $\\neg Q \\Rightarrow \\neg P$\n",
    "\n",
    "$\n",
    "\\neg Q \\Rightarrow \\neg P \\equiv P \\Rightarrow Q\n",
    "$"
   ]
  },
  {
   "cell_type": "markdown",
   "id": "98c2331f",
   "metadata": {},
   "source": [
    "#### C/m quy nạp"
   ]
  },
  {
   "cell_type": "markdown",
   "id": "97bf3221",
   "metadata": {},
   "source": [
    "$$\n",
    "\\frac{P(n_0), \\quad \\forall n > n_0, \\: P(n) \\to P(n+1)}{\\therefore \\forall n \\geq n_0, \\: P(n)}\n",
    "$$"
   ]
  },
  {
   "cell_type": "markdown",
   "id": "929c698a",
   "metadata": {},
   "source": [
    "B1. C/m $P(n_0)$ đúng\n",
    "\n",
    "B2. G/s $n \\in \\mathbb{N}$ và $n \\geq n_0$, $P(n)$ đúng. C/m $P(n+1)$ đúng.\n",
    "\n",
    "$\\Rightarrow \\: P(n)$ đúng $\\forall n \\geq n_0$"
   ]
  },
  {
   "cell_type": "markdown",
   "id": "d3186609",
   "metadata": {},
   "source": [
    "# Tập hợp - Ánh xạ"
   ]
  },
  {
   "cell_type": "markdown",
   "id": "11cc6db3",
   "metadata": {},
   "source": [
    "## Tập hợp"
   ]
  },
  {
   "cell_type": "markdown",
   "id": "1dd5cad4",
   "metadata": {},
   "source": [
    "- Cách diễn tả\n",
    "\n",
    "    - Bằng lời\n",
    "\n",
    "    - Liệt kê\n",
    "    \n",
    "    - Tính chất đặc trưng"
   ]
  },
  {
   "cell_type": "markdown",
   "id": "ea16cf6c",
   "metadata": {},
   "source": [
    "- Lực lượng k/h $|A|$"
   ]
  },
  {
   "cell_type": "markdown",
   "id": "4accc1a1",
   "metadata": {},
   "source": [
    "- Tích Descarte\n",
    "    \n",
    "    - 2 tập hợp\n",
    "\n",
    "    - Nhiều tập hợp"
   ]
  },
  {
   "cell_type": "markdown",
   "id": "67d8e4f1",
   "metadata": {},
   "source": [
    "- Tập con \n",
    "\n",
    "    - k/h $B \\subset A \\Leftrightarrow \\{ \\forall x | x \\in B \\Rightarrow x \\in A\\}$\n",
    "\n",
    "    - Tập hợp tập con của $A$ k/h $P(A)$"
   ]
  },
  {
   "cell_type": "markdown",
   "id": "dfad797f",
   "metadata": {},
   "source": [
    "### Phép toán"
   ]
  },
  {
   "cell_type": "markdown",
   "id": "01660550",
   "metadata": {},
   "source": [
    "- Hợp $A \\cup B = \\{ x | x \\in A \\lor x \\in B \\}$\n",
    "- Giao $A \\cap B = \\{ x | x \\in A \\land x \\in B \\}$\n",
    "- Hiệu $A \\backslash B = \\{ x | x \\in A \\land x \\notin B \\}$\n",
    "- Phần bù $B \\subset A$, k/h $\\overline{B_A}$ or $\\overline{B}$"
   ]
  },
  {
   "cell_type": "markdown",
   "id": "0ab99c6d",
   "metadata": {},
   "source": [
    "#### Tính chất"
   ]
  },
  {
   "cell_type": "markdown",
   "id": "d3a62b02",
   "metadata": {},
   "source": [
    "| **Luật** | **Công thức** |\n",
    "|-------|-------|\n",
    "| Giao hoán | $A \\cap B = B \\cap A$ </br> $A \\cup B = B \\cup A$ |\n",
    "|Kết hợp | $(A \\cap B) \\cap C = A \\cap (B \\cap C)$ </br> $(A \\cup B) \\cup C = A \\cup (B \\cup C)$ |\n",
    "| Phân phối | $A \\cap (B \\cup C) = (A \\cap B) \\cup (A \\cap C)$ </br> $A \\cup (B \\cap C) = (A \\cup B) \\cap (A \\cup C)$ |\n",
    "| De Morgan | $\\overline{A \\cap B} = \\overline{A} \\cup \\overline{B}$ </br> $\\overline{A \\cup B} = \\overline{A} \\cap \\overline{B}$ |\n",
    "| Luỹ đẳng | $A \\cap A = A$ </br> $A \\cup A = A$ |"
   ]
  },
  {
   "cell_type": "markdown",
   "id": "d85e499e",
   "metadata": {},
   "source": [
    "## Ánh xạ"
   ]
  },
  {
   "cell_type": "markdown",
   "id": "1ebfa631",
   "metadata": {},
   "source": [
    "Ánh xạ bằng nhau \n",
    "\n",
    "Ảnh\n",
    "\n",
    "Ảnh ngược\n",
    "\n",
    "Tính chất"
   ]
  },
  {
   "cell_type": "markdown",
   "id": "f515c933",
   "metadata": {},
   "source": [
    "### Loại"
   ]
  },
  {
   "cell_type": "markdown",
   "id": "4d40f0b4",
   "metadata": {},
   "source": [
    "#### Đơn ánh\n",
    "\n",
    "- Có tối đa 1 nghiệm\n",
    "\n",
    "$$\n",
    "\\forall x, x' \\in X, x \\neq x' \\Rightarrow f(x) \\neq f(x')\n",
    "$$\n",
    "\n",
    "hay\n",
    "\n",
    "$$\n",
    "\\forall x, x' \\in X, f(x) \\neq f(x') \\Rightarrow x \\neq x' \n",
    "$$\n",
    "\n",
    "- **Không** là đơn ánh (có nhiều hơn 1 nghiệm)\n",
    "\n",
    "$$\n",
    "\\exists x, x' \\in X, x \\neq x' \\land f(x) = f(x')\n",
    "$$\n"
   ]
  },
  {
   "cell_type": "markdown",
   "id": "8504f61d",
   "metadata": {},
   "source": [
    "#### Toàn ánh\n",
    "\n",
    "- Luôn có ít nhất 1 nghiệm\n",
    "\n",
    "$$\n",
    "\\forall y \\in Y, \\exists x \\in X, y=f(x)\n",
    "$$\n",
    "\n",
    "hay\n",
    "\n",
    "$$\n",
    "\\forall y \\in Y, f^{-1}(y) \\neq \\varnothing\n",
    "$$\n",
    "\n",
    "- **Không** là toàn ánh (Tồn tại vô nghiệm)\n",
    "\n",
    "$$\n",
    "\\exists y \\in Y, f^{-1} (y) = \\varnothing\n",
    "$$\n",
    "\n",
    "hay\n",
    "\n",
    "$$\n",
    "\\exists y \\in Y, \\forall x \\in X, y \\neq f(x)\n",
    "$$"
   ]
  },
  {
   "cell_type": "markdown",
   "id": "fe6334cc",
   "metadata": {},
   "source": [
    "#### Song ánh\n",
    "\n",
    "- Vừa đơn ánh vừa toàn ánh.\n",
    "\n",
    "$$\n",
    "\\forall y \\in Y, \\exists ! x \\in X, y = f(x)\n",
    "$$\n",
    "\n",
    "hay\n",
    "\n",
    "$$\n",
    "\\forall y \\in Y, f^{-1}(y) \\text{ có đúng 1 phần tử}\n",
    "$$"
   ]
  },
  {
   "cell_type": "markdown",
   "id": "2d60fcc9",
   "metadata": {},
   "source": [
    "### Ngược"
   ]
  },
  {
   "cell_type": "markdown",
   "id": "a663cb3e",
   "metadata": {},
   "source": [
    "$$\n",
    "f^{-1} : Y \\to X \\\\\n",
    "y \\mapsto f^{-1} (y) = x, \\quad f(x) = y\n",
    "$$"
   ]
  },
  {
   "cell_type": "markdown",
   "id": "33042b88",
   "metadata": {},
   "source": [
    "### Hợp"
   ]
  },
  {
   "cell_type": "markdown",
   "id": "99d89632",
   "metadata": {},
   "source": [
    "$$\n",
    "h = g \\circ f : X \\to Y \\to Z \\\\\n",
    "x \\mapsto f(x) \\mapsto g(f(x))\n",
    "$$"
   ]
  },
  {
   "cell_type": "markdown",
   "id": "cf746237",
   "metadata": {},
   "source": [
    "- Định lý\n",
    "\n",
    "$f: X \\to Y$ song ánh\n",
    "\n",
    "$$\n",
    "f \\circ f^{-1} = I d_Y \\\\\n",
    "f^{-1} \\circ f = I d_X\n",
    "$$\n",
    "\n",
    "Trong đó\n",
    "\n",
    "  - $Id_X(x) : X \\to X, \\quad Id_X(x) = x$\n",
    "\n",
    "  - $Id_Y(y) : Y \\to Y, \\quad Id_Y(y) = y$\n"
   ]
  },
  {
   "cell_type": "markdown",
   "id": "5121b740",
   "metadata": {},
   "source": [
    "# Phương pháp đếm"
   ]
  },
  {
   "cell_type": "markdown",
   "id": "3cdc7882",
   "metadata": {},
   "source": [
    "## Cơ bản"
   ]
  },
  {
   "cell_type": "markdown",
   "id": "5c7423ae",
   "metadata": {},
   "source": [
    "- Cộng\n",
    "    - Trường hợp\n",
    "- Nhân\n",
    "    - Bước\n",
    "    - Thứ tự không quan trọng\n",
    "    - Bắt buộc\n",
    "- Nguyên lý chuồng bồ câu\n",
    "    - $n$ vật, $k$ hộp $\\to$ "
   ]
  },
  {
   "cell_type": "markdown",
   "id": "d49eb76e",
   "metadata": {},
   "source": [
    "# Hệ thức truy hồi $\\&$ Hàm sinh"
   ]
  }
 ],
 "metadata": {
  "kernelspec": {
   "display_name": "3.13.7",
   "language": "python",
   "name": "python3"
  },
  "language_info": {
   "name": "python",
   "version": "3.13.7"
  }
 },
 "nbformat": 4,
 "nbformat_minor": 5
}
