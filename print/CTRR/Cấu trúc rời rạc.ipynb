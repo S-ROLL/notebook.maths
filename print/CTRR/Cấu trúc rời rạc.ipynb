{
 "cells": [
  {
   "cell_type": "markdown",
   "id": "84882185",
   "metadata": {},
   "source": [
    "# Cơ sở Logic"
   ]
  },
  {
   "cell_type": "markdown",
   "id": "f875e6c2",
   "metadata": {},
   "source": [
    "## Phép toán"
   ]
  },
  {
   "cell_type": "markdown",
   "id": "c46ac173",
   "metadata": {},
   "source": [
    "### Phủ định\n",
    "\n",
    "| $P$ | $\\neg P$ |\n",
    "|:-------:|:--------:|\n",
    "|   0   |   1    |\n",
    "|   1   |   0    |\n",
    "\n",
    "### Hội (và)\n",
    "| $P$ | $Q$ | $P \\land Q$ |\n",
    "|:-------:|:-------:|:-----------:|\n",
    "|   0   |   0   |     0     |\n",
    "|   0   |   1   |     0     |\n",
    "|   1   |   0   |     0     |\n",
    "|   **1**   |   **1**   |     **1**     |\n",
    "\n",
    "### Tuyển (hoặc)\n",
    "| $P$ | $Q$ | $P \\lor Q$ |\n",
    "|:-------:|:-------:|:-----------:|\n",
    "|   **0**   |   **0**   |     **0**     |\n",
    "|   0   |   1   |     1     |\n",
    "|   1   |   0   |     1     |\n",
    "|   1   |   1   |     1     |\n",
    "\n",
    "### Kéo theo\n",
    "| $P$ | $Q$ | $P \\to Q$ |\n",
    "|:-------:|:-------:|:-----------:|\n",
    "|   0   |   0   |     1     |\n",
    "|   0   |   1   |     1     |\n",
    "|   **1**   |   **0**   |     **0**     |\n",
    "|   1   |   1   |     1     |\n",
    "\n",
    "### Tương đương (Nếu và chỉ nếu)\n",
    "| $P$ | $Q$ | $P \\leftrightarrow Q$ |\n",
    "|:-------:|:-------:|:-----------:|\n",
    "|   **0**   |   **0**   |     **1**     |\n",
    "|   0   |   1   |     0     |\n",
    "|   1   |   0   |     0     |\n",
    "|   **1**   |   **1**   |     **1**     |\n"
   ]
  },
  {
   "cell_type": "markdown",
   "id": "37b88647",
   "metadata": {},
   "source": [
    "## Dạng mệnh đề"
   ]
  },
  {
   "cell_type": "markdown",
   "id": "d4410eac",
   "metadata": {},
   "source": [
    "- Sơ cấp\n",
    "\n",
    "- Hằng đúng \n",
    "\n",
    "- Hằng sai"
   ]
  },
  {
   "cell_type": "markdown",
   "id": "935d1eea",
   "metadata": {},
   "source": [
    "## Tương đương logic \\& Hệ quả logic"
   ]
  },
  {
   "cell_type": "markdown",
   "id": "dca6bc90",
   "metadata": {},
   "source": [
    "### Tương đương logic"
   ]
  },
  {
   "cell_type": "markdown",
   "id": "81c6741b",
   "metadata": {},
   "source": [
    "- $P, \\: Q \\to$ công thức $\\ldots$\n",
    "\n",
    "- $P \\Leftrightarrow Q (P \\equiv Q, P = Q)$ đgl tương đương logic.\n",
    "\n",
    "- $P \\leftrightarrow Q$ đgl hằng đúng."
   ]
  },
  {
   "cell_type": "markdown",
   "id": "f9e01f98",
   "metadata": {},
   "source": [
    "### Hệ quả logic"
   ]
  },
  {
   "cell_type": "markdown",
   "id": "6a88b353",
   "metadata": {},
   "source": [
    "- $P \\Rightarrow Q$ đgl hệ quả logic.\n",
    "- $P \\to Q$ đgl hằng đúng."
   ]
  },
  {
   "cell_type": "markdown",
   "id": "f70e5f16",
   "metadata": {},
   "source": [
    "**Note**\n",
    "\n",
    "- C/m $P \\Rightarrow Q$ $\\to$ c/m $P \\to Q$ chân trị $1$."
   ]
  },
  {
   "cell_type": "markdown",
   "id": "6cc2c4cf",
   "metadata": {},
   "source": [
    "## Quy luật logic"
   ]
  },
  {
   "cell_type": "markdown",
   "id": "b37c1a2e",
   "metadata": {},
   "source": [
    "| **Luật** | **Công thức** |\n",
    "|:-------:|:-------:|\n",
    "|   Phủ định của phủ định   |   $\\neg \\neg P \\equiv P$   |\n",
    "| De Morgan | $\\neg (P \\land Q) \\equiv \\neg P \\lor \\neg Q$ <br> $\\neg (P \\lor Q) \\equiv \\neg P \\land \\neg Q$ |\n",
    "| Giao hoán | $P \\lor Q \\equiv Q \\lor P$ <br> $P \\land Q \\equiv Q \\land P$ |\n",
    "| Kết hợp | $P \\land (Q \\land R) \\equiv (P \\land Q) \\land R$ <br> $P \\lor (Q \\lor R) \\equiv (P \\lor Q) \\lor R$ |\n",
    "| Phân phối | $P \\land (Q \\lor R) \\equiv (P \\land Q) \\lor (P \\land R)$ <br> $P \\lor (Q \\land R) \\equiv (P \\lor Q) \\land (P \\lor R)$ |\n",
    "| Luỹ đẳng | $P \\land P \\equiv P$ <br> $P \\lor P \\equiv P$ |\n",
    "| Trung hoà | $P \\land 1 \\equiv P$ <br> $P \\lor 0 \\equiv P$ |\n",
    "| Phần tử bù | $P \\land \\neg P \\equiv 0$ <br> $P \\lor \\neg P \\equiv 1$ |\n",
    "| Thống trị | $P \\land 0 \\equiv 0$ <br> $P \\lor 1 \\equiv 1$ |\n",
    "| Hấp thụ | $P \\land (P \\lor Q) \\equiv P$ <br> $P \\lor (P \\land Q) \\equiv P$ |\n",
    "| Phản chứng | $P \\to Q \\equiv \\neg P \\lor Q \\equiv \\neg Q \\to \\neg P$ <br> $\\neg (P \\to Q) \\equiv P \\land \\neg Q$|"
   ]
  },
  {
   "cell_type": "markdown",
   "id": "2bc20caf",
   "metadata": {},
   "source": [
    "## Quy tắc suy diễn"
   ]
  },
  {
   "cell_type": "markdown",
   "id": "7353034d",
   "metadata": {},
   "source": [
    "- Khẳng định\n",
    "\n",
    "$$\n",
    "\\frac{P \\to Q, \\: P}{\\therefore Q}\n",
    "$$\n",
    "\n",
    "- Phủ định\n",
    "\n",
    "$$\n",
    "\\frac{P \\to Q, \\: \\neg Q}{\\therefore \\neg P}\n",
    "$$\n",
    "\n",
    "- Tam đoạn luận\n",
    "\n",
    "$$\n",
    "\\frac{P \\to Q, \\: Q \\to R}{\\therefore P \\to R}\n",
    "$$\n",
    "\n",
    "- Tam đoạn luận rời \n",
    "\n",
    "$$\n",
    "\\frac{P \\lor Q, \\: \\neg Q}{\\therefore P}\n",
    "$$\n",
    "\n",
    "or\n",
    "\n",
    "$$\n",
    "\\frac{P \\lor Q, \\: \\neg P}{\\therefore Q}\n",
    "$$\n",
    "\n",
    "- Mâu thuẫn\n",
    "\n",
    "$$\n",
    "P \\to Q \\equiv (P \\land \\neg Q) \\to 0\n",
    "$$\n",
    "\n",
    "trong đó $P = P_1 \\land P_2 \\land \\ldots \\land P_N$"
   ]
  },
  {
   "cell_type": "markdown",
   "id": "28199e5e",
   "metadata": {},
   "source": [
    "## Vị từ - lượng từ "
   ]
  },
  {
   "cell_type": "markdown",
   "id": "17280219",
   "metadata": {},
   "source": [
    "### Vị từ"
   ]
  },
  {
   "cell_type": "markdown",
   "id": "7f8e3cc9",
   "metadata": {},
   "source": [
    "$P(x,y,\\ldots) \\to P(a,b,\\ldots)$ có chân trị $0$ hoặc $1$."
   ]
  },
  {
   "cell_type": "markdown",
   "id": "c9a023e5",
   "metadata": {},
   "source": [
    "### Lượng từ"
   ]
  },
  {
   "cell_type": "markdown",
   "id": "d4873098",
   "metadata": {},
   "source": [
    "#### Với mọi"
   ]
  },
  {
   "cell_type": "markdown",
   "id": "4af754fd",
   "metadata": {},
   "source": [
    "- $\\forall$ trong đó $\\land$\n",
    "    \n",
    "    - **Đúng** với tất cả.\n",
    "\n",
    "    - **Sai** với một."
   ]
  },
  {
   "cell_type": "markdown",
   "id": "d345fb06",
   "metadata": {},
   "source": [
    "- $\\neg (\\forall x \\in A, \\: P(x)) \\equiv \\exist x \\in A, \\neg P(x)$"
   ]
  },
  {
   "cell_type": "markdown",
   "id": "137d178c",
   "metadata": {},
   "source": [
    "#### Tồn tại"
   ]
  },
  {
   "cell_type": "markdown",
   "id": "27dc6ac8",
   "metadata": {},
   "source": [
    "- $\\exist$ trong đó $\\lor$\n",
    "\n",
    "    - **Đúng** với một.\n",
    "    \n",
    "    - **Sai** với tất cả."
   ]
  },
  {
   "cell_type": "markdown",
   "id": "d6e2cf72",
   "metadata": {},
   "source": [
    "- $\\neg (\\exist x \\in A, \\: P(x)) \\equiv \\forall x \\in A, \\: \\neg P(x)$"
   ]
  },
  {
   "cell_type": "markdown",
   "id": "27e98a71",
   "metadata": {},
   "source": [
    "#### Đặc biệt hoá phổ dụng\n",
    "#### Tổng quát hoá phổ dụng"
   ]
  },
  {
   "cell_type": "markdown",
   "id": "b9749e9b",
   "metadata": {},
   "source": [
    "### Quy tắc suy diễn"
   ]
  },
  {
   "cell_type": "markdown",
   "id": "6167e5e8",
   "metadata": {},
   "source": [
    "#### C/m Phản chứng\n",
    "\n",
    "$$\n",
    "P \\Rightarrow Q \\equiv (P \\land \\neg Q) \\Rightarrow 0\n",
    "$$"
   ]
  },
  {
   "cell_type": "markdown",
   "id": "171f4c9d",
   "metadata": {},
   "source": [
    "#### C/m trực tiếp"
   ]
  },
  {
   "cell_type": "markdown",
   "id": "c1173475",
   "metadata": {},
   "source": [
    "#### C/m theo trường hợp (vét cạn)"
   ]
  },
  {
   "cell_type": "markdown",
   "id": "c9b6010f",
   "metadata": {},
   "source": [
    "#### C/m gián tiếp (PC)"
   ]
  },
  {
   "cell_type": "markdown",
   "id": "8e54ffd0",
   "metadata": {},
   "source": [
    "$P \\Rightarrow Q$ và $\\neg Q \\Rightarrow \\neg P$\n",
    "\n",
    "$\n",
    "\\neg Q \\Rightarrow \\neg P \\equiv P \\Rightarrow Q\n",
    "$"
   ]
  },
  {
   "cell_type": "markdown",
   "id": "98c2331f",
   "metadata": {},
   "source": [
    "#### C/m quy nạp"
   ]
  },
  {
   "cell_type": "markdown",
   "id": "97bf3221",
   "metadata": {},
   "source": [
    "$$\n",
    "\\frac{P(n_0), \\quad \\forall n > n_0, \\: P(n) \\to P(n+1)}{\\therefore \\forall n \\geq n_0, \\: P(n)}\n",
    "$$"
   ]
  },
  {
   "cell_type": "markdown",
   "id": "929c698a",
   "metadata": {},
   "source": [
    "B1. C/m $P(n_0)$ đúng\n",
    "\n",
    "B2. G/s $n \\in \\mathbb{N}$ và $n \\geq n_0$, $P(n)$ đúng. C/m $P(n+1)$ đúng.\n",
    "\n",
    "$\\Rightarrow \\: P(n)$ đúng $\\forall n \\geq n_0$"
   ]
  }
 ],
 "metadata": {
  "language_info": {
   "name": "python"
  }
 },
 "nbformat": 4,
 "nbformat_minor": 5
}
