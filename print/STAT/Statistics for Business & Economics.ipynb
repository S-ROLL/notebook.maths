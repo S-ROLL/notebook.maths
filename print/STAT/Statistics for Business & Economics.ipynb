{
 "cells": [
  {
   "cell_type": "markdown",
   "id": "5afc143b",
   "metadata": {},
   "source": [
    "# Descriptive Statistics: Tabular and Graphical Displays"
   ]
  },
  {
   "cell_type": "markdown",
   "id": "f78fb7a1",
   "metadata": {},
   "source": [
    "## $\\sigma$ known"
   ]
  },
  {
   "cell_type": "markdown",
   "id": "dec45cd2",
   "metadata": {},
   "source": [
    "## $\\sigma$ unknown"
   ]
  },
  {
   "cell_type": "markdown",
   "id": "382f6097",
   "metadata": {},
   "source": [
    "## Sample size"
   ]
  },
  {
   "cell_type": "markdown",
   "id": "d581d39d",
   "metadata": {},
   "source": [
    "# Descriptive Statistics: Numerical Measures"
   ]
  },
  {
   "cell_type": "markdown",
   "id": "6e399149",
   "metadata": {},
   "source": [
    "# Introduction to Probability"
   ]
  },
  {
   "cell_type": "markdown",
   "id": "94fb61ba",
   "metadata": {},
   "source": [
    "# Discrete Probability Distributions"
   ]
  },
  {
   "cell_type": "markdown",
   "id": "b7a89bca",
   "metadata": {},
   "source": [
    "# Continuous Probability Distributions"
   ]
  },
  {
   "cell_type": "markdown",
   "id": "baf4da49",
   "metadata": {},
   "source": [
    "# Sampling and Sampling Distributions"
   ]
  },
  {
   "cell_type": "markdown",
   "id": "92db1259",
   "metadata": {},
   "source": [
    "# Interval Estimation"
   ]
  },
  {
   "cell_type": "markdown",
   "id": "87273792",
   "metadata": {},
   "source": [
    "# Hypothesis Tests"
   ]
  },
  {
   "cell_type": "markdown",
   "id": "9c4032b9",
   "metadata": {},
   "source": [
    "# Inference About Means and Proportions with Two Populations"
   ]
  },
  {
   "cell_type": "markdown",
   "id": "58bfd7ff",
   "metadata": {},
   "source": [
    "# Inferences About Population Variances"
   ]
  },
  {
   "cell_type": "markdown",
   "id": "32b3769e",
   "metadata": {},
   "source": [
    "# Comparing Multiple Proportions, Test of Independence and Goodness of Fit"
   ]
  },
  {
   "cell_type": "markdown",
   "id": "40e673f7",
   "metadata": {},
   "source": [
    "# Experimental Design and Analysis of Variance"
   ]
  },
  {
   "cell_type": "markdown",
   "id": "ffc45799",
   "metadata": {},
   "source": [
    "# Simple Linear Regression"
   ]
  },
  {
   "cell_type": "markdown",
   "id": "218cfeb3",
   "metadata": {},
   "source": [
    "# Multiple Regression"
   ]
  },
  {
   "cell_type": "markdown",
   "id": "65cf5dfb",
   "metadata": {},
   "source": [
    "# Regression Analysis: Model Building"
   ]
  },
  {
   "cell_type": "markdown",
   "id": "e81c4bad",
   "metadata": {},
   "source": [
    "# Time Series Analysis and Forecasting"
   ]
  },
  {
   "cell_type": "markdown",
   "id": "7009c5c7",
   "metadata": {},
   "source": [
    "# Nonparametric Methods"
   ]
  },
  {
   "cell_type": "markdown",
   "id": "de806e7e",
   "metadata": {},
   "source": [
    "# Statistical Methods for Quality Control"
   ]
  }
 ],
 "metadata": {
  "language_info": {
   "name": "python"
  }
 },
 "nbformat": 4,
 "nbformat_minor": 5
}
