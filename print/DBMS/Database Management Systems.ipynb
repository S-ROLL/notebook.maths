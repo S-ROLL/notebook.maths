{
 "cells": [
  {
   "cell_type": "markdown",
   "metadata": {},
   "source": [
    "# ERD"
   ]
  },
  {
   "cell_type": "markdown",
   "metadata": {},
   "source": [
    "## Thực thể (Entity)"
   ]
  },
  {
   "cell_type": "markdown",
   "metadata": {},
   "source": [
    "- Thực thể\n",
    "\n",
    "- Thực thể yếu (Weak)"
   ]
  },
  {
   "cell_type": "markdown",
   "metadata": {},
   "source": [
    "## Thuộc tính (Attribute)"
   ]
  },
  {
   "cell_type": "markdown",
   "metadata": {},
   "source": [
    "- Đơn trị\n",
    "\n",
    "- Đa trị\n",
    "\n",
    "- Kết hợp\n",
    "\n",
    "- Suy diễn\n",
    "\n",
    "- Khoá chính"
   ]
  },
  {
   "cell_type": "markdown",
   "metadata": {},
   "source": [
    "## Mối quan hệ (Relationship)"
   ]
  },
  {
   "cell_type": "markdown",
   "metadata": {},
   "source": [
    "- 1-1\n",
    "\n",
    "- 1-n\n",
    "\n",
    "- n-n\n",
    "\n",
    "- Vòng"
   ]
  },
  {
   "cell_type": "markdown",
   "metadata": {},
   "source": [
    "# RDM"
   ]
  },
  {
   "cell_type": "markdown",
   "metadata": {},
   "source": [
    "## Thành phần"
   ]
  },
  {
   "cell_type": "markdown",
   "metadata": {},
   "source": [
    "- Lược đồ quan hệ (Schema Relational)\n",
    "  \n",
    "- Thuộc tính (Attributes)\n",
    "  \n",
    "- Miền giá trị (Domain)\n",
    "  \n",
    "- Bộ (Tuples)\n",
    "  \n",
    "- Lược đồ CSDL (Schema DBMS)\n",
    "  \n",
    "- Mô hình dữ liệu quan hệ (RDM)"
   ]
  },
  {
   "cell_type": "markdown",
   "metadata": {},
   "source": [
    "## Ký hiệu"
   ]
  },
  {
   "cell_type": "markdown",
   "metadata": {},
   "source": [
    "$$\n",
    "\\begin{split}\n",
    "R(A_1:D_1, A_2:&D_2, \\ldots , An:D_n) \\\\\n",
    "\\\\\n",
    "R(A_1, A&2, \\ldots , A_n) \\\\\n",
    "\\\\\n",
    "DOM(A) & \\text{ or } MGT(A) \\\\\n",
    "\\\\\n",
    "t[A] & \\text{ or } t.A\n",
    "\\end{split}\n",
    "$$"
   ]
  },
  {
   "cell_type": "markdown",
   "metadata": {},
   "source": [
    "# ERD to RDM"
   ]
  },
  {
   "cell_type": "markdown",
   "metadata": {},
   "source": [
    "## Mối quan hệ"
   ]
  },
  {
   "cell_type": "markdown",
   "metadata": {},
   "source": [
    "IDEA: Lấy khoá của Rx làm khoá chính Ry"
   ]
  },
  {
   "cell_type": "markdown",
   "metadata": {},
   "source": [
    "### 1-1"
   ]
  },
  {
   "cell_type": "markdown",
   "metadata": {},
   "source": [
    "Đối xứng."
   ]
  },
  {
   "cell_type": "markdown",
   "metadata": {},
   "source": [
    "### 1-n"
   ]
  },
  {
   "cell_type": "markdown",
   "metadata": {},
   "source": [
    "Khoá chính bên **nhiều** đặt làm khoá ngoại bên **ít**."
   ]
  },
  {
   "cell_type": "markdown",
   "metadata": {},
   "source": [
    "### n-n"
   ]
  },
  {
   "cell_type": "markdown",
   "metadata": {},
   "source": [
    "$$\n",
    "R(<\\text{Khoá ngoại 1}>, <\\text{Khoá ngoại 2}>,\\ldots,<\\text{Thuộc tính của quan hệ (nếu có)}>,\\ldots)\n",
    "$$"
   ]
  },
  {
   "cell_type": "markdown",
   "metadata": {},
   "source": [
    "## Thực thể yếu"
   ]
  },
  {
   "cell_type": "markdown",
   "metadata": {},
   "source": [
    "$$R(<\\text{key chính của entity phụ thuộc vào}>,A_1,A_2,\\ldots)$$"
   ]
  },
  {
   "cell_type": "markdown",
   "metadata": {},
   "source": [
    "- Thực thể $R$ liên kết với thực thể yếu $TTY$: $R$ chứa khoá chính của tất cả khoá của $TTY$.\n",
    "\n",
    "E.g. $TTY(A_1, A_2, \\ldots , A_n) \\: \\to \\: R(A_1, A_2, \\ldots , A_n)$.\n",
    "\n",
    "- Dựa vào phân biệt của thực thể khác $\\to$ thực thể yếu."
   ]
  },
  {
   "cell_type": "markdown",
   "metadata": {},
   "source": [
    "## Thuộc tính đa trị"
   ]
  },
  {
   "cell_type": "markdown",
   "metadata": {},
   "source": [
    "$$\n",
    "R(<\\text{Key chính của Tuple}>,A_1,A_2,\\ldots)\n",
    "$$"
   ]
  },
  {
   "cell_type": "markdown",
   "metadata": {},
   "source": [
    "![](/Users/chibangnguyen/Documents/notebook.maths/print/DBMS/3DF0B197-53A0-4D59-915B-B7B623759927_4_5005_c.jpeg)"
   ]
  },
  {
   "cell_type": "markdown",
   "metadata": {
    "vscode": {
     "languageId": "plaintext"
    }
   },
   "source": [
    "## Liên kết đa ngôi"
   ]
  },
  {
   "cell_type": "markdown",
   "metadata": {},
   "source": [
    "$$\n",
    "R(<KEY1>, <KEY2>, <KEY3>,\\ldots,<\\text{Thuộc tính của quan hệ (nếu có)}>,\\ldots)\n",
    "$$"
   ]
  },
  {
   "cell_type": "markdown",
   "metadata": {},
   "source": [
    "![](/Users/chibangnguyen/Documents/notebook.maths/print/DBMS/199149A9-42C8-4740-B731-56914A60A2F5.png)"
   ]
  },
  {
   "cell_type": "markdown",
   "metadata": {},
   "source": [
    "# Relational Algebra"
   ]
  },
  {
   "cell_type": "markdown",
   "metadata": {},
   "source": [
    "## Tính khả hợp (Union compatibility)"
   ]
  },
  {
   "cell_type": "markdown",
   "metadata": {},
   "source": [
    "$$\n",
    "R(A_1,A_2,\\ldots , A_n) \\\\\n",
    "\\\\\n",
    "S(B_1, B_2, \\ldots , B_n)\n",
    "$$"
   ]
  },
  {
   "cell_type": "markdown",
   "metadata": {},
   "source": [
    "- Cùng bậc $n$ ($n$ attribute).\n",
    "\n",
    "- $DOM(A_i) = DOM(B_i) \\quad \\forall i \\in \\overline{1,n}$"
   ]
  },
  {
   "cell_type": "markdown",
   "metadata": {},
   "source": [
    "## Phép toán"
   ]
  },
  {
   "cell_type": "markdown",
   "metadata": {},
   "source": [
    "### Giao"
   ]
  },
  {
   "cell_type": "markdown",
   "metadata": {},
   "source": [
    "- Tập hợp: $\\cap$\n",
    "\n",
    "- Mệnh đề: $\\land$"
   ]
  },
  {
   "cell_type": "markdown",
   "metadata": {},
   "source": [
    "### Hợp"
   ]
  },
  {
   "cell_type": "markdown",
   "metadata": {},
   "source": [
    "- Tập hợp: $\\cup$\n",
    "\n",
    "- Mệnh đề: $\\lor$"
   ]
  },
  {
   "cell_type": "markdown",
   "metadata": {},
   "source": [
    "### Trừ"
   ]
  },
  {
   "cell_type": "markdown",
   "metadata": {},
   "source": [
    "- Tập hợp, mệnh đề: $-$"
   ]
  },
  {
   "cell_type": "markdown",
   "metadata": {},
   "source": [
    "### Chọn"
   ]
  },
  {
   "cell_type": "markdown",
   "metadata": {},
   "source": [
    "$$\n",
    "\\sigma_p(R)\n",
    "$$"
   ]
  },
  {
   "cell_type": "markdown",
   "metadata": {},
   "source": [
    "- $p$: Điều kiện (Mệnh đề $\\leftarrow$ Phép giao hợp trừ).\n",
    "\n",
    "- Có tính giao hoán."
   ]
  },
  {
   "cell_type": "markdown",
   "metadata": {},
   "source": [
    "### Chiếu"
   ]
  },
  {
   "cell_type": "markdown",
   "metadata": {},
   "source": [
    "$$\n",
    "\\pi _{A_1,A_2,\\ldots , A_k} (R)\n",
    "$$"
   ]
  },
  {
   "cell_type": "markdown",
   "metadata": {},
   "source": [
    "- $A_1, A_2 , \\ldots , A_k$: Attribute.\n",
    "\n",
    "- Trong quá trình chiếu loại bỏ bộ (tuples) trùng nhau. $\\bigg( t[\\pi_{A_1,A_2,\\ldots , A_k}(R)] \\leq t[R] \\bigg)$\n",
    "\n",
    "- Không có tính giao hoán."
   ]
  },
  {
   "cell_type": "markdown",
   "metadata": {},
   "source": [
    "### Chiếu tổng quát"
   ]
  },
  {
   "cell_type": "markdown",
   "metadata": {},
   "source": [
    "$$\n",
    "\\pi _{F_1(A_1),F_2(A_2),\\ldots , F_k(A_k)} (R)\n",
    "$$"
   ]
  },
  {
   "cell_type": "markdown",
   "metadata": {},
   "source": [
    "### Gán"
   ]
  },
  {
   "cell_type": "markdown",
   "metadata": {},
   "source": [
    "$$\n",
    "\\leftarrow\n",
    "$$"
   ]
  },
  {
   "cell_type": "markdown",
   "metadata": {},
   "source": [
    "E.g. $S \\leftarrow \\sigma _p (R)$, $S \\leftarrow \\pi _{A_1,A_2, \\ldots , A_n} (R)$."
   ]
  },
  {
   "cell_type": "markdown",
   "metadata": {},
   "source": [
    "### Đổi tên"
   ]
  },
  {
   "cell_type": "markdown",
   "metadata": {},
   "source": [
    "$$\n",
    "\\rho _S (R)\n",
    "$$"
   ]
  },
  {
   "cell_type": "markdown",
   "metadata": {},
   "source": [
    "- $R$: Quan hệ, với $R(B,C,D)$.\n",
    "\n",
    "- $S$: Tên thay thế cho $R$.\n",
    "\n",
    "- $R(B,C,D) \\: \\to \\: S(B,C,D)$. "
   ]
  },
  {
   "cell_type": "markdown",
   "metadata": {},
   "source": [
    "$$\n",
    "\\rho _{X,C,D} (R)\n",
    "$$"
   ]
  },
  {
   "cell_type": "markdown",
   "metadata": {},
   "source": [
    "- $R(B,C,D) \\: \\to \\: R(X,C,D)$."
   ]
  },
  {
   "cell_type": "markdown",
   "metadata": {},
   "source": [
    "$$\n",
    "\\rho _{S(X,C,D)} (R)\n",
    "$$"
   ]
  },
  {
   "cell_type": "markdown",
   "metadata": {},
   "source": [
    "- $R(B,C,D) \\: \\to \\: S(X,C,D)$."
   ]
  },
  {
   "cell_type": "markdown",
   "metadata": {},
   "source": [
    "### Tích Descartesian"
   ]
  },
  {
   "cell_type": "markdown",
   "metadata": {},
   "source": [
    "$$\n",
    "R \\times S\n",
    "$$"
   ]
  },
  {
   "cell_type": "markdown",
   "metadata": {},
   "source": [
    "- Xuất ra table (tổ hợp) mới với\n",
    "\n",
    "    - $n+m$ attribute.\n",
    "  \n",
    "    - $u \\times v$ tuble."
   ]
  },
  {
   "cell_type": "markdown",
   "metadata": {},
   "source": [
    "### Kết"
   ]
  },
  {
   "cell_type": "markdown",
   "metadata": {},
   "source": [
    "#### Theta"
   ]
  },
  {
   "cell_type": "markdown",
   "metadata": {},
   "source": [
    "$$\n",
    "R \\bowtie _{\\text{ĐK}} S\n",
    "$$"
   ]
  },
  {
   "cell_type": "markdown",
   "metadata": {},
   "source": [
    "- Xuất ra table mới."
   ]
  },
  {
   "cell_type": "markdown",
   "metadata": {},
   "source": [
    "#### Bằng"
   ]
  },
  {
   "cell_type": "markdown",
   "metadata": {},
   "source": [
    "$$\n",
    "R \\bowtie_{R.A = S.B} S\n",
    "$$"
   ]
  },
  {
   "cell_type": "markdown",
   "metadata": {},
   "source": [
    "- Xuất ra table mới."
   ]
  },
  {
   "cell_type": "markdown",
   "metadata": {},
   "source": [
    "#### Tự nhiên"
   ]
  },
  {
   "cell_type": "markdown",
   "metadata": {},
   "source": [
    "$$\n",
    "R \\bowtie S\n",
    "$$"
   ]
  },
  {
   "cell_type": "markdown",
   "metadata": {},
   "source": [
    "- Attribute:\n",
    "\n",
    "    - Cùng NAME.\n",
    "\n",
    "    - Cùng $DOM$.\n",
    "\n",
    "- Tự **delete** Attribute trùng tên.\n",
    "\n",
    "- Xuất ra table mới."
   ]
  },
  {
   "cell_type": "markdown",
   "metadata": {},
   "source": [
    "### Chia"
   ]
  },
  {
   "cell_type": "markdown",
   "metadata": {},
   "source": [
    "$$\n",
    "R(Z) \\div S(X)\n",
    "$$"
   ]
  },
  {
   "cell_type": "markdown",
   "metadata": {},
   "source": [
    "- $X \\subseteq Z$.\n",
    "\n",
    "- Xuất ra $Q(Z-X)$. (Loại bỏ $A_i$ của $S$ trong $R$)\n",
    "\n",
    "- Dùng khi: Lấy ra cái này **thoả hết tất cả** cái kia."
   ]
  },
  {
   "cell_type": "markdown",
   "metadata": {},
   "source": [
    "E.g. $R(A,B,C,D,E)$ và $S(D,E)$. $R \\div S$ ra $Q(A,B,C)$"
   ]
  },
  {
   "cell_type": "markdown",
   "metadata": {},
   "source": [
    "### Hàm kết hợp"
   ]
  },
  {
   "cell_type": "markdown",
   "metadata": {},
   "source": [
    "- $SUM(A_i)$\n",
    "\n",
    "- $AVG(A_i)$\n",
    "\n",
    "- $COUNT(A_i)$\n",
    "\n",
    "- $MIN(A_i)$\n",
    "\n",
    "- $MAX(A_i)$"
   ]
  },
  {
   "cell_type": "markdown",
   "metadata": {},
   "source": [
    "### Gom nhóm"
   ]
  },
  {
   "cell_type": "markdown",
   "metadata": {},
   "source": [
    "$$\n",
    "G_1, G_2, \\ldots , G_n \\Im _{F_1(A_1), F_2(A_2), \\ldots , F_n(A_n)}(R)\n",
    "$$"
   ]
  },
  {
   "cell_type": "markdown",
   "metadata": {},
   "source": [
    "- $G_i$: Attribute cần gom.\n",
    "\n",
    "- $F_i(A_i)$: Sử dụng hàm kết hợp lên $Ai$.\n",
    "\n",
    "- $R$: Table nguồn.\n",
    "\n",
    "- Xuất ra table mới."
   ]
  },
  {
   "cell_type": "markdown",
   "metadata": {},
   "source": [
    "## Thao tác"
   ]
  },
  {
   "cell_type": "markdown",
   "metadata": {},
   "source": [
    "### Thêm"
   ]
  },
  {
   "cell_type": "markdown",
   "metadata": {},
   "source": [
    "$$\n",
    "R_{\\text{new}} \\leftarrow R_{\\text{old}} \\cup E\n",
    "$$"
   ]
  },
  {
   "cell_type": "markdown",
   "metadata": {},
   "source": [
    "- $E$ & $R$ khả hợp.\n",
    "- $E$: Biểu thức Đại số quan hệ."
   ]
  },
  {
   "cell_type": "markdown",
   "metadata": {},
   "source": [
    "E.g. $\\text{PHANCONG} \\leftarrow \\text{PHANCONG}('\\text{Bancie}',20,10)$."
   ]
  },
  {
   "cell_type": "markdown",
   "metadata": {},
   "source": [
    "### Xoá"
   ]
  },
  {
   "cell_type": "markdown",
   "metadata": {},
   "source": [
    "$$\n",
    "R_{\\text{new}} \\leftarrow R_{\\text{old}} - E\n",
    "$$"
   ]
  },
  {
   "cell_type": "markdown",
   "metadata": {},
   "source": [
    "E.g. $\\text{PHANCONG} \\leftarrow \\text{PHANCONG} - \\: \\sigma _{\\text{MANV}='123'} (\\text{PHANCONG})$."
   ]
  },
  {
   "cell_type": "markdown",
   "metadata": {},
   "source": [
    "### Sửa"
   ]
  },
  {
   "cell_type": "markdown",
   "metadata": {},
   "source": [
    "$$\n",
    "R_{\\text{new}} \\leftarrow \\pi _{F_1(A_1),F_2(A_2),\\ldots , F_n(A_n)} (R_{\\text{old}})\n",
    "$$"
   ]
  },
  {
   "cell_type": "markdown",
   "metadata": {},
   "source": [
    "## Kiểu thực hiện"
   ]
  },
  {
   "cell_type": "markdown",
   "metadata": {},
   "source": [
    "### Lồng"
   ]
  },
  {
   "cell_type": "markdown",
   "metadata": {},
   "source": [
    "$\\sigma _p (\\pi _{A_1, A_2 , \\ldots , A_k} (\\sigma _p (R)))$"
   ]
  },
  {
   "cell_type": "markdown",
   "metadata": {},
   "source": [
    "### Từng bước"
   ]
  },
  {
   "cell_type": "markdown",
   "metadata": {},
   "source": [
    "B1: $R2 \\leftarrow \\sigma _p (R1)$\n",
    "\n",
    "B2: $R3 \\leftarrow \\pi _{A_1,A_2, \\ldots , A_k} (R2)$\n",
    "\n",
    "$\\vdots$\n",
    "\n",
    "B $_n$"
   ]
  },
  {
   "cell_type": "markdown",
   "metadata": {},
   "source": [
    "# SQL"
   ]
  },
  {
   "cell_type": "markdown",
   "metadata": {},
   "source": [
    "## Set up"
   ]
  },
  {
   "cell_type": "markdown",
   "metadata": {},
   "source": [
    "### Tạo bảng"
   ]
  },
  {
   "cell_type": "markdown",
   "metadata": {},
   "source": [
    "- Constraint **Trực tiếp**"
   ]
  },
  {
   "cell_type": "markdown",
   "metadata": {},
   "source": [
    "```sql\n",
    "CREATE TABLE TableName (\n",
    "    Column1 DataType Constraints,\n",
    "    Column2 DataType Constraints,\n",
    "    ...\n",
    ");\n",
    "```"
   ]
  },
  {
   "cell_type": "markdown",
   "metadata": {},
   "source": [
    "- Constraint **Tự định nghĩa**"
   ]
  },
  {
   "cell_type": "markdown",
   "metadata": {},
   "source": [
    "```sql\n",
    "CREATE TABLE TableName (\n",
    "    Column1 DataType,\n",
    "    Column2 DataType,\n",
    "    Constraints ConstraintName ConstraintType,\n",
    "    ...\n",
    ");\n",
    "```"
   ]
  },
  {
   "cell_type": "markdown",
   "metadata": {},
   "source": [
    "- ```CHAR(x)```: Số lượng ký tự cố định.\n",
    "\n",
    "- ```VARCHAR(x)```: Số lượng ký tự động (Auto xoá).\n",
    "\n",
    "- ```NVARCHAR(x)```: Tương tự VARCHAR(x) nhưng có dấu được."
   ]
  },
  {
   "cell_type": "markdown",
   "metadata": {},
   "source": [
    "### RBTV"
   ]
  },
  {
   "cell_type": "markdown",
   "metadata": {},
   "source": [
    "| Tên Constraint     | Ý nghĩa tiếng Việt                                                  | Cú pháp (Syntax)                                         | Ví dụ (Example)                                                                 |\n",
    "|--------------------|---------------------------------------------------------------------|----------------------------------------------------------|----------------------------------------------------------------------------------|\n",
    "| `PRIMARY KEY`      | Khóa chính – định danh duy nhất cho mỗi dòng                      | `PRIMARY KEY (ColumnName)` hoặc ngay sau tên cột         | `StudentID INT PRIMARY KEY`                                                     |\n",
    "| `FOREIGN KEY`      | Khóa ngoại – liên kết với khóa chính ở bảng khác                  | `FOREIGN KEY (Column) REFERENCES OtherTable(Column)`     | `CustomerID INT FOREIGN KEY REFERENCES Customers(CustomerID)`                  |\n",
    "| `NOT NULL`         | Không cho phép NULL – bắt buộc nhập dữ liệu                        | `ColumnName DataType NOT NULL`                           | `Name NVARCHAR(100) NOT NULL`                                                  |\n",
    "| `UNIQUE`           | Giá trị không được trùng lặp trong cột                             | `ColumnName DataType UNIQUE`                             | `Email NVARCHAR(100) UNIQUE`                                                   |\n",
    "| `CHECK`            | Kiểm tra điều kiện ràng buộc                                       | `CHECK (condition)` hoặc `ColumnName DataType CHECK (...)`| `GPA FLOAT CHECK (GPA BETWEEN 0 AND 4)`                                        |\n",
    "| `DEFAULT`          | Gán giá trị mặc định nếu không nhập                                | `ColumnName DataType DEFAULT (value)`                    | `CreatedAt DATETIME DEFAULT GETDATE()`                                         |\n",
    "| `IDENTITY`         | Tự động tăng giá trị, thường dùng cho khóa chính                  | `ColumnName INT IDENTITY(seed, increment)`               | `OrderID INT PRIMARY KEY IDENTITY(1,1)`                                        |"
   ]
  },
  {
   "cell_type": "markdown",
   "metadata": {},
   "source": [
    "- ```GETDATE()```: E.g. output: 2025-04-06 14:32:17.897"
   ]
  },
  {
   "cell_type": "markdown",
   "metadata": {},
   "source": [
    "### Sửa Table"
   ]
  },
  {
   "cell_type": "markdown",
   "metadata": {},
   "source": [
    "#### Thêm"
   ]
  },
  {
   "cell_type": "markdown",
   "metadata": {},
   "source": [
    "Column"
   ]
  },
  {
   "cell_type": "markdown",
   "metadata": {},
   "source": [
    "```sql\n",
    "ALTER TABLE TableName\n",
    "ADD ColumnName DataType [CONSTRAINT ...];\n",
    "```"
   ]
  },
  {
   "cell_type": "markdown",
   "metadata": {},
   "source": [
    "Constraint"
   ]
  },
  {
   "cell_type": "markdown",
   "metadata": {},
   "source": [
    "```sql\n",
    "ALTER TABLE TableName\n",
    "ADD CONSTRAINT ConstraintName ConstraintType;\n",
    "```"
   ]
  },
  {
   "cell_type": "markdown",
   "metadata": {},
   "source": [
    "#### Xoá"
   ]
  },
  {
   "cell_type": "markdown",
   "metadata": {},
   "source": [
    "Column"
   ]
  },
  {
   "cell_type": "markdown",
   "metadata": {},
   "source": [
    "```sql\n",
    "ALTER TABLE TableName\n",
    "DROP COLUMN ColumnName;\n",
    "```"
   ]
  },
  {
   "cell_type": "markdown",
   "metadata": {},
   "source": [
    "Constraint"
   ]
  },
  {
   "cell_type": "markdown",
   "metadata": {},
   "source": [
    "```sql\n",
    "ALTER TABLE TableName\n",
    "DROP CONSTRAINT ConstraintName;\n",
    "```"
   ]
  },
  {
   "cell_type": "markdown",
   "metadata": {},
   "source": [
    "#### Mở rộng"
   ]
  },
  {
   "cell_type": "markdown",
   "metadata": {},
   "source": [
    "```sql\n",
    "ALTER TABLE TableName\n",
    "ALTER COLUMN ColumnName NewDomainType;\n",
    "```"
   ]
  },
  {
   "cell_type": "markdown",
   "metadata": {},
   "source": [
    "### Xoá Table"
   ]
  },
  {
   "cell_type": "markdown",
   "metadata": {},
   "source": [
    "```sql\n",
    "DROP TABLE TableName;\n",
    "```"
   ]
  },
  {
   "cell_type": "markdown",
   "metadata": {},
   "source": [
    "## Truy vấn"
   ]
  },
  {
   "cell_type": "markdown",
   "metadata": {},
   "source": [
    "$$\n",
    "\\pi _A (\\sigma _C (B))\n",
    "$$"
   ]
  },
  {
   "cell_type": "markdown",
   "metadata": {},
   "source": [
    "```sql\n",
    "SELECT A FROM B WHERE C\n",
    "```"
   ]
  },
  {
   "cell_type": "markdown",
   "metadata": {},
   "source": [
    "$$\n",
    "\\land \\: \\lor \\: \\neg\n",
    "$$"
   ]
  },
  {
   "cell_type": "markdown",
   "metadata": {},
   "source": [
    "```sql\n",
    "AND\n",
    "OR\n",
    "NOT\n",
    "```"
   ]
  },
  {
   "cell_type": "markdown",
   "metadata": {},
   "source": [
    "### SELECT"
   ]
  },
  {
   "cell_type": "markdown",
   "metadata": {},
   "source": [
    "```sql\n",
    "SELECT A\n",
    "```"
   ]
  },
  {
   "cell_type": "markdown",
   "metadata": {},
   "source": [
    "#### Chọn hết"
   ]
  },
  {
   "cell_type": "markdown",
   "metadata": {},
   "source": [
    "```sql\n",
    "SELECT *\n",
    "```"
   ]
  },
  {
   "cell_type": "markdown",
   "metadata": {},
   "source": [
    "#### Loại bỏ dòng trùng"
   ]
  },
  {
   "cell_type": "markdown",
   "metadata": {},
   "source": [
    "```sql\n",
    "SELECT DISTINCT Cot1, Cot2, ...\n",
    "FROM TenBang;\n",
    "```"
   ]
  },
  {
   "cell_type": "markdown",
   "metadata": {},
   "source": [
    "#### Đổi tên"
   ]
  },
  {
   "cell_type": "markdown",
   "metadata": {},
   "source": [
    "```sql\n",
    "TenCu AS TenMoi\n",
    "```"
   ]
  },
  {
   "cell_type": "markdown",
   "metadata": {},
   "source": [
    "or"
   ]
  },
  {
   "cell_type": "markdown",
   "metadata": {},
   "source": [
    "```sql\n",
    "TenCu TenMoi\n",
    "```"
   ]
  },
  {
   "cell_type": "markdown",
   "metadata": {},
   "source": [
    "#### Tính toán"
   ]
  },
  {
   "cell_type": "markdown",
   "metadata": {},
   "source": [
    "```sql\n",
    "SELECT Attribute * X AS KQ\n",
    "FROM B;\n",
    "```"
   ]
  },
  {
   "cell_type": "markdown",
   "metadata": {},
   "source": [
    "E.g."
   ]
  },
  {
   "cell_type": "markdown",
   "metadata": {},
   "source": [
    "```sql\n",
    "SELECT (Price * Quantity) * (1 - Discount) AS FinalPrice\n",
    "FROM Products;\n",
    "```"
   ]
  },
  {
   "cell_type": "markdown",
   "metadata": {},
   "source": [
    "#### Nối chuỗi"
   ]
  },
  {
   "cell_type": "markdown",
   "metadata": {},
   "source": [
    "```sql\n",
    "SELECT FirstName + ' ' + LastName AS FullName\n",
    "FROM Employees;\n",
    "```"
   ]
  },
  {
   "cell_type": "markdown",
   "metadata": {},
   "source": [
    "Or"
   ]
  },
  {
   "cell_type": "markdown",
   "metadata": {},
   "source": [
    "```sql\n",
    "SELECT CONCAT(FirstName, ' ', LastName) AS FullName\n",
    "FROM Employees;\n",
    "```"
   ]
  },
  {
   "cell_type": "markdown",
   "metadata": {},
   "source": [
    "### FROM"
   ]
  },
  {
   "cell_type": "markdown",
   "metadata": {},
   "source": [
    "```sql\n",
    "FROM Table1\n",
    "```"
   ]
  },
  {
   "cell_type": "markdown",
   "metadata": {},
   "source": [
    "#### Nhiều Table"
   ]
  },
  {
   "cell_type": "markdown",
   "metadata": {},
   "source": [
    "$$TABLE _1 \\times TABLE _2 \\times TABLE _3 \\times \\ldots$$"
   ]
  },
  {
   "cell_type": "markdown",
   "metadata": {},
   "source": [
    "```sql\n",
    "FROM TABLE1, TABLE2 , TABLE3,...\n",
    "```"
   ]
  },
  {
   "cell_type": "markdown",
   "metadata": {},
   "source": [
    "#### Lưu ý"
   ]
  },
  {
   "cell_type": "markdown",
   "metadata": {},
   "source": [
    "$$\n",
    "A(C)\n",
    "\\\\\n",
    "B(D)\n",
    "$$"
   ]
  },
  {
   "cell_type": "markdown",
   "metadata": {},
   "source": [
    "```sql\n",
    "SELECT *\n",
    "FROM A, B\n",
    "WHERE A.C = B.D\n",
    "```"
   ]
  },
  {
   "cell_type": "markdown",
   "metadata": {},
   "source": [
    "Or"
   ]
  },
  {
   "cell_type": "markdown",
   "metadata": {},
   "source": [
    "```sql\n",
    "SELECT *\n",
    "FROM A AS x, B AS y\n",
    "WHERE x.C = y.D\n",
    "```"
   ]
  },
  {
   "cell_type": "markdown",
   "metadata": {},
   "source": [
    "### WHERE"
   ]
  },
  {
   "cell_type": "markdown",
   "metadata": {},
   "source": [
    "#### Khoảng"
   ]
  },
  {
   "cell_type": "markdown",
   "metadata": {},
   "source": [
    "$a < x < b$"
   ]
  },
  {
   "cell_type": "markdown",
   "metadata": {},
   "source": [
    "```sql\n",
    "WHERE Column BETWEEN a AND b;\n",
    "```"
   ]
  },
  {
   "cell_type": "markdown",
   "metadata": {},
   "source": [
    "$ x < a \\land x > b$"
   ]
  },
  {
   "cell_type": "markdown",
   "metadata": {},
   "source": [
    "```sql\n",
    "WHERE Column NOT BETWEEN a AND b;\n",
    "```"
   ]
  },
  {
   "cell_type": "markdown",
   "metadata": {},
   "source": [
    "#### Bằng"
   ]
  },
  {
   "cell_type": "markdown",
   "metadata": {},
   "source": [
    "```sql\n",
    "WHERE Column LIKE 'xyz';\n",
    "```"
   ]
  },
  {
   "cell_type": "markdown",
   "metadata": {},
   "source": [
    "```sql\n",
    "WHERE Column NOT LIKE 'xyz';\n",
    "```"
   ]
  },
  {
   "cell_type": "markdown",
   "metadata": {},
   "source": [
    "- Tiếng Việt: ```N'xyz'```\n",
    "\n",
    "- Ký tự:\n",
    "\n",
    "    - ```'%xyz%'```: Chứa xyz.\n",
    "\n",
    "    - ```'xyz%'```: Bắt đầu là xyz.\n",
    "\n",
    "    - ```'%xyz'```: Kết thức là xyz."
   ]
  },
  {
   "cell_type": "markdown",
   "metadata": {},
   "source": [
    "#### Null"
   ]
  },
  {
   "cell_type": "markdown",
   "metadata": {},
   "source": [
    "- Lấy ra Attribute Null trong Column"
   ]
  },
  {
   "cell_type": "markdown",
   "metadata": {},
   "source": [
    "```sql\n",
    "WHERE Column IS NULL;\n",
    "```"
   ]
  },
  {
   "cell_type": "markdown",
   "metadata": {},
   "source": [
    "- Lấy ra Attribute Not Null trong Column"
   ]
  },
  {
   "cell_type": "markdown",
   "metadata": {},
   "source": [
    "```sql\n",
    "WHERE Column IS NOT NULL;\n",
    "```"
   ]
  }
 ],
 "metadata": {
  "kernelspec": {
   "display_name": "venv",
   "language": "python",
   "name": "python3"
  },
  "language_info": {
   "name": "python",
   "version": "3.12.8"
  }
 },
 "nbformat": 4,
 "nbformat_minor": 2
}
