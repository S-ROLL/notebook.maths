{
 "cells": [
  {
   "cell_type": "markdown",
   "metadata": {},
   "source": [
    "# ERD"
   ]
  },
  {
   "cell_type": "markdown",
   "metadata": {},
   "source": [
    "## Thực thể (Entity)"
   ]
  },
  {
   "cell_type": "markdown",
   "metadata": {},
   "source": [
    "- Thực thể\n",
    "\n",
    "- Thực thể yếu (Weak)"
   ]
  },
  {
   "cell_type": "markdown",
   "metadata": {},
   "source": [
    "## Thuộc tính (Attribute)"
   ]
  },
  {
   "cell_type": "markdown",
   "metadata": {},
   "source": [
    "- Đơn trị\n",
    "\n",
    "- Đa trị\n",
    "\n",
    "- Kết hợp\n",
    "\n",
    "- Suy diễn\n",
    "\n",
    "- Khoá chính"
   ]
  },
  {
   "cell_type": "markdown",
   "metadata": {},
   "source": [
    "## Mối quan hệ (Relationship)"
   ]
  },
  {
   "cell_type": "markdown",
   "metadata": {},
   "source": [
    "- 1-1\n",
    "\n",
    "- 1-n\n",
    "\n",
    "- n-n\n",
    "\n",
    "- Vòng"
   ]
  },
  {
   "cell_type": "markdown",
   "metadata": {},
   "source": [
    "# RDM"
   ]
  },
  {
   "cell_type": "markdown",
   "metadata": {},
   "source": [
    "## Thành phần"
   ]
  },
  {
   "cell_type": "markdown",
   "metadata": {},
   "source": [
    "- Lược đồ quan hệ (Schema Relational)\n",
    "  \n",
    "- Thuộc tính (Attributes)\n",
    "  \n",
    "- Miền giá trị (Domain)\n",
    "  \n",
    "- Bộ (Tuples)\n",
    "  \n",
    "- Lược đồ CSDL (Schema DBMS)\n",
    "  \n",
    "- Mô hình dữ liệu quan hệ (RDM)"
   ]
  },
  {
   "cell_type": "markdown",
   "metadata": {},
   "source": [
    "## Ký hiệu"
   ]
  },
  {
   "cell_type": "markdown",
   "metadata": {},
   "source": [
    "$$\n",
    "\\begin{split}\n",
    "R(A_1:D_1, A_2:&D_2, \\ldots , An:D_n) \\\\\n",
    "\\\\\n",
    "R(A_1, A&2, \\ldots , A_n) \\\\\n",
    "\\\\\n",
    "DOM(A) & \\text{ or } MGT(A) \\\\\n",
    "\\\\\n",
    "t[A] & \\text{ or } t.A\n",
    "\\end{split}\n",
    "$$"
   ]
  },
  {
   "cell_type": "markdown",
   "metadata": {},
   "source": [
    "# ERD to RDM"
   ]
  },
  {
   "cell_type": "markdown",
   "metadata": {},
   "source": [
    "## Mối quan hệ"
   ]
  },
  {
   "cell_type": "markdown",
   "metadata": {},
   "source": [
    "IDEA: Lấy khoá của Rx làm khoá chính Ry"
   ]
  },
  {
   "cell_type": "markdown",
   "metadata": {},
   "source": [
    "### 1-1"
   ]
  },
  {
   "cell_type": "markdown",
   "metadata": {},
   "source": [
    "Đối xứng."
   ]
  },
  {
   "cell_type": "markdown",
   "metadata": {},
   "source": [
    "### 1-n"
   ]
  },
  {
   "cell_type": "markdown",
   "metadata": {},
   "source": [
    "Khoá chính bên **nhiều** đặt làm khoá ngoại bên **ít**."
   ]
  },
  {
   "cell_type": "markdown",
   "metadata": {},
   "source": [
    "### n-n"
   ]
  },
  {
   "cell_type": "markdown",
   "metadata": {},
   "source": [
    "$$\n",
    "R(<\\text{Khoá ngoại 1}>, <\\text{Khoá ngoại 2}>,\\ldots,<\\text{Thuộc tính của quan hệ (nếu có)}>,\\ldots)\n",
    "$$"
   ]
  },
  {
   "cell_type": "markdown",
   "metadata": {},
   "source": [
    "## Thực thể yếu"
   ]
  },
  {
   "cell_type": "markdown",
   "metadata": {},
   "source": [
    "$$R(<\\text{key chính của entity phụ thuộc vào}>,A_1,A_2,\\ldots)$$"
   ]
  },
  {
   "cell_type": "markdown",
   "metadata": {},
   "source": [
    "## Thuộc tính đa trị"
   ]
  },
  {
   "cell_type": "markdown",
   "metadata": {},
   "source": [
    "$$\n",
    "R(<\\text{Key chính của Tuple}>,A_1,A_2,\\ldots)\n",
    "$$"
   ]
  },
  {
   "cell_type": "markdown",
   "metadata": {},
   "source": [
    "![](/Users/chibangnguyen/Documents/notebook.maths/print/DBMS/3DF0B197-53A0-4D59-915B-B7B623759927_4_5005_c.jpeg)"
   ]
  },
  {
   "cell_type": "markdown",
   "metadata": {
    "vscode": {
     "languageId": "plaintext"
    }
   },
   "source": [
    "## Liên kết đa ngôi"
   ]
  },
  {
   "cell_type": "markdown",
   "metadata": {},
   "source": [
    "$$\n",
    "R(<KEY1>, <KEY2>, <KEY3>,\\ldots,<\\text{Thuộc tính của quan hệ (nếu có)}>,\\ldots)\n",
    "$$"
   ]
  },
  {
   "cell_type": "markdown",
   "metadata": {},
   "source": [
    "![](/Users/chibangnguyen/Documents/notebook.maths/print/DBMS/199149A9-42C8-4740-B731-56914A60A2F5.png)"
   ]
  },
  {
   "cell_type": "markdown",
   "metadata": {},
   "source": [
    "# Relational Algebra"
   ]
  },
  {
   "cell_type": "markdown",
   "metadata": {},
   "source": [
    "## Tính khả hợp (Union compatibility)"
   ]
  },
  {
   "cell_type": "markdown",
   "metadata": {},
   "source": [
    "$$\n",
    "R(A_1,A_2,\\ldots , A_n) \\\\\n",
    "\\\\\n",
    "S(B_1, B_2, \\ldots , B_n)\n",
    "$$"
   ]
  },
  {
   "cell_type": "markdown",
   "metadata": {},
   "source": [
    "- Cùng bậc $n$ ($n$ attribute).\n",
    "\n",
    "- $DOM(A_i) = DOM(B_i) \\quad \\forall i \\in \\overline{1,n}$"
   ]
  },
  {
   "cell_type": "markdown",
   "metadata": {},
   "source": [
    "## Phép toán"
   ]
  },
  {
   "cell_type": "markdown",
   "metadata": {},
   "source": [
    "### Giao"
   ]
  },
  {
   "cell_type": "markdown",
   "metadata": {},
   "source": [
    "- Tập hợp: $\\cap$\n",
    "\n",
    "- Mệnh đề: $\\land$"
   ]
  },
  {
   "cell_type": "markdown",
   "metadata": {},
   "source": [
    "### Hợp"
   ]
  },
  {
   "cell_type": "markdown",
   "metadata": {},
   "source": [
    "- Tập hợp: $\\cup$\n",
    "\n",
    "- Mệnh đề: $\\lor$"
   ]
  },
  {
   "cell_type": "markdown",
   "metadata": {},
   "source": [
    "### Trừ"
   ]
  },
  {
   "cell_type": "markdown",
   "metadata": {},
   "source": [
    "- Tập hợp, mệnh đề: $-$"
   ]
  },
  {
   "cell_type": "markdown",
   "metadata": {},
   "source": [
    "### Chọn"
   ]
  },
  {
   "cell_type": "markdown",
   "metadata": {},
   "source": [
    "$$\n",
    "\\sigma_p(R)\n",
    "$$"
   ]
  },
  {
   "cell_type": "markdown",
   "metadata": {},
   "source": [
    "- $p$: Điều kiện (Mệnh đề $\\leftarrow$ Phép giao hợp trừ).\n",
    "\n",
    "- Có tính giao hoán."
   ]
  },
  {
   "cell_type": "markdown",
   "metadata": {},
   "source": [
    "### Chiếu"
   ]
  },
  {
   "cell_type": "markdown",
   "metadata": {},
   "source": [
    "$$\n",
    "\\pi _{A_1,A_2,\\ldots , A_k} (R)\n",
    "$$"
   ]
  },
  {
   "cell_type": "markdown",
   "metadata": {},
   "source": [
    "- $A_1, A_2 , \\ldots , A_k$: Attribute.\n",
    "\n",
    "- Trong quá trình chiếu loại bỏ bộ (tuples) trùng nhau. $\\bigg( t[\\pi_{A_1,A_2,\\ldots , A_k}(R)] \\leq t[R] \\bigg)$\n",
    "\n",
    "- Không có tính giao hoán."
   ]
  },
  {
   "cell_type": "markdown",
   "metadata": {},
   "source": [
    "### Chiếu tổng quát"
   ]
  },
  {
   "cell_type": "markdown",
   "metadata": {},
   "source": [
    "$$\n",
    "\\pi _{F_1(A_1),F_2(A_2),\\ldots , F_k(A_k)} (R)\n",
    "$$"
   ]
  },
  {
   "cell_type": "markdown",
   "metadata": {},
   "source": [
    "### Gán"
   ]
  },
  {
   "cell_type": "markdown",
   "metadata": {},
   "source": [
    "$$\n",
    "\\leftarrow\n",
    "$$"
   ]
  },
  {
   "cell_type": "markdown",
   "metadata": {},
   "source": [
    "E.g. $S \\leftarrow \\sigma _p (R)$, $S \\leftarrow \\pi _{A_1,A_2, \\ldots , A_n} (R)$."
   ]
  },
  {
   "cell_type": "markdown",
   "metadata": {},
   "source": [
    "### Đổi tên"
   ]
  },
  {
   "cell_type": "markdown",
   "metadata": {},
   "source": [
    "$$\n",
    "\\rho _S (R)\n",
    "$$"
   ]
  },
  {
   "cell_type": "markdown",
   "metadata": {},
   "source": [
    "- $R$: Quan hệ, với $R(B,C,D)$.\n",
    "\n",
    "- $S$: Tên thay thế cho $R$.\n",
    "\n",
    "- $R(B,C,D) \\: \\to \\: S(B,C,D)$. "
   ]
  },
  {
   "cell_type": "markdown",
   "metadata": {},
   "source": [
    "$$\n",
    "\\rho _{X,C,D} (R)\n",
    "$$"
   ]
  },
  {
   "cell_type": "markdown",
   "metadata": {},
   "source": [
    "- $R(B,C,D) \\: \\to \\: R(X,C,D)$."
   ]
  },
  {
   "cell_type": "markdown",
   "metadata": {},
   "source": [
    "$$\n",
    "\\rho _{S(X,C,D)} (R)\n",
    "$$"
   ]
  },
  {
   "cell_type": "markdown",
   "metadata": {},
   "source": [
    "- $R(B,C,D) \\: \\to \\: S(X,C,D)$."
   ]
  },
  {
   "cell_type": "markdown",
   "metadata": {},
   "source": [
    "### Tích Descartesian"
   ]
  },
  {
   "cell_type": "markdown",
   "metadata": {},
   "source": [
    "$$\n",
    "R \\times S\n",
    "$$"
   ]
  },
  {
   "cell_type": "markdown",
   "metadata": {},
   "source": [
    "- Xuất ra table (tổ hợp) mới với\n",
    "\n",
    "    - $n+m$ attribute.\n",
    "  \n",
    "    - $u \\times v$ tuble."
   ]
  },
  {
   "cell_type": "markdown",
   "metadata": {},
   "source": [
    "### Kết"
   ]
  },
  {
   "cell_type": "markdown",
   "metadata": {},
   "source": [
    "#### Theta"
   ]
  },
  {
   "cell_type": "markdown",
   "metadata": {},
   "source": [
    "$$\n",
    "R \\bowtie _{\\text{ĐK}} S\n",
    "$$"
   ]
  },
  {
   "cell_type": "markdown",
   "metadata": {},
   "source": [
    "- Xuất ra table mới."
   ]
  },
  {
   "cell_type": "markdown",
   "metadata": {},
   "source": [
    "#### Bằng"
   ]
  },
  {
   "cell_type": "markdown",
   "metadata": {},
   "source": [
    "$$\n",
    "R \\bowtie_{R.A = S.B} S\n",
    "$$"
   ]
  },
  {
   "cell_type": "markdown",
   "metadata": {},
   "source": [
    "- Xuất ra table mới."
   ]
  },
  {
   "cell_type": "markdown",
   "metadata": {},
   "source": [
    "#### Tự nhiên"
   ]
  },
  {
   "cell_type": "markdown",
   "metadata": {},
   "source": [
    "$$\n",
    "R \\bowtie S\n",
    "$$"
   ]
  },
  {
   "cell_type": "markdown",
   "metadata": {},
   "source": [
    "- Attribute:\n",
    "\n",
    "    - Cùng NAME.\n",
    "\n",
    "    - Cùng $DOM$.\n",
    "\n",
    "- Tự **delete** Attribute trùng tên.\n",
    "\n",
    "- Xuất ra table mới."
   ]
  },
  {
   "cell_type": "markdown",
   "metadata": {},
   "source": [
    "### Chia"
   ]
  },
  {
   "cell_type": "markdown",
   "metadata": {},
   "source": [
    "$$\n",
    "R(Z) \\div S(X)\n",
    "$$"
   ]
  },
  {
   "cell_type": "markdown",
   "metadata": {},
   "source": [
    "- $X \\subseteq Z$.\n",
    "\n",
    "- Xuất ra $Q(Z-X)$. (Loại bỏ $A_i$ của $S$ trong $R$)\n",
    "\n",
    "- Dùng khi: Lấy ra cái này **thoả hết tất cả** cái kia."
   ]
  },
  {
   "cell_type": "markdown",
   "metadata": {},
   "source": [
    "E.g. $R(A,B,C,D,E)$ và $S(D,E)$. $R \\div S$ ra $Q(A,B,C)$"
   ]
  },
  {
   "cell_type": "markdown",
   "metadata": {},
   "source": [
    "### Hàm kết hợp"
   ]
  },
  {
   "cell_type": "markdown",
   "metadata": {},
   "source": [
    "- $SUM(A_i)$\n",
    "\n",
    "- $AVG(A_i)$\n",
    "\n",
    "- $COUNT(A_i)$\n",
    "\n",
    "- $MIN(A_i)$\n",
    "\n",
    "- $MAX(A_i)$"
   ]
  },
  {
   "cell_type": "markdown",
   "metadata": {},
   "source": [
    "### Gom nhóm"
   ]
  },
  {
   "cell_type": "markdown",
   "metadata": {},
   "source": [
    "$$\n",
    "G_1, G_2, \\ldots , G_n \\Im _{F_1(A_1), F_2(A_2), \\ldots , F_n(A_n)}(R)\n",
    "$$"
   ]
  },
  {
   "cell_type": "markdown",
   "metadata": {},
   "source": [
    "- $G_i$: Attribute cần gom.\n",
    "\n",
    "- $F_i(A_i)$: Sử dụng hàm kết hợp lên $Ai$.\n",
    "\n",
    "- $R$: Table nguồn.\n",
    "\n",
    "- Xuất ra table mới."
   ]
  },
  {
   "cell_type": "markdown",
   "metadata": {},
   "source": [
    "## Thao tác"
   ]
  },
  {
   "cell_type": "markdown",
   "metadata": {},
   "source": [
    "### Thêm"
   ]
  },
  {
   "cell_type": "markdown",
   "metadata": {},
   "source": [
    "$$\n",
    "R_{\\text{new}} \\leftarrow R_{\\text{old}} \\cup E\n",
    "$$"
   ]
  },
  {
   "cell_type": "markdown",
   "metadata": {},
   "source": [
    "- $E$ & $R$ khả hợp.\n",
    "- $E$: Biểu thức Đại số quan hệ."
   ]
  },
  {
   "cell_type": "markdown",
   "metadata": {},
   "source": [
    "E.g. $\\text{PHANCONG} \\leftarrow \\text{PHANCONG}('\\text{Bancie}',20,10)$."
   ]
  },
  {
   "cell_type": "markdown",
   "metadata": {},
   "source": [
    "### Xoá"
   ]
  },
  {
   "cell_type": "markdown",
   "metadata": {},
   "source": [
    "$$\n",
    "R_{\\text{new}} \\leftarrow R_{\\text{old}} - E\n",
    "$$"
   ]
  },
  {
   "cell_type": "markdown",
   "metadata": {},
   "source": [
    "E.g. $\\text{PHANCONG} \\leftarrow \\text{PHANCONG} - \\: \\sigma _{\\text{MANV}='123'} (\\text{PHANCONG})$."
   ]
  },
  {
   "cell_type": "markdown",
   "metadata": {},
   "source": [
    "### Sửa"
   ]
  },
  {
   "cell_type": "markdown",
   "metadata": {},
   "source": [
    "$$\n",
    "R_{\\text{new}} \\leftarrow \\pi _{F_1(A_1),F_2(A_2),\\ldots , F_n(A_n)} (R_{\\text{old}})\n",
    "$$"
   ]
  },
  {
   "cell_type": "markdown",
   "metadata": {},
   "source": [
    "## Kiểu thực hiện"
   ]
  },
  {
   "cell_type": "markdown",
   "metadata": {},
   "source": [
    "### Lồng"
   ]
  },
  {
   "cell_type": "markdown",
   "metadata": {},
   "source": [
    "$\\sigma _p (\\pi _{A_1, A_2 , \\ldots , A_k} (\\sigma _p (R)))$"
   ]
  },
  {
   "cell_type": "markdown",
   "metadata": {},
   "source": [
    "### Từng bước"
   ]
  },
  {
   "cell_type": "markdown",
   "metadata": {},
   "source": [
    "B1: $R2 \\leftarrow \\sigma _p (R1)$\n",
    "\n",
    "B2: $R3 \\leftarrow \\pi _{A_1,A_2, \\ldots , A_k} (R2)$\n",
    "\n",
    "$\\vdots$\n",
    "\n",
    "B $_n$"
   ]
  },
  {
   "cell_type": "markdown",
   "metadata": {},
   "source": [
    "# SQL"
   ]
  }
 ],
 "metadata": {
  "kernelspec": {
   "display_name": "venv",
   "language": "python",
   "name": "python3"
  },
  "language_info": {
   "name": "python",
   "version": "3.12.8"
  }
 },
 "nbformat": 4,
 "nbformat_minor": 2
}
