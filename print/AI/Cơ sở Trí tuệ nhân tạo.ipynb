{
 "cells": [
  {
   "cell_type": "markdown",
   "id": "7f781ac7",
   "metadata": {},
   "source": [
    "# Searching"
   ]
  },
  {
   "cell_type": "markdown",
   "id": "2b68b26a",
   "metadata": {},
   "source": [
    "## BFS"
   ]
  },
  {
   "cell_type": "markdown",
   "id": "bae096b3",
   "metadata": {},
   "source": [
    "## A*"
   ]
  },
  {
   "cell_type": "markdown",
   "id": "4db71bf3",
   "metadata": {},
   "source": [
    "## GTS"
   ]
  },
  {
   "cell_type": "markdown",
   "id": "979d8fe9",
   "metadata": {},
   "source": [
    "# Planning"
   ]
  },
  {
   "cell_type": "markdown",
   "id": "a3486bfd",
   "metadata": {},
   "source": [
    "## Job assigning"
   ]
  },
  {
   "cell_type": "markdown",
   "id": "eff19b24",
   "metadata": {},
   "source": [
    "## Coloring"
   ]
  },
  {
   "cell_type": "markdown",
   "id": "2d27d20e",
   "metadata": {},
   "source": [
    "# Logical"
   ]
  },
  {
   "cell_type": "markdown",
   "id": "c4d5c4d3",
   "metadata": {},
   "source": [
    "## Vương Hạo"
   ]
  },
  {
   "cell_type": "markdown",
   "id": "e1aea7df",
   "metadata": {},
   "source": [
    "## Robinson"
   ]
  },
  {
   "cell_type": "markdown",
   "id": "e4db2905",
   "metadata": {},
   "source": [
    "## Bài toán đổ nước"
   ]
  },
  {
   "cell_type": "markdown",
   "id": "d6080d32",
   "metadata": {},
   "source": [
    "# Machine Learning"
   ]
  },
  {
   "cell_type": "markdown",
   "id": "5738d90d",
   "metadata": {},
   "source": [
    "## Quinlan"
   ]
  }
 ],
 "metadata": {
  "language_info": {
   "name": "python"
  }
 },
 "nbformat": 4,
 "nbformat_minor": 5
}
