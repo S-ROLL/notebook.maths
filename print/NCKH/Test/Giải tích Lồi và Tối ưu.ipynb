{
 "cells": [
  {
   "cell_type": "markdown",
   "id": "5adea9ea",
   "metadata": {},
   "source": [
    "# Câu 1"
   ]
  },
  {
   "cell_type": "markdown",
   "id": "a4a362f7",
   "metadata": {},
   "source": [
    "Cho một tập gồm $n$ hàm tuyến tính từng đoạn $f_1(x), f_2(x), f_3(x)$. Mỗi hàm được xác định bởi một số đoạn tuyến tính liên tiếp trên tập con của trục số thực. Các đoạn này có thể khác nhau về miền xác định. Tập các điểm dừng được xác định là tập hợp tất cả các giao điểm của mọi cặp đoạn tuyến tính của các hàm $f_i(x) \\: \\forall i = 1, \\ldots , 3$.\n",
    "\n",
    "$$\n",
    "f_1(x) =\n",
    "\\begin{cases}\n",
    "x + 1 & \\text{nếu } x \\in [0, 2] \\\\\n",
    "-0.5x + 4 & \\text{nếu } x \\in [2, 5]\n",
    "\\end{cases}\n",
    "$$\n",
    "\n",
    "$$\n",
    "f_2(x) =\n",
    "\\begin{cases}\n",
    "2x & \\text{nếu } x \\in [1, 3] \\\\\n",
    "-2x + 10 & \\text{nếu } x \\in [3, 5]\n",
    "\\end{cases}\n",
    "$$\n",
    "\n",
    "$$\n",
    "f_3(x) =\n",
    "\\begin{cases}\n",
    "-1.5x + 5 & \\text{nếu } x \\in [0, 3] \\\\\n",
    "x - 1 & \\text{nếu } x \\in [3, 5]\n",
    "\\end{cases}\n",
    "$$\n",
    "\n",
    "a. Tìm tất cả các điểm giao nhau giữa các đoạn tuyến tính thuộc các hàm đã cho và liệt kê danh sách các đoạn con không chồng lắp (phân chia bởi các giao điểm). (5 điểm)\n",
    "\n",
    "b. Với mỗi đoạn con, tìm hàm $f_i(x)$ tạo nên đường bao trên. Với\n",
    "\n",
    "$$\n",
    "U(x) = \\underset{i = 1, \\ldots , n}{\\max} (f_i(x)).\n",
    "$$\n",
    "\n",
    "Vẽ biểu đồ biểu diễn hàm $U(x)$ trên miền tổng quát. (5 điểm)"
   ]
  }
 ],
 "metadata": {
  "language_info": {
   "name": "python"
  }
 },
 "nbformat": 4,
 "nbformat_minor": 5
}
