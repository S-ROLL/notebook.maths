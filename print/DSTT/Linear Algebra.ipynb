{
 "cells": [
  {
   "cell_type": "markdown",
   "id": "d5438ece",
   "metadata": {},
   "source": [
    "# Ma trận"
   ]
  },
  {
   "cell_type": "markdown",
   "id": "887336ee",
   "metadata": {},
   "source": [
    "Đặt $\\mathbb{K} = \\mathbb{Q}, \\mathbb{R}, \\mathbb{C}$\n",
    "\n",
    "và $\\mathbb{N} = \\{1, \\ldots\\}$\n",
    "\n",
    "với $m, n \\in \\mathbb{N}$\n",
    "\n",
    "Ma trận $m \\times n$\n",
    "\n",
    "$$\n",
    "A = \\begin{pmatrix}\n",
    "a_{11} & a_{12} & \\ldots & a_{1n}\n",
    "\\\\\n",
    "a_{21} & a_{22} & \\ldots & a_{2n}\n",
    "\\\\\n",
    "\\vdots & \\vdots & \\ddots & \\vdots\n",
    "\\\\\n",
    "a_{m1} & a_{m2} & \\ldots & a_{mn}\n",
    "\\end{pmatrix}\n",
    "$$\n",
    "\n",
    "Trong đó $a_{ij} \\in \\mathbb{K}$"
   ]
  },
  {
   "cell_type": "markdown",
   "id": "8125a854",
   "metadata": {},
   "source": [
    "## Loại ma trận"
   ]
  },
  {
   "cell_type": "markdown",
   "id": "d716c6ce",
   "metadata": {},
   "source": [
    "- Ma trận hàng.\n",
    "\n",
    "- Ma trận cột.\n",
    "\n",
    "- Ma trận $0$.\n",
    "\n",
    "- Ma trận vuông $\\Leftarrow$ đường chéo.\n",
    "\n",
    "- Ma trận bằng nhau.\n",
    "\n",
    "- $M(m \\times n, \\mathbb{K}) = M_{m \\times n} (\\mathbb{K}) = M_{\\mathbb{K}}(m \\times n) = \\{ A = (a_{ij})_{m \\times n} | a_{ij} \\in \\mathbb{K}\\}$.\n",
    "\n",
    "- Ma trận tam giác trên và Ma trận tam giác dưới, gọi chung là Ma trận tam giác.\n",
    "\n",
    "- Ma trận đường chéo (vừa là mt tam giác trên và dưới).\n",
    "\n",
    "- Ma trận đơn vị."
   ]
  },
  {
   "cell_type": "markdown",
   "id": "8b34b11c",
   "metadata": {},
   "source": [
    "## Phép toán"
   ]
  },
  {
   "cell_type": "markdown",
   "id": "227c3029",
   "metadata": {},
   "source": [
    "### Cộng"
   ]
  },
  {
   "cell_type": "markdown",
   "id": "4bee7e10",
   "metadata": {},
   "source": [
    "$$A + B = (a_j + b_j)_{m \\times n}$$"
   ]
  },
  {
   "cell_type": "markdown",
   "id": "7c56ae0e",
   "metadata": {},
   "source": [
    "### Nhân "
   ]
  },
  {
   "cell_type": "markdown",
   "id": "5f3e903f",
   "metadata": {},
   "source": [
    "#### 1 số với ma trận"
   ]
  },
  {
   "cell_type": "markdown",
   "id": "41bc645d",
   "metadata": {},
   "source": [
    "#### 2 ma trận"
   ]
  },
  {
   "cell_type": "markdown",
   "id": "5bae5117",
   "metadata": {},
   "source": [
    "\n",
    "$$A = (a_{ik})_{m \\times n}, \\: B = (b_{kj})_{n \\times p}$$\n",
    "\n",
    "$$AB = C = (c_{ij})_{m \\times p}$$\n",
    "\n",
    "$$c_{ij} = a_{i1}b_{1j} + a_{i2}b_{2j} + \\ldots + a_{in}b_{nj}$$"
   ]
  },
  {
   "cell_type": "markdown",
   "id": "507cdb56",
   "metadata": {},
   "source": [
    "**Thuật toán**\n",
    "\n",
    "- Check cột $A$ = hàng $B$:\n",
    "\n",
    "    - Nếu không $\\to$ không giải được.\n",
    "\n",
    "    - Nếu có $\\to$ Ma trận đầu ra là ma trận (hàng $A$) $\\times$ (cột $B$) $\\to$ Tính $c_{ij} =$ giao hàng $A$ và cột $B$."
   ]
  },
  {
   "cell_type": "markdown",
   "id": "4f8dff61",
   "metadata": {},
   "source": [
    "**Note** \n",
    "\n",
    "$AB = AC$ và $A \\neq 0$ $\\not\\to B = C$."
   ]
  },
  {
   "cell_type": "markdown",
   "id": "40426f26",
   "metadata": {},
   "source": [
    "#### Ma trận chuyển vị"
   ]
  },
  {
   "cell_type": "markdown",
   "id": "6ba097cc",
   "metadata": {},
   "source": [
    "$$A = (a_{ij})_{m \\times n}$$\n",
    "\n",
    "$$A^T = (a_{ji})_{n \\times m}$$"
   ]
  },
  {
   "cell_type": "markdown",
   "id": "9e724079",
   "metadata": {},
   "source": [
    "## Ma trận bậc thang & ma trận rút gọn"
   ]
  },
  {
   "cell_type": "markdown",
   "id": "c8692e97",
   "metadata": {},
   "source": [
    "### Ma trận bậc thang"
   ]
  },
  {
   "cell_type": "markdown",
   "id": "db8c571f",
   "metadata": {},
   "source": [
    "- Hàng không (nếu có).\n",
    "\n",
    "- Hàng khác không\n",
    "\n",
    "    - Phần tử chính (PTC) $\\to$ PTC bên dưới luôn nằm bên phải PTC bên trên."
   ]
  },
  {
   "cell_type": "markdown",
   "id": "14410e4b",
   "metadata": {},
   "source": [
    "### Ma trận rút gọn"
   ]
  },
  {
   "cell_type": "markdown",
   "id": "be49e22b",
   "metadata": {},
   "source": [
    "- PTC $= 1$\n",
    "\n",
    "- Cột chứa PTC $\\to$ PTC là phần tử $\\neq 0$ duy nhất."
   ]
  },
  {
   "cell_type": "markdown",
   "id": "faeac8d0",
   "metadata": {},
   "source": [
    "## Phép biến đổi"
   ]
  },
  {
   "cell_type": "markdown",
   "id": "fe328a62",
   "metadata": {},
   "source": [
    "- Phép biến đổi sơ cấp, phép biến đổi hàng\n",
    "\n",
    "    - Đổi hàng $h_i \\leftrightarrow h_j$\n",
    "\n",
    "    - Thay thế tỷ lệ $h_i \\leftarrow \\alpha h_i$\n",
    "\n",
    "    - Thay thế hàng $h_i \\leftarrow h_i + k h_j \\quad (j \\neq i)$ "
   ]
  },
  {
   "cell_type": "markdown",
   "id": "02df126d",
   "metadata": {},
   "source": [
    "- Tương đương hàng\n",
    "\n",
    "    - $A \\to \\ldots \\to B$, $B \\sim A$\n",
    "\n",
    "    - $A \\sim A$\n",
    "\n",
    "    - $A \\sim B \\to B \\sim A$\n",
    "\n",
    "    - $A \\sim B, B \\sim C \\to A \\sim C$"
   ]
  },
  {
   "cell_type": "markdown",
   "id": "57a5f832",
   "metadata": {},
   "source": [
    "**Thuật toán cho số phép toán thực hiện nhỏ nhất**"
   ]
  },
  {
   "cell_type": "markdown",
   "id": "ac3278ef",
   "metadata": {},
   "source": [
    "![](/Users/chibangnguyen/Documents/notebook.maths/print/DSTT/pbdsc_algorithm.png)"
   ]
  }
 ],
 "metadata": {
  "kernelspec": {
   "display_name": "venv",
   "language": "python",
   "name": "python3"
  },
  "language_info": {
   "name": "python",
   "version": "3.13.7"
  }
 },
 "nbformat": 4,
 "nbformat_minor": 5
}
