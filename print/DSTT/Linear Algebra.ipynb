{
 "cells": [
  {
   "cell_type": "markdown",
   "id": "d5438ece",
   "metadata": {},
   "source": [
    "# Ma trận"
   ]
  },
  {
   "cell_type": "markdown",
   "id": "887336ee",
   "metadata": {},
   "source": [
    "Đặt $\\mathbb{K} = \\mathbb{Q}, \\mathbb{R}, \\mathbb{C}$\n",
    "\n",
    "và $\\mathbb{N} = \\{1, \\ldots\\}$\n",
    "\n",
    "với $m, n \\in \\mathbb{N}$\n",
    "\n",
    "Ma trận $m \\times n$\n",
    "\n",
    "$$\n",
    "A = \\begin{pmatrix}\n",
    "a_{11} & a_{12} & \\ldots & a_{1n}\n",
    "\\\\\n",
    "a_{21} & a_{22} & \\ldots & a_{2n}\n",
    "\\\\\n",
    "\\vdots & \\vdots & \\ddots & \\vdots\n",
    "\\\\\n",
    "a_{m1} & a_{m2} & \\ldots & a_{mn}\n",
    "\\end{pmatrix}\n",
    "$$\n",
    "\n",
    "Trong đó $a_{ij} \\in \\mathbb{K}$"
   ]
  },
  {
   "cell_type": "markdown",
   "id": "8125a854",
   "metadata": {},
   "source": [
    "## Loại ma trận"
   ]
  },
  {
   "cell_type": "markdown",
   "id": "d716c6ce",
   "metadata": {},
   "source": [
    "- Ma trận hàng.\n",
    "\n",
    "- Ma trận cột.\n",
    "\n",
    "- Ma trận $0$.\n",
    "\n",
    "- Ma trận vuông $\\Leftarrow$ đường chéo.\n",
    "\n",
    "- Ma trận bằng nhau.\n",
    "\n",
    "- $M(m \\times n, \\mathbb{K}) = M_{m \\times n} (\\mathbb{K}) = M_{\\mathbb{K}}(m \\times n) = \\{ A = (a_{ij})_{m \\times n} | a_{ij} \\in \\mathbb{K}\\}$.\n",
    "\n",
    "- Ma trận tam giác trên và Ma trận tam giác dưới, gọi chung là Ma trận tam giác.\n",
    "\n",
    "- Ma trận đường chéo (vừa là mt tam giác trên và dưới).\n",
    "\n",
    "- Ma trận đơn vị."
   ]
  },
  {
   "cell_type": "markdown",
   "id": "8b34b11c",
   "metadata": {},
   "source": [
    "## Phép toán"
   ]
  },
  {
   "cell_type": "markdown",
   "id": "227c3029",
   "metadata": {},
   "source": [
    "### Cộng"
   ]
  },
  {
   "cell_type": "markdown",
   "id": "4bee7e10",
   "metadata": {},
   "source": [
    "$$A + B = (a_j + b_j)_{m \\times n}$$"
   ]
  },
  {
   "cell_type": "markdown",
   "id": "7c56ae0e",
   "metadata": {},
   "source": [
    "### Nhân "
   ]
  },
  {
   "cell_type": "markdown",
   "id": "5f3e903f",
   "metadata": {},
   "source": [
    "#### 1 số với ma trận"
   ]
  },
  {
   "cell_type": "markdown",
   "id": "41bc645d",
   "metadata": {},
   "source": [
    "#### 2 ma trận"
   ]
  },
  {
   "cell_type": "markdown",
   "id": "5bae5117",
   "metadata": {},
   "source": [
    "\n",
    "$$A = (a_{ik})_{m \\times n}, \\: B = (b_{kj})_{n \\times p}$$\n",
    "\n",
    "$$AB = C = (c_{ij})_{m \\times p}$$\n",
    "\n",
    "$$c_{ij} = a_{i1}b_{1j} + a_{i2}b_{2j} + \\ldots + a_{in}b_{nj}$$"
   ]
  },
  {
   "cell_type": "markdown",
   "id": "507cdb56",
   "metadata": {},
   "source": [
    "**Thuật toán**\n",
    "\n",
    "- Check cột $A$ = hàng $B$:\n",
    "\n",
    "    - Nếu không $\\to$ không giải được.\n",
    "\n",
    "    - Nếu có $\\to$ Ma trận đầu ra là ma trận (hàng $A$) $\\times$ (cột $B$) $\\to$ Tính $c_{ij} =$ giao hàng $A$ và cột $B$."
   ]
  },
  {
   "cell_type": "markdown",
   "id": "4f8dff61",
   "metadata": {},
   "source": [
    "**Note** \n",
    "\n",
    "$AB = AC$ và $A \\neq 0$ $\\not\\to B = C$."
   ]
  },
  {
   "cell_type": "markdown",
   "id": "40426f26",
   "metadata": {},
   "source": [
    "#### Ma trận chuyển vị"
   ]
  },
  {
   "cell_type": "markdown",
   "id": "6ba097cc",
   "metadata": {},
   "source": [
    "$$A = (a_{ij})_{m \\times n}$$\n",
    "\n",
    "$$A^T = (a_{ji})_{n \\times m}$$"
   ]
  },
  {
   "cell_type": "markdown",
   "id": "9e724079",
   "metadata": {},
   "source": [
    "## Ma trận bậc thang & ma trận rút gọn"
   ]
  },
  {
   "cell_type": "markdown",
   "id": "c8692e97",
   "metadata": {},
   "source": [
    "### Ma trận bậc thang"
   ]
  },
  {
   "cell_type": "markdown",
   "id": "db8c571f",
   "metadata": {},
   "source": [
    "- Hàng không (nếu có).\n",
    "\n",
    "- Hàng khác không\n",
    "\n",
    "    - Phần tử chính (PTC) $\\to$ PTC bên dưới luôn nằm bên phải PTC bên trên."
   ]
  },
  {
   "cell_type": "markdown",
   "id": "14410e4b",
   "metadata": {},
   "source": [
    "### Ma trận rút gọn"
   ]
  },
  {
   "cell_type": "markdown",
   "id": "be49e22b",
   "metadata": {},
   "source": [
    "- PTC $= 1$\n",
    "\n",
    "- Cột chứa PTC $\\to$ PTC là phần tử $\\neq 0$ duy nhất."
   ]
  },
  {
   "cell_type": "markdown",
   "id": "faeac8d0",
   "metadata": {},
   "source": [
    "## Phép biến đổi"
   ]
  },
  {
   "cell_type": "markdown",
   "id": "fe328a62",
   "metadata": {},
   "source": [
    "- Phép biến đổi sơ cấp, phép biến đổi hàng\n",
    "\n",
    "    - Đổi hàng $h_i \\leftrightarrow h_j$\n",
    "\n",
    "    - Thay thế tỷ lệ $h_i \\leftarrow \\alpha h_i$\n",
    "\n",
    "    - Thay thế hàng $h_i \\leftarrow h_i + k h_j \\quad (j \\neq i)$ "
   ]
  },
  {
   "cell_type": "markdown",
   "id": "02df126d",
   "metadata": {},
   "source": [
    "- Tương đương hàng\n",
    "\n",
    "    - $A \\to \\ldots \\to B$, $B \\sim A$\n",
    "\n",
    "    - $A \\sim A$\n",
    "\n",
    "    - $A \\sim B \\to B \\sim A$\n",
    "\n",
    "    - $A \\sim B, B \\sim C \\to A \\sim C$"
   ]
  },
  {
   "cell_type": "markdown",
   "id": "57a5f832",
   "metadata": {},
   "source": [
    "### Thuật toán cho số phép toán thực hiện nhỏ nhất"
   ]
  },
  {
   "cell_type": "markdown",
   "id": "ac3278ef",
   "metadata": {},
   "source": [
    "![](./pbdsc_algorithm.png)"
   ]
  },
  {
   "cell_type": "markdown",
   "id": "65a6504b",
   "metadata": {},
   "source": [
    "## Hạng"
   ]
  },
  {
   "cell_type": "markdown",
   "id": "36e989a2",
   "metadata": {},
   "source": [
    "$r(A) = \\text{rank}(A)$ với $A=(a_{ij})_{m \\times n}$"
   ]
  },
  {
   "cell_type": "markdown",
   "id": "6a6f67d9",
   "metadata": {},
   "source": [
    "Số hàng $\\neq 0$ trong **dạng rút gọn** (hoặc **dạng bậc thang**) của $A$ ($A \\sim$ Dạng rút gọn (bậc thang))"
   ]
  },
  {
   "cell_type": "markdown",
   "id": "381f4278",
   "metadata": {},
   "source": [
    "$$\n",
    "0 \\leq \\text{rank}(A) \\leq \\min \\{ m, n \\}\n",
    "$$"
   ]
  },
  {
   "cell_type": "markdown",
   "id": "4a74e240",
   "metadata": {},
   "source": [
    "## Ma trận khả nghịch"
   ]
  },
  {
   "cell_type": "markdown",
   "id": "4ce84216",
   "metadata": {},
   "source": [
    "$$\n",
    "AB = BA = I_n\n",
    "$$"
   ]
  },
  {
   "cell_type": "markdown",
   "id": "6bb84f87",
   "metadata": {},
   "source": [
    "- Trong đó, $A$ là ma trận vuông cấp $n$\n",
    "\n",
    "- $A$ là **ma trận khả nghịch**.\n",
    "\n",
    "- $B$ là **ma trận nghịch đảo** của $A$.\n",
    "\n",
    "- $B = A^{-1}$.\n",
    "\n",
    "- Nếu tồn tại $B$, $B$ là duy nhất."
   ]
  },
  {
   "cell_type": "markdown",
   "id": "ca8856aa",
   "metadata": {},
   "source": [
    "**Định lý**\n",
    "\n",
    "- $(A^{-1})^{-1} = A$.\n",
    "\n",
    "- $\\alpha A$ khả nghịch và $(\\alpha A)^{-1} = \\frac{1}{\\alpha}A^{-1}$.\n",
    "\n",
    "- $AB$ khả nghịch và $(AB)^{-1} = B^{-1}A^{-1}$.\n",
    "\n",
    "- $A^T$ khả nghịch và $(A^T)^{-1} = (A^{-1})^T$."
   ]
  },
  {
   "cell_type": "markdown",
   "id": "679bc596",
   "metadata": {},
   "source": [
    "**Note**"
   ]
  },
  {
   "cell_type": "markdown",
   "id": "b2600661",
   "metadata": {},
   "source": [
    "- $A^k = A.A...A$\n",
    "    - $A^k$ khả nghịch.\n",
    "  \n",
    "    - $A^{-k} = (A^k)^{-1}$."
   ]
  },
  {
   "cell_type": "markdown",
   "id": "da04e186",
   "metadata": {},
   "source": [
    "### Ma trận sơ cấp"
   ]
  },
  {
   "cell_type": "markdown",
   "id": "64fff0ed",
   "metadata": {},
   "source": [
    "Ta thực hiện 1 phép biến đổi sơ cấp trên $I_n$"
   ]
  },
  {
   "cell_type": "markdown",
   "id": "16835e0c",
   "metadata": {},
   "source": [
    "$$\n",
    "I_n \\overset{e}{\\rightarrow} E\n",
    "$$"
   ]
  },
  {
   "cell_type": "markdown",
   "id": "839b7294",
   "metadata": {},
   "source": [
    "- $E$ đgl **ma trận sơ cấp**\n",
    "\n",
    "- Tồn tại 3 loại ma trận sơ cấp $E$ tương ứng với 3 loại phép biến đổi sơ cấp."
   ]
  },
  {
   "cell_type": "markdown",
   "id": "45b1afa5",
   "metadata": {},
   "source": [
    "$$EA = \\overset{e}{\\leftarrow}A$$\n",
    "\n",
    "- Trong đó $\\overset{e}{\\leftarrow}A$ là ma trận A sau khi đã thực hiện phép biến đổi sơ cấp $e$."
   ]
  },
  {
   "cell_type": "markdown",
   "id": "cc40860e",
   "metadata": {},
   "source": [
    "$$A \\overset{e_1}{\\rightarrow} A_1 \\overset{e_2}{\\rightarrow} A_2 \\ldots \\overset{e_k}{\\rightarrow} D$$\n",
    "\n",
    "Ta được\n",
    "\n",
    "$$\n",
    "\\begin{split}\n",
    "A_1 &= E_1 A \\\\\n",
    "\\\\\n",
    "A_2 &= E_2 A_1 = E_2 E_1 A \\\\\n",
    "& \\vdots\n",
    "\\\\\n",
    "D &= (E_k \\ldots E_1) A\n",
    "\\end{split}\n",
    "$$\n",
    "\n",
    "Mà $A$ KN $\\Leftrightarrow \\: A \\sim I_n$\n",
    "\n",
    "Do đó, \n",
    "\n",
    "$$\n",
    "A \\overset{e_1}{\\rightarrow} \\overset{e_2}{\\rightarrow} \\ldots \\overset{e_k}{\\rightarrow} I_n\n",
    "$$\n",
    "\n",
    "Vậy\n",
    "\n",
    "$$\n",
    "I_n \\overset{e_k}{\\rightarrow} \\overset{e_{k-1}}{\\rightarrow} \\ldots \\overset{e_1}{\\rightarrow} A^{-1}\n",
    "$$\n",
    "\n",
    "Hay\n",
    "\n",
    "$$\n",
    "\\begin{split}\n",
    "I_n &= (E_1 \\ldots E_k) A \\\\\n",
    "\\\\\n",
    "A^{-1} &= (E_1 \\ldots E_k) I_n\n",
    "\\end{split}\n",
    "$$"
   ]
  },
  {
   "cell_type": "markdown",
   "id": "2a178c0f",
   "metadata": {},
   "source": [
    "### Thuật toán tìm ma trận khả nghịch"
   ]
  },
  {
   "cell_type": "markdown",
   "id": "cfa08b5b",
   "metadata": {},
   "source": [
    "Cho $A_{n \\times n}$\n",
    "\n",
    "- B1. Thiết lập $(A | I_n)$\n",
    "\n",
    "- B2. $(A | I_n) \\overset{\\text{Biến đổi thành ma trận rút gọn}}{\\to} (D|B)$\n",
    "\n",
    "    - Nếu $D = I_n$ $\\to A$ khả nghịch và $A^{-1}=B$.\n",
    "\n",
    "    - Nếu $D \\neq I_n$ $\\to A$ không khả nghịch."
   ]
  },
  {
   "cell_type": "markdown",
   "id": "07b7f033",
   "metadata": {},
   "source": [
    "### Tính chất"
   ]
  },
  {
   "cell_type": "markdown",
   "id": "f304ec25",
   "metadata": {},
   "source": [
    "- $A \\in M(n \\times n, \\mathbb{K})$\n",
    "\n",
    "- $A$ khả nghịch.\n",
    "\n",
    "- $r(A) = n$.\n",
    "\n",
    "- $A$ là tích hữu hạn các ma trận sơ cấp \n",
    "\n",
    "    - $I_n = (E_1 \\ldots E_k) A$\n",
    "\n",
    "    - $A = E_{k}^{-1} \\ldots E_1^{-1}$\n",
    "\n",
    "- $AX=B$ có nghiệm duy nhất $\\forall B \\in M(n \\times p, \\mathbb{K})$.\n",
    "\n",
    "- $\\exists B$ ma trận vuông cấp $n$ sao cho $AB=I_n$.\n",
    "\n",
    "- $\\exists C$ ma trận vuông cấp $n$ sao cho $CA = I_n$\n",
    "\n",
    "- $A^T$ khả nghịch."
   ]
  },
  {
   "cell_type": "markdown",
   "id": "66db9183",
   "metadata": {},
   "source": [
    "# Định thức"
   ]
  },
  {
   "cell_type": "markdown",
   "id": "1ba5b792",
   "metadata": {},
   "source": [
    "## Nền tảng"
   ]
  },
  {
   "cell_type": "markdown",
   "id": "3cdeeaf7",
   "metadata": {},
   "source": [
    "### Phép thế"
   ]
  },
  {
   "cell_type": "markdown",
   "id": "8df52bac",
   "metadata": {},
   "source": [
    "- Cho $X = \\{ 1, 2, \\ldots , n \\}$\n",
    "\n",
    "- Song ánh $\\sigma : X \\to X$ đgl phép thế bậc $n$.\n",
    "\n",
    "$$\n",
    "\\sigma = \n",
    "\\begin{pmatrix}\n",
    "1 & 2 & \\ldots & n \\\\\n",
    "\\sigma(1) & \\sigma(2) & \\ldots & \\sigma(n)\n",
    "\\end{pmatrix}\n",
    "$$\n",
    "\n",
    "- Tập hợp các phép thế bậc $n$ k/h $|S_n|=n!$.\n",
    "\n",
    "$$\n",
    "S_n = \\{ \\sigma : X \\to X | \\sigma \\text{ là song ánh} \\}\n",
    "$$\n",
    "\n",
    "- Phép thế đơn vị\n",
    "\n",
    "- Phép thế sơ cấp\n",
    "\n",
    "- Cấu trúc\n",
    "\n",
    "    - Mỗi phép thế đều phân tích được thành tích của các tích độc lập\n",
    "\n",
    "    - Tích phép thế sơ cấp."
   ]
  },
  {
   "cell_type": "markdown",
   "id": "75ff4bb7",
   "metadata": {},
   "source": [
    "### Dấu"
   ]
  },
  {
   "cell_type": "markdown",
   "id": "5a24f348",
   "metadata": {},
   "source": [
    "$$\n",
    "\\text{sgn}(\\sigma) = \\underset{{1 \\leq i < j \\leq n}}{\\pi} \\frac{\\sigma (i) - \\sigma (j)}{i - j} \\quad \\in \\{ \\pm 1 \\}\n",
    "$$"
   ]
  },
  {
   "cell_type": "markdown",
   "id": "8683cd9d",
   "metadata": {},
   "source": [
    "### Nghịch thế"
   ]
  },
  {
   "cell_type": "markdown",
   "id": "40b9af93",
   "metadata": {},
   "source": [
    "- Là số lượng $\\sigma(i) - \\sigma (j)$ ngược với $i - j$ hay số lượng\n",
    "\n",
    "$$\n",
    "\\frac{\\sigma(i) - \\sigma(j)}{i - j} < 0\n",
    "$$\n",
    "\n",
    "- Nếu số lượng nghịch thế\n",
    "\n",
    "    - Chẳn $\\to \\text{sgn}(\\sigma) = 1$.\n",
    "\n",
    "    - Lẻ $\\to \\text{sgn}(\\sigma) = -1$."
   ]
  },
  {
   "cell_type": "markdown",
   "id": "6fb5e834",
   "metadata": {},
   "source": [
    "- **Note:** Phép thế sơ cấp là phép thế lẻ."
   ]
  },
  {
   "cell_type": "markdown",
   "id": "7344fb1c",
   "metadata": {},
   "source": [
    "## Công thức"
   ]
  },
  {
   "cell_type": "markdown",
   "id": "1819f43b",
   "metadata": {},
   "source": [
    "Cho $A = (a_{ij})_{n \\times n}$\n",
    "\n",
    "$$\n",
    "\\det(A) = |A| = \\sum_{\\sigma \\in S_n} \\text{sgn} (\\sigma) a_{\\sigma (1)1} a_{\\sigma (2)2} \\ldots a_{\\sigma (n) n}\n",
    "$$"
   ]
  },
  {
   "cell_type": "markdown",
   "id": "4fbcf712",
   "metadata": {},
   "source": [
    "- Cấp 2\n",
    "\n",
    "- Cấp 3"
   ]
  },
  {
   "cell_type": "markdown",
   "id": "c37814a0",
   "metadata": {},
   "source": [
    "## Tính chất - hệ quả - định lý"
   ]
  },
  {
   "cell_type": "markdown",
   "id": "624ad86c",
   "metadata": {},
   "source": [
    "### Tính chất"
   ]
  },
  {
   "cell_type": "markdown",
   "id": "422f0043",
   "metadata": {},
   "source": [
    "- Đa tuyến tính\n",
    "\n",
    "$$\n",
    "\\det(A_1 \\ldots \\alpha A_j + \\beta A'_j \\ldots A_n) = \\alpha \\det(A_1 \\ldots A_j \\ldots A_n) + \\beta \\det(A_1 \\ldots A'_j \\ldots A_n)\n",
    "$$\n",
    "\n",
    "- Thay phiên\n",
    "\n",
    "$$\n",
    "\\det(A_1 \\ldots A_i \\ldots A_i \\ldots A_n) = 0\n",
    "$$\n",
    "\n",
    "- Chuẩn hoá\n",
    "\n",
    "$$\n",
    "\\det(I_n) = 1\n",
    "$$"
   ]
  },
  {
   "cell_type": "markdown",
   "id": "9fbafeca",
   "metadata": {},
   "source": [
    "### Hệ quả "
   ]
  },
  {
   "cell_type": "markdown",
   "id": "df1fcbf5",
   "metadata": {},
   "source": [
    "- $\\det(A_1 \\ldots A_i \\ldots A_j \\ldots A_n) = \\det(A_1 \\ldots A_i + \\alpha A_j \\ldots A_j \\ldots A_n$.\n",
    "\n",
    "- $\\det(A_1 \\ldots A_i \\ldots \\alpha A_i \\ldots A_n) = 0$.\n",
    "\n",
    "- $\\det(A_1 \\ldots A_i \\ldots A_j \\ldots A_n) = - \\det(A_1 \\ldots A_j \\ldots A_i \\ldots A_n)$\n",
    "\n",
    "    - Đổi chỗ chẳn lần $\\to 1$.\n",
    "    \n",
    "    - Đổi chỗ lẻ lần $\\to -1$."
   ]
  },
  {
   "cell_type": "markdown",
   "id": "d278d179",
   "metadata": {},
   "source": [
    "### Định lý"
   ]
  },
  {
   "cell_type": "markdown",
   "id": "535d206e",
   "metadata": {},
   "source": [
    "- $\\det(A^T) = \\det(A)$.\n",
    "\n",
    "- $\\det(AB) = \\det(A) \\det(B) = \\det(BA)$\n",
    "\n",
    "- $A$ khả nghịch $\\Leftrightarrow \\det(A) \\neq 0$\n",
    "\n",
    "$$\n",
    "\\det(A^{-1}) = \\frac{1}{\\det(A)}\n",
    "$$"
   ]
  },
  {
   "cell_type": "markdown",
   "id": "f0eed90d",
   "metadata": {},
   "source": [
    "## Định thức con và phần bù đại số"
   ]
  },
  {
   "cell_type": "markdown",
   "id": "70228216",
   "metadata": {},
   "source": [
    "$i \\leq k \\leq n$\n",
    "\n",
    "Chọn $1 \\leq i_1 \\leq i_2 \\leq \\ldots \\leq i_k \\leq n$ và $1 \\leq j_1 \\leq j_2 \\leq \\ldots \\leq j_k \\leq n$"
   ]
  },
  {
   "cell_type": "markdown",
   "id": "00290639",
   "metadata": {},
   "source": [
    "- $D_{i_1 \\ldots i_k}^{j_1 \\ldots j_k}$ là định thức con.\n",
    "\n",
    "- $\\overline{D_{i_1 \\ldots i_k}^{j_1 \\ldots j_k}}$\n",
    "\n",
    "    - Đgl phần bù của $D_{i_1 \\ldots i_k}^{j_1 \\ldots j_k}$. \n",
    "\n",
    "    - Ma trận sau khi bỏ hàng $i_k$ và cột $j_k$ từ $D_{i_1 \\ldots i_k}^{j_1 \\ldots j_k}$."
   ]
  },
  {
   "cell_type": "markdown",
   "id": "b69cd555",
   "metadata": {},
   "source": [
    "- Lấy theo cột, $1 \\leq j_1 \\leq j_2 \\leq \\ldots \\leq j_k \\leq n$\n",
    "\n",
    "$$\n",
    "\\det (A) = \\sum_{1 \\leq i_1 \\leq i_2 \\leq \\ldots \\leq i_k \\leq n} (-1)^{i_1 + \\ldots + i_k + j_1 + \\ldots + j_k} D_{i_1 \\ldots i_k}^{j_1 \\ldots j_k} \\overline{D_{i_1 \\ldots i_k}^{j_1 \\ldots j_k}}\n",
    "$$"
   ]
  },
  {
   "cell_type": "markdown",
   "id": "0d9ddba0",
   "metadata": {},
   "source": [
    "Với $k=1$,\n",
    "\n",
    "$$\n",
    "\\det(A) = (-1)^{1+j} a_{1j} \\overline{D_1^j} + (-1)^{2+j} a_{2j} \\overline{D_2^j} + \\ldots + (-1)^{n+j} a_{nj} \\overline{D_n^j} = \\sum_{i=1}^n (-1)^{i+j} a_{ij} \\overline{D_i^j}\n",
    "$$"
   ]
  },
  {
   "cell_type": "markdown",
   "id": "30658acc",
   "metadata": {},
   "source": [
    "- Lấy theo hàng, $1 \\leq i_1 \\leq i_2 \\leq \\ldots \\leq i_k \\leq n$\n",
    "\n",
    "$$\n",
    "\\det (A) = \\sum_{1 \\leq j_1 \\leq j_2 \\leq \\ldots \\leq j_k \\leq n} (-1)^{i_1 + \\ldots + i_k + j_1 + \\ldots + j_k} D_{i_1 \\ldots i_k}^{j_1 \\ldots j_k} \\overline{D_{i_1 \\ldots i_k}^{j_1 \\ldots j_k}}\n",
    "$$"
   ]
  },
  {
   "cell_type": "markdown",
   "id": "844c981d",
   "metadata": {},
   "source": [
    "Với $k=1$,\n",
    "\n",
    "$$\n",
    "\\det(A) = (-1)^{i+1} a_{i1} \\overline{D_i^1} + (-1)^{i+2} a_{i2} \\overline{D_i^2} + \\ldots + (-1)^{i+n} a_{in} \\overline{D_i^n} = \\sum_{j=1}^n (-1)^{i+j} a_{ij} \\overline{D_i^j}\n",
    "$$"
   ]
  },
  {
   "cell_type": "markdown",
   "id": "a5271ab0",
   "metadata": {},
   "source": [
    "- **Note**\n",
    "    \n",
    "    - Ưu tiên chọn cột (hoặc hàng) nhiều $0$. Nếu không có $0 \\to$ kết hợp các tính chất, định lý và hệ quả trước đó $\\to$ sinh ra $0$.\n",
    "\n",
    "    - Không được dùng $h_i \\leftarrow \\alpha h_i$ ($h_i \\leftrightarrow h_j$ hay $c_i \\leftrightarrow c_j$ thì nhớ hệ quả đổi dấu).\n",
    "\n",
    "    - Chọn cột để biến đổi thành \"$0 \\ldots 1$\" thì dùng phép biến đổi trên hàng và ngược lại."
   ]
  },
  {
   "cell_type": "markdown",
   "id": "3e2dfced",
   "metadata": {},
   "source": [
    "## Ứng dụng"
   ]
  },
  {
   "cell_type": "markdown",
   "id": "37ffb1d5",
   "metadata": {},
   "source": [
    "### Khả nghịch"
   ]
  },
  {
   "cell_type": "markdown",
   "id": "45604542",
   "metadata": {},
   "source": [
    "- $A$ khả nghịch thì\n",
    "\n",
    "$$\n",
    "A^{-1} = \\frac{1}{\\det(A)} (\\text{adj} (A))^T = \\frac{1}{\\det(A)} C^T\n",
    "$$"
   ]
  },
  {
   "cell_type": "markdown",
   "id": "94694504",
   "metadata": {},
   "source": [
    "trong đó, $A$ ma trận vuông cấp $n$ và"
   ]
  },
  {
   "cell_type": "markdown",
   "id": "d5c5353a",
   "metadata": {},
   "source": [
    "$$\n",
    "\\text{adj}(A) = C =\n",
    "\\begin{pmatrix}\n",
    "c_{11} & c_{12} & \\ldots & c_{1n} \\\\\n",
    "c_{21} & c_{22} & \\ldots & c_{2n} \\\\\n",
    "\\vdots & \\vdots & \\ddots & \\vdots \\\\\n",
    "c_{n1} & c_{n2} & \\ldots & c_{nn}\n",
    "\\end{pmatrix}\n",
    "= \\text{cof}(A) \n",
    "$$"
   ]
  },
  {
   "cell_type": "markdown",
   "id": "e0dc1e2a",
   "metadata": {},
   "source": [
    "trong đó, $c_{ij}$ là phần bù đại số của $a_{ij}$"
   ]
  },
  {
   "cell_type": "markdown",
   "id": "37ba79ee",
   "metadata": {},
   "source": [
    "$$\n",
    "c_{ij} = (-1)^{i+j} \\overline{D_i^j}\n",
    "$$"
   ]
  },
  {
   "cell_type": "markdown",
   "id": "1b4aac75",
   "metadata": {},
   "source": [
    "**Thuật toán xác định ma trận khả nghịch và tìm ma trận nghịch đảo bằng định thức**"
   ]
  },
  {
   "cell_type": "markdown",
   "id": "99f10242",
   "metadata": {},
   "source": [
    "B1. Tính $c$ trên hàng (hoặc cột)\n",
    "\n",
    "B2. Áp dụng công thức tính $\\det(A)$ trên hàng (hoặc cột) bằng công thức \n",
    "\n",
    "$$\\det(A) = a_{11} c_{11} + \\ldots + a_{1n}c_{1n}$$\n",
    "\n",
    "B3. (Check khả nghịch)\n",
    "\n",
    "- Nếu $\\det(A) = 0 \\to$ không khả nghịch và kết thúc. \n",
    "- Nếu $\\det(A) \\neq 0 \\to A$ khả nghịch và chuyển sang bước 4 (nếu cần tính ma trận nghịc đảo)\n",
    "\n",
    "B4. Tính hết tất cả $c$ còn lại $\\to \\text{adj} (A) = C$\n",
    "\n",
    "B5. Tìm $A^{-1}$ bằng công thức\n",
    "\n",
    "$$\n",
    "A^{-1} = \\frac{1}{\\det(A)} (\\text{adj} (A))^T = \\frac{1}{\\det(A)} C^T\n",
    "$$"
   ]
  },
  {
   "cell_type": "markdown",
   "id": "06961e55",
   "metadata": {},
   "source": [
    "### Hạng"
   ]
  },
  {
   "cell_type": "markdown",
   "id": "d0493b86",
   "metadata": {},
   "source": [
    "**Thuật toán xác định hạng của ma trận bằng định thức**"
   ]
  },
  {
   "cell_type": "markdown",
   "id": "cf9c4f8e",
   "metadata": {},
   "source": [
    "B1. Tính định thức cấp $1,2,\\ldots,n$\n",
    "\n",
    "B2. (Kết luận hạng)\n",
    "\n",
    "- Nếu định thức cấp $i \\neq 0 \\to$ (hàng (hoặc cột) độc lập tuyến tính $\\to$ dạng bậc thang $100\\%$ có $n$ hàng $\\neq 0$) $\\to \\text{rank} (A) \\geq i$ \n",
    "\n",
    "- Nếu định thức cấp $i = 0 \\to \\text{rank} (A) = i$"
   ]
  },
  {
   "cell_type": "markdown",
   "id": "9148036c",
   "metadata": {},
   "source": [
    "# Hệ phương trình tuyến tính"
   ]
  },
  {
   "cell_type": "markdown",
   "id": "49ec420d",
   "metadata": {},
   "source": [
    "- $m, n \\in \\mathbb{N}$, trong đó, $m$ phương trình, $n$ ẩn, ta có hệ phương trình tuyến tính tổng quát"
   ]
  },
  {
   "cell_type": "markdown",
   "id": "c5e2e75a",
   "metadata": {},
   "source": [
    "$$\n",
    "\\begin{equation}\n",
    "\\begin{cases}\n",
    "a_{11}x_{1} + a_{12}x_{2} + \\cdots + a_{1n}x_{n} = b_{1} \\\\\n",
    "a_{21}x_{1} + a_{22}x_{2} + \\cdots + a_{2n}x_{n} = b_{2} \\\\\n",
    "\\quad \\vdots \\\\\n",
    "a_{m1}x_{1} + a_{m2}x_{2} + \\cdots + a_{mn}x_{n} = b_{m}\n",
    "\\end{cases}\n",
    "\\end{equation}\n",
    "$$"
   ]
  },
  {
   "cell_type": "markdown",
   "id": "4a78fe77",
   "metadata": {},
   "source": [
    "- trong đó\n",
    "\n",
    "    - $a_{ij}$ là hệ số.\n",
    "\n",
    "    - $b_i$ là hệ số tự do.\n",
    "\n",
    "    - $x_j$ là ẩn của hệ.\n",
    "\n",
    "- Bộ số $(c_1, c_2, \\ldots , c_n)$ là nghiệm của (1) nếu thay vào (1) thoả tất cả phương trình.\n",
    "\n",
    "- Giải hệ (1) $\\to$ tìm tập nghiệm của (1).\n",
    "\n",
    "- Hệ pt có nghiệm đgl hệ tương thích."
   ]
  },
  {
   "cell_type": "markdown",
   "id": "5e8068db",
   "metadata": {},
   "source": [
    "- Ma trận hệ số của (1)\n",
    "\n",
    "$$\n",
    "A = \\begin{pmatrix}\n",
    "a_{11} & a_{12} & \\cdots & a_{1n} \\\\\n",
    "a_{21} & a_{22} & \\cdots & a_{2n} \\\\\n",
    "\\vdots & \\vdots & \\ddots & \\vdots \\\\\n",
    "a_{m1} & a_{m2} & \\cdots & a_{mn}\n",
    "\\end{pmatrix}\n",
    "$$"
   ]
  },
  {
   "cell_type": "markdown",
   "id": "2134c0f0",
   "metadata": {},
   "source": [
    "- Cột ẩn\n",
    "\n",
    "$$\n",
    "X = \\begin{pmatrix}\n",
    "x_{1} \\\\\n",
    "x_{2} \\\\\n",
    "\\vdots \\\\\n",
    "x_{n}\n",
    "\\end{pmatrix}\n",
    "$$"
   ]
  },
  {
   "cell_type": "markdown",
   "id": "510330c2",
   "metadata": {},
   "source": [
    "- Cột hệ số tự do\n",
    "\n",
    "$$\n",
    "b = \\begin{pmatrix}\n",
    "b_{1} \\\\\n",
    "b_{2} \\\\\n",
    "\\vdots \\\\\n",
    "b_{m}\n",
    "\\end{pmatrix}\n",
    "$$"
   ]
  },
  {
   "cell_type": "markdown",
   "id": "3e8cbe61",
   "metadata": {},
   "source": [
    "- Ta viết gọn\n",
    "\n",
    "$$\n",
    "AX = b\n",
    "$$"
   ]
  },
  {
   "cell_type": "markdown",
   "id": "12857979",
   "metadata": {},
   "source": [
    "- Ma trận đầy đủ (ma trận bổ sung) k/h\n",
    "\n",
    "$$\n",
    "A^* = (A | b)\n",
    "$$"
   ]
  },
  {
   "cell_type": "markdown",
   "id": "53f517fe",
   "metadata": {},
   "source": [
    "## Sự tồn tại và tính duy nhất"
   ]
  },
  {
   "cell_type": "markdown",
   "id": "32f642e3",
   "metadata": {},
   "source": [
    "- $A^* = (A|b) \\to (S|c)$, trong đó $S$ là dạng bậc thang (hoặc dạng rút gọn) của ma trận $A^*$"
   ]
  },
  {
   "cell_type": "markdown",
   "id": "a4a70afb",
   "metadata": {},
   "source": [
    "- **Điều kiện nghiệm:**\n",
    "\n",
    "    - Vô nghiệm $\\to \\exists$ hàng có dạng $(0 \\ldots 0 | c), \\: c_i \\neq 0$.\n",
    "\n",
    "    - Vô số nghiệm $\\to$ Phần tử chính $<$ Số ẩn.\n",
    "\n",
    "    - Có nghiệm duy nhất $\\to$ Phần tử chính $=$ Số ẩn."
   ]
  },
  {
   "cell_type": "markdown",
   "id": "3786b401",
   "metadata": {},
   "source": [
    "- **Định lý Kronecker - Capelli**\n",
    "\n",
    "    - Hệ có nghiệm $\\Leftrightarrow \\text{rank}(A^*) = \\text{rank}(A)$\n",
    "\n",
    "    - Có nghiệm duy nhất $\\to \\text{rank}(A) = $ Số ẩn.\n",
    "\n",
    "    - Vô số nghiệm $\\to \\text{rank}(A) <$ Số ẩn."
   ]
  },
  {
   "cell_type": "markdown",
   "id": "7d2ac9e6",
   "metadata": {},
   "source": [
    "- **Ẩn phụ thuộc** $\\to$ Là ẩn nằm trong cột chứa PTC trong dạng bậc thang (rút gọn).\n",
    "\n",
    "- **Ẩn tự do (độc lập)** $\\to$ Các ẩn còn lại."
   ]
  },
  {
   "cell_type": "markdown",
   "id": "f38d4de3",
   "metadata": {},
   "source": [
    "**Note**\n",
    "\n",
    "- Ta kết luận nghiệm theo kiểu \n",
    "\n",
    "    - $X = (x_1, x_2 , \\ldots , x_n)$.\n",
    "    \n",
    "    - $X = \\begin{pmatrix} x_1 \\\\ x_2 \\\\ \\ldots \\\\ x_n \\end{pmatrix}$.\n",
    "\n",
    "    - $\\begin{cases} x_1 = 1 \\\\ x_2 = 2 \\\\ \\vdots \\\\ x_n = 3 \\end{cases}$\n",
    "\n",
    "- Nghiệm riêng $\\to$ Đề cho sẵn ẩn tự do bằng mấy.\n",
    "\n",
    "- Nghiệm tổng quát $\\to$ Không cho sẵn ẩn tự do bằng mấy."
   ]
  },
  {
   "cell_type": "markdown",
   "id": "2a413f2f",
   "metadata": {},
   "source": [
    "## Thuật toán Gauss"
   ]
  },
  {
   "cell_type": "markdown",
   "id": "e3620d79",
   "metadata": {},
   "source": [
    "B1. Đưa về $A^*$\n",
    "\n",
    "B2. Đưa $A^* \\to (S|c)$ (Bậc thang)\n",
    "\n",
    "B3. (Check tồn tại nghiệm)\n",
    "\n",
    "- Nếu không có nghiệm $\\to$ Kết luận.\n",
    "\n",
    "- Nếu có nghiệm $\\to$ Dạng rút gọn $\\to$ KL nghiệm."
   ]
  }
 ],
 "metadata": {
  "kernelspec": {
   "display_name": "3.13.7",
   "language": "python",
   "name": "python3"
  },
  "language_info": {
   "name": "python",
   "version": "3.13.7"
  }
 },
 "nbformat": 4,
 "nbformat_minor": 5
}
