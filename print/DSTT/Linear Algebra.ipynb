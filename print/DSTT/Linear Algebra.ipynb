{
 "cells": [
  {
   "cell_type": "markdown",
   "id": "d5438ece",
   "metadata": {},
   "source": [
    "# Ma trận"
   ]
  },
  {
   "cell_type": "markdown",
   "id": "887336ee",
   "metadata": {},
   "source": [
    "Đặt $\\mathbb{K} = \\mathbb{Q}, \\mathbb{R}, \\mathbb{C}$\n",
    "\n",
    "và $\\mathbb{N} = \\{1, \\ldots\\}$\n",
    "\n",
    "với $m, n \\in \\mathbb{N}$\n",
    "\n",
    "Ma trận $m \\times n$\n",
    "\n",
    "$$\n",
    "A = \\begin{pmatrix}\n",
    "a_{11} & a_{12} & \\ldots & a_{1n}\n",
    "\\\\\n",
    "a_{21} & a_{22} & \\ldots & a_{2n}\n",
    "\\\\\n",
    "\\vdots & \\vdots & \\ddots & \\vdots\n",
    "\\\\\n",
    "a_{m1} & a_{m2} & \\ldots & a_{mn}\n",
    "\\end{pmatrix}\n",
    "$$\n",
    "\n",
    "Trong đó $a_{ij} \\in \\mathbb{K}$"
   ]
  },
  {
   "cell_type": "markdown",
   "id": "8125a854",
   "metadata": {},
   "source": [
    "## Loại ma trận"
   ]
  },
  {
   "cell_type": "markdown",
   "id": "d716c6ce",
   "metadata": {},
   "source": [
    "- Ma trận hàng.\n",
    "\n",
    "- Ma trận cột.\n",
    "\n",
    "- Ma trận $0$.\n",
    "\n",
    "- Ma trận vuông $\\Leftarrow$ đường chéo.\n",
    "\n",
    "- Ma trận bằng nhau.\n",
    "\n",
    "- $M(m \\times n, \\mathbb{K}) = M_{m \\times n} (\\mathbb{K}) = M_{\\mathbb{K}}(m \\times n) = \\{ A = (a_{ij})_{m \\times n} | a_{ij} \\in \\mathbb{K}\\}$.\n",
    "\n",
    "- Ma trận tam giác trên và Ma trận tam giác dưới, gọi chung là Ma trận tam giác.\n",
    "\n",
    "- Ma trận đường chéo (vừa là mt tam giác trên và dưới).\n",
    "\n",
    "- Ma trận đơn vị."
   ]
  },
  {
   "cell_type": "markdown",
   "id": "8b34b11c",
   "metadata": {},
   "source": [
    "## Phép toán"
   ]
  },
  {
   "cell_type": "markdown",
   "id": "227c3029",
   "metadata": {},
   "source": [
    "### Cộng"
   ]
  },
  {
   "cell_type": "markdown",
   "id": "4bee7e10",
   "metadata": {},
   "source": [
    "$$A + B = (a_j + b_j)_{m \\times n}$$"
   ]
  },
  {
   "cell_type": "markdown",
   "id": "7c56ae0e",
   "metadata": {},
   "source": [
    "### Nhân "
   ]
  },
  {
   "cell_type": "markdown",
   "id": "5f3e903f",
   "metadata": {},
   "source": [
    "#### 1 số với ma trận"
   ]
  },
  {
   "cell_type": "markdown",
   "id": "41bc645d",
   "metadata": {},
   "source": [
    "#### 2 ma trận"
   ]
  },
  {
   "cell_type": "markdown",
   "id": "5bae5117",
   "metadata": {},
   "source": [
    "\n",
    "$$A = (a_{ik})_{m \\times n}, \\: B = (b_{kj})_{n \\times p}$$\n",
    "\n",
    "$$AB = C = (c_{ij})_{m \\times p}$$\n",
    "\n",
    "$$c_{ij} = a_{i1}b_{1j} + a_{i2}b_{2j} + \\ldots + a_{in}b_{nj}$$"
   ]
  },
  {
   "cell_type": "markdown",
   "id": "507cdb56",
   "metadata": {},
   "source": [
    "**Thuật toán**\n",
    "\n",
    "- Check cột $A$ = hàng $B$:\n",
    "\n",
    "    - Nếu không $\\to$ không giải được.\n",
    "\n",
    "    - Nếu có $\\to$ Ma trận đầu ra là ma trận (hàng $A$) $\\times$ (cột $B$) $\\to$ Tính $c_{ij} =$ giao hàng $A$ và cột $B$."
   ]
  },
  {
   "cell_type": "markdown",
   "id": "4f8dff61",
   "metadata": {},
   "source": [
    "**Note** \n",
    "\n",
    "$AB = AC$ và $A \\neq 0$ $\\not\\to B = C$."
   ]
  },
  {
   "cell_type": "markdown",
   "id": "40426f26",
   "metadata": {},
   "source": [
    "#### Ma trận chuyển vị"
   ]
  },
  {
   "cell_type": "markdown",
   "id": "6ba097cc",
   "metadata": {},
   "source": [
    "$$A = (a_{ij})_{m \\times n}$$\n",
    "\n",
    "$$A^T = (a_{ji})_{n \\times m}$$"
   ]
  },
  {
   "cell_type": "markdown",
   "id": "9e724079",
   "metadata": {},
   "source": [
    "## Ma trận bậc thang & ma trận rút gọn"
   ]
  },
  {
   "cell_type": "markdown",
   "id": "c8692e97",
   "metadata": {},
   "source": [
    "### Ma trận bậc thang"
   ]
  },
  {
   "cell_type": "markdown",
   "id": "db8c571f",
   "metadata": {},
   "source": [
    "- Hàng không (nếu có).\n",
    "\n",
    "- Hàng khác không\n",
    "\n",
    "    - Phần tử chính (PTC) $\\to$ PTC bên dưới luôn nằm bên phải PTC bên trên."
   ]
  },
  {
   "cell_type": "markdown",
   "id": "14410e4b",
   "metadata": {},
   "source": [
    "### Ma trận rút gọn"
   ]
  },
  {
   "cell_type": "markdown",
   "id": "be49e22b",
   "metadata": {},
   "source": [
    "- PTC $= 1$\n",
    "\n",
    "- Cột chứa PTC $\\to$ PTC là phần tử $\\neq 0$ duy nhất."
   ]
  },
  {
   "cell_type": "markdown",
   "id": "faeac8d0",
   "metadata": {},
   "source": [
    "## Phép biến đổi"
   ]
  },
  {
   "cell_type": "markdown",
   "id": "fe328a62",
   "metadata": {},
   "source": [
    "- Phép biến đổi sơ cấp, phép biến đổi hàng\n",
    "\n",
    "    - Đổi hàng $h_i \\leftrightarrow h_j$\n",
    "\n",
    "    - Thay thế tỷ lệ $h_i \\leftarrow \\alpha h_i$\n",
    "\n",
    "    - Thay thế hàng $h_i \\leftarrow h_i + k h_j \\quad (j \\neq i)$ "
   ]
  },
  {
   "cell_type": "markdown",
   "id": "02df126d",
   "metadata": {},
   "source": [
    "- Tương đương hàng\n",
    "\n",
    "    - $A \\to \\ldots \\to B$, $B \\sim A$\n",
    "\n",
    "    - $A \\sim A$\n",
    "\n",
    "    - $A \\sim B \\to B \\sim A$\n",
    "\n",
    "    - $A \\sim B, B \\sim C \\to A \\sim C$"
   ]
  },
  {
   "cell_type": "markdown",
   "id": "57a5f832",
   "metadata": {},
   "source": [
    "### Thuật toán cho số phép toán thực hiện nhỏ nhất"
   ]
  },
  {
   "cell_type": "markdown",
   "id": "ac3278ef",
   "metadata": {},
   "source": [
    "![](./pbdsc_algorithm.png)"
   ]
  },
  {
   "cell_type": "markdown",
   "id": "65a6504b",
   "metadata": {},
   "source": [
    "## Hạng"
   ]
  },
  {
   "cell_type": "markdown",
   "id": "36e989a2",
   "metadata": {},
   "source": [
    "$r(A) = rank(A)$ với $A=(a_{ij})_{m \\times n}$"
   ]
  },
  {
   "cell_type": "markdown",
   "id": "6a6f67d9",
   "metadata": {},
   "source": [
    "Số hàng $\\neq 0$ trong **dạng rút gọn** (hoặc **dạng bậc thang**) của $A$ ($A \\sim$ Dạng rút gọn (bậc thang))"
   ]
  },
  {
   "cell_type": "markdown",
   "id": "381f4278",
   "metadata": {},
   "source": [
    "$$\n",
    "0 \\leq rank(A) \\leq \\min \\{ m, n \\}\n",
    "$$"
   ]
  },
  {
   "cell_type": "markdown",
   "id": "4a74e240",
   "metadata": {},
   "source": [
    "## Ma trận khả nghịch"
   ]
  },
  {
   "cell_type": "markdown",
   "id": "4ce84216",
   "metadata": {},
   "source": [
    "$$\n",
    "AB = BA = I_n\n",
    "$$"
   ]
  },
  {
   "cell_type": "markdown",
   "id": "6bb84f87",
   "metadata": {},
   "source": [
    "- Trong đó, $A$ là ma trận vuông cấp $n$\n",
    "\n",
    "- $A$ là **ma trận khả nghịch**.\n",
    "\n",
    "- $B$ là **ma trận nghịch đảo** của $A$.\n",
    "\n",
    "- $B = A^{-1}$.\n",
    "\n",
    "- Nếu tồn tại $B$, $B$ là duy nhất."
   ]
  },
  {
   "cell_type": "markdown",
   "id": "ca8856aa",
   "metadata": {},
   "source": [
    "**Định lý**\n",
    "\n",
    "- $(A^{-1})^{-1} = A$.\n",
    "\n",
    "- $\\alpha A$ khả nghịch và $(\\alpha A)^{-1} = \\frac{1}{\\alpha}A^{-1}$.\n",
    "\n",
    "- $AB$ khả nghịch và $(AB)^{-1} = B^{-1}A^{-1}$.\n",
    "\n",
    "- $A^T$ khả nghịch và $(A^T)^{-1} = (A^{-1})^T$."
   ]
  },
  {
   "cell_type": "markdown",
   "id": "679bc596",
   "metadata": {},
   "source": [
    "**Note**"
   ]
  },
  {
   "cell_type": "markdown",
   "id": "b2600661",
   "metadata": {},
   "source": [
    "- $A^k = A.A...A$\n",
    "    - $A^k$ khả nghịch.\n",
    "  \n",
    "    - $A^{-k} = (A^k)^{-1}$."
   ]
  },
  {
   "cell_type": "markdown",
   "id": "da04e186",
   "metadata": {},
   "source": [
    "### Ma trận sơ cấp"
   ]
  },
  {
   "cell_type": "markdown",
   "id": "64fff0ed",
   "metadata": {},
   "source": [
    "Ta thực hiện 1 phép biến đổi sơ cấp trên $I_n$"
   ]
  },
  {
   "cell_type": "markdown",
   "id": "16835e0c",
   "metadata": {},
   "source": [
    "$$\n",
    "I_n \\overset{e}{\\rightarrow} E\n",
    "$$"
   ]
  },
  {
   "cell_type": "markdown",
   "id": "839b7294",
   "metadata": {},
   "source": [
    "- $E$ đgl **ma trận sơ cấp**\n",
    "\n",
    "- Tồn tại 3 loại ma trận sơ cấp $E$ tương ứng với 3 loại phép biến đổi sơ cấp."
   ]
  },
  {
   "cell_type": "markdown",
   "id": "45b1afa5",
   "metadata": {},
   "source": [
    "$$EA = \\overset{e}{\\leftarrow}A$$\n",
    "\n",
    "- Trong đó $\\overset{e}{\\leftarrow}A$ là ma trận A sau khi đã thực hiện phép biến đổi sơ cấp $e$."
   ]
  },
  {
   "cell_type": "markdown",
   "id": "cc40860e",
   "metadata": {},
   "source": [
    "$$A \\overset{e_1}{\\rightarrow} A_1 \\overset{e_2}{\\rightarrow} A_2 \\ldots \\overset{e_k}{\\rightarrow} D$$\n",
    "\n",
    "Ta được\n",
    "\n",
    "$$\n",
    "\\begin{split}\n",
    "A_1 &= E_1 A \\\\\n",
    "\\\\\n",
    "A_2 &= E_2 A_1 = E_2 E_1 A \\\\\n",
    "& \\vdots\n",
    "\\\\\n",
    "D &= (E_k \\ldots E_1) A\n",
    "\\end{split}\n",
    "$$\n",
    "\n",
    "Mà $A$ KN $\\Leftrightarrow \\: A \\sim I_n$\n",
    "\n",
    "Do đó, \n",
    "\n",
    "$$\n",
    "A \\overset{e_1}{\\rightarrow} \\overset{e_2}{\\rightarrow} \\ldots \\overset{e_k}{\\rightarrow} I_n\n",
    "$$\n",
    "\n",
    "Vậy\n",
    "\n",
    "$$\n",
    "I_n \\overset{e_k}{\\rightarrow} \\overset{e_{k-1}}{\\rightarrow} \\ldots \\overset{e_1}{\\rightarrow} A^{-1}\n",
    "$$\n",
    "\n",
    "Hay\n",
    "\n",
    "$$\n",
    "\\begin{split}\n",
    "I_n &= (E_1 \\ldots E_k) A \\\\\n",
    "\\\\\n",
    "A^{-1} &= (E_1 \\ldots E_k) I_n\n",
    "\\end{split}\n",
    "$$"
   ]
  },
  {
   "cell_type": "markdown",
   "id": "2a178c0f",
   "metadata": {},
   "source": [
    "### Thuật toán tìm ma trận khả nghịch"
   ]
  },
  {
   "cell_type": "markdown",
   "id": "cfa08b5b",
   "metadata": {},
   "source": [
    "Cho $A_{n \\times n}$\n",
    "\n",
    "- B1. Thiết lập $(A | I_n)$\n",
    "\n",
    "- B2. $(A | I_n) \\overset{\\text{Biến đổi thành ma trận rút gọn}}{\\to} (D|B)$\n",
    "\n",
    "    - Nếu $D = I_n$ $\\to A$ khả nghịch và $A^{-1}=B$.\n",
    "\n",
    "    - Nếu $D \\neq I_n$ $\\to A$ không khả nghịch."
   ]
  },
  {
   "cell_type": "markdown",
   "id": "07b7f033",
   "metadata": {},
   "source": [
    "### Tính chất"
   ]
  },
  {
   "cell_type": "markdown",
   "id": "f304ec25",
   "metadata": {},
   "source": [
    "- $A \\in M(n \\times n, \\mathbb{K})$\n",
    "\n",
    "- $A$ khả nghịch.\n",
    "\n",
    "- $r(A) = n$.\n",
    "\n",
    "- $A$ là tích hữu hạn các ma trận sơ cấp \n",
    "\n",
    "    - $I_n = (E_1 \\ldots E_k) A$\n",
    "\n",
    "    - $A = E_{k}^{-1} \\ldots E_1^{-1}$\n",
    "\n",
    "- $AX=B$ có nghiệm duy nhất $\\forall B \\in M(n \\times p, \\mathbb{K})$.\n",
    "\n",
    "- $\\exists B$ ma trận vuông cấp $n$ sao cho $AB=I_n$.\n",
    "\n",
    "- $\\exists C$ ma trận vuông cấp $n$ sao cho $CA = I_n$\n",
    "\n",
    "- $A^T$ khả nghịch."
   ]
  },
  {
   "cell_type": "markdown",
   "id": "66db9183",
   "metadata": {},
   "source": [
    "# Định thức"
   ]
  },
  {
   "cell_type": "markdown",
   "id": "3cdeeaf7",
   "metadata": {},
   "source": [
    "## Phép thế"
   ]
  },
  {
   "cell_type": "markdown",
   "id": "8df52bac",
   "metadata": {},
   "source": [
    "- Cho $X = \\{ 1, 2, \\ldots , n \\}$\n",
    "\n",
    "- Song ánh $\\sigma : X \\to X$ đgl phép thế bậc $n$.\n",
    "\n",
    "$$\n",
    "\\sigma = \n",
    "\\begin{pmatrix}\n",
    "1 & 2 & \\ldots & n \\\\\n",
    "\\sigma(1) & \\sigma(2) & \\ldots & \\sigma(n)\n",
    "\\end{pmatrix}\n",
    "$$\n",
    "\n",
    "- Tập hợp các phép thế bậc $n$ k/h $|S_n|=n!$.\n",
    "\n",
    "$$\n",
    "S_n = \\{ \\sigma : X \\to X | \\sigma \\text{ là song ánh} \\}\n",
    "$$\n",
    "\n",
    "- Phép thế đơn vị\n",
    "\n",
    "- Phép thế sơ cấp\n",
    "\n",
    "- Cấu trúc\n",
    "\n",
    "    - Mỗi phép thế đều phân tích được thành tích của các tích độc lập\n",
    "\n",
    "    - Tích phép thế sơ cấp."
   ]
  },
  {
   "cell_type": "markdown",
   "id": "75ff4bb7",
   "metadata": {},
   "source": [
    "## Dấu"
   ]
  },
  {
   "cell_type": "markdown",
   "id": "5a24f348",
   "metadata": {},
   "source": [
    "$$\n",
    "\\text{sgn}(\\sigma) = \\underset{{1 \\leq i < j \\leq n}}{\\pi} \\frac{\\sigma (i) - \\sigma (j)}{i - j} \\quad \\in \\{ \\pm 1 \\}\n",
    "$$"
   ]
  },
  {
   "cell_type": "markdown",
   "id": "8683cd9d",
   "metadata": {},
   "source": [
    "## Nghịch thế"
   ]
  },
  {
   "cell_type": "markdown",
   "id": "40b9af93",
   "metadata": {},
   "source": [
    "- Là số lượng $\\sigma(i) - \\sigma (j)$ ngược với $i - j$ hay số lượng\n",
    "\n",
    "$$\n",
    "\\frac{\\sigma(i) - \\sigma(j)}{i - j} < 0\n",
    "$$\n",
    "\n",
    "- Nếu số lượng nghịch thế\n",
    "\n",
    "    - Chẳn $\\to \\text{sgn}(\\sigma) = 1$.\n",
    "\n",
    "    - Lẻ $\\to \\text{sgn}(\\sigma) = -1$."
   ]
  },
  {
   "cell_type": "markdown",
   "id": "6fb5e834",
   "metadata": {},
   "source": [
    "- **Note:** Phép thế sơ cấp là phép thế lẻ."
   ]
  },
  {
   "cell_type": "markdown",
   "id": "7344fb1c",
   "metadata": {},
   "source": [
    "## Định thức"
   ]
  },
  {
   "cell_type": "markdown",
   "id": "1819f43b",
   "metadata": {},
   "source": [
    "Cho $A = (a_{ij})_{n \\times n}$\n",
    "\n",
    "$$\n",
    "\\det(A) = |A| = \\sum_{\\sigma \\in S_n} \\text{sgn} (\\sigma) a_{\\sigma (1)1} a_{\\sigma (2)2} \\ldots a_{\\sigma (n) n}\n",
    "$$"
   ]
  },
  {
   "cell_type": "markdown",
   "id": "4fbcf712",
   "metadata": {},
   "source": [
    "- Cấp 2\n",
    "\n",
    "- Cấp 3"
   ]
  },
  {
   "cell_type": "markdown",
   "id": "624ad86c",
   "metadata": {},
   "source": [
    "### Tính chất"
   ]
  },
  {
   "cell_type": "markdown",
   "id": "422f0043",
   "metadata": {},
   "source": [
    "- Đa tuyến tính\n",
    "\n",
    "$$\n",
    "\\det(A_1 \\ldots \\alpha A_j + \\beta A'_j \\ldots A_n) = \\alpha \\det(A_1 \\ldots A_j \\ldots A_n) + \\beta \\det(A_1 \\ldots A'_j \\ldots A_n)\n",
    "$$\n",
    "\n",
    "- Thay phiên\n",
    "\n",
    "$$\n",
    "\\det(A_1 \\ldots A_i \\ldots A_i \\ldots A_n) = 0\n",
    "$$\n",
    "\n",
    "- Chuẩn hoá\n",
    "\n",
    "$$\n",
    "\\det(I_n) = 1\n",
    "$$"
   ]
  },
  {
   "cell_type": "markdown",
   "id": "9fbafeca",
   "metadata": {},
   "source": [
    "### Hệ quả "
   ]
  },
  {
   "cell_type": "markdown",
   "id": "df1fcbf5",
   "metadata": {},
   "source": [
    "- $\\det(A_1 \\ldots A_i \\ldots A_j \\ldots A_n) = \\det(A_1 \\ldots A_i + \\alpha A_j \\ldots A_j \\ldots A_n$.\n",
    "\n",
    "- $\\det(A_1 \\ldots A_i \\ldots \\alpha A_i \\ldots A_n) = 0$.\n",
    "\n",
    "- $\\det(A_1 \\ldots A_i \\ldots A_j \\ldots A_n) = - \\det(A_1 \\ldots A_j \\ldots A_i \\ldots A_n)$\n",
    "\n",
    "    - Đổi chỗ chẳn lần $\\to 1$.\n",
    "    \n",
    "    - Đổi chỗ lẻ lần $\\to -1$."
   ]
  },
  {
   "cell_type": "markdown",
   "id": "d278d179",
   "metadata": {},
   "source": [
    "### Định lý"
   ]
  },
  {
   "cell_type": "markdown",
   "id": "535d206e",
   "metadata": {},
   "source": [
    "- $\\det(A^T) = \\det(A)$.\n",
    "\n",
    "- $\\det(AB) = \\det(A) \\det(B) = \\det(BA)$\n",
    "\n",
    "- $A$ khả nghịch $\\Leftrightarrow \\det(A) \\neq 0$\n",
    "\n",
    "$$\n",
    "\\det(A^{-1}) = \\frac{1}{\\det(A)}\n",
    "$$"
   ]
  },
  {
   "cell_type": "markdown",
   "id": "f0eed90d",
   "metadata": {},
   "source": [
    "### Định thức con và phần bù đại số"
   ]
  },
  {
   "cell_type": "markdown",
   "id": "70228216",
   "metadata": {},
   "source": [
    "$i \\leq k \\leq n$\n",
    "\n",
    "Chọn $1 \\leq i_1 \\leq i_2 \\leq \\ldots \\leq i_k \\leq n$ và $1 \\leq j_1 \\leq j_2 \\leq \\ldots \\leq j_k \\leq n$"
   ]
  },
  {
   "cell_type": "markdown",
   "id": "00290639",
   "metadata": {},
   "source": [
    "- $D_{i_1 \\ldots i_k}^{j_1 \\ldots j_k}$ là định thức con.\n",
    "\n",
    "- $\\overline{D}_{i_1 \\ldots i_k}^{j_1 \\ldots j_k}$\n",
    "\n",
    "    - Đgl phần bù của $D_{i_1 \\ldots i_k}^{j_1 \\ldots j_k}$. \n",
    "\n",
    "    - Ma trận sau khi bỏ hàng $i_k$ và cột $j_k$ từ $D_{i_1 \\ldots i_k}^{j_1 \\ldots j_k}$."
   ]
  },
  {
   "cell_type": "markdown",
   "id": "b69cd555",
   "metadata": {},
   "source": [
    "- Lấy theo cột, $1 \\leq j_1 \\leq j_2 \\leq \\ldots \\leq j_k \\leq n$\n",
    "\n",
    "$$\n",
    "\\det (A) = \\sum_{1 \\leq i_1 \\leq i_2 \\leq \\ldots \\leq i_k \\leq n} (-1)^{i_1 + \\ldots + i_k + j_1 + \\ldots + j_k} D_{i_1 \\ldots i_k}^{j_1 \\ldots j_k} \\overline{D}_{i_1 \\ldots i_k}^{j_1 \\ldots j_k}\n",
    "$$"
   ]
  },
  {
   "cell_type": "markdown",
   "id": "30658acc",
   "metadata": {},
   "source": [
    "- Lấy theo hàng, $1 \\leq i_1 \\leq i_2 \\leq \\ldots \\leq i_k \\leq n$\n",
    "\n",
    "$$\n",
    "\\det (A) = \\sum_{1 \\leq j_1 \\leq j_2 \\leq \\ldots \\leq j_k \\leq n} (-1)^{i_1 + \\ldots + i_k + j_1 + \\ldots + j_k} D_{i_1 \\ldots i_k}^{j_1 \\ldots j_k} \\overline{D}_{i_1 \\ldots i_k}^{j_1 \\ldots j_k}\n",
    "$$"
   ]
  },
  {
   "cell_type": "markdown",
   "id": "a5271ab0",
   "metadata": {},
   "source": [
    "- **Note**\n",
    "    \n",
    "    - Ưu tiên chọn cột (hoặc hàng) nhiều $0$.\n",
    "\n",
    "    - Nếu không có $0 \\to$ kết hợp các tính chất, định lý và hệ quả trước đó $\\to$ sinh ra $0$."
   ]
  }
 ],
 "metadata": {
  "kernelspec": {
   "display_name": "3.13.7",
   "language": "python",
   "name": "python3"
  },
  "language_info": {
   "name": "python",
   "version": "3.13.7"
  }
 },
 "nbformat": 4,
 "nbformat_minor": 5
}
