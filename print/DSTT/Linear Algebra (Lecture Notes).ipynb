{
 "cells": [
  {
   "cell_type": "markdown",
   "id": "d5438ece",
   "metadata": {},
   "source": [
    "# Ma trận"
   ]
  },
  {
   "cell_type": "markdown",
   "id": "887336ee",
   "metadata": {},
   "source": [
    "Đặt $\\mathbb{K} = \\mathbb{Q}, \\mathbb{R}, \\mathbb{C}$\n",
    "\n",
    "và $\\mathbb{N} = \\{1, \\ldots\\}$\n",
    "\n",
    "với $m, n \\in \\mathbb{N}$\n",
    "\n",
    "Ma trận $m \\times n$\n",
    "\n",
    "$$\n",
    "A = \\begin{pmatrix}\n",
    "a_{11} & a_{12} & \\ldots & a_{1n}\n",
    "\\\\\n",
    "a_{21} & a_{22} & \\ldots & a_{2n}\n",
    "\\\\\n",
    "\\vdots & \\vdots & \\ddots & \\vdots\n",
    "\\\\\n",
    "a_{m1} & a_{m2} & \\ldots & a_{mn}\n",
    "\\end{pmatrix}\n",
    "$$\n",
    "\n",
    "Trong đó $a_{ij} \\in \\mathbb{K}$"
   ]
  },
  {
   "cell_type": "markdown",
   "id": "8125a854",
   "metadata": {},
   "source": [
    "## Loại ma trận"
   ]
  },
  {
   "cell_type": "markdown",
   "id": "d716c6ce",
   "metadata": {},
   "source": [
    "- Ma trận hàng.\n",
    "\n",
    "- Ma trận cột.\n",
    "\n",
    "- Ma trận $0$.\n",
    "\n",
    "- Ma trận vuông $\\Leftarrow$ đường chéo.\n",
    "\n",
    "- Ma trận bằng nhau.\n",
    "\n",
    "- $M(m \\times n, \\mathbb{K}) = M_{m \\times n} (\\mathbb{K}) = M_{\\mathbb{K}}(m \\times n) = \\{ A = (a_{ij})_{m \\times n} | a_{ij} \\in \\mathbb{K}\\}$.\n",
    "\n",
    "- Ma trận tam giác trên và Ma trận tam giác dưới, gọi chung là Ma trận tam giác.\n",
    "\n",
    "- Ma trận đường chéo (vừa là mt tam giác trên và dưới).\n",
    "\n",
    "- Ma trận đơn vị."
   ]
  },
  {
   "cell_type": "markdown",
   "id": "8b34b11c",
   "metadata": {},
   "source": [
    "## Phép toán"
   ]
  },
  {
   "cell_type": "markdown",
   "id": "227c3029",
   "metadata": {},
   "source": [
    "### Cộng"
   ]
  },
  {
   "cell_type": "markdown",
   "id": "4bee7e10",
   "metadata": {},
   "source": [
    "$$A + B = (a_j + b_j)_{m \\times n}$$"
   ]
  },
  {
   "cell_type": "markdown",
   "id": "7c56ae0e",
   "metadata": {},
   "source": [
    "### Nhân "
   ]
  },
  {
   "cell_type": "markdown",
   "id": "5f3e903f",
   "metadata": {},
   "source": [
    "#### 1 số với ma trận"
   ]
  },
  {
   "cell_type": "markdown",
   "id": "41bc645d",
   "metadata": {},
   "source": [
    "#### 2 ma trận"
   ]
  },
  {
   "cell_type": "markdown",
   "id": "5bae5117",
   "metadata": {},
   "source": [
    "\n",
    "$$A = (a_{ik})_{m \\times n}, \\: B = (b_{kj})_{n \\times p}$$\n",
    "\n",
    "$$AB = C = (c_{ij})_{m \\times p}$$\n",
    "\n",
    "$$c_{ij} = a_{i1}b_{1j} + a_{i2}b_{2j} + \\ldots + a_{in}b_{nj}$$"
   ]
  },
  {
   "cell_type": "markdown",
   "id": "507cdb56",
   "metadata": {},
   "source": [
    "**Thuật toán**\n",
    "\n",
    "- Check cột $A$ = hàng $B$:\n",
    "\n",
    "    - Nếu không $\\to$ không giải được.\n",
    "\n",
    "    - Nếu có $\\to$ Ma trận đầu ra là ma trận (hàng $A$) $\\times$ (cột $B$) $\\to$ Tính $c_{ij} =$ giao hàng $A$ và cột $B$."
   ]
  },
  {
   "cell_type": "markdown",
   "id": "4f8dff61",
   "metadata": {},
   "source": [
    "**Note** \n",
    "\n",
    "$AB = AC$ và $A \\neq 0$ $\\not\\to B = C$."
   ]
  },
  {
   "cell_type": "markdown",
   "id": "40426f26",
   "metadata": {},
   "source": [
    "#### Ma trận chuyển vị"
   ]
  },
  {
   "cell_type": "markdown",
   "id": "6ba097cc",
   "metadata": {},
   "source": [
    "$$A = (a_{ij})_{m \\times n}$$\n",
    "\n",
    "$$A^T = (a_{ji})_{n \\times m}$$"
   ]
  },
  {
   "cell_type": "markdown",
   "id": "9e724079",
   "metadata": {},
   "source": [
    "## Ma trận bậc thang & ma trận rút gọn"
   ]
  },
  {
   "cell_type": "markdown",
   "id": "c8692e97",
   "metadata": {},
   "source": [
    "### Ma trận bậc thang"
   ]
  },
  {
   "cell_type": "markdown",
   "id": "db8c571f",
   "metadata": {},
   "source": [
    "- Hàng không (nếu có).\n",
    "\n",
    "- Hàng khác không\n",
    "\n",
    "    - Phần tử chính (PTC) $\\to$ PTC bên dưới luôn nằm bên phải PTC bên trên."
   ]
  },
  {
   "cell_type": "markdown",
   "id": "14410e4b",
   "metadata": {},
   "source": [
    "### Ma trận rút gọn"
   ]
  },
  {
   "cell_type": "markdown",
   "id": "be49e22b",
   "metadata": {},
   "source": [
    "- PTC $= 1$\n",
    "\n",
    "- Cột chứa PTC $\\to$ PTC là phần tử $\\neq 0$ duy nhất."
   ]
  },
  {
   "cell_type": "markdown",
   "id": "faeac8d0",
   "metadata": {},
   "source": [
    "## Phép biến đổi"
   ]
  },
  {
   "cell_type": "markdown",
   "id": "fe328a62",
   "metadata": {},
   "source": [
    "- Phép biến đổi sơ cấp, phép biến đổi hàng\n",
    "\n",
    "    - Đổi hàng $h_i \\leftrightarrow h_j$\n",
    "\n",
    "    - Thay thế tỷ lệ $h_i \\leftarrow \\alpha h_i$\n",
    "\n",
    "    - Thay thế hàng $h_i \\leftarrow h_i + k h_j \\quad (j \\neq i)$ "
   ]
  },
  {
   "cell_type": "markdown",
   "id": "02df126d",
   "metadata": {},
   "source": [
    "- Tương đương hàng\n",
    "\n",
    "    - $A \\to \\ldots \\to B$, $B \\sim A$\n",
    "\n",
    "    - $A \\sim A$\n",
    "\n",
    "    - $A \\sim B \\to B \\sim A$\n",
    "\n",
    "    - $A \\sim B, B \\sim C \\to A \\sim C$"
   ]
  },
  {
   "cell_type": "markdown",
   "id": "57a5f832",
   "metadata": {},
   "source": [
    "### Thuật toán cho số phép toán thực hiện nhỏ nhất"
   ]
  },
  {
   "cell_type": "markdown",
   "id": "ac3278ef",
   "metadata": {},
   "source": [
    "![](./pbdsc_algorithm.png)"
   ]
  },
  {
   "cell_type": "markdown",
   "id": "65a6504b",
   "metadata": {},
   "source": [
    "## Hạng"
   ]
  },
  {
   "cell_type": "markdown",
   "id": "36e989a2",
   "metadata": {},
   "source": [
    "$$r(A) = \\text{rank}(A) \\text{ với } A=(a_{ij})_{m \\times n}$$"
   ]
  },
  {
   "cell_type": "markdown",
   "id": "6a6f67d9",
   "metadata": {},
   "source": [
    "- Số hàng $\\neq 0$ trong **dạng rút gọn** (hoặc **dạng bậc thang**) của $A$ ($A \\sim$ Dạng rút gọn (bậc thang))"
   ]
  },
  {
   "cell_type": "markdown",
   "id": "381f4278",
   "metadata": {},
   "source": [
    "$$\n",
    "0 \\leq \\text{rank}(A) \\leq \\min \\{ m, n \\}\n",
    "$$"
   ]
  },
  {
   "cell_type": "markdown",
   "id": "4a74e240",
   "metadata": {},
   "source": [
    "## Ma trận khả nghịch"
   ]
  },
  {
   "cell_type": "markdown",
   "id": "4ce84216",
   "metadata": {},
   "source": [
    "$$\n",
    "AB = BA = I_n\n",
    "$$"
   ]
  },
  {
   "cell_type": "markdown",
   "id": "6bb84f87",
   "metadata": {},
   "source": [
    "- Trong đó, $A$ là ma trận vuông cấp $n$\n",
    "\n",
    "- $A$ là **ma trận khả nghịch**.\n",
    "\n",
    "- $B$ là **ma trận nghịch đảo** của $A$.\n",
    "\n",
    "- $B = A^{-1}$.\n",
    "\n",
    "- Nếu tồn tại $B$, $B$ là duy nhất."
   ]
  },
  {
   "cell_type": "markdown",
   "id": "ca8856aa",
   "metadata": {},
   "source": [
    "**Định lý**\n",
    "\n",
    "- $(A^{-1})^{-1} = A$.\n",
    "\n",
    "- $\\alpha A$ khả nghịch và $(\\alpha A)^{-1} = \\frac{1}{\\alpha}A^{-1}$.\n",
    "\n",
    "- $AB$ khả nghịch và $(AB)^{-1} = B^{-1}A^{-1}$.\n",
    "\n",
    "- $A^T$ khả nghịch và $(A^T)^{-1} = (A^{-1})^T$."
   ]
  },
  {
   "cell_type": "markdown",
   "id": "679bc596",
   "metadata": {},
   "source": [
    "**Note**"
   ]
  },
  {
   "cell_type": "markdown",
   "id": "b2600661",
   "metadata": {},
   "source": [
    "- $A^k = A.A...A$\n",
    "    - $A^k$ khả nghịch.\n",
    "  \n",
    "    - $A^{-k} = (A^k)^{-1}$."
   ]
  },
  {
   "cell_type": "markdown",
   "id": "da04e186",
   "metadata": {},
   "source": [
    "### Ma trận sơ cấp"
   ]
  },
  {
   "cell_type": "markdown",
   "id": "64fff0ed",
   "metadata": {},
   "source": [
    "- Ta thực hiện 1 phép biến đổi sơ cấp trên $I_n$"
   ]
  },
  {
   "cell_type": "markdown",
   "id": "16835e0c",
   "metadata": {},
   "source": [
    "$$\n",
    "I_n \\overset{e}{\\rightarrow} E\n",
    "$$"
   ]
  },
  {
   "cell_type": "markdown",
   "id": "839b7294",
   "metadata": {},
   "source": [
    "- $E$ đgl **ma trận sơ cấp**\n",
    "\n",
    "- Tồn tại 3 loại ma trận sơ cấp $E$ tương ứng với 3 loại phép biến đổi sơ cấp."
   ]
  },
  {
   "cell_type": "markdown",
   "id": "45b1afa5",
   "metadata": {},
   "source": [
    "$$EA = \\overset{e}{\\leftarrow}A$$\n",
    "\n",
    "- Trong đó $\\overset{e}{\\leftarrow}A$ là ma trận A sau khi đã thực hiện phép biến đổi sơ cấp $e$."
   ]
  },
  {
   "cell_type": "markdown",
   "id": "cc40860e",
   "metadata": {},
   "source": [
    "$$A \\overset{e_1}{\\rightarrow} A_1 \\overset{e_2}{\\rightarrow} A_2 \\ldots \\overset{e_k}{\\rightarrow} D$$\n",
    "\n",
    "Ta được\n",
    "\n",
    "$$\n",
    "\\begin{split}\n",
    "A_1 &= E_1 A \\\\\n",
    "\\\\\n",
    "A_2 &= E_2 A_1 = E_2 E_1 A \\\\\n",
    "& \\vdots\n",
    "\\\\\n",
    "D &= (E_k \\ldots E_1) A\n",
    "\\end{split}\n",
    "$$\n",
    "\n",
    "Mà $A$ KN $\\Leftrightarrow \\: A \\sim I_n$\n",
    "\n",
    "Do đó, \n",
    "\n",
    "$$\n",
    "A \\overset{e_1}{\\rightarrow} \\overset{e_2}{\\rightarrow} \\ldots \\overset{e_k}{\\rightarrow} I_n\n",
    "$$\n",
    "\n",
    "Vậy\n",
    "\n",
    "$$\n",
    "I_n \\overset{e_k}{\\rightarrow} \\overset{e_{k-1}}{\\rightarrow} \\ldots \\overset{e_1}{\\rightarrow} A^{-1}\n",
    "$$\n",
    "\n",
    "Hay\n",
    "\n",
    "$$\n",
    "\\begin{split}\n",
    "I_n &= (E_1 \\ldots E_k) A \\\\\n",
    "\\\\\n",
    "A^{-1} &= (E_1 \\ldots E_k) I_n\n",
    "\\end{split}\n",
    "$$"
   ]
  },
  {
   "cell_type": "markdown",
   "id": "2a178c0f",
   "metadata": {},
   "source": [
    "### Thuật toán tìm ma trận khả nghịch"
   ]
  },
  {
   "cell_type": "markdown",
   "id": "cfa08b5b",
   "metadata": {},
   "source": [
    "Cho $A_{n \\times n}$\n",
    "\n",
    "- B1. Thiết lập $(A | I_n)$\n",
    "\n",
    "- B2. $(A | I_n) \\overset{\\text{Biến đổi thành ma trận rút gọn}}{\\to} (D|B)$\n",
    "\n",
    "    - Nếu $D = I_n$ $\\to A$ khả nghịch và $A^{-1}=B$.\n",
    "\n",
    "    - Nếu $D \\neq I_n$ $\\to A$ không khả nghịch."
   ]
  },
  {
   "cell_type": "markdown",
   "id": "07b7f033",
   "metadata": {},
   "source": [
    "### Tính chất"
   ]
  },
  {
   "cell_type": "markdown",
   "id": "f304ec25",
   "metadata": {},
   "source": [
    "- $A \\in M(n \\times n, \\mathbb{K})$\n",
    "\n",
    "- $A$ khả nghịch.\n",
    "\n",
    "- $r(A) = n$.\n",
    "\n",
    "- $A$ là tích hữu hạn các ma trận sơ cấp \n",
    "\n",
    "    - $I_n = (E_1 \\ldots E_k) A$\n",
    "\n",
    "    - $A = E_{k}^{-1} \\ldots E_1^{-1}$\n",
    "\n",
    "- $AX=B$ có nghiệm duy nhất $\\forall B \\in M(n \\times p, \\mathbb{K})$.\n",
    "\n",
    "- $\\exists B$ ma trận vuông cấp $n$ sao cho $AB=I_n$.\n",
    "\n",
    "- $\\exists C$ ma trận vuông cấp $n$ sao cho $CA = I_n$\n",
    "\n",
    "- $A^T$ khả nghịch."
   ]
  },
  {
   "cell_type": "markdown",
   "id": "66db9183",
   "metadata": {},
   "source": [
    "# Định thức"
   ]
  },
  {
   "cell_type": "markdown",
   "id": "1ba5b792",
   "metadata": {},
   "source": [
    "## Nền tảng"
   ]
  },
  {
   "cell_type": "markdown",
   "id": "3cdeeaf7",
   "metadata": {},
   "source": [
    "### Phép thế"
   ]
  },
  {
   "cell_type": "markdown",
   "id": "8df52bac",
   "metadata": {},
   "source": [
    "- Cho $X = \\{ 1, 2, \\ldots , n \\}$\n",
    "\n",
    "- Song ánh $\\sigma : X \\to X$ đgl phép thế bậc $n$.\n",
    "\n",
    "$$\n",
    "\\sigma = \n",
    "\\begin{pmatrix}\n",
    "1 & 2 & \\ldots & n \\\\\n",
    "\\sigma(1) & \\sigma(2) & \\ldots & \\sigma(n)\n",
    "\\end{pmatrix}\n",
    "$$\n",
    "\n",
    "- Tập hợp các phép thế bậc $n$ k/h $|S_n|=n!$.\n",
    "\n",
    "$$\n",
    "S_n = \\{ \\sigma : X \\to X | \\sigma \\text{ là song ánh} \\}\n",
    "$$\n",
    "\n",
    "- Phép thế đơn vị\n",
    "\n",
    "- Phép thế sơ cấp\n",
    "\n",
    "- Cấu trúc\n",
    "\n",
    "    - Mỗi phép thế đều phân tích được thành tích của các tích độc lập\n",
    "\n",
    "    - Tích phép thế sơ cấp."
   ]
  },
  {
   "cell_type": "markdown",
   "id": "75ff4bb7",
   "metadata": {},
   "source": [
    "### Dấu"
   ]
  },
  {
   "cell_type": "markdown",
   "id": "5a24f348",
   "metadata": {},
   "source": [
    "$$\n",
    "\\text{sgn}(\\sigma) = \\underset{{1 \\leq i < j \\leq n}}{\\pi} \\frac{\\sigma (i) - \\sigma (j)}{i - j} \\quad \\in \\{ \\pm 1 \\}\n",
    "$$"
   ]
  },
  {
   "cell_type": "markdown",
   "id": "8683cd9d",
   "metadata": {},
   "source": [
    "### Nghịch thế"
   ]
  },
  {
   "cell_type": "markdown",
   "id": "40b9af93",
   "metadata": {},
   "source": [
    "- Là số lượng $\\sigma(i) - \\sigma (j)$ ngược với $i - j$ hay số lượng\n",
    "\n",
    "$$\n",
    "\\frac{\\sigma(i) - \\sigma(j)}{i - j} < 0\n",
    "$$\n",
    "\n",
    "- Nếu số lượng nghịch thế\n",
    "\n",
    "    - Chẳn $\\to \\text{sgn}(\\sigma) = 1$.\n",
    "\n",
    "    - Lẻ $\\to \\text{sgn}(\\sigma) = -1$."
   ]
  },
  {
   "cell_type": "markdown",
   "id": "6fb5e834",
   "metadata": {},
   "source": [
    "- **Note:** Phép thế sơ cấp là phép thế lẻ."
   ]
  },
  {
   "cell_type": "markdown",
   "id": "7344fb1c",
   "metadata": {},
   "source": [
    "## Công thức"
   ]
  },
  {
   "cell_type": "markdown",
   "id": "1819f43b",
   "metadata": {},
   "source": [
    "- Cho $A = (a_{ij})_{n \\times n}$\n",
    "\n",
    "$$\n",
    "\\det(A) = |A| = \\sum_{\\sigma \\in S_n} \\text{sgn} (\\sigma) a_{\\sigma (1)1} a_{\\sigma (2)2} \\ldots a_{\\sigma (n) n}\n",
    "$$"
   ]
  },
  {
   "cell_type": "markdown",
   "id": "4fbcf712",
   "metadata": {},
   "source": [
    "- Cấp 2\n",
    "\n",
    "- Cấp 3"
   ]
  },
  {
   "cell_type": "markdown",
   "id": "c37814a0",
   "metadata": {},
   "source": [
    "## Tính chất - hệ quả - định lý"
   ]
  },
  {
   "cell_type": "markdown",
   "id": "624ad86c",
   "metadata": {},
   "source": [
    "### Tính chất"
   ]
  },
  {
   "cell_type": "markdown",
   "id": "422f0043",
   "metadata": {},
   "source": [
    "- Đa tuyến tính\n",
    "\n",
    "$$\n",
    "\\det(A_1 \\ldots \\alpha A_j + \\beta A'_j \\ldots A_n) = \\alpha \\det(A_1 \\ldots A_j \\ldots A_n) + \\beta \\det(A_1 \\ldots A'_j \\ldots A_n)\n",
    "$$\n",
    "\n",
    "- Thay phiên\n",
    "\n",
    "$$\n",
    "\\det(A_1 \\ldots A_i \\ldots A_i \\ldots A_n) = 0\n",
    "$$\n",
    "\n",
    "- Chuẩn hoá\n",
    "\n",
    "$$\n",
    "\\det(I_n) = 1\n",
    "$$"
   ]
  },
  {
   "cell_type": "markdown",
   "id": "9fbafeca",
   "metadata": {},
   "source": [
    "### Hệ quả "
   ]
  },
  {
   "cell_type": "markdown",
   "id": "df1fcbf5",
   "metadata": {},
   "source": [
    "- $\\det(A_1 \\ldots A_i \\ldots A_j \\ldots A_n) = \\det(A_1 \\ldots A_i + \\alpha A_j \\ldots A_j \\ldots A_n$.\n",
    "\n",
    "- $\\det(A_1 \\ldots A_i \\ldots \\alpha A_i \\ldots A_n) = 0$.\n",
    "\n",
    "- $\\det(A_1 \\ldots A_i \\ldots A_j \\ldots A_n) = - \\det(A_1 \\ldots A_j \\ldots A_i \\ldots A_n)$\n",
    "\n",
    "    - Đổi chỗ chẳn lần $\\to 1$.\n",
    "    \n",
    "    - Đổi chỗ lẻ lần $\\to -1$."
   ]
  },
  {
   "cell_type": "markdown",
   "id": "d278d179",
   "metadata": {},
   "source": [
    "### Định lý"
   ]
  },
  {
   "cell_type": "markdown",
   "id": "535d206e",
   "metadata": {},
   "source": [
    "- $\\det(A^T) = \\det(A)$.\n",
    "\n",
    "- $\\det(AB) = \\det(A) \\det(B) = \\det(BA)$\n",
    "\n",
    "- $A$ khả nghịch $\\Leftrightarrow \\det(A) \\neq 0$\n",
    "\n",
    "$$\n",
    "\\det(A^{-1}) = \\frac{1}{\\det(A)}\n",
    "$$"
   ]
  },
  {
   "cell_type": "markdown",
   "id": "f0eed90d",
   "metadata": {},
   "source": [
    "## Định thức con và phần bù đại số"
   ]
  },
  {
   "cell_type": "markdown",
   "id": "70228216",
   "metadata": {},
   "source": [
    "$i \\leq k \\leq n$\n",
    "\n",
    "Chọn $1 \\leq i_1 \\leq i_2 \\leq \\ldots \\leq i_k \\leq n$ và $1 \\leq j_1 \\leq j_2 \\leq \\ldots \\leq j_k \\leq n$"
   ]
  },
  {
   "cell_type": "markdown",
   "id": "00290639",
   "metadata": {},
   "source": [
    "- $D_{i_1 \\ldots i_k}^{j_1 \\ldots j_k}$ là định thức con.\n",
    "\n",
    "- $\\overline{D_{i_1 \\ldots i_k}^{j_1 \\ldots j_k}}$\n",
    "\n",
    "    - Đgl phần bù của $D_{i_1 \\ldots i_k}^{j_1 \\ldots j_k}$. \n",
    "\n",
    "    - Ma trận sau khi bỏ hàng $i_k$ và cột $j_k$ từ $D_{i_1 \\ldots i_k}^{j_1 \\ldots j_k}$."
   ]
  },
  {
   "cell_type": "markdown",
   "id": "b69cd555",
   "metadata": {},
   "source": [
    "- Lấy theo cột, $1 \\leq j_1 \\leq j_2 \\leq \\ldots \\leq j_k \\leq n$\n",
    "\n",
    "$$\n",
    "\\det (A) = \\sum_{1 \\leq i_1 \\leq i_2 \\leq \\ldots \\leq i_k \\leq n} (-1)^{i_1 + \\ldots + i_k + j_1 + \\ldots + j_k} D_{i_1 \\ldots i_k}^{j_1 \\ldots j_k} \\overline{D_{i_1 \\ldots i_k}^{j_1 \\ldots j_k}}\n",
    "$$"
   ]
  },
  {
   "cell_type": "markdown",
   "id": "0d9ddba0",
   "metadata": {},
   "source": [
    "Với $k=1$,\n",
    "\n",
    "$$\n",
    "\\det(A) = (-1)^{1+j} a_{1j} \\overline{D_1^j} + (-1)^{2+j} a_{2j} \\overline{D_2^j} + \\ldots + (-1)^{n+j} a_{nj} \\overline{D_n^j} = \\sum_{i=1}^n (-1)^{i+j} a_{ij} \\overline{D_i^j}\n",
    "$$"
   ]
  },
  {
   "cell_type": "markdown",
   "id": "30658acc",
   "metadata": {},
   "source": [
    "- Lấy theo hàng, $1 \\leq i_1 \\leq i_2 \\leq \\ldots \\leq i_k \\leq n$\n",
    "\n",
    "$$\n",
    "\\det (A) = \\sum_{1 \\leq j_1 \\leq j_2 \\leq \\ldots \\leq j_k \\leq n} (-1)^{i_1 + \\ldots + i_k + j_1 + \\ldots + j_k} D_{i_1 \\ldots i_k}^{j_1 \\ldots j_k} \\overline{D_{i_1 \\ldots i_k}^{j_1 \\ldots j_k}}\n",
    "$$"
   ]
  },
  {
   "cell_type": "markdown",
   "id": "844c981d",
   "metadata": {},
   "source": [
    "Với $k=1$,\n",
    "\n",
    "$$\n",
    "\\det(A) = (-1)^{i+1} a_{i1} \\overline{D_i^1} + (-1)^{i+2} a_{i2} \\overline{D_i^2} + \\ldots + (-1)^{i+n} a_{in} \\overline{D_i^n} = \\sum_{j=1}^n (-1)^{i+j} a_{ij} \\overline{D_i^j}\n",
    "$$"
   ]
  },
  {
   "cell_type": "markdown",
   "id": "a5271ab0",
   "metadata": {},
   "source": [
    "- **Note**\n",
    "    \n",
    "    - Ưu tiên chọn cột (hoặc hàng) nhiều $0$. Nếu không có $0 \\to$ kết hợp các tính chất, định lý và hệ quả trước đó $\\to$ sinh ra $0$.\n",
    "\n",
    "    - Không được dùng $h_i \\leftarrow \\alpha h_i$ ($h_i \\leftrightarrow h_j$ hay $c_i \\leftrightarrow c_j$ thì nhớ hệ quả đổi dấu).\n",
    "\n",
    "    - Chọn cột để biến đổi thành \"$0 \\ldots 1$\" thì dùng phép biến đổi trên hàng và ngược lại."
   ]
  },
  {
   "cell_type": "markdown",
   "id": "3e2dfced",
   "metadata": {},
   "source": [
    "## Ứng dụng"
   ]
  },
  {
   "cell_type": "markdown",
   "id": "37ffb1d5",
   "metadata": {},
   "source": [
    "### Khả nghịch"
   ]
  },
  {
   "cell_type": "markdown",
   "id": "45604542",
   "metadata": {},
   "source": [
    "- $A$ khả nghịch thì\n",
    "\n",
    "$$\n",
    "A^{-1} = \\frac{1}{\\det(A)} (\\text{adj} (A))^T = \\frac{1}{\\det(A)} C^T\n",
    "$$"
   ]
  },
  {
   "cell_type": "markdown",
   "id": "94694504",
   "metadata": {},
   "source": [
    "trong đó, $A$ ma trận vuông cấp $n$ và"
   ]
  },
  {
   "cell_type": "markdown",
   "id": "d5c5353a",
   "metadata": {},
   "source": [
    "$$\n",
    "\\text{adj}(A) = C =\n",
    "\\begin{pmatrix}\n",
    "c_{11} & c_{12} & \\ldots & c_{1n} \\\\\n",
    "c_{21} & c_{22} & \\ldots & c_{2n} \\\\\n",
    "\\vdots & \\vdots & \\ddots & \\vdots \\\\\n",
    "c_{n1} & c_{n2} & \\ldots & c_{nn}\n",
    "\\end{pmatrix}\n",
    "= \\text{cof}(A) \n",
    "$$"
   ]
  },
  {
   "cell_type": "markdown",
   "id": "e0dc1e2a",
   "metadata": {},
   "source": [
    "trong đó, $c_{ij}$ là phần bù đại số của $a_{ij}$"
   ]
  },
  {
   "cell_type": "markdown",
   "id": "37ba79ee",
   "metadata": {},
   "source": [
    "$$\n",
    "c_{ij} = (-1)^{i+j} \\overline{D_i^j}\n",
    "$$"
   ]
  },
  {
   "cell_type": "markdown",
   "id": "1b4aac75",
   "metadata": {},
   "source": [
    "**Thuật toán xác định ma trận khả nghịch và tìm ma trận nghịch đảo bằng định thức**"
   ]
  },
  {
   "cell_type": "markdown",
   "id": "99f10242",
   "metadata": {},
   "source": [
    "B1. Tính $c$ trên hàng (hoặc cột)\n",
    "\n",
    "B2. Áp dụng công thức tính $\\det(A)$ trên hàng (hoặc cột) bằng công thức \n",
    "\n",
    "$$\\det(A) = a_{11} c_{11} + \\ldots + a_{1n}c_{1n}$$\n",
    "\n",
    "B3. (Check khả nghịch)\n",
    "\n",
    "- Nếu $\\det(A) = 0 \\to$ không khả nghịch và kết thúc. \n",
    "- Nếu $\\det(A) \\neq 0 \\to A$ khả nghịch và chuyển sang bước 4 (nếu cần tính ma trận nghịc đảo)\n",
    "\n",
    "B4. Tính hết tất cả $c$ còn lại $\\to \\text{adj} (A) = C$\n",
    "\n",
    "B5. Tìm $A^{-1}$ bằng công thức\n",
    "\n",
    "$$\n",
    "A^{-1} = \\frac{1}{\\det(A)} (\\text{adj} (A))^T = \\frac{1}{\\det(A)} C^T\n",
    "$$"
   ]
  },
  {
   "cell_type": "markdown",
   "id": "06961e55",
   "metadata": {},
   "source": [
    "### Hạng"
   ]
  },
  {
   "cell_type": "markdown",
   "id": "d0493b86",
   "metadata": {},
   "source": [
    "**Thuật toán xác định hạng của ma trận bằng định thức**"
   ]
  },
  {
   "cell_type": "markdown",
   "id": "cf9c4f8e",
   "metadata": {},
   "source": [
    "B1. Tính định thức cấp $1,2,\\ldots,n$\n",
    "\n",
    "B2. (Kết luận hạng)\n",
    "\n",
    "- Nếu định thức cấp $i \\neq 0 \\to$ (hàng (hoặc cột) độc lập tuyến tính $\\to$ dạng bậc thang $100\\%$ có $n$ hàng $\\neq 0$) $\\to \\text{rank} (A) \\geq i$ \n",
    "\n",
    "- Nếu định thức cấp $i = 0 \\to \\text{rank} (A) = i$"
   ]
  },
  {
   "cell_type": "markdown",
   "id": "9148036c",
   "metadata": {},
   "source": [
    "# Hệ phương trình tuyến tính"
   ]
  },
  {
   "cell_type": "markdown",
   "id": "49ec420d",
   "metadata": {},
   "source": [
    "- $m, n \\in \\mathbb{N}$, trong đó, $m$ phương trình, $n$ ẩn, ta có hệ phương trình tuyến tính tổng quát (1)"
   ]
  },
  {
   "cell_type": "markdown",
   "id": "c5e2e75a",
   "metadata": {},
   "source": [
    "$$\n",
    "\\begin{cases}\n",
    "a_{11}x_{1} + a_{12}x_{2} + \\cdots + a_{1n}x_{n} = b_{1} \\\\\n",
    "a_{21}x_{1} + a_{22}x_{2} + \\cdots + a_{2n}x_{n} = b_{2} \\\\\n",
    "\\quad \\vdots \\\\\n",
    "a_{m1}x_{1} + a_{m2}x_{2} + \\cdots + a_{mn}x_{n} = b_{m}\n",
    "\\end{cases}\n",
    "$$"
   ]
  },
  {
   "cell_type": "markdown",
   "id": "4a78fe77",
   "metadata": {},
   "source": [
    "- trong đó\n",
    "\n",
    "    - $a_{ij}$ là hệ số.\n",
    "\n",
    "    - $b_i$ là hệ số tự do.\n",
    "\n",
    "    - $x_j$ là ẩn của hệ.\n",
    "\n",
    "- Bộ số $(c_1, c_2, \\ldots , c_n)$ là nghiệm của (1) nếu thay vào (1) thoả tất cả phương trình.\n",
    "\n",
    "- Giải hệ (1) $\\to$ tìm tập nghiệm của (1).\n",
    "\n",
    "- Hệ pt có nghiệm đgl hệ tương thích."
   ]
  },
  {
   "cell_type": "markdown",
   "id": "5e8068db",
   "metadata": {},
   "source": [
    "- Ma trận hệ số của (1)\n",
    "\n",
    "$$\n",
    "A = \\begin{pmatrix}\n",
    "a_{11} & a_{12} & \\cdots & a_{1n} \\\\\n",
    "a_{21} & a_{22} & \\cdots & a_{2n} \\\\\n",
    "\\vdots & \\vdots & \\ddots & \\vdots \\\\\n",
    "a_{m1} & a_{m2} & \\cdots & a_{mn}\n",
    "\\end{pmatrix}\n",
    "$$"
   ]
  },
  {
   "cell_type": "markdown",
   "id": "2134c0f0",
   "metadata": {},
   "source": [
    "- Cột ẩn\n",
    "\n",
    "$$\n",
    "X = \\begin{pmatrix}\n",
    "x_{1} \\\\\n",
    "x_{2} \\\\\n",
    "\\vdots \\\\\n",
    "x_{n}\n",
    "\\end{pmatrix}\n",
    "$$"
   ]
  },
  {
   "cell_type": "markdown",
   "id": "510330c2",
   "metadata": {},
   "source": [
    "- Cột hệ số tự do\n",
    "\n",
    "$$\n",
    "b = \\begin{pmatrix}\n",
    "b_{1} \\\\\n",
    "b_{2} \\\\\n",
    "\\vdots \\\\\n",
    "b_{m}\n",
    "\\end{pmatrix}\n",
    "$$"
   ]
  },
  {
   "cell_type": "markdown",
   "id": "3e8cbe61",
   "metadata": {},
   "source": [
    "- Ta viết gọn\n",
    "\n",
    "$$\n",
    "AX = b\n",
    "$$"
   ]
  },
  {
   "cell_type": "markdown",
   "id": "12857979",
   "metadata": {},
   "source": [
    "- Ma trận đầy đủ (ma trận bổ sung) k/h\n",
    "\n",
    "$$\n",
    "A^* = (A | b)\n",
    "$$"
   ]
  },
  {
   "cell_type": "markdown",
   "id": "53f517fe",
   "metadata": {},
   "source": [
    "## Sự tồn tại và tính duy nhất"
   ]
  },
  {
   "cell_type": "markdown",
   "id": "32f642e3",
   "metadata": {},
   "source": [
    "- $A^* = (A|b) \\to (S|c)$, trong đó $S$ là dạng bậc thang (hoặc dạng rút gọn) của ma trận $A^*$"
   ]
  },
  {
   "cell_type": "markdown",
   "id": "a4a70afb",
   "metadata": {},
   "source": [
    "- **Điều kiện nghiệm:**\n",
    "\n",
    "    - Vô nghiệm $\\to \\exists$ hàng có dạng $(0 \\ldots 0 | c), \\: c_i \\neq 0$.\n",
    "\n",
    "    - Vô số nghiệm $\\to$ Phần tử chính $<$ Số ẩn.\n",
    "\n",
    "    - Có nghiệm duy nhất $\\to$ Phần tử chính $=$ Số ẩn."
   ]
  },
  {
   "cell_type": "markdown",
   "id": "3786b401",
   "metadata": {},
   "source": [
    "- **Định lý Kronecker - Capelli**\n",
    "    \n",
    "    - Hệ vô nghiệm $\\Leftrightarrow \\text{rank}(A) < \\text{rank}(A^*).$\n",
    "\n",
    "    - Hệ có nghiệm $\\Leftrightarrow \\text{rank}(A) = \\text{rank}(A^*)$:\n",
    "\n",
    "        - Có nghiệm duy nhất $\\to \\text{rank}(A) =$ Số ẩn.\n",
    "\n",
    "        - Vô số nghiệm $\\to \\text{rank}(A) <$ Số ẩn."
   ]
  },
  {
   "cell_type": "markdown",
   "id": "7d2ac9e6",
   "metadata": {},
   "source": [
    "- **Ẩn phụ thuộc** $\\to$ Là ẩn nằm trong cột chứa PTC trong dạng bậc thang (rút gọn).\n",
    "\n",
    "- **Ẩn tự do (độc lập)** $\\to$ Các ẩn còn lại."
   ]
  },
  {
   "cell_type": "markdown",
   "id": "f38d4de3",
   "metadata": {},
   "source": [
    "**Note**\n",
    "\n",
    "- Ta kết luận nghiệm theo kiểu \n",
    "\n",
    "    - $X = (x_1, x_2 , \\ldots , x_n)$.\n",
    "    \n",
    "    - $X = \\begin{pmatrix} x_1 \\\\ x_2 \\\\ \\vdots \\\\ x_n \\end{pmatrix}$.\n",
    "\n",
    "    - $\\begin{cases} x_1 = 1 \\\\ x_2 = 2 \\\\ \\vdots \\\\ x_n = 3 \\end{cases}$\n",
    "\n",
    "- Nghiệm riêng $\\to$ Đề cho sẵn ẩn tự do bằng mấy.\n",
    "\n",
    "- Nghiệm tổng quát $\\to$ Không cho sẵn ẩn tự do bằng mấy."
   ]
  },
  {
   "cell_type": "markdown",
   "id": "2a413f2f",
   "metadata": {},
   "source": [
    "## Thuật toán Gauss"
   ]
  },
  {
   "cell_type": "markdown",
   "id": "e3620d79",
   "metadata": {},
   "source": [
    "B1. Đưa về $A^*$\n",
    "\n",
    "B2. Đưa $A^* \\to (S|c)$ (Bậc thang)\n",
    "\n",
    "B3. (Check tồn tại nghiệm)\n",
    "\n",
    "- Nếu không có nghiệm $\\to$ Kết luận.\n",
    "\n",
    "- Nếu có nghiệm $\\to$ Dạng rút gọn $\\to$ KL nghiệm."
   ]
  },
  {
   "cell_type": "markdown",
   "id": "24aaa205",
   "metadata": {},
   "source": [
    "## Quy tắc Cramer"
   ]
  },
  {
   "cell_type": "markdown",
   "id": "4e286c3d",
   "metadata": {},
   "source": [
    "- Hệ $AX=b$ đgl **Hệ Cramer** nếu\n",
    "\n",
    "    - $A$ vuông\n",
    "\n",
    "    - $A$ Khả nghịch"
   ]
  },
  {
   "cell_type": "markdown",
   "id": "9b945ff2",
   "metadata": {},
   "source": [
    "Do đó,"
   ]
  },
  {
   "cell_type": "markdown",
   "id": "d5cf8b74",
   "metadata": {},
   "source": [
    "$$\n",
    "\\begin{split}\n",
    "X &= A^{-1} b \\\\\n",
    "\\begin{pmatrix} x_1 \\\\ x_2 \\\\ \\vdots \\\\ x_n \\end{pmatrix} &= \\frac{1}{\\det(A)} C^T \\begin{pmatrix}\n",
    "b_{1} \\\\\n",
    "b_{2} \\\\\n",
    "\\vdots \\\\\n",
    "b_{m}\n",
    "\\end{pmatrix}\n",
    "\\end{split}\n",
    "$$"
   ]
  },
  {
   "cell_type": "markdown",
   "id": "e482c0b3",
   "metadata": {},
   "source": [
    "hay $1 \\leq j \\leq n$"
   ]
  },
  {
   "cell_type": "markdown",
   "id": "100680eb",
   "metadata": {},
   "source": [
    "$$\n",
    "\\begin{split}\n",
    "x_j &= \\frac{1}{\\det (A)} (b_1 c_{1j} + b_2 c_{2j} + \\ldots + b_n c_{nj}) \\\\\n",
    "A_j(b) &= \\begin{pmatrix}\n",
    "a_{11} & \\cdots & b_1 & a_{1n} \\\\\n",
    "a_{21} & \\cdots & b_2 & a_{2n} \\\\\n",
    "\\vdots & \\vdots & \\ddots & \\vdots \\\\\n",
    "a_{m1} & \\cdots & b_m & a_{mn}\n",
    "\\end{pmatrix}\n",
    "\\end{split}\n",
    "$$"
   ]
  },
  {
   "cell_type": "markdown",
   "id": "1e79b5de",
   "metadata": {},
   "source": [
    "Do đó ta có"
   ]
  },
  {
   "cell_type": "markdown",
   "id": "f1f7ef1a",
   "metadata": {},
   "source": [
    "$$\n",
    "D_j = \\det (A_j (b)) = b_1 c_{1j} + \\ldots + b_m c_{mj}\n",
    "$$"
   ]
  },
  {
   "cell_type": "markdown",
   "id": "dbf86769",
   "metadata": {},
   "source": [
    "nghiệm của hệ là"
   ]
  },
  {
   "cell_type": "markdown",
   "id": "28cadfe7",
   "metadata": {},
   "source": [
    "$$\n",
    "x_j = \\frac{D_j}{D}, \\quad 1 \\leq j \\leq n\n",
    "$$"
   ]
  },
  {
   "cell_type": "markdown",
   "id": "ce7890be",
   "metadata": {},
   "source": [
    "- **Điều kiện nghiệm:**\n",
    "\n",
    "    - Nghiệm duy nhất $x_j = \\frac{D_j}{D} \\to D \\neq 0$.\n",
    "\n",
    "    - Vô nghiệm $\\to D = 0 \\land \\exists D_j \\neq 0$.\n",
    "\n",
    "    - Không kết luật gì về tương thích hệ $\\to D = 0 \\land \\forall D_j = 0$."
   ]
  },
  {
   "cell_type": "markdown",
   "id": "15c2f9ae",
   "metadata": {},
   "source": [
    "**Thuật toán tìm nghiệm của hệ bằng quy tắc Cramer**"
   ]
  },
  {
   "cell_type": "markdown",
   "id": "5beb5706",
   "metadata": {},
   "source": [
    "B1. Tìm $D$ và $D_j, \\: 1 \\leq j \\leq n$ \n",
    "\n",
    "B2. (Check điều kiện nghiệm)\n",
    "\n",
    "- Nếu $D \\neq 0 \\to$ KL nghiệm duy nhất $x_j = \\frac{D_j}{D}, 1 \\leq j \\leq n \\to$ Kết thúc.\n",
    "\n",
    "- Nếu $D = 0 \\to$ Sang bước tiếp theo\n",
    "\n",
    "B3. (Check trường hợp)\n",
    "\n",
    "- Nếu $\\exists D_j \\neq 0 \\to$ KL vô nghiệm $\\to$ Kết thúc.\n",
    "\n",
    "- Nếu $\\forall D_j = 0 \\to$ KL rằng ta không kết luật gì về tương thích hệ $\\to$ Kết thúc."
   ]
  },
  {
   "cell_type": "markdown",
   "id": "cb8995cd",
   "metadata": {},
   "source": [
    "**Note**\n",
    "\n",
    "- Nếu đề hỏi tìm tham số sao cho hệ có nghiệm thì ta tìm trường hợp vô số và nghiệm duy nhất."
   ]
  },
  {
   "cell_type": "markdown",
   "id": "963b5dc2",
   "metadata": {},
   "source": [
    "## Hệ thuần nhất"
   ]
  },
  {
   "cell_type": "markdown",
   "id": "a5de691c",
   "metadata": {},
   "source": [
    "- Hệ thuần nhất là hệ (2) như sau"
   ]
  },
  {
   "cell_type": "markdown",
   "id": "d197c366",
   "metadata": {},
   "source": [
    "$$\n",
    "AX = 0\n",
    "$$"
   ]
  },
  {
   "cell_type": "markdown",
   "id": "7b61ffdd",
   "metadata": {},
   "source": [
    "- Nghiệm tầm thường $\\to X = 0 \\to \\text{rank}(A) = n$.\n",
    "\n",
    "- Vô số nghiệm phụ thuộc vào $n - \\text{rank}(A) \\to \\text{rank}(A) < n$."
   ]
  },
  {
   "cell_type": "markdown",
   "id": "2d5af5c3",
   "metadata": {},
   "source": [
    "- **Nhận xét**\n",
    "\n",
    "    - Nếu $x = (x_1, x_2, \\ldots , x_n)$ là nghiệm của (2) $\\to tx = (tx_1, tx_2, \\ldots , t x_n)$ là nghiệm của (2). \n",
    "\n",
    "    - Nếu $x = (x_1, x_2, \\ldots , x_n)$ và $y = (y_1, y_2, \\ldots , y_n)$ là nghiệm của (2) $\\to x+ y = (x_1 + y_1, x_2 + y_2, \\ldots , x_n + y_n)$ là nghiệm của (2).\n",
    "\n",
    "    - $A$ có $m <n \\to$ Vô số nghiệm."
   ]
  },
  {
   "cell_type": "markdown",
   "id": "f3cc5056",
   "metadata": {},
   "source": [
    "# Không gian Vector"
   ]
  },
  {
   "cell_type": "markdown",
   "id": "cb475266",
   "metadata": {},
   "source": [
    "- $V \\neq \\varnothing$ đgl 1 **không gian vector** $\\Rightarrow$ được trang bị 2 phép toán:\n",
    "  \n",
    "    - Cộng vector $+\\colon V\\times V \\longrightarrow V, \\quad (u,v)\\longmapsto u+v.$\n",
    "  \n",
    "    - Nhân vô hướng $\\cdot \\colon \\mathbb{K} \\times V \\longrightarrow V,\\quad (\\alpha, u) \\longmapsto \\alpha u.$\n",
    "\n",
    "- Thoả mãn các tiên đề sau:\n",
    "\n",
    "$$\n",
    "\\begin{split}\n",
    "&(1) \\quad (u + v) + w = u + (v + w), \\quad \\forall u,v,w \\in V \\\\\n",
    "&(2) \\quad u+v=v+u,\\quad \\forall u,v \\in V \\\\\n",
    "&(3) \\quad \\exists 0 \\in V : u+0=u,\\quad \\forall u \\in V \\\\\n",
    "&(4) \\quad \\forall u \\in X,\\: \\exists u' \\in V:u+u'=0 \\\\\n",
    "&(5) \\quad \\alpha (u + v) = \\alpha u + \\alpha v,\\quad \\forall \\alpha \\in \\mathbb{K}, \\forall u, v \\in V \\\\\n",
    "&(6) \\quad (\\alpha + \\beta)u=\\alpha u+\\beta u,\\quad \\forall \\alpha ,\\beta \\in \\mathbb{K},\\forall u \\in V \\\\\n",
    "&(7) \\quad \\alpha (\\beta u) = (\\alpha \\beta)u,\\quad \\alpha , \\beta \\in \\mathbb{K},\\forall u \\in V\\\\\n",
    "&(8) \\quad 1u = u,\\quad \\forall u \\in V\n",
    "\\end{split}\n",
    "$$\n",
    "\n",
    "- **Note**:\n",
    "\n",
    "    - **$\\mathbb{K}$-Không gian vector** $\\leftrightarrow$ Không gian vector trên trường $\\mathbb{K}$.\n",
    "\n",
    "    - $V$ là không gian vector trên trường $\\mathbb{K} \\leftrightarrow v \\in V$ là 1 **vector**.\n",
    "    \n",
    "    - $\\alpha \\in \\mathbb{K} \\to$ đgl 1 **vô hướng**.\n",
    "\n",
    "    - $0$ trong $(3) \\to$ đgl **vector 0**.\n",
    "    - $\\forall u \\in V, u'$ trong $(4) \\to$ đgl vector đối của vector $u, \\quad u'=-u$. "
   ]
  },
  {
   "cell_type": "markdown",
   "id": "68060c60",
   "metadata": {},
   "source": [
    "## Tính chất"
   ]
  },
  {
   "cell_type": "markdown",
   "id": "d5c13321",
   "metadata": {},
   "source": [
    "Cho $V$ là 1 không gian vector"
   ]
  },
  {
   "cell_type": "markdown",
   "id": "c20954a0",
   "metadata": {},
   "source": [
    "- Vector 0 là duy nhất.\n",
    "- $\\forall u \\in V, \\: -u$ là duy nhất.\n",
    "\n",
    "    - $u-v=u+(-v).$\n",
    "\n",
    "- Giản ước: \n",
    "\n",
    "    - $u+w = v+w \\Rightarrow u=v.$\n",
    "\n",
    "    - $u+v=w \\Rightarrow u = w-v.$\n",
    "\n",
    "- $\\alpha u = 0 \\Rightarrow \\alpha = 0 \\lor u=0.$\n",
    "\n",
    "- $(- \\alpha )u=\\alpha (-u) = -(\\alpha u).$\n",
    "\n",
    "- $\\forall u \\in V, \\forall \\alpha \\in \\mathbb{K}$ ($0$ bên dưới là vector 0)\n",
    "\n",
    "    - $0u=0.$\n",
    "\n",
    "    - $\\alpha 0=0.$"
   ]
  },
  {
   "cell_type": "markdown",
   "id": "8b193989",
   "metadata": {},
   "source": [
    "- **Note**:\n",
    "\n",
    "    - Để c/m **tính duy nhất** $\\to$ ta c/m cả 2 thoả cùng 1 tính chất."
   ]
  },
  {
   "cell_type": "markdown",
   "id": "66c80ed0",
   "metadata": {},
   "source": [
    "## Ví dụ minh hoạ"
   ]
  },
  {
   "cell_type": "markdown",
   "id": "a27ca0ed",
   "metadata": {},
   "source": [
    "- **VD1**\n",
    "\n",
    "$V=\\{$ Vector tự do trong mặt phẳng $\\},+,.$ là 1 không gian vector.\n",
    "\n",
    "- **VD2**\n",
    "\n",
    "$\\mathbb{R}^2 = \\{ (x,y) | x,y \\in \\mathbb{R} \\}$\n",
    "\n",
    "$(x,y)+(x'+y')=(x+x',y+y')$\n",
    "\n",
    "$\\alpha (x,y) = (\\alpha x, \\alpha y)$\n",
    "\n",
    "là 1 không gian vector.\n",
    "\n",
    "- **VD3**\n",
    "\n",
    "$n \\geq 1, \\: \\mathbb{K}^n =\\{ (x_1, \\ldots ,x_n) | x_i \\in \\mathbb{K} \\}$\n",
    "\n",
    "$(x_1, \\ldots ,x_n)+(y_1,\\ldots ,y_n)=(x_1+y_1,\\ldots ,x_n+y_n)$\n",
    "\n",
    "$\\alpha (x_1,\\ldots ,x_n) = (\\alpha x_1, \\ldots ,\\alpha x_n)$\n",
    "\n",
    "là 1 không gian vector.\n",
    "\n",
    "- **VD4**\n",
    "\n",
    "$M(m \\times n, \\mathbb{K}),+,.$ là không gian vector.\n",
    "\n",
    "- **VD5**\n",
    "\n",
    "$\\mathbb{K}[x]$ là tập các đa thức biến $x$ hệ số trong $\\mathbb{K}$. $\\mathbb{K}[x]$ là không gian vector trên $\\mathbb{K}$ với phép cộng các đa thức và phép nhân 1 số với đa thức. ($0$ là đa thức không)\n",
    "\n",
    "- **VD6**\n",
    "\n",
    "Tập các hàm thực xác định trên $\\mathbb{R}$ là $\\mathbb{R}$-Không gian vector với\n",
    "\n",
    "$(f+g)(x) = f(x) + g(x)$\n",
    "\n",
    "$(\\alpha f)(x) = \\alpha f(x)$\n",
    "\n",
    "- **VD7**\n",
    "\n",
    "$\\mathbb{K}$ là 1 không gian vector với các phép toán thông thường trên $\\mathbb{R},\\: \\mathbb{Q},\\: \\mathbb{R},\\: \\mathbb{C}.$\n",
    "\n",
    "- **VD8**\n",
    "\n",
    "$(\\mathbb{R} \\times \\mathbb{R} \\to \\mathbb{R}, \\quad \\mathbb{Q} \\times \\mathbb{R} \\to \\mathbb{R}) \\to \\mathbb{R}$ là $\\mathbb{Q}$-không gian vector."
   ]
  },
  {
   "cell_type": "markdown",
   "id": "b78b7ee6",
   "metadata": {},
   "source": [
    "## Độc lập tuyến tính $\\&$ phụ thuộc tuyến tính"
   ]
  },
  {
   "cell_type": "markdown",
   "id": "cbd00c93",
   "metadata": {},
   "source": [
    "Cho $S \\subset V$ với $V$ là không gian vector."
   ]
  },
  {
   "cell_type": "markdown",
   "id": "ce9dd866",
   "metadata": {},
   "source": [
    "### Tổ hợp tuyến tính"
   ]
  },
  {
   "cell_type": "markdown",
   "id": "c0421df4",
   "metadata": {},
   "source": [
    "- **Tổ hợp tuyến tính** của các vector trong $S$ là tổng hữu hạn\n",
    "\n",
    "$$\n",
    "a_1u_1+a_2u_2+\\ldots +a_nu_n, \\quad a_i\\in \\mathbb{K},u_i\\in S.\n",
    "$$"
   ]
  },
  {
   "cell_type": "markdown",
   "id": "1c5f2654",
   "metadata": {},
   "source": [
    "### Biểu thị tuyến tính"
   ]
  },
  {
   "cell_type": "markdown",
   "id": "4b85f431",
   "metadata": {},
   "source": [
    "- Cho $v\\in V$, **Biểu thị tuyến tính** là\n",
    "\n",
    "$$\n",
    "v = \\alpha _1u_1 + \\alpha _2u_2 +\\ldots + \\alpha _k u_k,\\quad \\alpha _k \\in \\mathbb{K},u_k \\in S.\n",
    "$$"
   ]
  },
  {
   "cell_type": "markdown",
   "id": "9bb2e5c8",
   "metadata": {},
   "source": [
    "- **VDMH**\n",
    "\n",
    "$\\mathbb{R}^3=S=\\{ x_1=(1,2,1), v_2=(1,2,3), u_3=(2,4,1) \\}, v=(1,2,2), w=(0,0-3)$, $v$ và $w$ biểu thị tuyến tính được qua $S$ không?\n",
    "\n",
    "$v = x_1u_1+x_2u_2+x_3u_3$\n",
    "\n",
    "$(1,2,3)=x_1($"
   ]
  },
  {
   "cell_type": "markdown",
   "id": "7178ea2d",
   "metadata": {},
   "source": [
    "### Phụ thuộc tuyến tính"
   ]
  },
  {
   "cell_type": "markdown",
   "id": "a42ae88a",
   "metadata": {},
   "source": [
    "- $S$ là **phụ thuộc tuyến tính** nếu\n",
    "\n",
    "$$\\exists (\\alpha _1, \\alpha _2, \\ldots , \\alpha _k) \\neq (0,\\ldots 0)\\: |\\: \\alpha _1u_1 + \\alpha _2u_2 + \\ldots + \\alpha _ku_k = 0, \\quad u_i\\in S.$$"
   ]
  },
  {
   "cell_type": "markdown",
   "id": "ff3da09a",
   "metadata": {},
   "source": [
    "### Độc lập tuyến tính"
   ]
  },
  {
   "cell_type": "markdown",
   "id": "9bdd3125",
   "metadata": {},
   "source": [
    "- $S$ là **độc lập tuyến tính** nếu không phụ thuộc tuyến tính, hay\n",
    "\n",
    "$$\n",
    "(\\alpha _1u_1 + \\alpha _2u_2 + \\ldots + \\alpha _ku_k = 0) \\Rightarrow (\\alpha _1 = \\alpha _2 = \\ldots = \\alpha _k = 0) \\to \\text{ Nghiệm tầm thường}.\n",
    "$$"
   ]
  },
  {
   "cell_type": "markdown",
   "id": "4f3606a1",
   "metadata": {},
   "source": [
    "### VDMH"
   ]
  },
  {
   "cell_type": "markdown",
   "id": "1ce579d5",
   "metadata": {},
   "source": [
    "- **VD1**\n",
    "\n",
    "Trong không gian $\\mathbb{R}^3, S = \\{ u_1 = (1,2,-1), u_2=(\\sim \\sim \\sim), u_3 = (\\sim \\sim \\sim)\\}$\n",
    "\n",
    "Xét $\\alpha _1u_1 + \\alpha _2u_2 + \\alpha _3u_3 = 0$\n",
    "\n",
    "$\\alpha _1 (1,2,1)+ \\alpha _2 (\\sim \\sim \\sim) + \\alpha _3 (\\sim \\sim \\sim) = 0$\n",
    "\n",
    "$\\begin{cases} \\alpha _1 + 2 \\alpha _2+3\\alpha _3 = 0 \\\\ \\sim \\sim \\sim =0\\\\ \\sim \\sim \\sim=0\\end{cases} \\Rightarrow A = \\begin{pmatrix} \\sim \\sim \\sim \\\\ \\sim \\sim \\sim \\\\ \\sim \\sim \\sim \\end{pmatrix} \\Rightarrow \\text{ Vô số nghiệm} \\Rightarrow \\text{ Phụ thuộc tuyến tính}.$\n",
    "\n",
    "- **VD2**\n",
    "\n",
    "Trong không gian $\\mathbb{R}[x], S = \\{ P_1 = 1+x+x^3, P_2 = 1+x+x^2, P_3=1+x, P_4=x+x^3 \\}$\n",
    "\n",
    "Xét $x_1P_1 +x_2P_2 +x_3P_3 =0$\n",
    "\n",
    "$x_1(1+x+x^3) + x_2(\\sim \\sim \\sim) + x_3(\\sim \\sim \\sim)=0$\n",
    "\n",
    "$\\begin{cases} x_1 + x_2 +x_3 = 0 \\\\ \\sim \\sim \\sim =0\\\\ \\sim \\sim \\sim=0\\\\ \\sim \\sim \\sim=0\\end{cases} \\Rightarrow \\text{ Có nghiệm } (0,0,0,0) \\Rightarrow \\text{ Độc lập tuyến tính}.$\n",
    "\n",
    "(Note: HPT ở trên được lập ra dựa trên bậc, tức mỗi cột tương ứng với bậc)"
   ]
  },
  {
   "cell_type": "markdown",
   "id": "9121f7e7",
   "metadata": {},
   "source": [
    "### Tính chất"
   ]
  },
  {
   "cell_type": "markdown",
   "id": "ee3b42db",
   "metadata": {},
   "source": [
    "- Hệ chỉ gồm 1 vector $\\{ u \\}$ phụ thuộc tuyến tính $\\Leftrightarrow u =0$.\n",
    "\n",
    "- $S$ phụ thuộc tuyến tính\n",
    "  \n",
    "    - $\\Rightarrow$ Mọi hệ chứa $S$ phụ thuộc tuyến tính.\n",
    "    - $\\Rightarrow$ Mọi hệ vector chứa vector $0$ đều phụ thuộc tuyến tính.\n",
    "\n",
    "- $S$ phụ thuộc tuyến tính, $S' \\supset S \\Rightarrow S'$ phụ thuộc tuyến tính. \n",
    "\n",
    "- Hệ vô hạn vector $S$ độc lập tuyến tính $\\Leftrightarrow$ Hệ con hữu hạn của $S$ độc lập tuyến tính."
   ]
  },
  {
   "cell_type": "markdown",
   "id": "71f8f684",
   "metadata": {},
   "source": [
    "### Định lý"
   ]
  },
  {
   "cell_type": "markdown",
   "id": "1093d95c",
   "metadata": {},
   "source": [
    "- Cho $S = \\{ u_1 , u_2 \\ldots , u_k \\}, \\: k \\geq 2$, $S$ **phụ thuộc tuyến tính**\n",
    "\n",
    "$$\\Leftrightarrow \\exists u_i, 1 \\leq i \\leq k \\: | \\: u_i = \\alpha _1u_1 + \\ldots + \\widehat{\\alpha _iu_i} + \\ldots + \\alpha _k u_k.$$"
   ]
  },
  {
   "cell_type": "markdown",
   "id": "878c9dcd",
   "metadata": {},
   "source": [
    "- **Cách làm bài tìm tổ hợp tuyến tính**\n",
    "\n",
    "    - B1. Xử lý đến khi ra được hệ phương trình tuyến tính\n",
    "\n",
    "    - B2. Giải ra nghiệm \n",
    "\n",
    "    - B3. Cho $1$ ẩn $\\neq 0 \\to$ Thu được tổ hợp tuyến tính (VD. $u_1+u_2+u_3 = \\sim \\to u_1 = \\sim$)"
   ]
  },
  {
   "cell_type": "markdown",
   "id": "ffb1ec2b",
   "metadata": {},
   "source": [
    "- Cho $S = \\{ u_1 , u_2 \\ldots , u_k \\}, \\: k \\geq 2, u_i \\neq 0$ , $S$ **phụ thuộc tuyến tính**\n",
    "\n",
    "$$\n",
    "\\Leftrightarrow \\exists u_i, \\: 2 \\leq i \\leq k \\: | \\: u_i = \\alpha _1 u_1+\\ldots +\\alpha _{i-1}u_{i-1}.\n",
    "$$\n",
    "\n",
    "(Hơn nữa, có thể chọn $i$ sao cho $\\{ u_1 , \\ldots , u_{i-1} \\}$ độc lập tuyến tính. (Định lý giúp tìm tập hợp độc lập tuyến tính lớn nhất trong 1 tập))"
   ]
  },
  {
   "cell_type": "markdown",
   "id": "00c78e40",
   "metadata": {},
   "source": [
    "## Cơ sở và số chiều"
   ]
  },
  {
   "cell_type": "markdown",
   "id": "c90ef3d9",
   "metadata": {},
   "source": [
    "Cho $V$ là $\\mathbb{K}$-Không gian vector và $B \\subset V$."
   ]
  },
  {
   "cell_type": "markdown",
   "id": "43d3f25f",
   "metadata": {},
   "source": [
    "### Hệ sinh"
   ]
  },
  {
   "cell_type": "markdown",
   "id": "9fe475e3",
   "metadata": {},
   "source": [
    "- Mọi vector trong $V$ biểu thị tuyến tính được qua $B \\Rightarrow$ Hệ vector $B$ đgl **hệ sinh (tập sinh)** của $V$."
   ]
  },
  {
   "cell_type": "markdown",
   "id": "cf5ce44a",
   "metadata": {},
   "source": [
    "### Cơ sở"
   ]
  },
  {
   "cell_type": "markdown",
   "id": "cc905103",
   "metadata": {},
   "source": [
    "- $\\begin{cases} B \\text{ Hệ sinh của } V \\\\ B \\text{ Độc lập tuyến tính} \\end{cases} \\Rightarrow$ Hệ vector $B$ là **Cơ sở** của $V$.\n",
    "\n",
    "- Note:\n",
    "\n",
    "    - $\\mathbb{K}$-không gian vector, $\\mathbb{C}$-không gian vector có 1 cơ sở là $\\{ 1 \\}$.\n",
    "\n",
    "    - $\\mathbb{C}$ là $\\mathbb{R}$-không gian vector. $z=a+bi=a1+bi \\Rightarrow \\{ 1,i \\}$ là 1 hệ sinh. $a+bi=0 \\Leftrightarrow a=0=b \\Rightarrow \\{ 1,i \\}$ là độc lập tuyến tính.\n",
    "\n",
    "    - $\\mathbb{R}$ là $\\mathbb{R}$-không gian vector với cơ sở là $\\{ 1 \\}$.\n",
    "\n",
    "    - $\\mathbb{R}$ là $\\mathbb{Q}$-không gian vector với cở sở là vô hạn."
   ]
  },
  {
   "cell_type": "markdown",
   "id": "51ec01c5",
   "metadata": {},
   "source": [
    "#### VDMH\n",
    "\n",
    "- **VD1**\n",
    "\n",
    "$\\mathbb{K}^n, \\varepsilon = \\{ e_1, e_2, \\ldots , e_k \\}$, trong đó $e_1=(0,\\ldots ,1, \\ldots ,0)$\n",
    "\n",
    "$\\forall x \\in \\mathbb{K}^n,x=(x_1,x_2,\\ldots,x_n)=x_1e_1 + x_2e_2 + \\ldots + x_ne_n$\n",
    "\n",
    "$\\Rightarrow \\varepsilon$ là 1 hệ sinh của $\\mathbb{K}^n$ (*)\n",
    "\n",
    "$x_1e_1 + x_2e_2 + \\ldots + x_ne_n = 0 \\Leftrightarrow (x_1, \\ldots , x_n)=(0,\\ldots ,0) \\Rightarrow x_1=x_2=\\ldots =0$\n",
    "\n",
    "$\\Rightarrow \\varepsilon$ độc lập tuyến tính (**)\n",
    "\n",
    "Từ (*)(**) $\\Rightarrow \\varepsilon$ là 1 cơ sở của $\\mathbb{K}^n$ (và là cơ sở chính tắc của $\\mathbb{K}^n$).\n",
    "\n",
    "- **VD2**\n",
    "\n",
    "$M(m\\times n, \\mathbb{K}), \\varepsilon = \\{ E_{ij}\\}_{i=1,m}^{j=1,m}$ trong đó $E_{ij}= \\begin{pmatrix} & \\vdots & \\\\ \\ldots & 1 & \\ldots \\\\ & \\vdots & \\end{pmatrix}$. (C/m tương tự) $\\Rightarrow \\varepsilon$ là $1$ cơ sở của $M(m\\times n, \\mathbb{K}).$\n",
    "\n",
    "- **VD3**\n",
    "\n",
    "$\\mathbb{K}[x], \\varepsilon = \\{1,x,x^2,\\ldots ,x^n, \\ldots \\}.$\n",
    "\n",
    "- **VD4**\n",
    "\n",
    "$\\mathbb{K}_n[x], \\varepsilon = \\{ 1, x, \\ldots , x^n \\}.$"
   ]
  },
  {
   "cell_type": "markdown",
   "id": "ed0a0357",
   "metadata": {},
   "source": [
    "### Độc lập tuyến tính cực đại"
   ]
  },
  {
   "cell_type": "markdown",
   "id": "38de912a",
   "metadata": {},
   "source": [
    "Cho $S = \\{ u_1, u_2, \\ldots , u_n \\} \\subset V$"
   ]
  },
  {
   "cell_type": "markdown",
   "id": "fa0428fd",
   "metadata": {},
   "source": [
    "- Nếu $\\begin{cases} S \\text{ Độc lập tuyến tính} \\\\ S \\varsubsetneq S', S' \\text{ Phụ thuộc tuyến tính} \\end{cases} \\Rightarrow S$ **Độc lập tuyến tính cực đại**."
   ]
  },
  {
   "cell_type": "markdown",
   "id": "4f4c9820",
   "metadata": {},
   "source": [
    "#### Định lý"
   ]
  },
  {
   "cell_type": "markdown",
   "id": "939283e8",
   "metadata": {},
   "source": [
    "Cho $S = \\{ u_1, u_2, \\ldots , u_m \\}$"
   ]
  },
  {
   "cell_type": "markdown",
   "id": "9b3c2623",
   "metadata": {},
   "source": [
    "- Cho $S \\subset V$, các mệnh đề sau là $\\Leftrightarrow$:\n",
    "\n",
    "    - Hệ $S$ là 1 **Cơ sở** của $V$.\n",
    "\n",
    "    - Hệ $S$ là Hệ vector **Độc lập tuyến tính cực đại** của $V$.\n",
    "\n",
    "    - $\\forall$ vector của $V$ đề **Biểu thị tuyến tính** được 1 cách **duy nhất** qua hệ $S$."
   ]
  },
  {
   "cell_type": "markdown",
   "id": "3bce5bab",
   "metadata": {},
   "source": [
    "- $S$ là **hệ sinh** của $V$ nếu (1 trong 2 thoả):\n",
    "\n",
    "    - $\\exists u_i, 1 \\leq i \\leq m$ **Tổ hợp tuyến tính** của các vector còn lại trong $S \\Rightarrow \\bigg(S' = S \\setminus  \\{ v \\}\\bigg).$\n",
    "\n",
    "    - $\\bigg(V \\neq \\{0\\}\\bigg) \\Rightarrow V$  $\\exists 1 \\textbf{ Cơ sở } \\subset S.$"
   ]
  },
  {
   "cell_type": "markdown",
   "id": "5275b647",
   "metadata": {},
   "source": [
    "- **Bổ đề:**\n",
    "    \n",
    "    - Không gian vector $V$ có $1$ **cơ sở** gồm $n$ vector $\\Rightarrow \\forall$ hệ **Độc lập tuyến tính** trong $V$ đều chứa không quá $n$ vector."
   ]
  },
  {
   "cell_type": "markdown",
   "id": "40b3e7cc",
   "metadata": {},
   "source": [
    "- **Note:**\n",
    "    - Cách chứng minh $A \\Rightarrow B$:\n",
    "\n",
    "        - B1. Đặt $A$ là giả thuyết $\\to (1)$ \n",
    "\n",
    "        - B2. Xác định điều kiện để có được $B$ (từ tiên đề/định lý/tính chất/$\\ldots$) $\\to (2)$\n",
    "\n",
    "        - B3. C/m $(1) \\Rightarrow (2) \\to$ C/m xong.\n",
    "\n",
    "    - Cách biểu diễn **duy nhất**:\n",
    "\n",
    "        - B1. Đặt $\\text{Biểu diễn A} = \\text{Biểu diễn B}$\n",
    "\n",
    "        - B2. C/m $\\text{Hệ số của Biểu diễn A} = \\text{Hệ số của Biểu diễn B} \\to$ C/m xong.\n",
    "    \n",
    "    - Cách xây dựng **cơ sở**:\n",
    "\n",
    "        - C1. Từ độc lập tuyến tính $\\to$ Thêm vào $\\to$ Độc lập tuyến tính cực đại.\n",
    "\n",
    "        - C2. Từ hệ sinh $\\to$ Bỏ bớt ra $\\to$ Hệ sinh cực tiểu."
   ]
  },
  {
   "cell_type": "markdown",
   "id": "44f23c29",
   "metadata": {},
   "source": [
    "### Số chiều"
   ]
  },
  {
   "cell_type": "markdown",
   "id": "a69c9697",
   "metadata": {},
   "source": [
    "$$\n",
    "\\dim _{\\mathbb{K}} V = n \\Leftrightarrow V \\text{ có 1 cơ sở gồm } n \\text{ vector.}\n",
    "$$\n",
    "\n",
    "- $V \\neq \\{ 0 \\}, V$ không có cơ sở nào gồm hữu hạn vector $\\Rightarrow \\dim _{\\mathbb{K}} V = \\infty.$\n",
    "\n",
    "- Note: Mọi cơ sở của $V$ đều có cùng số vector (số chiều là số vector trong cơ sở).\n",
    "\n",
    "- $\\dim \\{ 0 \\} = 0.$"
   ]
  },
  {
   "cell_type": "markdown",
   "id": "4000aa6c",
   "metadata": {},
   "source": [
    "**VD**\n",
    "\n",
    "- $\\dim _{\\mathbb{K}} \\mathbb{K}^n = n.$\n",
    "  \n",
    "- $\\dim _{\\mathbb{K}} (M (m \\times n, \\mathbb{K})) = mn.$\n",
    "\n",
    "- $\\dim _{\\mathbb{K}} (\\mathbb{K} _n [x]) = n + 1.$\n",
    "\n",
    "- $\\dim _{\\mathbb{K}} (\\mathbb{K}[x]) = \\infty.$\n",
    "\n",
    "- $\\dim _{\\mathbb{C}} (\\mathbb{C}) = 1,\\: \\dim _{\\mathbb{K}} (\\mathbb{C}) = 2.$\n",
    "\n",
    "- $\\dim _{\\mathbb{K}} (\\mathbb{R}) = 1.$"
   ]
  },
  {
   "cell_type": "markdown",
   "id": "5adab0f6",
   "metadata": {},
   "source": [
    "#### Định lý"
   ]
  },
  {
   "cell_type": "markdown",
   "id": "ca8ea8a3",
   "metadata": {},
   "source": [
    "- $V \\neq \\{ 0 \\}$ đgl không gian hữu hạn sinh (nghĩa là có 1 tập sinh gồm hữu hạn vector) $\\Rightarrow V$ có 1 cơ sở gồm hữu hạn vector."
   ]
  },
  {
   "cell_type": "markdown",
   "id": "79b8da51",
   "metadata": {},
   "source": [
    "#### Tính chất"
   ]
  },
  {
   "cell_type": "markdown",
   "id": "a54b8ded",
   "metadata": {},
   "source": [
    "##### Mệnh đề 1"
   ]
  },
  {
   "cell_type": "markdown",
   "id": "eba5d7b5",
   "metadata": {},
   "source": [
    "- $V \\neq \\{ 0 \\}$ (tương tự)"
   ]
  },
  {
   "cell_type": "markdown",
   "id": "2ae34054",
   "metadata": {},
   "source": [
    "##### Mệnh đề 2"
   ]
  },
  {
   "cell_type": "markdown",
   "id": "cbdbe92a",
   "metadata": {},
   "source": [
    "$V$ là KG vector $n$-chiều, $\\beta = \\{u_1,\\ldots , u_n\\} \\subset V$ (Các mệnh đề sau tương đương)\n",
    "\n",
    "- $\\beta$ là cở sở của $V$.\n",
    "\n",
    "- $\\beta$ là hệ sinh của $V$.\n",
    "\n",
    "- $\\beta$ độc lập tuyến tính."
   ]
  },
  {
   "cell_type": "markdown",
   "id": "cd3a75e0",
   "metadata": {},
   "source": [
    "## Toạ độ"
   ]
  },
  {
   "cell_type": "markdown",
   "id": "fda3069f",
   "metadata": {},
   "source": [
    "- Cố định thứ tự của $B \\Rightarrow B = (u_1 , \\ldots , u_n )$ là **cơ sở sắp thứ tự**.\n",
    "\n",
    "- $B = (u_1 , \\ldots , u_n )$ là cơ sở sắp thứ tự của $\\mathbb{K}$-KG vector $V$\n",
    "\n",
    "$$\\forall v \\in V, v = \\alpha _1 u_1 + \\ldots + \\alpha _n u_n.$$\n",
    "\n",
    "- $(\\alpha _1, \\ldots , \\alpha _n)$ đgl **toạ độ** của $v$ đối với cơ sở $B$. K/h:\n",
    "\n",
    "    - $(v)_B = (\\alpha _1, \\ldots , \\alpha _n).$\n",
    "    \n",
    "    - $[v]_B = \\begin{pmatrix} \\alpha _1 \\\\ \\alpha _2 \\\\ \\vdots \\\\ \\alpha _n \\end{pmatrix}$\n",
    "    \n",
    "    - $v = \\alpha _1 u_1 + \\ldots + \\alpha _n u_n$."
   ]
  },
  {
   "cell_type": "markdown",
   "id": "576e8946",
   "metadata": {},
   "source": [
    "**VD: Tìm toạ độ (4.7a)**\n",
    "\n",
    "$((2,3,1))_B = (x_1 , x_2, x_3)$\n",
    "\n",
    "$(2,3,1) = x_1 (-1,2,4)+x_2 (\\sim ) + x_3 (\\sim)$\n",
    "\n",
    "$\\begin{cases} \\sim = 2 \\\\ \\sim  =3 \\\\ \\sim =1 \\end{cases} \\Rightarrow \\begin{cases} x_1 = -\\frac{19}{3} \\\\ x_2 = -11 \\\\ x_3 = \\frac{20}{3} \\end{cases} \\Rightarrow ((2,3,1))_B = (-\\frac{19}{3}, -11, \\frac{20}{3}).$"
   ]
  },
  {
   "cell_type": "markdown",
   "id": "309d55d8",
   "metadata": {},
   "source": [
    "### Tính chất"
   ]
  },
  {
   "cell_type": "markdown",
   "id": "bd43eb63",
   "metadata": {},
   "source": [
    "Cho $B = (u_1 , \\ldots , u_m)$ là cơ sở của $V, \\: v \\in V, \\: (v)_B = (\\alpha _1, \\ldots , \\alpha _n) \\in \\mathbb{K} ^n, \\: [0] = 0$\n",
    "\n",
    "- $\\forall u, v \\in V \\quad [u _ v]_B = [u]_B + [v]_B.$\n",
    "\n",
    "- $\\forall \\alpha \\in \\mathbb{K} \\quad [\\alpha u] _B = \\alpha [u]_B.$\n",
    "\n",
    "- $\\forall \\alpha , \\beta \\in \\mathbb{K} \\quad [\\alpha u + \\beta v] _B = \\alpha [u]_B + \\beta [v]_B.$\n",
    "\n",
    "- $[\\alpha _1 u_1 + \\ldots + \\alpha _n u_n]_B = \\alpha _1 [u_1]_B + \\ldots + \\alpha _n [u_n]_B.$"
   ]
  },
  {
   "cell_type": "markdown",
   "id": "ce21a719",
   "metadata": {},
   "source": [
    "### Mệnh đề"
   ]
  },
  {
   "cell_type": "markdown",
   "id": "f60c82b9",
   "metadata": {},
   "source": [
    "Cho $B$ là 1 cơ sở của $V, \\: S = \\{ v_1 , \\ldots , v_k \\} \\subset V.$\n",
    "\n",
    "- $S$ độc lập tuyến tính $\\Leftrightarrow \\{ [\\alpha _1 ]_B,\\ldots ,[\\alpha _k]_B \\}$ độc lập tuyến tính.\n",
    "\n",
    "- $S$ độc lập tuyến tính $\\Leftrightarrow \\text{rank} ([v _1 ]_B \\ldots [v _k]_B) = k.$"
   ]
  },
  {
   "cell_type": "markdown",
   "id": "0201a1d1",
   "metadata": {},
   "source": [
    "### Định lý"
   ]
  },
  {
   "cell_type": "markdown",
   "id": "c704f21e",
   "metadata": {},
   "source": [
    "Cho $B$ và $C$ là 2 cơ sở của $V$\n",
    "\n",
    "- $\\exists$ duy nhất ma trận $A$ vuông, khả nghịch sao cho \n",
    "\n",
    "$$[v]_B = A [v]_C, \\forall v \\in V$$\n",
    "\n",
    "- $A$ đgl **ma trận chuyển cơ sở** từ $B$ sang $C$, $[v]_B = A [v]_C$ là công thức đổi toạ độ\n",
    "\n",
    "$$A = P _{B,C} = ([v_1]_B \\ldots [v_n]_B)$$"
   ]
  },
  {
   "cell_type": "markdown",
   "id": "cb0384f0",
   "metadata": {},
   "source": [
    "## Không gian con - Hạng của hệ vector"
   ]
  },
  {
   "cell_type": "markdown",
   "id": "b4899334",
   "metadata": {},
   "source": [
    "Cho $\\varnothing \\neq E \\subset V$-KG vector\n",
    "\n",
    "- $E$ là KG vector cùng với 2 phép toán trên $V \\Rightarrow E$ là **KG con** của $V$. "
   ]
  },
  {
   "cell_type": "markdown",
   "id": "c60dfb45",
   "metadata": {},
   "source": [
    "**VD**\n",
    "\n",
    "- $V$ là KG vector\n",
    "\n",
    "    - $\\{0 \\}$ là KG con của $V$ đgl KG con tầm thường.\n",
    "    \n",
    "    - $V \\subset V.$\n",
    "    \n",
    "- $\\mathbb{R}^3 \\quad P=\\{ (x,y,0) \\mid x,y \\in \\mathbb{R} \\}$ là 1 KG con của $\\mathbb{R}^3$.\n",
    "\n",
    "- $\\mathbb{K}_n [X] \\subset \\mathbb{K}[X].$"
   ]
  },
  {
   "cell_type": "markdown",
   "id": "0116101f",
   "metadata": {},
   "source": [
    "### Định lý"
   ]
  },
  {
   "cell_type": "markdown",
   "id": "357e2aaf",
   "metadata": {},
   "source": [
    "Cho $\\varnothing \\neq E \\subset V$-KG vector, $E$ là KG con của $V \\Rightarrow$ thoả điều kiện sau:\n",
    "\n",
    "- $u+v \\in E, \\quad \\forall u,v \\in E.$\n",
    "\n",
    "- $\\alpha u \\in E, \\quad \\forall u \\in E, \\forall \\alpha \\in \\mathbb{K}.$\n",
    "\n",
    "hoặc\n",
    "\n",
    "- $(\\alpha u + \\beta v ) \\in E, \\quad \\forall \\alpha, \\beta \\in \\mathbb{K}, \\forall u,v \\in E.$"
   ]
  },
  {
   "cell_type": "markdown",
   "id": "4512098e",
   "metadata": {},
   "source": [
    "**VD**\n",
    "\n",
    "Cho $\\mathbb{Q} = \\{ (x,y,z) x - 2y + z = 0 \\}$. C/m $\\mathbb{Q}$ là KG con của $\\mathbb{R}^3.$\n",
    "\n",
    "Ta có $0-20+0=0 \\Rightarrow (0,0,0) \\in \\mathbb{Q} \\Rightarrow \\mathbb{Q} \\neq \\varnothing$\n",
    "\n",
    "$\\forall  u= (x,y,z), v=(a,b,c) \\Rightarrow x+2y+z=0$ và $a+2b+c=0$\n",
    "\n",
    "Xét $u+v=(x+a,y+b,z+c)$\n",
    "\n",
    "$(x+a)-2(y+b)+(z+c) = (x-2y+z) + (a-2b+c)=0 \\Rightarrow u,v \\in \\mathbb{Q}$\n",
    "\n",
    "$\\forall \\alpha \\in \\mathbb{R}, \\forall u = (x,y,z) \\in \\mathbb{Q} \\Rightarrow x - 2y + z = 0$\n",
    "\n",
    "Xét $\\alpha u = (\\alpha x, \\alpha y, \\alpha z)$\n",
    "\n",
    "Vì $\\alpha x - 2 \\alpha y + \\alpha z = \\alpha (x+2y +z) = 0 \\Rightarrow \\alpha u \\in \\mathbb{Q} \\Rightarrow \\mathbb{Q}$ KG con của $\\mathbb{R}^3.$"
   ]
  },
  {
   "cell_type": "markdown",
   "id": "8ba2f15c",
   "metadata": {},
   "source": [
    "- Note: Cho 3 toạ độ nếu đi qua gốc toạ độ $\\Rightarrow$ KG con (hình dung hình học)."
   ]
  },
  {
   "cell_type": "markdown",
   "id": "e0bdc242",
   "metadata": {},
   "source": [
    "### Mệnh đề"
   ]
  },
  {
   "cell_type": "markdown",
   "id": "63b9f6c5",
   "metadata": {},
   "source": [
    "- Nếu $E$ là KG con của $V$ \n",
    "\n",
    "    - $\\dim V < \\infty \\Rightarrow \\dim E < \\infty \\land \\dim E \\leq \\dim V.$\n",
    "\n",
    "    - $\\dim E = \\dim V \\Rightarrow E = V.$\n",
    "\n",
    "- $\\{ v_i \\} _{i \\in I}$ $v_i$ là KG con của $V,\\: \\forall i \\in I.$\n",
    "- $\\bigcup = \\bigcap _{i \\in I} v_i$ là KG con của $V$."
   ]
  },
  {
   "cell_type": "markdown",
   "id": "6fcbc2c4",
   "metadata": {},
   "source": [
    "### Span"
   ]
  },
  {
   "cell_type": "markdown",
   "id": "35ec02a5",
   "metadata": {},
   "source": [
    "- Cho $X$ là tập con của $\\mathbb{K}$-KG vector $V$, giao của tất cả các KG con của $V \\supset X$ là 1 KG con của $V \\supset X$, đgl **KG con của $V$ sinh bởi $X$**.\n",
    "\n",
    "- K/h: $\\mathcal{L}(X) = \\text{Span}(X) = \\text{Sp}(X).$"
   ]
  },
  {
   "cell_type": "markdown",
   "id": "439c0add",
   "metadata": {},
   "source": [
    "- **Note**\n",
    "\n",
    "    - $\\mathcal{L} (\\{ 0 \\}) = \\{ 0 \\}.$\n",
    "\n",
    "    - $\\mathcal{L} (\\varnothing) = \\{ 0 \\}.$\n",
    "\n",
    "    - $\\mathcal{L} (X)$ là KG con nhỏ nhất của $V \\supset X.$\n",
    "\n",
    "    - $\\mathcal{L} ( \\mathcal{L} (X)) = \\mathcal{L}(X).$\n",
    "\n",
    "    - Nếu $E$ là KG con của $V, \\: \\mathcal{L}(E) = E.$"
   ]
  },
  {
   "cell_type": "markdown",
   "id": "e97ec66d",
   "metadata": {},
   "source": [
    "#### Định lý"
   ]
  },
  {
   "cell_type": "markdown",
   "id": "431e6c62",
   "metadata": {},
   "source": [
    "- Cho $X \\subset V$, khi đó\n",
    "\n",
    "$$\n",
    "\\mathcal{L} (X) = \\Bigg\\{ \\sum_{\\text{hữu hạn}} \\alpha _i u_i \\mid \\alpha _i \\in \\mathbb{K}, u_i \\in X \\Bigg\\} = \\text{Span}(X).\n",
    "$$\n",
    "\n",
    "- Hạng của hệ vector $X$ là số chiều KG con sinh bởi $X$"
   ]
  },
  {
   "cell_type": "markdown",
   "id": "eff3b9f2",
   "metadata": {},
   "source": [
    "## Không gian hàng, cột, nghiệm"
   ]
  },
  {
   "cell_type": "markdown",
   "id": "9eeb2a10",
   "metadata": {},
   "source": [
    "Cho $A = (a_{ij})_{m \\times n} , a_{ij} \\in \\mathbb{K}$\n",
    "\n",
    "- $\\text{Row}A = \\text{Span} \\{ m \\text{ hàng của } A \\} \\subset \\mathbb{K}^n.$\n",
    "- $\\text{Col}A=\\text{Im}A=\\text{Span}(A_1, A_2, \\ldots ,A_n) \\subset \\mathbb{K}^m.$\n",
    "- $\\text{Nul}A=\\text{Ker}A = \\{ x \\in \\mathbb{K}^n \\mid Ax=0 \\}.$"
   ]
  },
  {
   "cell_type": "markdown",
   "id": "7089af3e",
   "metadata": {},
   "source": [
    "### Mệnh đề"
   ]
  },
  {
   "cell_type": "markdown",
   "id": "e312f021",
   "metadata": {},
   "source": [
    "Cho $A$ là ma trận cỡ $m \\times n$\n",
    "\n",
    "$$\n",
    "\\dim A (\\text{Row}A) = \\dim (\\text{Col}A) = r(A).\n",
    "$$\n",
    "\n",
    "$$\n",
    "n = \\text{rank}A + \\dim (\\text{Nul}A).\n",
    "$$"
   ]
  },
  {
   "cell_type": "markdown",
   "id": "a8e42890",
   "metadata": {},
   "source": [
    "- Note: Hỏi số chiều $\\to$ thoải mái, hỏi cơ sở $\\to$ tìm hết."
   ]
  },
  {
   "cell_type": "markdown",
   "id": "776c55b3",
   "metadata": {},
   "source": [
    "### VDMH"
   ]
  },
  {
   "cell_type": "markdown",
   "id": "87bff1b3",
   "metadata": {},
   "source": [
    "**VD1**\n",
    "\n",
    "Tìm cơ sở (bài 4.23a)\n",
    "\n",
    "Ta có $A = \\begin{pmatrix} \\sim \\sim \\sim \\\\ \\sim \\sim \\sim \\\\ \\sim \\sim \\sim \\end{pmatrix}$\n",
    "\n",
    "$\\text{Col}A$ sinh bởi $A_1, A_2, A_3, A_4$\n",
    "\n",
    "Xét $x_1 A_1 + x_2 A_2 + x_3 A_3 + x_4 A_4 = 0$\n",
    "\n",
    "$\\Rightarrow \\begin{cases} -2 x_1 + 4x_2 + \\sim - 4x_4  = 0 \\\\ \\sim \\sim \\sim = 0 \\\\ \\sim \\sim \\sim = 0 \\end{cases} \\to$ giải ra dạng bậc thang $\\Rightarrow$ Phụ thuộc tuyến tính.\n",
    "\n",
    "$\\Rightarrow \\{ A_1 , A_2 \\}$ là cơ sở của $\\text{Col}A$\n",
    "\n",
    "$\\Rightarrow$ row có cơ sở là $\\{ (1,-2,1,2), (0,-2,-5,-3) \\}$ (Hàng chứa PTC trong dạng bậc thang)\n",
    "\n",
    "$x \\in \\text{Nul}A \\Leftrightarrow Ax = 0$\n",
    "\n",
    "$A \\to$ dạng rút gọn $\\begin{pmatrix} 1 & 0 & 6 & 5 \\\\ 0 & 1 & \\frac{5}{2} & \\frac{3}{2} \\\\ 0 & 0 & 0 & 0 \\end{pmatrix} \\Rightarrow$ Có nghiệm $X = (\\sim, \\sim, \\sim, \\sim) \\forall x_3, x_4 \\in \\mathbb{R}$\n",
    "\n",
    "Đặt $x_3 = 1, x_4 = \\sim \\Rightarrow X = \\{ (\\sim, \\sim, \\sim, \\sim),(\\sim, \\sim, \\sim, \\sim) \\}$ là cơ sở của $\\text{Nul}A$ (Không gian nghiệm)."
   ]
  },
  {
   "cell_type": "markdown",
   "id": "09c533aa",
   "metadata": {},
   "source": [
    "- **Note**: Để kiểm tra không gian con hay không có thể dùng cách này trừ dạng đa thức với ma trận."
   ]
  },
  {
   "cell_type": "markdown",
   "id": "6f49146b",
   "metadata": {},
   "source": [
    "**VD2** 4.4.12 (Giáo trình)\n",
    "\n",
    "(i) C/m $H$ là kgian con của $\\mathbb{R}^3$\n",
    "\n",
    "$\\forall u \\in H, \\exists a,b,c \\in \\mathbb{R}$ sao cho\n",
    "\n",
    "$u = \\begin{pmatrix} a - 2b + c \\\\ a+b-c \\\\ -3b + 2c \\end{pmatrix} = \\begin{pmatrix} 1 & -2 & 1 \\\\ \\sim & \\sim & \\sim \\\\ \\sim & \\sim & \\sim\\end{pmatrix} \\begin{pmatrix} a \\\\ b \\\\ c \\end{pmatrix} \\in \\text{Col}A \\Rightarrow H \\subset \\text{Col}A$\n",
    "\n",
    "$H \\subset \\text{Col}A, \\forall u \\in \\text{Col}A \\to Ax = u$ có nghiệm\n",
    "\n",
    "$\\to \\exists a, b,c \\in \\mathbb{R}$ sao cho $u=A \\begin{pmatrix}a\\\\b\\\\c \\end{pmatrix} = \\begin{pmatrix} \\sim \\\\ \\sim \\\\ \\sim \\end{pmatrix} \\in H \\Rightarrow$ có $\\text{Col}A \\subset H \\Rightarrow H = \\text{Col}A.$\n",
    "\n",
    "(ii)\n",
    "\n",
    "$\\forall u = (x,y,z) \\in \\mathbb{K}$\n",
    "\n",
    "$\\begin{cases} x - 2y + 3z = 0 \\\\ 2x - y+z=0 \\end{cases} \\Rightarrow \\begin{pmatrix} 1 & -2 & 3 \\\\ \\sim & \\sim & \\sim \\\\ \\sim & \\sim & \\sim \\end{pmatrix} \\begin{pmatrix} x \\\\ y \\\\ z \\end{pmatrix} = B u^T \\Rightarrow u \\in \\text{Nul}B$"
   ]
  },
  {
   "cell_type": "markdown",
   "id": "165dedbe",
   "metadata": {},
   "source": [
    "## Tổng $\\&$ Tổng trực tiếp"
   ]
  },
  {
   "cell_type": "markdown",
   "id": "41f580d5",
   "metadata": {},
   "source": [
    "- $V_1 + V_2 + \\ldots + V_m$ là **KG tổng** của $V_1, V_2 , \\ldots , V_m.$\n",
    "\n",
    "- Tổng $V_1 + \\ldots + V_m$ đgl **tổng trực tiếp** nếu $\\forall v \\in V_1 + \\ldots + V_m$ đều có duy nhất 1 cách phân tích $V = u_1 + u_2 + \\ldots + u_{n-1}, \\forall u_i \\in V_i$, k/h: $V_1 \\oplus V_2 \\oplus \\ldots \\oplus V_m.$"
   ]
  },
  {
   "cell_type": "markdown",
   "id": "0ad7fd15",
   "metadata": {},
   "source": [
    "### Mệnh đề"
   ]
  },
  {
   "cell_type": "markdown",
   "id": "f28f197b",
   "metadata": {},
   "source": [
    "Cho $V_1, V_2, \\ldots , V_m$ là các KG con của $\\mathbb{K}$-KG vector $V$\n",
    "\n",
    "$$\n",
    "V_1 + V_2 + \\ldots + V_m = \\{ u_1 + u_2 + \\ldots + u_m \\mid u_i \\in V_i \\}\n",
    "$$\n",
    "\n",
    "là 1 KG con của $V$."
   ]
  },
  {
   "cell_type": "markdown",
   "id": "8db74129",
   "metadata": {},
   "source": [
    "### Định lý"
   ]
  },
  {
   "cell_type": "markdown",
   "id": "8b36cf6d",
   "metadata": {},
   "source": [
    "Tổng $V_1 + \\ldots + V_m$ là tổng trực tiếp nếu 1 trong 2 điều kiện tương đương sau thoả:\n",
    "\n",
    "- $V _j \\bigcap (\\sum_{i \\neq j} V_i) = \\{ 0 \\} \\quad 1 \\leq j \\leq m.$\n",
    "\n",
    "- $V _j \\bigcap (\\sum_{i > j} V_i) = \\{ 0 \\} \\quad 1 \\leq j \\leq m-1.$"
   ]
  },
  {
   "cell_type": "markdown",
   "id": "43401ef3",
   "metadata": {},
   "source": [
    "### Số chiều không gian tổng"
   ]
  },
  {
   "cell_type": "markdown",
   "id": "902b97f5",
   "metadata": {},
   "source": [
    "#### Định lý"
   ]
  },
  {
   "cell_type": "markdown",
   "id": "f6539ac2",
   "metadata": {},
   "source": [
    "Cho $V_1, V_2$ là 2 KG con của $V$\n",
    "\n",
    "$$\n",
    "\\dim (V_1 + V_2) = \\dim V_1 + \\dim V_2 - \\dim (V_1 \\cap V_2).\n",
    "$$"
   ]
  },
  {
   "cell_type": "markdown",
   "id": "fe8bf5c4",
   "metadata": {},
   "source": [
    "#### Hệ quả"
   ]
  },
  {
   "cell_type": "markdown",
   "id": "5749e0a4",
   "metadata": {},
   "source": [
    "- $V_1 = \\text{Sp}(S_1), \\: V_2 = \\text{Sp}(S_2) \\Rightarrow V_1 + V_2 = \\text{Sp}(S_1 \\cup S_2).$\n",
    "\n",
    "- $V_1 \\cap V_2 = \\varnothing \\Rightarrow \\dim (V_1 + V_2 ) = \\dim V_1 + \\dim V_2.$"
   ]
  },
  {
   "cell_type": "markdown",
   "id": "7c589909",
   "metadata": {},
   "source": [
    "# Ánh Xạ Tuyến Tính"
   ]
  },
  {
   "cell_type": "markdown",
   "id": "d7c57dfe",
   "metadata": {},
   "source": [
    "- Cho $U$ và $V$ là các $\\mathbb{K}$-KGVT, Ánh xạ $f:U \\to V$ đgl **AXTT** nếu:\n",
    "\n",
    "    - $f(u+v)=f(u)+f(v), \\forall u,v \\in V.$\n",
    "\n",
    "    - $f(\\alpha u) = \\alpha f(u), \\forall \\alpha \\in \\mathbb{K}, \\forall u \\in U.$"
   ]
  },
  {
   "cell_type": "markdown",
   "id": "0946770a",
   "metadata": {},
   "source": [
    "- **Định lý:** Cho $U$ và $V$ là các $\\mathbb{K}$-KGVT, Ánh xạ $f:U \\to V$ đgl **AXTT** nếu\n",
    "\n",
    "$$\n",
    "f(\\alpha u + \\beta v) = \\alpha f(u) + \\beta f(v) , \\forall \\alpha , \\beta \\in \\mathbb{K}, \\forall u,v \\in U\n",
    "$$"
   ]
  },
  {
   "cell_type": "markdown",
   "id": "b6ba3305",
   "metadata": {},
   "source": [
    "- **Tính chất**\n",
    "\n",
    "    - $f(0_V) = 0_V.$\n",
    "\n",
    "    - $f(-u) = -f(u).$\n",
    "\n",
    "    - $f(\\alpha _1 u_1 + \\ldots + \\alpha _k u_k) = \\alpha _1 f(u_1) + \\ldots + \\alpha _k f(u_k).$"
   ]
  },
  {
   "cell_type": "markdown",
   "id": "83c59ea5",
   "metadata": {},
   "source": [
    "- **Mệnh đề:** $U$, $V$, $W$ là $\\mathbb{K}$-KGTV, ta có:\n",
    "\n",
    "$$\n",
    "\\begin{aligned}\n",
    "f &: U \\longrightarrow V, && u \\longmapsto f(u), \\\\\n",
    "g &: V \\longrightarrow W, && v \\longmapsto g(v), \\\\\n",
    "g \\circ f &: U \\longrightarrow W, && u \\longmapsto g(f(u)).\n",
    "\\end{aligned}\n",
    "$$"
   ]
  },
  {
   "cell_type": "markdown",
   "id": "a7858fe9",
   "metadata": {},
   "source": [
    "- **Định lý về Sự xác định của AXTT:** Cho $U$, $V$ là các $\\mathbb{K}$-KGTV, $(u_1, \\ldots , u_n)$ là 1 cơ sở của $U, v_1 , \\ldots , v_n \\in V$, khi đó $\\exists !$ AXTT $f : U \\to V$ thoả\n",
    "\n",
    "$$\n",
    "f(u_i) = v_i, 1 \\leq i \\leq n.\n",
    "$$"
   ]
  },
  {
   "cell_type": "markdown",
   "id": "c0f78d1e",
   "metadata": {},
   "source": [
    "## Đơn cấu, Toàn cấu, Đẳng cấu"
   ]
  },
  {
   "cell_type": "markdown",
   "id": "b16824d2",
   "metadata": {},
   "source": [
    "- **Định nghĩa:** $u$, $v$ là các $\\mathbb{K}$-KGTV $f:U \\to V$, gọi là **đồng cấu**, ta có, $f$:\n",
    "\n",
    "    - Đơn ánh $\\to$ **Đơn cấu**.\n",
    "\n",
    "    - Toàn ánh $\\to$ **Toàn cấu**.\n",
    "\n",
    "    - Song ánh $\\to$ **Đẳng cấu**. $U$ đẳng cấu với $V$ k\\h: $U \\cong V.$"
   ]
  },
  {
   "cell_type": "markdown",
   "id": "73ddd0e2",
   "metadata": {},
   "source": [
    "- **Nhận xét:**\n",
    "\n",
    "    - $U \\cong U.$\n",
    "    - $U \\cong V \\to V \\cong U.$\n",
    "    - $U \\cong V, V \\cong W \\to U \\cong W.$"
   ]
  },
  {
   "cell_type": "markdown",
   "id": "6b091000",
   "metadata": {},
   "source": [
    "**Tính chất Đồng cấu**"
   ]
  },
  {
   "cell_type": "markdown",
   "id": "539f5916",
   "metadata": {},
   "source": [
    "- **Định lý:** $f : U \\to V$ là đồng cấu, $s = \\{ u_1 , \\ldots , u_k \\}$ Phụ thuộc tuyến tính trong $U \\Rightarrow f(s) = \\{ f(u_1), \\ldots , f(u_k) \\}$ Phụ thuột tuyến tính trong $V.$\n",
    "\n",
    "    - $f$ đơn cấu $\\Leftrightarrow$ ($s$ độc lập tuyến tính $\\Rightarrow$ f(s) Độc lập tuyến tính, $\\forall s$).\n",
    "\n",
    "    - $f$ toàn cấu $\\Leftrightarrow$ ($s$ hệ sinh của $U \\Rightarrow f(s)$ là hệ sinh của $V$).\n",
    "\n",
    "    - $f$ đẳng cấu $\\Leftrightarrow$ ($s$ là cơ sở của $U \\Rightarrow f(s)$ là cơ sở của $V$)."
   ]
  },
  {
   "cell_type": "markdown",
   "id": "97f01c3b",
   "metadata": {},
   "source": [
    "## Nhân và Ảnh (Kernel và Image)"
   ]
  },
  {
   "cell_type": "markdown",
   "id": "d648fa82",
   "metadata": {},
   "source": [
    "- **Định nghĩa:** Cho $f: U \\to V$ là AXTT, E là KG con $U$, F là KG con $V$. $f(E) = \\{ f(u) \\mid u \\in E \\}$, $f^{-1} (F) = \\{ u \\in U \\mid f(u) \\in F \\} \\subset U$\n",
    "\n",
    "    - **Ảnh** của $f$ là $f(U) = \\text{Im}f.$\n",
    "\n",
    "    - **Nhân** của $f$ là $f^{-1} (\\{ 0_V \\}) = \\text{Ker}f.$"
   ]
  },
  {
   "cell_type": "markdown",
   "id": "ee778196",
   "metadata": {},
   "source": [
    "- **Định lý:** Cho $f: U \\to V$ là AXTT, E là KG con $U$, F là KG con $V$\n",
    "\n",
    "    - $f(E)$ là KG con $V.$\n",
    "\n",
    "    - $f^{-1} (F)$ là KG con $U.$"
   ]
  },
  {
   "cell_type": "markdown",
   "id": "80b6c553",
   "metadata": {},
   "source": [
    "- **Hệ quả:** Cho $f: U \\to V$ là AXTT\n",
    "\n",
    "    - $\\text{Im}f$ là 1 KG con của $V.$\n",
    "\n",
    "    - $\\text{Ker}f$ là 1 KG con của $U.$ ($f(U)=0$)"
   ]
  },
  {
   "cell_type": "markdown",
   "id": "75415751",
   "metadata": {},
   "source": [
    "- **Định lý:** Cho $f: U \\to V$ là đẳng cấu\n",
    "\n",
    "    - $f$ là đơn cấu $\\Leftrightarrow \\text{Ker}f = \\{ 0_U \\}.$\n",
    "\n",
    "    - $f$ là toàn cấu $\\Leftrightarrow \\text{Im}f = V.$"
   ]
  },
  {
   "cell_type": "markdown",
   "id": "1e38d2e8",
   "metadata": {},
   "source": [
    "- **Định lý:** Cho $f: U \\to V$ là AXTT\n",
    "\n",
    "    - $f$ đơn cấu $\\Leftrightarrow r(f) = \\dim U.$\n",
    "\n",
    "    - $f$ toàn cấu $\\Leftrightarrow r(f) = \\dim V.$\n",
    "\n",
    "    - $f$ đẳng cấu $\\Leftrightarrow r(f) = \\dim U = \\dim V.$"
   ]
  },
  {
   "cell_type": "markdown",
   "id": "bbf0cf38",
   "metadata": {},
   "source": [
    "- **Định lý về hạng của AXTT:** Cho $f: U \\to V$ là AXTT, khi đó\n",
    "\n",
    "$$\n",
    "\\dim U = \\dim (\\text{Ker}f ) + \\dim (\\text{Im}f) = \\dim (\\text{Ker}f) + \\text{rank}(f)\n",
    "$$"
   ]
  },
  {
   "cell_type": "markdown",
   "id": "3bce74e1",
   "metadata": {},
   "source": [
    "## Ma trận của AXTT"
   ]
  },
  {
   "cell_type": "markdown",
   "id": "2b5ddb0d",
   "metadata": {},
   "source": [
    "- **Định lý:** Cho $U$, $V$ là các KGVT, $\\dim U=n$, $\\dim V = m$, $B$ là cơ sở của $U$, $C$ là cơ sở của $V$.\n",
    "\n",
    "    - $\\forall$ AXTT $f:U \\to V, \\exists !$ ma trận $A_{m \\times n}$ sao cho $[ f(u) ]_C = A [ u ]_B, \\forall u \\in U.$\n",
    "\n",
    "    - $\\forall A _{m \\times n}$, $\\exists !$ AXTT $f : U \\to V$ thoả ở trên."
   ]
  },
  {
   "cell_type": "markdown",
   "id": "a9be11dc",
   "metadata": {},
   "source": [
    "- Note: $f: \\mathbb{K}^n \\to \\mathbb{K}^m, x \\mapsto Ax$. $\\text{Im}f = \\text{Col}A$, $\\text{Ker}f = \\text{Nul}A.$"
   ]
  },
  {
   "cell_type": "markdown",
   "id": "a1fdf82e",
   "metadata": {},
   "source": [
    "- **Định nghĩa:** giáo trình"
   ]
  },
  {
   "cell_type": "markdown",
   "id": "f4fc09ca",
   "metadata": {},
   "source": [
    "- **Mệnh đề:** giáo trình\n",
    "\n",
    "$$\n",
    "[f]_{B',C'} = Q^{-1} [f]_{B,C} P\n",
    "$$"
   ]
  },
  {
   "cell_type": "markdown",
   "id": "2d7bff88",
   "metadata": {},
   "source": [
    "- **Định lý:** Cho $A$ ma trận đẳng cấu $f: U \\to V$\n",
    "\n",
    "$$\n",
    "\\text{Im}f \\cong \\text{Col}A, \\text{Ker}f \\cong \\text{Nul}A \\Leftrightarrow \\text{rank}f = \\text{rank}A\n",
    "$$\n",
    "\n",
    "- **Hệ quả:** $f$ Đẳng cấu $\\Leftrightarrow A$ Khả nghịch."
   ]
  },
  {
   "cell_type": "markdown",
   "id": "5ed54422",
   "metadata": {},
   "source": [
    "## Không gian các đồng cấu"
   ]
  },
  {
   "cell_type": "markdown",
   "id": "8526f623",
   "metadata": {},
   "source": [
    "- **Định nghĩa:** Cho $U$, $V$ là các $\\mathbb{K}$-KGVT, **Không gian các đồng cấu** k/h: $\\text{Hom}(U,V) = \\text{Hom}_{\\mathbb{K}}(U,V) \\neq \\varnothing$, $\\text{Hom}(U,V)$ là KGVT với 2 phép toán:\n",
    "\n",
    "    - Phép cộng: $\\forall f, g \\in \\text{Hom}(U, V)$\n",
    "\n",
    "        - $f + g : U \\to V, u \\mapsto f(u) + g(u)$\n",
    "\n",
    "        - $(f + g)(u) = f(u) +g(u).$\n",
    "\n",
    "    - Phép nhân: $\\forall u \\in \\mathbb{K}, \\forall f \\in \\text{Hom}(U,V)$\n",
    "\n",
    "        - $\\alpha f : U \\to V, u \\mapsto \\alpha f(u)$\n",
    "\n",
    "        - $(\\alpha f)(u) = \\alpha f(u)$"
   ]
  },
  {
   "cell_type": "markdown",
   "id": "bb8252ff",
   "metadata": {},
   "source": [
    "### Cấu trúc không gian đồng cấu"
   ]
  },
  {
   "cell_type": "markdown",
   "id": "4630bec2",
   "metadata": {},
   "source": [
    "- **Định lý:** $\\dim U = n$, $\\dim V =m$\n",
    "\n",
    "    - $\\text{Hom}(U,V) \\cong M (m \\times n, \\mathbb{K}).$\n",
    "\n",
    "    - $\\text{End}(V) \\cong M (n \\times n, \\mathbb{K})$. $\\text{GL}(U) \\cong \\text{GL}_n(\\mathbb{K}).$ (general linear group)"
   ]
  },
  {
   "cell_type": "markdown",
   "id": "783806e6",
   "metadata": {},
   "source": [
    "- **Mệnh đề:** $\\begin{aligned}\n",
    "f &: U \\longrightarrow V, && u \\longmapsto f(u), \\\\\n",
    "g &: V \\longrightarrow W, && v \\longmapsto g(v), \\\\\n",
    "g \\circ f &: U \\longrightarrow W, && u \\longmapsto g(f(u)),\n",
    "\\end{aligned}$, Gọi $B$ là cơ sở của $U$, $C$ là cơ sở của $V$, $D$ là cơ sở của $W$.\n",
    "\n",
    "$$\n",
    "[g \\circ f]_{B,D} = [g]_{C,D} [f]_{B,C}\n",
    "$$"
   ]
  }
 ],
 "metadata": {
  "kernelspec": {
   "display_name": "3.13.7",
   "language": "python",
   "name": "python3"
  },
  "language_info": {
   "name": "python",
   "version": "3.13.7"
  }
 },
 "nbformat": 4,
 "nbformat_minor": 5
}
