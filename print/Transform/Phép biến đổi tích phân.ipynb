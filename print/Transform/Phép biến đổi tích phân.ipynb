{
 "cells": [
  {
   "cell_type": "markdown",
   "metadata": {},
   "source": [
    "# Fourier Series"
   ]
  },
  {
   "cell_type": "markdown",
   "metadata": {},
   "source": [
    "$$\n",
    "\\begin{split}\n",
    "f(x) &= a_0 + \\sum_{n=1}^{\\infty} (a_n \\cos nx + b_n \\sin nx)\n",
    "\\end{split}\n",
    "$$"
   ]
  },
  {
   "cell_type": "markdown",
   "metadata": {},
   "source": [
    "$[- \\pi, \\pi]$"
   ]
  },
  {
   "cell_type": "markdown",
   "metadata": {},
   "source": [
    "$$\n",
    "\\begin{split}\n",
    "a_0 &= \\frac{1}{2\\pi} \\int_{- \\pi}^{\\pi} f(x) \\: dx \\\\\n",
    "\\\\\n",
    "a_n &= \\frac{1}{\\pi} \\int_{- \\pi}^{\\pi} f(x) \\cos nx \\: dx \\quad (n=1,2,\\ldots)\n",
    "\\\\\n",
    "\\\\\n",
    "b_n &= \\frac{1}{\\pi} \\int_{- \\pi}^{\\pi} f(x) \\sin nx \\: dx \\quad (n=1,2,\\ldots)\n",
    "\\end{split}\n",
    "$$"
   ]
  },
  {
   "cell_type": "markdown",
   "metadata": {},
   "source": [
    "$[0, 2 \\pi] \\to \\int_{0}^{2 \\pi}$"
   ]
  },
  {
   "cell_type": "markdown",
   "metadata": {},
   "source": [
    "## Khoảng bất kỳ"
   ]
  },
  {
   "cell_type": "markdown",
   "metadata": {},
   "source": [
    "$$\n",
    "\\begin{split}\n",
    "f(x) &= a_0 + \\sum_{n=1}^{\\infty} \\bigg( a_n \\cos \\frac{n \\pi}{p} x + b_n \\sin \\frac{n \\pi}{p}x \\bigg)\n",
    "\\end{split}\n",
    "$$"
   ]
  },
  {
   "cell_type": "markdown",
   "metadata": {},
   "source": [
    "$[-p,p]$"
   ]
  },
  {
   "cell_type": "markdown",
   "metadata": {},
   "source": [
    "$$\n",
    "\\begin{split}\n",
    "a_0 &= \\frac{1}{2p} \\int_{-p}^{p} f(x) \\: dx \\\\\n",
    "\\\\\n",
    "a_n &= \\frac{1}{p} \\int_{-p}^{p} f(x) \\cos \\frac{n \\pi}{p} x \\: dx \\quad (n=1,2,\\ldots)\n",
    "\\\\\n",
    "\\\\\n",
    "b_n &= \\frac{1}{p} \\int_{-p}^{p} f(x) \\sin \\frac{n\\pi}{p}x \\: dx \\quad (n=1,2,\\ldots)\n",
    "\\end{split}\n",
    "$$"
   ]
  },
  {
   "cell_type": "markdown",
   "metadata": {},
   "source": [
    "## Hàm chẳn lẻ"
   ]
  },
  {
   "cell_type": "markdown",
   "metadata": {},
   "source": [
    "| HÀM | TÍNH CHẤT | Điều kiện |\n",
    "|:------:|:------:|:------:|\n",
    "| Chẳn | $f(-x) = f(x)$ | $\\forall x$ |\n",
    "| Lẻ | $f(-x) = - f(x)$| $\\forall x$ |"
   ]
  },
  {
   "cell_type": "markdown",
   "metadata": {},
   "source": [
    "- Chẳn $\\times$ Chẳn $=$ Chẳn\n",
    "\n",
    "- Chẳn $\\times$ Lẻ $=$ Lẻ\n",
    "\n",
    "- Lẻ $\\times$ Lẻ $=$ Chẳn\n",
    "\n",
    "- $\\cos \\rightarrow$ Chẳn.\n",
    "\n",
    "- $\\sin \\rightarrow$ Lẻ."
   ]
  },
  {
   "cell_type": "markdown",
   "metadata": {},
   "source": [
    "### Hàm chẳn"
   ]
  },
  {
   "cell_type": "markdown",
   "metadata": {},
   "source": [
    "$$\n",
    "\\int_{-p}^{p} f(x) dx = 2 \\int_{0}^{p} f(x) \\: dx\n",
    "$$"
   ]
  },
  {
   "cell_type": "markdown",
   "metadata": {
    "vscode": {
     "languageId": "plaintext"
    }
   },
   "source": [
    "Và"
   ]
  },
  {
   "cell_type": "markdown",
   "metadata": {},
   "source": [
    "$$\n",
    "\\begin{split}\n",
    "f(x) &= a_0 + \\sum_{n=1}^{\\infty} a_n \\cos \\frac{n \\pi}{p} x\n",
    "\\end{split}\n",
    "$$"
   ]
  },
  {
   "cell_type": "markdown",
   "metadata": {},
   "source": [
    "Trong đó"
   ]
  },
  {
   "cell_type": "markdown",
   "metadata": {},
   "source": [
    "$$\n",
    "\\begin{split}\n",
    "a_0 &= \\frac{1}{p} \\int_{0}^{p} f(x) \\: dx \\\\\n",
    "\\\\\n",
    "a_n &= \\frac{2}{p} \\int_{0}^{p} f(x) \\cos \\frac{n \\pi}{p} x \\: dx \\quad (n=1,2,\\ldots)\n",
    "\\end{split}\n",
    "$$"
   ]
  },
  {
   "cell_type": "markdown",
   "metadata": {},
   "source": [
    "### Hàm lẻ"
   ]
  },
  {
   "cell_type": "markdown",
   "metadata": {
    "vscode": {
     "languageId": "plaintext"
    }
   },
   "source": [
    "$$\n",
    "\\int_{-p}^{p} f(x) \\: dx = 0\n",
    "$$"
   ]
  },
  {
   "cell_type": "markdown",
   "metadata": {},
   "source": [
    "Và"
   ]
  },
  {
   "cell_type": "markdown",
   "metadata": {},
   "source": [
    "$$\n",
    "\\begin{split}\n",
    "f(x) &= \\sum_{n=1}^{\\infty} b_n \\sin \\frac{n \\pi}{p}x\n",
    "\\end{split}\n",
    "$$"
   ]
  },
  {
   "cell_type": "markdown",
   "metadata": {},
   "source": [
    "Trong đó"
   ]
  },
  {
   "cell_type": "markdown",
   "metadata": {},
   "source": [
    "$$\n",
    "b_n = \\frac{2}{p} \\int_{0}^{p} f(x) \\sin \\frac{n \\pi}{p} x \\: dx \\quad (n=1,2,\\ldots)\n",
    "$$"
   ]
  },
  {
   "cell_type": "markdown",
   "metadata": {},
   "source": [
    "## Parseval"
   ]
  },
  {
   "cell_type": "markdown",
   "metadata": {},
   "source": [
    "$$\n",
    "\\frac{1}{2p} \\int_{-p}^{p} f(x) ^2 \\: dx = a_0^2 + \\frac{1}{2} \\sum_{n=1}^{\\infty} (a_n^2 + b_n^2)\n",
    "$$"
   ]
  },
  {
   "cell_type": "markdown",
   "metadata": {},
   "source": [
    "# Fourier Transform"
   ]
  },
  {
   "cell_type": "markdown",
   "metadata": {},
   "source": [
    "## Biểu diễn"
   ]
  },
  {
   "cell_type": "markdown",
   "metadata": {},
   "source": [
    "$$\n",
    "\\begin{split}\n",
    "f(x) &= \\int_0^{\\infty} [ A(\\omega) \\cos \\omega x + B(\\omega) \\sin \\omega x] \\: d \\omega \\quad (- \\infty < x < \\infty), \\: \\forall \\omega \\geq 0\n",
    "\\end{split}\n",
    "$$"
   ]
  },
  {
   "cell_type": "markdown",
   "metadata": {},
   "source": [
    "Trong đó"
   ]
  },
  {
   "cell_type": "markdown",
   "metadata": {},
   "source": [
    "$$\n",
    "\\begin{split}\n",
    "A(\\omega ) &= \\frac{1}{\\pi} \\int_{-\\infty}^{\\infty} f(t) \\cos \\omega t \\: dt \\\\\n",
    "\\\\\n",
    "B(\\omega ) &= \\frac{1}{\\pi} \\int_{- \\infty}^{\\infty} f(t) \\sin \\omega t \\: dt\n",
    "\\end{split}\n",
    "$$"
   ]
  },
  {
   "cell_type": "markdown",
   "metadata": {},
   "source": [
    "Không liên tục tại $x$"
   ]
  },
  {
   "cell_type": "markdown",
   "metadata": {},
   "source": [
    "$$\n",
    "\\begin{split}\n",
    "\\frac{f(x+) + f(x-)}{2}\n",
    "\\end{split}\n",
    "$$"
   ]
  },
  {
   "cell_type": "markdown",
   "metadata": {},
   "source": [
    "## Phép biến đổi"
   ]
  },
  {
   "cell_type": "markdown",
   "metadata": {},
   "source": [
    "$$\n",
    "\\begin{split}\n",
    "\\hat{f} (\\omega ) = \\mathcal{F}(f(x))(\\omega) &= \\frac{1}{\\sqrt{2 \\pi}} \\int_{-\\infty}^{\\infty} f(x) e^{-i \\omega x} \\: dx \\quad (-\\infty < \\omega < \\infty) \\\\\n",
    "\\\\\n",
    "\\hat{f} (0) &= \\frac{1}{\\sqrt{2 \\pi}} \\int_{-\\infty}^{\\infty} \\check{f}(x) \\: dx\n",
    "\\end{split}\n",
    "$$"
   ]
  },
  {
   "cell_type": "markdown",
   "metadata": {},
   "source": [
    "### Ngược"
   ]
  },
  {
   "cell_type": "markdown",
   "metadata": {},
   "source": [
    "$$\n",
    "\\begin{split}\n",
    "\\check{f}(x) = f(x) = \\mathcal{F}^{-1} (\\hat{f} (\\omega)) (x) &= \\frac{1}{\\sqrt{2 \\pi}} \\int_{- \\infty}^{\\infty} e^{i \\omega x} \\hat{f} (\\omega ) \\: d \\omega \\quad (-\\infty < x < \\infty)\n",
    "\\end{split}\n",
    "$$"
   ]
  },
  {
   "cell_type": "markdown",
   "metadata": {},
   "source": [
    "## Tính chất"
   ]
  },
  {
   "cell_type": "markdown",
   "metadata": {},
   "source": [
    "### AXTT"
   ]
  },
  {
   "cell_type": "markdown",
   "metadata": {},
   "source": [
    "$$\n",
    "\\begin{split}\n",
    "\\mathcal{F} (af + bg) &= a \\mathcal{F} (f) + b \\mathcal{F} (g)\n",
    "\\end{split}\n",
    "$$"
   ]
  },
  {
   "cell_type": "markdown",
   "metadata": {},
   "source": [
    "### Đạo hàm"
   ]
  },
  {
   "cell_type": "markdown",
   "metadata": {},
   "source": [
    "$$\n",
    "\\begin{split}\n",
    "\\mathcal{F} (f^{(n)}) &= (i \\omega)^n \\mathcal{F} (f) \\\\\n",
    "\\\\\n",
    "\\mathcal{F} (x f(x))(\\omega) = i \\bigg[ &\\hat{f} \\bigg]' (\\omega ) = i \\frac{d}{d \\omega} \\mathcal{F} (f) (\\omega) \\\\\n",
    "\\\\\n",
    "\\mathcal{F} (x^n f(x))&(\\omega) = i^n \\bigg[ \\hat{f} \\bigg]^{(n)} (\\omega ) \\\\\n",
    "\\end{split}\n",
    "$$"
   ]
  },
  {
   "cell_type": "markdown",
   "metadata": {},
   "source": [
    "### Tích chập"
   ]
  },
  {
   "cell_type": "markdown",
   "metadata": {},
   "source": [
    "$$\n",
    "\\begin{split}\n",
    "f * g(x) = \\frac{1}{\\sqrt{2 \\pi}} & \\int_{-\\infty}^{\\infty} f(x - t) g(t) \\: dt \\\\\n",
    "\\\\\n",
    "g * f(x) = \\frac{1}{\\sqrt{2 \\pi}} & \\int_{-\\infty}^{\\infty} g(x - t) f(t) \\: dt \\\\\n",
    "\\\\\n",
    "\\mathcal{F} (f * g) &= \\mathcal{F} (f) \\mathcal{F} (g) \\\\\n",
    "\\\\\n",
    "\\mathcal{F}(f * f)&(\\omega) = \\hat{f} (\\omega) ^2 \\\\\n",
    "\\\\\n",
    "\\mathcal{F} (\\mathcal{F} (f)) = &\\mathcal{F}^2(f) = f(-x) \\\\\n",
    "\\end{split}\n",
    "$$"
   ]
  },
  {
   "cell_type": "markdown",
   "metadata": {},
   "source": [
    "Tìm $\\mathcal{F} (g) \\rightarrow$ Chọn $f(x)$ sao cho"
   ]
  },
  {
   "cell_type": "markdown",
   "metadata": {},
   "source": [
    "$$\n",
    "\\begin{split}\n",
    "\\mathcal{F} (f(x)) &= g(\\omega) \\\\\n",
    "\\mathcal{F} ( \\mathcal{F} (f)) &= \\mathcal{F} (g(\\omega)) \\\\\n",
    "f(-x) &= \\mathcal{F} (g)\n",
    "\\end{split}\n",
    "$$"
   ]
  },
  {
   "cell_type": "markdown",
   "metadata": {},
   "source": [
    "### Gaussian Transform"
   ]
  },
  {
   "cell_type": "markdown",
   "metadata": {},
   "source": [
    "$a > 0$"
   ]
  },
  {
   "cell_type": "markdown",
   "metadata": {},
   "source": [
    "$$\n",
    "\\begin{split}\n",
    "\\mathcal{F} \\Bigg(e^{-\\large{\\frac{ax^2}{2}}} \\Bigg) (\\omega ) &= \\frac{1}{\\sqrt{a}} e^{-\\large{\\frac{\\omega ^2}{2a}}} \\\\\n",
    "\\end{split}\n",
    "$$"
   ]
  },
  {
   "cell_type": "markdown",
   "metadata": {},
   "source": [
    "$a > 0 \\quad (a=2a)$"
   ]
  },
  {
   "cell_type": "markdown",
   "metadata": {},
   "source": [
    "$$\n",
    "\\begin{split}\n",
    "\\mathcal{F} \\bigg( e^{-ax^2} \\bigg) (\\omega) &= \\frac{1}{\\sqrt{2a}} e ^{ -\\large{\\frac{\\omega ^2}{4a}}} \\\\\n",
    "\\end{split}\n",
    "$$"
   ]
  },
  {
   "cell_type": "markdown",
   "metadata": {},
   "source": [
    "$a = 1$"
   ]
  },
  {
   "cell_type": "markdown",
   "metadata": {},
   "source": [
    "$$\n",
    "\\begin{split}\n",
    "\\mathcal{F} \\Bigg(e^{-\\large{\\frac{x^2}{2}}} \\Bigg) (\\omega ) &= e^{-\\large{\\frac{\\omega ^2}{2}}} \\\\\n",
    "\\end{split}\n",
    "$$"
   ]
  },
  {
   "cell_type": "markdown",
   "metadata": {},
   "source": [
    "# Partial Derivatives"
   ]
  },
  {
   "cell_type": "markdown",
   "metadata": {},
   "source": [
    "## Operational properties"
   ]
  },
  {
   "cell_type": "markdown",
   "metadata": {},
   "source": [
    "$$\n",
    "\\begin{split}\n",
    "\\mathcal{F} \\bigg( \\frac{\\partial}{\\partial t} u(x,t) \\bigg) (\\omega) &= \\frac{d}{dt} \\hat{u} (\\omega , t) \\\\\n",
    "\\\\\n",
    "\\mathcal{F} \\bigg( \\frac{\\partial ^n}{\\partial t^n} u(x,t) \\bigg) (\\omega ) &= \\frac{d^n}{dt^n} \\hat{u} (\\omega , t) , \\quad n= \\overline{1,n}\n",
    "\\end{split}\n",
    "$$"
   ]
  },
  {
   "cell_type": "markdown",
   "metadata": {},
   "source": [
    "# Basics"
   ]
  },
  {
   "cell_type": "markdown",
   "metadata": {},
   "source": [
    "## Euler formula"
   ]
  },
  {
   "cell_type": "markdown",
   "metadata": {},
   "source": [
    "$$\n",
    "\\begin{split}\n",
    "e ^ {i \\omega x } = \\cos (\\omega x) & + i \\sin (\\omega x) \\\\\n",
    "\\\\\n",
    "e ^ {- i \\omega x } = \\cos (\\omega x) & - i \\sin (\\omega x) \\\\\n",
    "\\\\\n",
    "| e ^ {- i \\omega x } | = | \\cos (\\omega x) - i \\sin (\\omega x) | & = \\sqrt{\\cos ^ 2 (\\omega x) + \\sin ^2 (\\omega x)} = 1 \\\\\n",
    "\\\\\n",
    "\\cos u = \\frac{1}{2} (e^{iu}& + e^{-iu}) \\\\\n",
    "\\\\\n",
    "\\sin u = \\frac{1}{2i} (e^{iu}& - e^{-iu}) \\\\\n",
    "\\end{split}\n",
    "$$"
   ]
  },
  {
   "cell_type": "markdown",
   "metadata": {},
   "source": [
    "## Differentiation\n",
    "\n",
    "$$\n",
    "\\begin{split}\n",
    "(c)^{'} &= 0 \\\\\n",
    "(kx)^{'} = k &\\:,\\: (ku)^{'} = ku^{'} \\\\\n",
    "(x^n)^{'} = nx^{n-1} &\\:,\\: (u^n)^{'} = u^{'}nu^{n-1} \\\\\\\\\n",
    "(uv)^{'} &= u^{'}v + v^{'}u \\\\\n",
    "\\left(\\frac{u}{v}\\right)^{'} &= \\frac{u^{'}v - v^{'}u}{v^2} \\\\\n",
    "\\left(\\frac{1}{x}\\right)^{'} = -\\frac{1}{x^2} &\\:,\\: \\left(\\frac{1}{u}\\right)^{'} = \\frac{u^{'}}{u^2} \\\\\n",
    "\\\\\n",
    "(\\sqrt{x})^{'} = \\frac{1}{2\\sqrt{x}} &\\:,\\: (\\sqrt{u})^{'} = \\frac{u^{'}}{2\\sqrt{u}} \\\\\n",
    "\\\\\n",
    "(\\sin x)^{'} = \\cos x &\\:,\\: (\\sin u)^{'} = u^{'} \\cos u \\\\\n",
    "(\\cos x)^{'} = - \\sin x &\\:,\\: (\\cos u)^{'} = - u^{'} \\sin u  \\\\\n",
    "\\\\\n",
    "(e^x)^{'} = e^x &\\:,\\: (e^u)^{'} = u^{'} e^u \\\\\n",
    "(a^x)^{'} = a^x \\ln a &\\:,\\: (a^u)^{'} = u^{'}a^u \\ln a \\\\\n",
    "(\\ln x)^{'} = \\frac{1}{x} &\\:,\\: (\\ln u)^{'} = \\frac{u^{'}}{u} \\\\\n",
    "(\\log _ax)^{'} = \\frac{1}{x\\ln a} &\\:,\\: (\\log _au)^{'} = \\frac{u^{'}}{u\\ln a} \\\\\n",
    "\\\\\n",
    "(u \\pm v)^{'} &= u^{'} \\pm v^{'} \\\\\n",
    "(u_1 \\pm \\ldots \\pm u_n)^{'} &= u_1^{'} \\pm \\ldots \\pm u_n^{'} \\\\\n",
    "y = y[u(x)] & \\Rightarrow y^{'}(x) = y^{'}(u)u^{'}(x) \\\\\n",
    "\\left(\\frac{ax+b}{cx+d}\\right)^{'} &= \\frac{\\begin{vmatrix} a & b \\\\ c & d \\end{vmatrix}}{(cx+d)^2} \\\\\n",
    "\\end{split}\n",
    "$$\n",
    "\n",
    "## Integral\n",
    "\n",
    "$$\n",
    "\\begin{split}\n",
    "\\int dx = x  &\\:,\\: \\int du = u  \\\\\n",
    "\\int x^{\\alpha} dx = \\frac{x^{\\alpha +1}}{\\alpha +1}  &\\:,\\: \\int u^{\\alpha} du = \\frac{u^{\\alpha +1}}{\\alpha +1}  \\\\\n",
    "\\\\\n",
    "\\int a^x dx = \\frac{a^x}{\\ln a} &\\:,\\: \\int a^u dx = \\frac{a^u}{\\ln a} \\\\\n",
    "\\int \\frac{dx}{x} = \\ln |x| &\\:,\\: \\int \\frac{du}{u} = \\ln |u| \\\\\n",
    "\\\\\n",
    "\\int e^x dx = e^x &\\:,\\: \\int e^u du = e^u  \\\\\n",
    "\\int e^{kx} dx &= \\frac{e^kx}{k} \\\\\n",
    "\\\\\n",
    "\\int \\cos x dc = \\sin x  &\\:,\\: \\int \\cos udu = \\sin u \\\\\n",
    "\\int \\sin xdx = - \\cos x &\\:,\\: \\int \\sin udu = - \\cos u  \\\\\n",
    "\\int \\cos (ax+b)dx &= \\frac{1}{a} \\sin (ax+b) \\\\\n",
    "\\int \\sin (ax+b) dx &= -\\frac{1}{a} \\cos (ax+b) \\\\\n",
    "\\\\\n",
    "\\int (ax+b)^{\\alpha} &= \\frac{1}{a} \\frac{(ax+b)^{\\alpha +1}}{\\alpha +1}  \\\\\n",
    "\\end{split}\n",
    "$$"
   ]
  },
  {
   "cell_type": "markdown",
   "metadata": {},
   "source": [
    "### Từng phần"
   ]
  },
  {
   "cell_type": "markdown",
   "metadata": {},
   "source": [
    "$$\n",
    "\\begin{split}\n",
    "\\int_a^b u \\: dv &= uv |_a^b - \\int_a^b v \\: du \\\\\n",
    "I &= \\int_a^b P(x) Q(x) \\: dx \\\\\n",
    "u &= P(x) \\\\\n",
    "dv &= Q(x)dx \\\\\n",
    "\\end{split}\n",
    "$$"
   ]
  },
  {
   "cell_type": "markdown",
   "metadata": {},
   "source": [
    "Chọn $P(x)$ đặt $u$: Nhất $\\log$ - Nhì đa - Tam lượng - Tứ mũ."
   ]
  },
  {
   "cell_type": "markdown",
   "metadata": {},
   "source": [
    "Múa cột"
   ]
  },
  {
   "attachments": {
    "7CDC33DE-E8F3-4CF8-A910-680F030A8346.png": {
     "image/png": "[encoded data removed]"
    }
   },
   "cell_type": "markdown",
   "metadata": {},
   "source": [
    "![7CDC33DE-E8F3-4CF8-A910-680F030A8346.png](attachment:7CDC33DE-E8F3-4CF8-A910-680F030A8346.png)"
   ]
  },
  {
   "cell_type": "markdown",
   "metadata": {},
   "source": [
    "## Trigonometry"
   ]
  },
  {
   "cell_type": "markdown",
   "metadata": {},
   "source": [
    "$$\n",
    "\\begin{split}\n",
    "\\sin ^2 a + &\\cos ^2 a = 1 \\\\\n",
    "\\\\\n",
    "\\tan a &= \\frac{\\sin a }{\\cos a} \\\\\n",
    "\\\\\n",
    "\\cot a &= \\frac{\\cos a}{\\sin a} \\\\\n",
    "\\\\\n",
    "1 + \\tan ^2 a &= \\frac{1}{\\cos ^2 a} \\\\\n",
    "\\\\\n",
    "1 + \\cot ^2 a &= \\frac{1}{\\sin ^2 a} \\\\\n",
    "\\\\\n",
    "\\tan a & \\cot a = 1 \\\\\n",
    "\\end{split}\n",
    "$$"
   ]
  },
  {
   "cell_type": "markdown",
   "metadata": {},
   "source": [
    "### Cộng - Trừ\n",
    "\n",
    "$$\n",
    "\\begin{split}\n",
    "\\cos (a - b) = \\cos a &\\cos b + \\sin a \\sin b \\\\\n",
    "\\\\\n",
    "\\cos (a + b) = \\cos a &\\cos b - \\sin a \\sin b \\\\\n",
    "\\\\\n",
    "\\sin(a + b) = \\sin a &\\cos b + \\cos a \\sin b \\\\\n",
    "\\\\\n",
    "\\sin (a - b ) = \\sin a &\\cos b - \\cos a \\sin b \\\\\n",
    "\\\\\n",
    "\\tan (a + b ) = & \\frac{\\tan a + \\tan b}{1 - \\tan a \\tan b} \\\\\n",
    "\\\\\n",
    "\\tan (a - b) = & \\frac{\\tan a - \\tan b}{1 + \\tan a \\tan b} \\\\\n",
    "\\\\\n",
    "\\end{split}\n",
    "$$"
   ]
  },
  {
   "cell_type": "markdown",
   "metadata": {},
   "source": [
    "### Nhân\n",
    "\n",
    "$$\n",
    "\\begin{split}\n",
    "\\sin 2 a &= 2 \\sin a \\cos a \\\\\n",
    "\\\\\n",
    "\\cos 2a = {\\cos ^2}a – {\\sin ^2}a &= 2{\\cos ^2}a – 1 = 1 – 2{\\sin ^2}a \\\\\n",
    "\\\\\n",
    "\\tan 2a &= \\frac{{2\\tan a}}{{1 – {{\\tan }^2}a}} \\\\\n",
    "\\\\\n",
    "\\cot 2a &= \\frac{{{{\\cot }^2}a – 1}}{{2\\cot a}} \\\\\n",
    "\\\\\n",
    "\\sin 3a &= 3\\sin a – 4{\\sin ^3}a \\\\\n",
    "\\\\\n",
    "\\cos 3a &= 4{\\cos ^3}a – 3\\cos a \\\\\n",
    "\\\\\n",
    "\\tan 3a &= \\frac{{3\\tan a – {{\\tan }^3}a}}{{1 – 3{{\\tan }^2}a}} \\\\\n",
    "\\\\\n",
    "\\cot 3a &= \\frac{{3{{\\cot }^2}a – 1}}{{{{\\cot }^3}a – 3\\cot a}} \\\\\n",
    "\\end{split}\n",
    "$$"
   ]
  },
  {
   "cell_type": "markdown",
   "metadata": {},
   "source": [
    "### Hạ bậc\n",
    "\n",
    "$$\n",
    "\\begin{split}\n",
    "{\\cos ^2}a &= \\frac{{1 + \\cos 2a}}{2} \\\\\n",
    "\\\\\n",
    "{\\sin ^2}a &= \\frac{{1 – \\cos 2a}}{2} \\\\\n",
    "\\\\\n",
    "{\\tan ^2}a &= \\frac{{1 – \\cos 2a}}{{1 + \\cos 2a}} \\\\\n",
    "\\\\\n",
    "{\\sin ^2}a \\cos & ^2 a = \\frac{{1 – \\cos 4a}}{8} \\\\\n",
    "\\\\\n",
    "{\\cos ^3}a = & \\frac{{3\\cos a + \\cos 3a}}{4} \\\\\n",
    "\\\\\n",
    "{\\sin ^3}a = & \\frac{{3\\sin a – \\sin 3a}}{4} \\\\\n",
    "\\\\\n",
    "{\\sin ^4}a = & \\frac{{\\cos 4a – 4\\cos 2a + 3}}{8} \\\\\n",
    "\\\\\n",
    "{\\cos ^4}a = & \\frac{{\\cos 4a + 4\\cos 2a + 3}}{8} \\\\\n",
    "\\end{split}\n",
    "$$"
   ]
  },
  {
   "cell_type": "markdown",
   "metadata": {},
   "source": [
    "### Tích tổng\n",
    "\n",
    "$$\n",
    "\\begin{split}\n",
    "\\cos a\\cos b = \\frac{1}{2}\\left[ {\\cos (a – b) + \\cos (a + b)} \\right] \\\\\n",
    "\\\\\n",
    "\\sin a\\sin b = \\frac{1}{2}\\left[ {\\cos (a – b) – \\cos (a + b)} \\right] \\\\\n",
    "\\\\\n",
    "\\sin a\\cos b = \\frac{1}{2}\\left[ {\\sin (a + b) + \\sin (a – b)} \\right]\n",
    "\\end{split}\n",
    "$$"
   ]
  },
  {
   "cell_type": "markdown",
   "metadata": {},
   "source": [
    "### Tổng tích \n",
    "\n",
    "$$\n",
    "\\begin{split}\n",
    "\\cos a + \\cos b &= 2\\cos \\frac{{a + b}}{2}\\cos \\frac{{a – b}}{2} \\\\\n",
    "\\\\\n",
    "\\cos a – \\cos b &= – 2\\sin \\frac{{a + b}}{2}\\sin \\frac{{a – b}}{2} \\\\\n",
    "\\\\\n",
    "\\sin a + \\sin b &= 2\\sin \\frac{{a + b}}{2}\\cos \\frac{{a – b}}{2} \\\\\n",
    "\\\\\n",
    "\\sin a – \\sin b &= 2\\cos \\frac{{a + b}}{2}\\sin \\frac{{a – b}}{2} \\\\\n",
    "\\\\\n",
    "\\cos a + \\sin a = \\sqrt 2 &\\cos \\left( {\\frac{\\pi }{4} – a} \\right) = \\sqrt 2 \\sin \\left( {\\frac{\\pi }{4} + a} \\right) \\\\\n",
    "\\\\\n",
    "\\cos a – \\sin a = \\sqrt 2 &\\cos \\left( {\\frac{\\pi }{4} + a} \\right) = \\sqrt 2 \\sin \\left( {\\frac{\\pi }{4} – a} \\right) \\\\\n",
    "\\\\\n",
    "\\tan a + \\tan b &= \\frac{{\\sin (a + b)}}{{\\cos a\\cos b}} \\\\\n",
    "\\\\\n",
    "\\tan a – \\tan b &= \\frac{{\\sin (a – b)}}{{\\cos a\\cos b}} \\\\\n",
    "\\\\\n",
    "\\cot a + \\cot b &= \\frac{{\\sin (a + b)}}{{\\sin a\\sin b}} \\\\\n",
    "\\\\\n",
    "\\cot a – \\cot b &= \\frac{{\\sin (b – a)}}{{\\sin a\\sin b}} \\\\\n",
    "\\\\\n",
    "\\cot a + \\tan a &= \\frac{2}{{\\sin 2a}} \\\\\n",
    "\\\\\n",
    "\\cot a – \\tan a &= 2\\cot 2a\n",
    "\\end{split}\n",
    "$$"
   ]
  },
  {
   "cell_type": "markdown",
   "metadata": {},
   "source": [
    "## Cấp số nhân"
   ]
  },
  {
   "cell_type": "markdown",
   "metadata": {},
   "source": [
    "$$\n",
    "\\begin{split}\n",
    "S_n = u_1 + u_2 + & \\ldots + u_n = \\frac{u_1 (1 - q^n)}{1-q} \\\\\n",
    "\\\\\n",
    "u_n &= u_{n-1} . q \\\\\n",
    "\\\\\n",
    "u_n &= u_1 . q^{n-1} \\\\\n",
    "\\end{split}\n",
    "$$"
   ]
  }
 ],
 "metadata": {
  "kernelspec": {
   "display_name": "venv",
   "language": "python",
   "name": "python3"
  },
  "language_info": {
   "name": "python",
   "version": "3.12.5"
  }
 },
 "nbformat": 4,
 "nbformat_minor": 2
}
