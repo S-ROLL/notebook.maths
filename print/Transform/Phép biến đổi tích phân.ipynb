{
 "cells": [
  {
   "cell_type": "markdown",
   "metadata": {},
   "source": [
    "# Phép Biến Đổi Tích Phân"
   ]
  },
  {
   "cell_type": "markdown",
   "metadata": {},
   "source": [
    "## Fourier Series"
   ]
  },
  {
   "cell_type": "markdown",
   "metadata": {},
   "source": [
    "$$\n",
    "\\begin{split}\n",
    "f(x) &= a_0 + \\sum_{n=1}^{\\infty} (a_n \\cos nx + b_n \\sin nx)\n",
    "\\end{split}\n",
    "$$"
   ]
  },
  {
   "cell_type": "markdown",
   "metadata": {},
   "source": [
    "$[- \\pi, \\pi]$"
   ]
  },
  {
   "cell_type": "markdown",
   "metadata": {},
   "source": [
    "$$\n",
    "\\begin{split}\n",
    "a_0 &= \\frac{1}{2\\pi} \\int_{- \\pi}^{\\pi} f(x) dx \\\\\n",
    "\\\\\n",
    "a_n &= \\frac{1}{\\pi} \\int_{- \\pi}^{\\pi} f(x) \\cos nx dx \\quad (n=1,2,\\ldots)\n",
    "\\\\\n",
    "\\\\\n",
    "b_n &= \\frac{1}{\\pi} \\int_{- \\pi}^{\\pi} f(x) \\sin nx dx \\quad (n=1,2,\\ldots)\n",
    "\\end{split}\n",
    "$$"
   ]
  },
  {
   "cell_type": "markdown",
   "metadata": {},
   "source": [
    "$[0, 2 \\pi] \\to \\int_{0}^{2 \\pi}$"
   ]
  },
  {
   "cell_type": "markdown",
   "metadata": {},
   "source": [
    "### Khoảng bất kỳ"
   ]
  },
  {
   "cell_type": "markdown",
   "metadata": {},
   "source": [
    "$$\n",
    "\\begin{split}\n",
    "f(x) &= a_0 + \\sum_{n=1}^{\\infty} \\bigg( a_n \\cos \\frac{n \\pi}{p} x + b_n \\sin \\frac{n \\pi}{p}x \\bigg)\n",
    "\\end{split}\n",
    "$$"
   ]
  },
  {
   "cell_type": "markdown",
   "metadata": {},
   "source": [
    "$[-p,p]$"
   ]
  },
  {
   "cell_type": "markdown",
   "metadata": {},
   "source": [
    "$$\n",
    "\\begin{split}\n",
    "a_0 &= \\frac{1}{2p} \\int_{-p}^{p} f(x) dx \\\\\n",
    "\\\\\n",
    "a_n &= \\frac{1}{p} \\int_{-p}^{p} f(x) \\cos \\frac{n \\pi}{p} x dx \\quad (n=1,2,\\ldots)\n",
    "\\\\\n",
    "\\\\\n",
    "b_n &= \\frac{1}{p} \\int_{-p}^{p} f(x) \\sin \\frac{n\\pi}{p}x dx \\quad (n=1,2,\\ldots)\n",
    "\\end{split}\n",
    "$$"
   ]
  },
  {
   "cell_type": "markdown",
   "metadata": {},
   "source": [
    "### Hàm chẳn lẻ"
   ]
  },
  {
   "cell_type": "markdown",
   "metadata": {},
   "source": [
    "| HÀM | TÍNH CHẤT | Điều kiện |\n",
    "|:------:|:------:|:------:|\n",
    "| Chẳn | $f(-x) = f(x)$ | $\\forall x$ |\n",
    "| Lẻ | $f(-x) = - f(x)$| $\\forall x$ |"
   ]
  },
  {
   "cell_type": "markdown",
   "metadata": {},
   "source": [
    "- Chẳn $\\times$ Chẳn $=$ Chẳn\n",
    "\n",
    "- Chẳn $\\times$ Lẻ $=$ Lẻ\n",
    "\n",
    "- Lẻ $\\times$ Lẻ $=$ Chẳn"
   ]
  },
  {
   "cell_type": "markdown",
   "metadata": {},
   "source": [
    "#### Hàm chẳn"
   ]
  },
  {
   "cell_type": "markdown",
   "metadata": {},
   "source": [
    "$$\n",
    "\\int_{-p}^{p} f(x) dx = 2 \\int_{0}^{p} f(x) dx\n",
    "$$"
   ]
  },
  {
   "cell_type": "markdown",
   "metadata": {
    "vscode": {
     "languageId": "plaintext"
    }
   },
   "source": [
    "Và"
   ]
  },
  {
   "cell_type": "markdown",
   "metadata": {},
   "source": [
    "$$\n",
    "\\begin{split}\n",
    "f(x) &= a_0 + \\sum_{n=1}^{\\infty} a_n \\cos \\frac{n \\pi}{p} x\n",
    "\\end{split}\n",
    "$$"
   ]
  },
  {
   "cell_type": "markdown",
   "metadata": {},
   "source": [
    "Trong đó"
   ]
  },
  {
   "cell_type": "markdown",
   "metadata": {},
   "source": [
    "$$\n",
    "\\begin{split}\n",
    "a_0 &= \\frac{1}{p} \\int_{0}^{p} f(x) dx \\\\\n",
    "\\\\\n",
    "a_n &= \\frac{2}{p} \\int_{0}^{p} f(x) \\cos \\frac{n \\pi}{p} x dx \\quad (n=1,2,\\ldots)\n",
    "\\end{split}\n",
    "$$"
   ]
  },
  {
   "cell_type": "markdown",
   "metadata": {},
   "source": [
    "#### Hàm lẻ"
   ]
  },
  {
   "cell_type": "markdown",
   "metadata": {
    "vscode": {
     "languageId": "plaintext"
    }
   },
   "source": [
    "$$\n",
    "\\int_{-p}^{p} f(x) dx = 0\n",
    "$$"
   ]
  },
  {
   "cell_type": "markdown",
   "metadata": {},
   "source": [
    "Và"
   ]
  },
  {
   "cell_type": "markdown",
   "metadata": {},
   "source": [
    "$$\n",
    "\\begin{split}\n",
    "f(x) &= \\sum_{n=1}^{\\infty} b_n \\sin \\frac{n \\pi}{p}x\n",
    "\\end{split}\n",
    "$$"
   ]
  },
  {
   "cell_type": "markdown",
   "metadata": {},
   "source": [
    "Trong đó"
   ]
  },
  {
   "cell_type": "markdown",
   "metadata": {},
   "source": [
    "$$\n",
    "b_n = \\frac{2}{p} \\int_{0}^{p} f(x) \\sin \\frac{n \\pi}{p} x dx \\quad (n=1,2,\\ldots)\n",
    "$$"
   ]
  },
  {
   "cell_type": "markdown",
   "metadata": {},
   "source": [
    "## Differentiation\n",
    "\n",
    "$$\n",
    "\\begin{split}\n",
    "(c)^{'} &= 0 \\\\\n",
    "(kx)^{'} = k &\\:,\\: (ku)^{'} = ku^{'} \\\\\n",
    "(x^n)^{'} = nx^{n-1} &\\:,\\: (u^n)^{'} = u^{'}nu^{n-1} \\\\\\\\\n",
    "(uv)^{'} &= u^{'}v + v^{'}u \\\\\n",
    "\\left(\\frac{u}{v}\\right)^{'} &= \\frac{u^{'}v - v^{'}u}{v^2} \\\\\n",
    "\\left(\\frac{1}{x}\\right)^{'} = -\\frac{1}{x^2} &\\:,\\: \\left(\\frac{1}{u}\\right)^{'} = \\frac{u^{'}}{u^2} \\\\\n",
    "\\\\\n",
    "(\\sqrt{x})^{'} = \\frac{1}{2\\sqrt{x}} &\\:,\\: (\\sqrt{u})^{'} = \\frac{u^{'}}{2\\sqrt{u}} \\\\\n",
    "\\\\\n",
    "(\\sin x)^{'} = \\cos x &\\:,\\: (\\sin u)^{'} = u^{'} \\cos u \\\\\n",
    "(\\cos x)^{'} = - \\sin x &\\:,\\: (\\cos u)^{'} = - u^{'} \\sin u  \\\\\n",
    "\\\\\n",
    "(e^x)^{'} = e^x &\\:,\\: (e^u)^{'} = u^{'} e^u \\\\\n",
    "(a^x)^{'} = a^x \\ln a &\\:,\\: (a^u)^{'} = u^{'}a^u \\ln a \\\\\n",
    "(\\ln x)^{'} = \\frac{1}{x} &\\:,\\: (\\ln u)^{'} = \\frac{u^{'}}{u} \\\\\n",
    "(\\log _ax)^{'} = \\frac{1}{x\\ln a} &\\:,\\: (\\log _au)^{'} = \\frac{u^{'}}{u\\ln a} \\\\\n",
    "\\\\\n",
    "(u \\pm v)^{'} &= u^{'} \\pm v^{'} \\\\\n",
    "(u_1 \\pm \\ldots \\pm u_n)^{'} &= u_1^{'} \\pm \\ldots \\pm u_n^{'} \\\\\n",
    "y = y[u(x)] & \\Rightarrow y^{'}(x) = y^{'}(u)u^{'}(x) \\\\\n",
    "\\left(\\frac{ax+b}{cx+d}\\right)^{'} &= \\frac{\\begin{vmatrix} a & b \\\\ c & d \\end{vmatrix}}{(cx+d)^2} \\\\\n",
    "\\end{split}\n",
    "$$\n",
    "\n",
    "## Integral\n",
    "\n",
    "$$\n",
    "\\begin{split}\n",
    "\\int dx = x  &\\:,\\: \\int du = u  \\\\\n",
    "\\int x^{\\alpha} dx = \\frac{x^{\\alpha +1}}{\\alpha +1}  &\\:,\\: \\int u^{\\alpha} du = \\frac{u^{\\alpha +1}}{\\alpha +1}  \\\\\n",
    "\\\\\n",
    "\\int a^x dx = \\frac{a^x}{\\ln a} &\\:,\\: \\int a^u dx = \\frac{a^u}{\\ln a} \\\\\n",
    "\\int \\frac{dx}{x} = \\ln |x| &\\:,\\: \\int \\frac{du}{u} = \\ln |u| \\\\\n",
    "\\\\\n",
    "\\int e^x dx = e^x &\\:,\\: \\int e^u du = e^u  \\\\\n",
    "\\int e^{kx} dx &= \\frac{e^kx}{k} \\\\\n",
    "\\\\\n",
    "\\int \\cos x dc = \\sin x  &\\:,\\: \\int \\cos udu = \\sin u \\\\\n",
    "\\int \\sin xdx = - \\cos x &\\:,\\: \\int \\sin udu = - \\cos u  \\\\\n",
    "\\int \\cos (ax+b)dx &= \\frac{1}{a} \\sin (ax+b) \\\\\n",
    "\\int \\sin (ax+b) dx &= -\\frac{1}{a} \\cos (ax+b) \\\\\n",
    "\\\\\n",
    "\\int (ax+b)^{\\alpha} &= \\frac{1}{a} \\frac{(ax+b)^{\\alpha +1}}{\\alpha +1}  \\\\\n",
    "\\end{split}\n",
    "$$\n",
    "\n",
    "## Root of trigonometric\n",
    "\n",
    "$$\n",
    "\\begin{split}\n",
    "\\sin u = 0 & \\Rightarrow u =k \\pi \\\\\n",
    "\\sin u = 1 & \\Rightarrow u = \\frac{\\pi}{2} + k2\\pi \\\\\n",
    "\\sin u = -1 & \\Rightarrow u = -\\frac{\\pi}{2}+k2\\pi \\\\\n",
    "\\\\\n",
    "\\cos u = 0 & \\Rightarrow u=\\frac{\\pi}{2}+k\\pi \\\\\n",
    "\\cos u = 1 & \\Rightarrow u=k2\\pi \\\\\n",
    "\\cos u = -1 & \\Rightarrow u = \\pi +k2\\pi \\\\\n",
    "\\end{split}\n",
    "$$"
   ]
  }
 ],
 "metadata": {
  "language_info": {
   "name": "python"
  }
 },
 "nbformat": 4,
 "nbformat_minor": 2
}
