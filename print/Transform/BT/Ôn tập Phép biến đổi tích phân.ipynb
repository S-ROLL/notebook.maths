{
 "cells": [
  {
   "cell_type": "markdown",
   "id": "6f3f553f",
   "metadata": {},
   "source": [
    "# Khai triển chuỗi Fourier"
   ]
  },
  {
   "cell_type": "markdown",
   "id": "4bafd92a",
   "metadata": {},
   "source": [
    "## Cô ôn"
   ]
  },
  {
   "cell_type": "markdown",
   "id": "6f61caa1",
   "metadata": {},
   "source": [
    "###\n",
    "\n",
    "Tìm khai triển chuỗi Fourier của hàm số $f(x)=|2x|, \\: -\\pi \\leq x \\leq \\pi$"
   ]
  },
  {
   "cell_type": "markdown",
   "id": "33951c8f",
   "metadata": {},
   "source": [
    "## Đề 2022 - 2023\n",
    "\n",
    "Tìm khai triển chuỗi Fourier của hàm số $f(x) = x^2$, với $- \\pi \\leq x \\leq \\pi$."
   ]
  },
  {
   "cell_type": "markdown",
   "id": "b14d261d",
   "metadata": {},
   "source": [
    "# Biểu diễn"
   ]
  },
  {
   "cell_type": "markdown",
   "id": "9451f2a5",
   "metadata": {},
   "source": [
    "## Cô ôn"
   ]
  },
  {
   "cell_type": "markdown",
   "id": "ad4295a2",
   "metadata": {},
   "source": [
    "###\n",
    "\n",
    "Tính\n",
    "$$\n",
    "I = \\frac{1}{\\pi} \\int_{0}^{+ \\infty} \\frac{\\cos \\omega x}{w^2 + 100} d \\omega , \\: x \\geq 0\n",
    "$$"
   ]
  },
  {
   "cell_type": "markdown",
   "id": "949d6b6a",
   "metadata": {},
   "source": [
    "# Đẳng thức Parseval"
   ]
  },
  {
   "cell_type": "markdown",
   "id": "5e12bd76",
   "metadata": {},
   "source": [
    "## Cô ôn"
   ]
  },
  {
   "cell_type": "markdown",
   "id": "50ad5021",
   "metadata": {},
   "source": [
    "###\n",
    "\n",
    "Dùng đẳng thức Parseval tính $\\int_{-\\pi}^{\\pi} f ^2 (x) dx$, biết\n",
    "\n",
    "$$\n",
    "f(x) = \\frac{\\pi}{2} + \\sum_{n=1}^{\\infty} \\bigg( \\frac{3 \\cos n x}{2n +1} - \\frac{5 \\sin n x}{n^4} \\bigg)\n",
    "$$"
   ]
  },
  {
   "cell_type": "markdown",
   "id": "396223cb",
   "metadata": {},
   "source": [
    "## Đề 2022 - 2023\n",
    "\n",
    "Dùng đẳng thức Parseval tính $\\int_{-\\pi}^{\\pi} f ^2 (x) dx$, biết\n",
    "\n",
    "$$\n",
    "f(x) = \\frac{1}{2} + \\sum_{n=1}^{\\infty} \\bigg( \\frac{3 \\cos n x}{e^{2n}} - \\frac{4 \\sin n x}{n^2} \\bigg)\n",
    "$$"
   ]
  },
  {
   "cell_type": "markdown",
   "id": "0a29d376",
   "metadata": {},
   "source": [
    "# Tích chập"
   ]
  },
  {
   "cell_type": "markdown",
   "id": "c187ccaf",
   "metadata": {},
   "source": [
    "## Cô ôn"
   ]
  },
  {
   "cell_type": "markdown",
   "id": "b5b647d2",
   "metadata": {},
   "source": [
    "###\n",
    "\n",
    "Cho hai hàm số $f(x) = e^{-3x^2 + 1}$ và $g(x)=e^{-5x^2 + 2}$, với $x \\in \\mathbb{R}$. Tìm $f * g$ ?"
   ]
  },
  {
   "cell_type": "markdown",
   "id": "4476f400",
   "metadata": {},
   "source": [
    "###\n",
    "\n",
    "Cho $f(x) = e^{-x^2}, \\: g(x) = x e^{-(x^2 + 2 x)}$. Tính $f * g$ ?"
   ]
  },
  {
   "cell_type": "markdown",
   "id": "1bc5c25e",
   "metadata": {},
   "source": [
    "###\n",
    "\n",
    "Cho $f(x) = e^{-x^2+2}, \\: g(x) = e^{-2x^2 +2x}$. Tính $f * g$ ?"
   ]
  },
  {
   "cell_type": "markdown",
   "id": "373fec40",
   "metadata": {},
   "source": [
    "###\n",
    "\n",
    "Cho $f(x)= e^{-2x^2 + 3}, \\: g(x)=e^{-3x^2-2}$. Tính $f*g$ ?"
   ]
  },
  {
   "cell_type": "markdown",
   "id": "cc6f6b24",
   "metadata": {},
   "source": [
    "## Đề 2022 - 2023\n",
    "\n",
    "Cho hai hàm số $f(x)=e^{-2x^2}$ và $g(x)=e^{\\frac{1}{2}x^2+2}$, với $x \\in \\mathbb{R}$\n",
    "\n",
    "a/ Tìm biến đổi Fourier của $f * g$, trong đó $f * g$ là tích chập của $f$ và $g$.\n",
    "\n",
    "b/ Tìm $f * g$."
   ]
  },
  {
   "cell_type": "markdown",
   "id": "e6f777b6",
   "metadata": {},
   "source": [
    "# Bài toán giá trị biên"
   ]
  },
  {
   "cell_type": "markdown",
   "id": "d2aafe45",
   "metadata": {},
   "source": [
    "## Cô ôn"
   ]
  },
  {
   "cell_type": "markdown",
   "id": "6f87a357",
   "metadata": {},
   "source": [
    "###\n",
    "\n",
    "Dùng phép biến đổi Fourier tìm nghiệm $u=u(x, t), \\: - \\infty < x < \\infty, \\: t > 0$, của bài toán giá trị biên sau:\n",
    "\n",
    "$$\n",
    "\\begin{cases}\n",
    "\\frac{\\partial u}{\\partial t} = 9 \\frac{\\partial^2 u}{\\partial x^2} \\\\\n",
    "u(x, 0) = \\frac{5}{x^2+4}\n",
    "\\end{cases}\n",
    "$$"
   ]
  },
  {
   "cell_type": "markdown",
   "id": "f403b52b",
   "metadata": {},
   "source": [
    "## Đề 2022 - 2023\n",
    "\n",
    "Dùng phép biến đổi Fourier tìm nghiệm $u=u(x, t), \\: - \\infty < x < \\infty, \\: t > 0$, của bài toán giá trị biên sau:\n",
    "\n",
    "$$\n",
    "\\begin{cases}\n",
    "\\frac{\\partial ^2 u}{\\partial t ^2} = 4 \\frac{\\partial ^2 u}{\\partial x ^2} , \\: - \\infty < x < \\infty , \\: t > 0, \\\\\n",
    "u(x, 0) = \\sqrt{\\frac{2}{\\pi}} \\frac{\\sin x}{x}, \\: - \\infty < x < \\infty, \\: \\text{trong đó } f(x) =\n",
    "    \\begin{cases}\n",
    "        1 - \\frac{|x|}{2}, \\: |x| \\leq 2, \\\\\n",
    "        0, \\: |x| > 2.\n",
    "    \\end{cases} \\\\\n",
    "\\frac{\\partial u}{\\partial t} (x, 0) = 0 , \\: - \\infty < x < \\infty. \\\\\n",
    "\\end{cases}\n",
    "$$"
   ]
  },
  {
   "cell_type": "markdown",
   "id": "401c7761",
   "metadata": {},
   "source": [
    "# Biến đổi Laplace"
   ]
  },
  {
   "cell_type": "markdown",
   "id": "b2830795",
   "metadata": {},
   "source": [
    "## Cô ôn"
   ]
  },
  {
   "cell_type": "markdown",
   "id": "7d799e9a",
   "metadata": {},
   "source": [
    "###\n",
    "\n",
    "Dùng phép biến đổi Laplace tìm nghiệm $y=y(t), \\: t \\geq 0$, của bài toán sau:\n",
    "\n",
    "$$\n",
    "5 y''' - 4y' = te^{2t}, \\: y(0) = 0, \\: y'(0) = 0, \\: y'' (0) = 0\n",
    "$$"
   ]
  },
  {
   "cell_type": "markdown",
   "id": "699c2c71",
   "metadata": {},
   "source": [
    "###\n",
    "\n",
    "$$\n",
    "y''' + 3y' + 2y = e^{-4t}, \\: y(0) = 1, \\: y'(0)=1\n",
    "$$"
   ]
  },
  {
   "cell_type": "markdown",
   "id": "923617f1",
   "metadata": {},
   "source": [
    "###\n",
    "\n",
    "$$\n",
    "y''' + 3 y'' + y = te^{-t} , \\: y(0) = 0, \\: y'(0)=0, \\: y''(0) =1\n",
    "$$"
   ]
  },
  {
   "cell_type": "markdown",
   "id": "a1e890ca",
   "metadata": {},
   "source": [
    "###\n",
    "\n",
    "$$\n",
    "\\begin{cases}\n",
    "x' + 2x + y = 0 \\\\\n",
    "y' - 3x + y = 0\n",
    "\\end{cases}\n",
    ", \\: x(0) =1 , \\: y(0) =1\n",
    "$$"
   ]
  },
  {
   "cell_type": "markdown",
   "id": "53ccb166",
   "metadata": {},
   "source": [
    "## Đề 2022 - 2023\n",
    "\n",
    "Dùng phép biến đổi Laplace tìm nghiệm $y=y(t), \\: t \\geq 0$, của bài toán sau:\n",
    "\n",
    "$$\n",
    "y''' (t) + 3 y''(t) + 3 y'(t) + y(t) = 2 e^{-t}, \\: y(0)=y'(0) = 0, \\: y''(0) = 2.\n",
    "$$"
   ]
  }
 ],
 "metadata": {
  "kernelspec": {
   "display_name": "venv",
   "language": "python",
   "name": "python3"
  },
  "language_info": {
   "name": "python",
   "version": "3.12.10"
  }
 },
 "nbformat": 4,
 "nbformat_minor": 5
}
