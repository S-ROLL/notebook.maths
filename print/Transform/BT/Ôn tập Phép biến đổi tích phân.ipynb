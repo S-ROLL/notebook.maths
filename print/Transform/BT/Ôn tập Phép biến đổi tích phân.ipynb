{
 "cells": [
  {
   "cell_type": "markdown",
   "id": "6f3f553f",
   "metadata": {},
   "source": [
    "# Khai triển chuỗi Fourier"
   ]
  },
  {
   "cell_type": "markdown",
   "id": "6f61caa1",
   "metadata": {},
   "source": [
    "1. Tìm khai triển chuỗi Fourier của hàm số $f(x)=|2x|, \\: -\\pi \\leq x \\leq \\pi$\n",
    "\n",
    "2. Tìm khai triển chuỗi Fourier của hàm số $f(x)=x^2 -4,  \\: -\\pi \\leq x \\leq \\pi$"
   ]
  },
  {
   "cell_type": "markdown",
   "id": "d49c6fba",
   "metadata": {},
   "source": [
    "# Tính giá trị của chuỗi số"
   ]
  },
  {
   "cell_type": "markdown",
   "id": "b6fcddef",
   "metadata": {},
   "source": [
    "1. Tính giá trị của chuỗi số: $1-\\frac{1}{3^2}+\\frac{1}{5^2}-\\frac{1}{7^2}+\\ldots$"
   ]
  },
  {
   "cell_type": "markdown",
   "id": "b14d261d",
   "metadata": {},
   "source": [
    "# Biểu diễn"
   ]
  },
  {
   "cell_type": "markdown",
   "id": "ad4295a2",
   "metadata": {},
   "source": [
    "1. Tính\n",
    "$$\n",
    "I = \\frac{1}{\\pi} \\int_{0}^{+ \\infty} \\frac{\\cos \\omega x}{w^2 + 100} d \\omega , \\: x \\geq 0\n",
    "$$"
   ]
  },
  {
   "cell_type": "markdown",
   "id": "949d6b6a",
   "metadata": {},
   "source": [
    "# Đẳng thức Parseval"
   ]
  },
  {
   "cell_type": "markdown",
   "id": "50ad5021",
   "metadata": {},
   "source": [
    "1. Dùng đẳng thức Parseval tính $\\int_{-\\pi}^{\\pi} f ^2 (x) dx$, biết\n",
    "\n",
    "$$\n",
    "f(x) = \\frac{\\pi}{2} + \\sum_{n=1}^{\\infty} \\bigg( \\frac{3 \\cos n x}{2n +1} - \\frac{5 \\sin n x}{n^4} \\bigg)\n",
    "$$\n",
    "\n",
    "2. Dùng đẳng thức Parseval tính $\\int_{-\\pi}^{\\pi} f ^2 (x) dx$, biết\n",
    "\n",
    "$$\n",
    "f(x) = \\frac{\\pi}{12} + \\sum_{n=1}^{\\infty} \\bigg( \\frac{4 \\cos n x}{3^n} - \\frac{7 \\sin n x}{n} \\bigg)\n",
    "$$"
   ]
  },
  {
   "cell_type": "markdown",
   "id": "0a29d376",
   "metadata": {},
   "source": [
    "# Tích chập"
   ]
  },
  {
   "cell_type": "markdown",
   "id": "b5b647d2",
   "metadata": {},
   "source": [
    "1. Cho hai hàm số $f(x) = e^{-3x^2 + 1}$, $g(x)=e^{-5x^2 + 2}$, với $x \\in \\mathbb{R}$. Tìm $f * g$ ?\n",
    "\n",
    "2. Cho hai hàm số $f(x) = e^{-x^2}, \\: g(x) = x e^{-(x^2 + 2 x)}$, với $x \\in \\mathbb{R}$. Tính $f * g$ ?\n",
    "\n",
    "3. Cho hai hàm số $f(x) = e^{-x^2+2}, \\: g(x) = e^{-2x^2 +2x}$, với $x \\in \\mathbb{R}$. Tính $f * g$ ?\n",
    "\n",
    "4. Cho hai hàm số $f(x)= e^{-2x^2 + 3}, \\: g(x)=e^{-3x^2-2}$, với $x \\in \\mathbb{R}$. Tính $f*g$ ?\n",
    "\n",
    "5. Cho hai hàm số $f(x)= e^{-4x^2 + 1}, \\: g(x)=e^{-9x^2-3}$, với $x \\in \\mathbb{R}$. Tính $f*g$ ?"
   ]
  },
  {
   "cell_type": "markdown",
   "id": "e6f777b6",
   "metadata": {},
   "source": [
    "# Bài toán giá trị biên"
   ]
  },
  {
   "cell_type": "markdown",
   "id": "6f87a357",
   "metadata": {},
   "source": [
    "1. Dùng phép biến đổi Fourier tìm nghiệm $u=u(x, t), \\: - \\infty < x < \\infty, \\: t > 0$, của bài toán giá trị biên sau:\n",
    "\n",
    "$$\n",
    "\\begin{cases}\n",
    "\\displaystyle \\frac{\\partial u}{\\partial t} = 9 \\frac{\\partial^2 u}{\\partial x^2} \\\\\n",
    "\\\\\n",
    "u(x, 0) = \\displaystyle \\frac{5}{x^2+4}\n",
    "\\end{cases}\n",
    "$$\n",
    "\n",
    "2. Dùng phép biến đổi Fourier tìm nghiệm $u=u(x, t), \\: - \\infty < x < \\infty, \\: t > 0$, của bài toán giá trị biên sau:\n",
    "\n",
    "$$\n",
    "\\begin{cases}\n",
    "\\displaystyle \\frac{\\partial ^2 u}{\\partial x^2} (x,t) = 16 \\frac{\\partial^2 u}{\\partial t^2} \\\\\n",
    "\\\\\n",
    "u(x, 0) = e ^{-x^2} \\\\\n",
    "\\\\\n",
    "\\displaystyle \\frac{\\partial u}{\\partial t}(x,0) = x e^{-(x^2 + 2x)}\n",
    "\\end{cases}\n",
    "$$"
   ]
  },
  {
   "cell_type": "markdown",
   "id": "401c7761",
   "metadata": {},
   "source": [
    "# Biến đổi Laplace"
   ]
  },
  {
   "cell_type": "markdown",
   "id": "7d799e9a",
   "metadata": {},
   "source": [
    "1. Dùng phép biến đổi Laplace tìm nghiệm $y=y(t), \\: t \\geq 0$, của bài toán sau:\n",
    "\n",
    "$$\n",
    "5 y''' - 4y' = te^{2t}, \\quad y(0) = 0, \\: y'(0) = 0, \\: y'' (0) = 0\n",
    "$$\n",
    "\n",
    "2. Dùng phép biến đổi Laplace tìm nghiệm $y=y(t), \\: t \\geq 0$, của bài toán sau:\n",
    "\n",
    "$$\n",
    "y''' + 3y' + 2y = e^{-4t}, \\quad y(0) = 1, \\: y'(0)=1\n",
    "$$\n",
    "\n",
    "3. Dùng phép biến đổi Laplace tìm nghiệm $y=y(t), \\: t \\geq 0$, của bài toán sau:\n",
    "\n",
    "$$\n",
    "y''' + 3 y'' + y = te^{-t} , \\quad y(0) = 0, \\: y'(0)=0, \\: y''(0) =1\n",
    "$$\n",
    "\n",
    "4. Dùng phép biến đổi Laplace tìm nghiệm $y=y(t), \\: t \\geq 0$, của bài toán sau:\n",
    "\n",
    "$$\n",
    "\\begin{cases}\n",
    "x' + 2x + y = 0 \\\\\n",
    "y' - 3x + y = 0\n",
    "\\end{cases}\n",
    ", \\quad x(0) =1 , \\: y(0) =1\n",
    "$$\n",
    "\n",
    "5. Dùng phép biến đổi Laplace tìm nghiệm $y=y(t), \\: t \\geq 0$, của bài toán sau:\n",
    "\n",
    "$$\n",
    "y''' - 2y'' + 5y = t + 5, \\quad y(0)=0, \\: y'(0) = 0, \\: y''(0) = 1\n",
    "$$"
   ]
  },
  {
   "cell_type": "markdown",
   "id": "b67d1af8",
   "metadata": {},
   "source": [
    "# C/M"
   ]
  },
  {
   "cell_type": "markdown",
   "id": "dbab2311",
   "metadata": {},
   "source": [
    "1. CMR:\n",
    "\n",
    "$$\n",
    "\\frac{2}{\\pi} \\int^{\\infty}_0 \\frac{\\sin x t}{t} dt = sgn (x), \\quad sgn (x) = \n",
    "\\begin{cases}\n",
    "1, \\: x > 0 \\\\\n",
    "0, \\: x=0 \\\\\n",
    "-1, \\: x < 0\n",
    "\\end{cases}\n",
    "$$"
   ]
  },
  {
   "cell_type": "markdown",
   "id": "53ccb166",
   "metadata": {},
   "source": [
    "# Đề 2022 - 2023"
   ]
  },
  {
   "cell_type": "markdown",
   "id": "0f1656c1",
   "metadata": {},
   "source": [
    "1. Tìm khai triển chuỗi Fourier của hàm số $f(x) = x^2$, với $- \\pi \\leq x \\leq \\pi$.\n",
    "\n",
    "2. Dùng đẳng thức Parseval tính $\\int_{-\\pi}^{\\pi} f ^2 (x) dx$, biết\n",
    "\n",
    "$$\n",
    "f(x) = \\frac{1}{2} + \\sum_{n=1}^{\\infty} \\bigg( \\frac{3 \\cos n x}{e^{2n}} - \\frac{4 \\sin n x}{n^2} \\bigg)\n",
    "$$\n",
    "\n",
    "3. Cho hai hàm số $f(x)=e^{-2x^2}$ và $g(x)=e^{\\frac{1}{2}x^2+2}$, với $x \\in \\mathbb{R}$\n",
    "\n",
    "      a. Tìm biến đổi Fourier của $f * g$, trong đó $f * g$ là tích chập của $f$ và $g$.\n",
    "\n",
    "      b. Tìm $f * g$.\n",
    "\n",
    "4. Dùng phép biến đổi Fourier tìm nghiệm $u=u(x, t), \\: - \\infty < x < \\infty, \\: t > 0$, của bài toán giá trị biên sau:\n",
    "\n",
    "$$\n",
    "\\begin{cases}\n",
    "\\displaystyle \\frac{\\partial ^2 u}{\\partial t ^2} = 4 \\frac{\\partial ^2 u}{\\partial x ^2} , \\: - \\infty < x < \\infty , \\: t > 0, \\\\\n",
    "\\\\\n",
    "u(x, 0) = \\displaystyle \\sqrt{\\frac{2}{\\pi}} \\frac{\\sin x}{x}, \\: - \\infty < x < \\infty, \\: \\text{trong đó } f(x) =\n",
    "    \\begin{cases}\n",
    "        1 - \\frac{|x|}{2}, \\: |x| \\leq 2, \\\\\n",
    "        0, \\: |x| > 2.\n",
    "    \\end{cases} \\\\\n",
    "\\\\\n",
    "\\displaystyle \\frac{\\partial u}{\\partial t} (x, 0) = 0 , \\: - \\infty < x < \\infty. \\\\\n",
    "\\end{cases}\n",
    "$$\n",
    "\n",
    "5. Dùng phép biến đổi Laplace tìm nghiệm $y=y(t), \\: t \\geq 0$, của bài toán sau:\n",
    "\n",
    "$$\n",
    "y''' (t) + 3 y''(t) + 3 y'(t) + y(t) = 2 e^{-t}, \\quad y(0)=y'(0) = 0, \\: y''(0) = 2.\n",
    "$$"
   ]
  }
 ],
 "metadata": {
  "kernelspec": {
   "display_name": "venv",
   "language": "python",
   "name": "python3"
  },
  "language_info": {
   "name": "python",
   "version": "3.12.10"
  }
 },
 "nbformat": 4,
 "nbformat_minor": 5
}
