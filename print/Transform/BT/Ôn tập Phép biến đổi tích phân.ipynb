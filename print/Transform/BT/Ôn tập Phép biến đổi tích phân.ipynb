{
 "cells": [
  {
   "cell_type": "markdown",
   "id": "6f3f553f",
   "metadata": {},
   "source": [
    "# Khai triển chuỗi Fourier"
   ]
  },
  {
   "cell_type": "markdown",
   "id": "33951c8f",
   "metadata": {},
   "source": [
    "## Đề 2022 - 2023\n",
    "\n",
    "Tìm khai triển chuỗi Fourier của hàm số $f(x) = x^2$, với $- \\pi \\leq x \\leq \\pi$."
   ]
  },
  {
   "cell_type": "markdown",
   "id": "949d6b6a",
   "metadata": {},
   "source": [
    "# Đẳng thức Parseval"
   ]
  },
  {
   "cell_type": "markdown",
   "id": "396223cb",
   "metadata": {},
   "source": [
    "## Đề 2022 - 2023\n",
    "\n",
    "Dùng đẳng thức Parseval tính $\\int_{-\\pi}^{\\pi} f ^2 (x) dx$, biết\n",
    "\n",
    "$$\n",
    "f(x) = \\frac{1}{2} + \\sum_{n=1}^{\\infty} \\bigg( \\frac{3 \\cos n x}{e^{2n}} - \\frac{4 \\sin n x}{n^2} \\bigg)\n",
    "$$"
   ]
  },
  {
   "cell_type": "markdown",
   "id": "0a29d376",
   "metadata": {},
   "source": [
    "# Tích chập"
   ]
  },
  {
   "cell_type": "markdown",
   "id": "cc6f6b24",
   "metadata": {},
   "source": [
    "## Đề 2022 - 2023\n",
    "\n",
    "Cho hai hàm số $f(x)=e^{-2x^2}$ và $g(x)=e^{\\frac{1}{2}x^2+2}$, với $x \\in \\mathbb{R}$\n",
    "\n",
    "a/ Tìm biến đổi Fourier của $f * g$, trong đó $f * g$ là tích chập của $f$ và $g$.\n",
    "\n",
    "b/ Tìm $f * g$."
   ]
  },
  {
   "cell_type": "markdown",
   "id": "e6f777b6",
   "metadata": {},
   "source": [
    "# Bài toán giá trị biên"
   ]
  },
  {
   "cell_type": "markdown",
   "id": "f403b52b",
   "metadata": {},
   "source": [
    "## Đề 2022 - 2023\n",
    "\n",
    "Dùng phép biến đổi Fourier tìm nghiệm $u=u(x, t), \\: - \\infty < x < \\infty, \\: t > 0$, của bài toán giá trị biên sau:\n",
    "\n",
    "$$\n",
    "\\begin{cases}\n",
    "\\frac{\\partial ^2 u}{\\partial t ^2} = 4 \\frac{\\partial ^2 u}{\\partial x ^2} , \\: - \\infty < x < \\infty , \\: t > 0, \\\\\n",
    "u(x, 0) = \\sqrt{\\frac{2}{\\pi}} \\frac{\\sin x}{x}, \\: - \\infty < x < \\infty, \\: \\text{trong đó } f(x) =\n",
    "    \\begin{cases}\n",
    "        1 - \\frac{|x|}{2}, \\: |x| \\leq 2, \\\\\n",
    "        0, \\: |x| > 2.\n",
    "    \\end{cases} \\\\\n",
    "\\frac{\\partial u}{\\partial t} (x, 0) = 0 , \\: - \\infty < x < \\infty. \\\\\n",
    "\\end{cases}\n",
    "$$"
   ]
  },
  {
   "cell_type": "markdown",
   "id": "401c7761",
   "metadata": {},
   "source": [
    "# Biến đổi Laplace"
   ]
  },
  {
   "cell_type": "markdown",
   "id": "53ccb166",
   "metadata": {},
   "source": [
    "## Đề 2022 - 2023"
   ]
  }
 ],
 "metadata": {
  "kernelspec": {
   "display_name": "venv",
   "language": "python",
   "name": "python3"
  },
  "language_info": {
   "name": "python",
   "version": "3.12.10"
  }
 },
 "nbformat": 4,
 "nbformat_minor": 5
}
