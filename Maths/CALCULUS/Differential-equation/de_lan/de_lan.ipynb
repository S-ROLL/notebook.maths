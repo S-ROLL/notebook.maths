{
 "cells": [
  {
   "cell_type": "markdown",
   "metadata": {},
   "source": [
    "<h1 style=\"text-align: center;\">Differential equation</h1>"
   ]
  },
  {
   "cell_type": "markdown",
   "metadata": {},
   "source": [
    "## Sources"
   ]
  },
  {
   "cell_type": "markdown",
   "metadata": {},
   "source": [
    "- [gg photos](https://photos.app.goo.gl/9bVpQMPoJxTUQcax7)\n",
    "- [Toán cao cấp 3 (BT)](https://drive.google.com/file/d/1__GpVRaUbKl9lroeDL5Ryz6Z-x4VtpmK/view?usp=share_link)\n",
    "- [DIFFERENTIAL EQUATIONS WITH APPLICATIONS & HISTORICAL NOTES - George F. Simmons](https://drive.google.com/file/d/1L689P2wscwgpB8rbs9cU0mBlSncLvVMQ/view?usp=share_link)"
   ]
  },
  {
   "cell_type": "markdown",
   "metadata": {},
   "source": [
    "## Contents"
   ]
  },
  {
   "cell_type": "markdown",
   "metadata": {},
   "source": [
    "- PTVP Cấp 1\n",
    "    - Tách biến\n",
    "    - Tuyến tính cấp 1\n",
    "      - Thuần nhất\n",
    "      - Không thuần nhất\n",
    "    - Bernoulli\n",
    "    - Toàn phần\n",
    "- PTVP Cấp 2\n",
    "  - Thuần nhất\n",
    "  - Không thuần nhất\n",
    "    - $f(x) = e^{ax} Q_n(x)$\n",
    "    - $f(x) = P_n(x)\\sin \\beta x + Q_m(x)\\cos \\beta x$\n",
    "    - Biến thiên hằng số\n",
    "- Hệ PTVP\n",
    "- Ứng dụng"
   ]
  },
  {
   "cell_type": "markdown",
   "metadata": {},
   "source": [
    "# PTVP Cấp 1"
   ]
  },
  {
   "cell_type": "markdown",
   "metadata": {},
   "source": [
    "## Tách biến"
   ]
  },
  {
   "cell_type": "markdown",
   "metadata": {},
   "source": [
    "$$\n",
    "f(x)dx = g(y)dy\n",
    "$$"
   ]
  },
  {
   "cell_type": "markdown",
   "metadata": {},
   "source": [
    "phuong phap"
   ]
  },
  {
   "cell_type": "markdown",
   "metadata": {},
   "source": [
    "$$\n",
    "\\begin{split}\n",
    "& \\int f(x) dx = \\int g(y)dy \\\\\n",
    "& F(x) = G(y) + C\n",
    "\\end{split}\n",
    "$$"
   ]
  },
  {
   "cell_type": "markdown",
   "metadata": {},
   "source": [
    "## Tuyến tính cấp 1"
   ]
  },
  {
   "cell_type": "markdown",
   "metadata": {},
   "source": [
    "### Thuần nhất:"
   ]
  },
  {
   "cell_type": "markdown",
   "metadata": {},
   "source": [
    "$$\n",
    "y' + p(x)y = 0\n",
    "$$"
   ]
  },
  {
   "cell_type": "markdown",
   "metadata": {},
   "source": [
    "phuong phap"
   ]
  },
  {
   "cell_type": "markdown",
   "metadata": {},
   "source": [
    "$$\n",
    "\\begin{split}\n",
    "\\frac{dy}{dx} &= -p(x)y \\\\\n",
    "\\frac{1}{y}dy &= -p(x)dx \\\\\n",
    "\\int \\normalsize \\frac{1}{y} dy &= -\\int p(x)dx \\\\\n",
    "\\ln |y| &= -\\int p(x)dx + \\ln |c| \\\\\n",
    "\\ln |y| - \\ln |c| &= -\\int p(x)dx \\\\\n",
    "\\ln |\\frac{y}{c}| &= -\\int p(x)dx \\\\\n",
    "\\frac{y}{c} &= e^{-\\int p(x)dx} \\\\\n",
    "y &= c.e^{-\\int p(x)dx}\n",
    "\\end{split}\n",
    "$$"
   ]
  },
  {
   "cell_type": "markdown",
   "metadata": {},
   "source": [
    "### Không thuần nhất:"
   ]
  },
  {
   "cell_type": "markdown",
   "metadata": {},
   "source": [
    "$$\n",
    "y' + p(x)y = q(x)\n",
    "$$"
   ]
  },
  {
   "cell_type": "markdown",
   "metadata": {},
   "source": [
    "phuong phap (biến thiên hằng số)"
   ]
  },
  {
   "cell_type": "markdown",
   "metadata": {},
   "source": [
    "$$\n",
    "y' + p(x)y = 0 \\implies \n",
    "y = C.e^{-\\int p(x)dx}\n",
    "$$"
   ]
  },
  {
   "cell_type": "markdown",
   "metadata": {},
   "source": [
    "$$\n",
    "C = C(x)\n",
    "$$"
   ]
  },
  {
   "cell_type": "markdown",
   "metadata": {},
   "source": [
    "$$\n",
    "\\begin{cases}\n",
    "y = C(x).e^{-\\int p(x)dx} \\\\\n",
    "y' = C'(x).e^{-\\int p(x)dx} - p(x)C(x).e^{-\\int p(x)dx} \\\\\n",
    "\\end{cases}\n",
    "$$"
   ]
  },
  {
   "cell_type": "markdown",
   "metadata": {},
   "source": [
    "$$\\begin{split}\n",
    "\\implies y' + p(x)y &= q(x) \\\\\n",
    "C'(x).e^{-\\int p(x)dx} - p(x)C(x).e^{-\\int p(x)dx}& + p(x)C(x).e^{-\\int p(x)dx} = q(x) \\\\\n",
    "C'(x).e^{-\\int p(x)dx} &= q(x) \\\\\n",
    "C'(x) = q(x).&e^{\\int p(x)dx} \\\\\n",
    "C(x) = \\int q(x).&e^{\\int p(x)dx} dx +K\n",
    "\\end{split}$$"
   ]
  },
  {
   "cell_type": "markdown",
   "metadata": {},
   "source": [
    "$$\\begin{split}\n",
    "\\implies y &= C(x).e^{-\\int p(x)dx} \\\\\n",
    "y &= \\Bigg(\\int q(x).e^{\\int p(x)dx} dx +K \\Bigg)e^{-\\int p(x)dx} \\\\\n",
    "\\end{split}$$"
   ]
  },
  {
   "cell_type": "markdown",
   "metadata": {},
   "source": [
    "## Bernoulli"
   ]
  },
  {
   "cell_type": "markdown",
   "metadata": {},
   "source": [
    "$$\n",
    "y' + p(x)y = q(x).y^{\\alpha}\n",
    "$$"
   ]
  },
  {
   "cell_type": "markdown",
   "metadata": {},
   "source": [
    "phuong phap"
   ]
  },
  {
   "cell_type": "markdown",
   "metadata": {},
   "source": [
    "$$\n",
    "y^{-\\alpha}.y' + p(x)y^{1-\\alpha} = q(x)\n",
    "$$"
   ]
  },
  {
   "cell_type": "markdown",
   "metadata": {},
   "source": [
    "$$\\begin{split}\n",
    "z &= y^{1- \\alpha} \\\\\n",
    "z' &= (1-\\alpha).y^{-\\alpha}.y' \\\\\n",
    "y^{-\\alpha}.y' &= \\frac{1}{1-\\alpha} z' \\\\\n",
    "\\end{split}$$"
   ]
  },
  {
   "cell_type": "markdown",
   "metadata": {},
   "source": [
    "$$\\begin{split}\n",
    "\\implies y^{-\\alpha}.y' + p(x)y^{1-\\alpha} &= q(x) \\\\\n",
    "\\frac{1}{1-\\alpha} z' + p(x).z &= q(x) \\\\\n",
    "z' + (1-\\alpha)p(x).z &= q(x)(1-\\alpha)\n",
    "\\end{split}$$"
   ]
  },
  {
   "cell_type": "markdown",
   "metadata": {},
   "source": [
    "## Toàn phần"
   ]
  },
  {
   "cell_type": "markdown",
   "metadata": {},
   "source": [
    "$$\n",
    "P(x,y)dx + Q(x,y)dy=0\n",
    "$$"
   ]
  },
  {
   "cell_type": "markdown",
   "metadata": {},
   "source": [
    "$$\n",
    "P'_y = Q'_x\n",
    "$$"
   ]
  },
  {
   "cell_type": "markdown",
   "metadata": {},
   "source": [
    "$$\\begin{split}\n",
    "u(x,y) &= \\int_{x_0}^x P(x,y_0)dx + \\int_{y_0}^y Q(x,y)dy+C \\\\\n",
    "&\\text{or} \\\\\n",
    "u(x,y) &= \\int_{x_0}^x P(x,y)dx + \\int_{y_0}^y Q(x_0,y)dy+C \\\\\n",
    "\\end{split}$$"
   ]
  },
  {
   "cell_type": "markdown",
   "metadata": {},
   "source": [
    "# PTVP Cấp 2"
   ]
  },
  {
   "cell_type": "markdown",
   "metadata": {},
   "source": [
    "## Thuần nhất "
   ]
  },
  {
   "cell_type": "markdown",
   "metadata": {},
   "source": [
    "$$y'' + py' + qy = 0$$"
   ]
  },
  {
   "cell_type": "markdown",
   "metadata": {},
   "source": [
    "phuong phap"
   ]
  },
  {
   "cell_type": "markdown",
   "metadata": {},
   "source": [
    "$$\n",
    "\\lambda ^2 + p\\lambda + q = 0 \\implies \\text{ giai ptrinh } \\implies \\lambda _1, \\lambda _2 \n",
    "$$\n",
    "- $\\lambda _1 \\neq \\lambda _2 \\implies y = C_1.e^{\\lambda _1x}+C_2.e^{\\lambda _2x}$\n",
    "- $\\lambda _1 = \\lambda _2 = \\lambda \\implies y = (C_1+x.C_2)e^{\\lambda x}$\n",
    "- $\\lambda _{1,2}=\\alpha \\pm i \\beta \\implies y = e^{\\alpha x}(C_1.\\cos \\beta x + C_2.\\sin \\beta x)$"
   ]
  },
  {
   "cell_type": "markdown",
   "metadata": {},
   "source": [
    "## Không thuần nhất"
   ]
  },
  {
   "cell_type": "markdown",
   "metadata": {},
   "source": [
    "$$\n",
    "y'' + py' + qy = f(x)\n",
    "$$"
   ]
  },
  {
   "cell_type": "markdown",
   "metadata": {},
   "source": [
    "##### $f(x) = e^{ax} Q_n(x)$"
   ]
  },
  {
   "cell_type": "markdown",
   "metadata": {},
   "source": [
    "phuong phap"
   ]
  },
  {
   "cell_type": "markdown",
   "metadata": {},
   "source": [
    "$$\n",
    "y'' + py'+qy = 0 \\implies \\lambda _1, \\lambda _2 \\implies y_{tq}\n",
    "$$"
   ]
  },
  {
   "cell_type": "markdown",
   "metadata": {},
   "source": [
    "$$\\scriptsize (P_n(x) \\text{ cung bac voi } Q_n(x), \\text{vi du: } P_n(x)=Ax+B)$$\n",
    "- $a \\neq \\lambda _1 \\: \\land \\: a \\neq \\lambda _2 \\implies y_r = e^{ax}P_n(x)$ \n",
    "- $a = \\lambda _1 \\lor a = \\lambda _2 \\implies y_r = xe^{ax}P_n(x)$\n",
    "- $a = \\lambda _1 = \\lambda _2 \\implies y_r = x^2 e^{ax}P_n(x)$"
   ]
  },
  {
   "cell_type": "markdown",
   "metadata": {},
   "source": [
    "$$\n",
    "\\begin{split}\n",
    "\\implies y'' + py' + qy &= f(x) \\\\\n",
    "y''_r + py'_r + qy_r &= f(x) \\\\\n",
    "\\implies \\text{ He so $A$, $B$,\\ldots} \\implies & y_r \\implies y = y_{tq} + y_r\n",
    "\\end{split}\n",
    "$$"
   ]
  },
  {
   "cell_type": "markdown",
   "metadata": {},
   "source": [
    "##### $f(x) = P_n(x)\\sin \\beta x + Q_m(x)\\cos \\beta x$"
   ]
  },
  {
   "cell_type": "markdown",
   "metadata": {},
   "source": [
    "phuong phap"
   ]
  },
  {
   "cell_type": "markdown",
   "metadata": {},
   "source": [
    "$$\n",
    "y'' + py'+qy = 0 \\implies \\lambda _1, \\lambda _2 \\implies y_{tq}\n",
    "$$"
   ]
  },
  {
   "cell_type": "markdown",
   "metadata": {},
   "source": [
    "$$\\scriptsize l=\\max \\{m,n\\} \\\\ R_l(x)=Ax+B \\quad H_l(x)=Cx+D$$\n",
    "- $\\pm i\\beta \\neq \\lambda _{1,2} \\implies y_r = R_l(x) \\sin \\beta x + H_l(x) \\cos \\beta x$\n",
    "- $\\pm i\\beta = \\lambda _{1,2} \\implies y_r = x\\big(R_l(x) \\sin \\beta x + H_l(x) \\cos \\beta x\\big)$"
   ]
  },
  {
   "cell_type": "markdown",
   "metadata": {},
   "source": [
    "$$\n",
    "\\begin{split}\n",
    "\\implies y'' + py' + qy &= f(x) \\\\\n",
    "y''_r + py'_r + qy_r &= f(x) \\\\\n",
    "\\implies \\text{ He so $A$, $B$,$C$,$D$, \\ldots} \\implies & y_r \\implies y = y_{tq} + y_r\n",
    "\\end{split}\n",
    "$$"
   ]
  },
  {
   "cell_type": "markdown",
   "metadata": {},
   "source": [
    "##### Biến thiên hằng số"
   ]
  }
 ],
 "metadata": {
  "language_info": {
   "name": "python"
  },
  "orig_nbformat": 4
 },
 "nbformat": 4,
 "nbformat_minor": 2
}
