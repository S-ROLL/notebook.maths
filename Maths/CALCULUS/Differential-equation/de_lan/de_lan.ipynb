{
 "cells": [
  {
   "cell_type": "markdown",
   "metadata": {},
   "source": [
    "<h1 style=\"text-align: center;\">Differential equation</h1>"
   ]
  },
  {
   "cell_type": "markdown",
   "metadata": {},
   "source": [
    "## Sources"
   ]
  },
  {
   "cell_type": "markdown",
   "metadata": {},
   "source": [
    "- [gg photos](https://photos.app.goo.gl/9bVpQMPoJxTUQcax7)\n",
    "- [Toán cao cấp 3 (BT)](https://drive.google.com/file/d/1__GpVRaUbKl9lroeDL5Ryz6Z-x4VtpmK/view?usp=share_link)\n",
    "- [DIFFERENTIAL EQUATIONS WITH APPLICATIONS & HISTORICAL NOTES - George F. Simmons](https://drive.google.com/file/d/1L689P2wscwgpB8rbs9cU0mBlSncLvVMQ/view?usp=share_link)"
   ]
  },
  {
   "cell_type": "markdown",
   "metadata": {},
   "source": [
    "## Contents"
   ]
  },
  {
   "cell_type": "markdown",
   "metadata": {},
   "source": [
    "- PTVP Cấp 1\n",
    "    - Tách biến\n",
    "    - Tuyến tính cấp 1\n",
    "      - Thuần nhất\n",
    "      - Không thuần nhất\n",
    "    - Bernoulli\n",
    "    - Toàn phần\n",
    "- PTVP Cấp 2\n",
    "- Hệ PTVP\n",
    "- Ứng dụng"
   ]
  },
  {
   "cell_type": "markdown",
   "metadata": {},
   "source": [
    "## PTVP Cấp 1"
   ]
  },
  {
   "cell_type": "markdown",
   "metadata": {},
   "source": [
    "### Tách biến"
   ]
  },
  {
   "cell_type": "markdown",
   "metadata": {},
   "source": [
    "$$\n",
    "f(x)dx = g(y)dy\n",
    "$$"
   ]
  },
  {
   "cell_type": "markdown",
   "metadata": {},
   "source": [
    "- phuong phap"
   ]
  },
  {
   "cell_type": "markdown",
   "metadata": {},
   "source": [
    "$$\n",
    "\\begin{split}\n",
    "& \\int f(x) dx = \\int g(y)dy \\\\\n",
    "& F(x) = G(y) + C\n",
    "\\end{split}\n",
    "$$"
   ]
  },
  {
   "cell_type": "markdown",
   "metadata": {},
   "source": [
    "### Tuyen tinh cap 1"
   ]
  },
  {
   "cell_type": "markdown",
   "metadata": {},
   "source": [
    "Thuan nhat:"
   ]
  },
  {
   "cell_type": "markdown",
   "metadata": {},
   "source": [
    "$$\n",
    "y' + p(x)y = 0\n",
    "$$"
   ]
  },
  {
   "cell_type": "markdown",
   "metadata": {},
   "source": [
    "- phuong phap"
   ]
  },
  {
   "cell_type": "markdown",
   "metadata": {},
   "source": [
    "$$\n",
    "\\begin{split}\n",
    "\\frac{dy}{dx} &= -p(x)y \\\\\n",
    "\\frac{1}{y}dy &= -p(x)dx \\\\\n",
    "\\int \\normalsize \\frac{1}{y} dy &= -\\int p(x)dx \\\\\n",
    "\\ln |y| &= -\\int p(x)dx + \\ln |c| \\\\\n",
    "\\ln |y| - \\ln |c| &= -\\int p(x)dx \\\\\n",
    "\\ln |\\frac{y}{c}| &= -\\int p(x)dx \\\\\n",
    "\\frac{y}{c} &= e^{-\\int p(x)dx} \\\\\n",
    "y &= c.e^{-\\int p(x)dx}\n",
    "\\end{split}\n",
    "$$"
   ]
  },
  {
   "cell_type": "markdown",
   "metadata": {},
   "source": [
    "Khong thuan nhat:"
   ]
  },
  {
   "cell_type": "markdown",
   "metadata": {},
   "source": [
    "$$\n",
    "y' + p(x)y = q(x)\n",
    "$$"
   ]
  },
  {
   "cell_type": "markdown",
   "metadata": {},
   "source": [
    "- phuong phap"
   ]
  },
  {
   "cell_type": "markdown",
   "metadata": {},
   "source": [
    "$$\n",
    "y' + p(x)y = 0 \\implies \n",
    "y = C.e^{-\\int p(x)dx}\n",
    "$$"
   ]
  },
  {
   "cell_type": "markdown",
   "metadata": {},
   "source": [
    "$$\n",
    "C = C(x)\n",
    "$$"
   ]
  },
  {
   "cell_type": "markdown",
   "metadata": {},
   "source": [
    "$$\n",
    "\\begin{cases}\n",
    "y = C(x).e^{-\\int p(x)dx} \\\\\n",
    "y' = C'(x).e^{-\\int p(x)dx} - p(x)C(x).e^{-\\int p(x)dx} \\\\\n",
    "\\end{cases}\n",
    "$$"
   ]
  },
  {
   "cell_type": "markdown",
   "metadata": {},
   "source": [
    "$$\\begin{split}\n",
    "\\implies y' + p(x)y &= q(x) \\\\\n",
    "C'(x).e^{-\\int p(x)dx} - p(x)C(x).e^{-\\int p(x)dx}& + p(x)C(x).e^{-\\int p(x)dx} = q(x) \\\\\n",
    "C'(x).e^{-\\int p(x)dx} &= q(x) \\\\\n",
    "C'(x) = q(x).&e^{\\int p(x)dx} \\\\\n",
    "C(x) = \\int q(x).&e^{\\int p(x)dx} dx +K\n",
    "\\end{split}$$"
   ]
  },
  {
   "cell_type": "markdown",
   "metadata": {},
   "source": [
    "$$\\begin{split}\n",
    "\\implies y &= C(x).e^{-\\int p(x)dx} \\\\\n",
    "y &= \\Bigg(\\int q(x).e^{\\int p(x)dx} dx +K \\Bigg)e^{-\\int p(x)dx} \\\\\n",
    "\\end{split}$$"
   ]
  },
  {
   "cell_type": "markdown",
   "metadata": {},
   "source": [
    "### Bernoulli"
   ]
  },
  {
   "cell_type": "markdown",
   "metadata": {},
   "source": [
    "$$\n",
    "y' + p(x)y = q(x).y^{\\alpha}\n",
    "$$"
   ]
  },
  {
   "cell_type": "markdown",
   "metadata": {},
   "source": [
    "- phuong phap"
   ]
  },
  {
   "cell_type": "markdown",
   "metadata": {},
   "source": [
    "$$\n",
    "y^{-\\alpha}.y' + p(x)y^{1-\\alpha} = q(x)\n",
    "$$"
   ]
  },
  {
   "cell_type": "markdown",
   "metadata": {},
   "source": [
    "$$\\begin{split}\n",
    "z &= y^{1- \\alpha} \\\\\n",
    "z' &= (1-\\alpha).y^{-\\alpha}.y' \\\\\n",
    "y^{-\\alpha}.y' &= \\frac{1}{1-\\alpha} z' \\\\\n",
    "\\end{split}$$"
   ]
  },
  {
   "cell_type": "markdown",
   "metadata": {},
   "source": [
    "$$\\begin{split}\n",
    "\\implies y^{-\\alpha}.y' + p(x)y^{1-\\alpha} &= q(x) \\\\\n",
    "\\frac{1}{1-\\alpha} z' + p(x).z &= q(x) \\\\\n",
    "z' + (1-\\alpha)p(x).z &= q(x)(1-\\alpha)\n",
    "\\end{split}$$"
   ]
  }
 ],
 "metadata": {
  "language_info": {
   "name": "python"
  },
  "orig_nbformat": 4
 },
 "nbformat": 4,
 "nbformat_minor": 2
}
