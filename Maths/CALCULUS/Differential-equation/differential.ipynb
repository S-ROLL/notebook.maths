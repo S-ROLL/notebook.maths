{
 "cells": [
  {
   "cell_type": "markdown",
   "metadata": {},
   "source": [
    "<h1 style=\"text-align: center;\">Differential equation</h1>"
   ]
  },
  {
   "cell_type": "markdown",
   "metadata": {},
   "source": [
    "## Sources"
   ]
  },
  {
   "cell_type": "markdown",
   "metadata": {},
   "source": [
    "- [gg photos](https://photos.app.goo.gl/9bVpQMPoJxTUQcax7)\n",
    "- [Toán cao cấp 3 (BT)](https://drive.google.com/file/d/1__GpVRaUbKl9lroeDL5Ryz6Z-x4VtpmK/view?usp=share_link)\n",
    "- [DIFFERENTIAL EQUATIONS WITH APPLICATIONS & HISTORICAL NOTES - George F. Simmons](https://drive.google.com/file/d/1L689P2wscwgpB8rbs9cU0mBlSncLvVMQ/view?usp=share_link)"
   ]
  },
  {
   "cell_type": "markdown",
   "metadata": {},
   "source": [
    "## Contents"
   ]
  },
  {
   "cell_type": "markdown",
   "metadata": {},
   "source": [
    "- PTVP Cấp 1\n",
    "    - Tách biến\n",
    "    - Tuyến tính\n",
    "    - Bernoulli\n",
    "    - Toàn phần\n",
    "- PTVP Cấp 2\n",
    "- Hệ PTVP\n",
    "- Ứng dụng"
   ]
  },
  {
   "cell_type": "markdown",
   "metadata": {},
   "source": [
    "## PTVP Cấp 1"
   ]
  },
  {
   "cell_type": "markdown",
   "metadata": {},
   "source": [
    "### Tách biến"
   ]
  },
  {
   "cell_type": "markdown",
   "metadata": {},
   "source": [
    "$$\n",
    "\\begin{split}\n",
    "p(y) \\frac{dy}{dx} &= g(x) \\\\\n",
    "\\end{split}\n",
    "$$"
   ]
  },
  {
   "cell_type": "markdown",
   "metadata": {},
   "source": [
    "Solution:"
   ]
  },
  {
   "cell_type": "markdown",
   "metadata": {},
   "source": [
    "$$\n",
    "\\begin{split}\n",
    "\\int p(y) dy &= \\int g(x) dx \\\\\n",
    "\\end{split}\n",
    "$$"
   ]
  },
  {
   "cell_type": "markdown",
   "metadata": {},
   "source": [
    "### Tuyến tính"
   ]
  },
  {
   "cell_type": "markdown",
   "metadata": {},
   "source": [
    "$$\n",
    "\\begin{split}\n",
    "\\frac{dy}{dx}+P(x)y &= f(x) \\\\\n",
    "\\end{split}\n",
    "$$\n"
   ]
  },
  {
   "cell_type": "markdown",
   "metadata": {},
   "source": [
    "Solution:"
   ]
  },
  {
   "cell_type": "markdown",
   "metadata": {},
   "source": [
    "$$\n",
    "\\begin{split}\n",
    "\\mu (x) &= e^{\\int P(x)dx} \\\\\n",
    "\\frac{d}{dx} [e^{\\int P(x)dx}y ] &= e^{\\int P(x)dx} f(x) \\\\\n",
    "e^{\\int P(x)dx}y &= \\int e^{\\int P(x)dx} + c \\\\\n",
    "y = e^{- \\int P(x)dx} & \\int e^{\\int P(x)dx} + ce^{- \\int P(x)dx}\n",
    "\\end{split}\n",
    "$$"
   ]
  },
  {
   "cell_type": "markdown",
   "metadata": {},
   "source": [
    "### Bernoulli"
   ]
  },
  {
   "cell_type": "markdown",
   "metadata": {},
   "source": [
    "### Toàn phần"
   ]
  },
  {
   "cell_type": "markdown",
   "metadata": {},
   "source": [
    "$$\n",
    "\\begin{split}\n",
    "M(x,y)dx &+N(x,y)dy =0 \\\\\n",
    "\\frac{\\partial M}{\\partial y} &= \\frac{\\partial N}{\\partial x} \\\\\n",
    "\\end{split}\n",
    "$$\n"
   ]
  },
  {
   "cell_type": "markdown",
   "metadata": {},
   "source": [
    "Solution:"
   ]
  },
  {
   "cell_type": "markdown",
   "metadata": {},
   "source": [
    "$$\n",
    "\\begin{split}\n",
    "\\frac{\\partial f}{\\partial x} &= M(x,y) \\\\\n",
    "f(x,y) &= \\int M(x,y) dx + g(y) \\\\\n",
    "\\frac{\\partial f}{\\partial y} &= \\frac{\\partial }{\\partial y} \\int M(x,y)dx + g^{'}(y) = N(x,y) \\\\\n",
    "g^{'}(y) &= N(x,y) - \\frac{\\partial }{\\partial y} \\int M(x,y)dx\n",
    "\\end{split}\n",
    "$$"
   ]
  }
 ],
 "metadata": {
  "kernelspec": {
   "display_name": "Python 3",
   "language": "python",
   "name": "python3"
  },
  "language_info": {
   "codemirror_mode": {
    "name": "ipython",
    "version": 3
   },
   "file_extension": ".py",
   "mimetype": "text/x-python",
   "name": "python",
   "nbconvert_exporter": "python",
   "pygments_lexer": "ipython3",
   "version": "3.9.6"
  },
  "orig_nbformat": 4
 },
 "nbformat": 4,
 "nbformat_minor": 2
}
