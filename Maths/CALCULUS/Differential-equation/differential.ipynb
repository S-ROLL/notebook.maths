{
 "cells": [
  {
   "cell_type": "markdown",
   "metadata": {},
   "source": [
    "<h1 style=\"text-align: center;\">Differential equation</h1>"
   ]
  },
  {
   "cell_type": "markdown",
   "metadata": {},
   "source": [
    "## Sources"
   ]
  },
  {
   "cell_type": "markdown",
   "metadata": {},
   "source": [
    "- [gg photos](https://photos.app.goo.gl/9bVpQMPoJxTUQcax7)\n",
    "- [Toán cao cấp 3 (BT)](https://drive.google.com/file/d/1__GpVRaUbKl9lroeDL5Ryz6Z-x4VtpmK/view?usp=share_link)\n",
    "- [DIFFERENTIAL EQUATIONS WITH APPLICATIONS & HISTORICAL NOTES - George F.Simmons](https://drive.google.com/file/d/1L689P2wscwgpB8rbs9cU0mBlSncLvVMQ/view?usp=share_link)"
   ]
  }
 ],
 "metadata": {
  "kernelspec": {
   "display_name": "Python 3",
   "language": "python",
   "name": "python3"
  },
  "language_info": {
   "codemirror_mode": {
    "name": "ipython",
    "version": 3
   },
   "file_extension": ".py",
   "mimetype": "text/x-python",
   "name": "python",
   "nbconvert_exporter": "python",
   "pygments_lexer": "ipython3",
   "version": "3.9.6"
  },
  "orig_nbformat": 4
 },
 "nbformat": 4,
 "nbformat_minor": 2
}
