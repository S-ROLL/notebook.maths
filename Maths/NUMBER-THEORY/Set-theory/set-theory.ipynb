{
 "cells": [
  {
   "cell_type": "markdown",
   "metadata": {},
   "source": [
    "<h1 style=\"text-align: center;\">Set theory</h1>"
   ]
  },
  {
   "cell_type": "markdown",
   "metadata": {},
   "source": [
    "## Sources"
   ]
  },
  {
   "cell_type": "markdown",
   "metadata": {},
   "source": [
    "- [Set Theory - Thomas Jech](https://drive.google.com/file/d/10kSMQ5sOAiGsuM1Oyeb_teaEPRA8i2ag/view?usp=share_link)"
   ]
  },
  {
   "cell_type": "markdown",
   "metadata": {},
   "source": [
    "## Contents"
   ]
  },
  {
   "cell_type": "markdown",
   "metadata": {},
   "source": [
    "- **BASIC**\n",
    "  - Axioms of set theory\n",
    "  - Ordinal numbers\n",
    "  - Cardinal numbers\n",
    "  - Real numbers\n",
    "  - Axiom of choice & cardinal arithmetric\n",
    "  - Axiom of regularity\n",
    "  - Filters, Ultrafilters & Boolean algebras\n",
    "  - Stationary sets\n",
    "  - Combinatorial set theory\n",
    "  - Measurable cardinals\n",
    "  - Borel & Analytic sets\n",
    "  - Models of set theory\n",
    "- **ADVANCED**\n",
    "- **SELECTED TOPICS**"
   ]
  },
  {
   "cell_type": "markdown",
   "metadata": {},
   "source": [
    "## Axioms of Set Theory"
   ]
  }
 ],
 "metadata": {
  "language_info": {
   "name": "python"
  },
  "orig_nbformat": 4
 },
 "nbformat": 4,
 "nbformat_minor": 2
}
