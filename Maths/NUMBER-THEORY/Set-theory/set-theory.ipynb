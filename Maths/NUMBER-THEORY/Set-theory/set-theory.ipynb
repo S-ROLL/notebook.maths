{
 "cells": [
  {
   "cell_type": "markdown",
   "metadata": {},
   "source": [
    "<h1 style=\"text-align: center;\">Set theory</h1>"
   ]
  },
  {
   "cell_type": "markdown",
   "metadata": {},
   "source": [
    "## Sources"
   ]
  },
  {
   "cell_type": "markdown",
   "metadata": {},
   "source": [
    "- [Set Theory - Thomas Jech](https://drive.google.com/file/d/10kSMQ5sOAiGsuM1Oyeb_teaEPRA8i2ag/view?usp=share_link)"
   ]
  },
  {
   "cell_type": "markdown",
   "metadata": {},
   "source": [
    "## Contents"
   ]
  },
  {
   "cell_type": "markdown",
   "metadata": {},
   "source": [
    "- **BASIC**\n",
    "  - Axioms of set theory\n",
    "  - Ordinal numbers\n",
    "  - Cardinal numbers\n",
    "  - Real numbers\n",
    "  - Axiom of choice & cardinal arithmetric\n",
    "  - Axiom of regularity\n",
    "  - Filters, Ultrafilters & Boolean algebras\n",
    "  - Stationary sets\n",
    "  - Combinatorial set theory\n",
    "  - Measurable cardinals\n",
    "  - Borel & Analytic sets\n",
    "  - Models of set theory\n",
    "- **ADVANCED**\n",
    "- **SELECTED TOPICS**"
   ]
  },
  {
   "cell_type": "markdown",
   "metadata": {},
   "source": [
    "## Axioms of Set Theory"
   ]
  },
  {
   "cell_type": "markdown",
   "metadata": {},
   "source": [
    "- **Extensionality**\n",
    "$$\n",
    "\\text{If $X$ and $Y$ have the same elements, then $X =Y$} \\\\\n",
    "\\forall u (u \\in X \\leftrightarrow u \\in Y) \\rightarrow X=Y\n",
    "$$\n",
    "- **Pairing**\n",
    "$$\n",
    "\\text{For any a and b there exists a set ${a, b}$ that contains exactly $a$ and $b$} \\\\\n",
    "\\forall a \\forall b \\exist c \\forall x (x \\in c \\leftrightarrow x=a \\lor x=b)\n",
    "$$\n",
    "- **Separation Schema**\n",
    "$$\n",
    "\\text{Let $\\varphi(u, p)$ be a formula. For any $X$ and $p$, there exists a set $Y = \\{u \\in X : \\varphi(u, p)\\}$} \\\\\n",
    "\\forall X \\forall p \\exist Y \\forall u (u \\in Y \\leftrightarrow u \\in X \\land \\varphi(u,p))\n",
    "$$\n",
    "- **Union**\n",
    "$$\n",
    "\\text{For any $X$ there exists a set $Y=\\bigcup X$} \\\\\n",
    "\\forall X \\exist Y \\forall u (u \\in Y \\leftrightarrow \\exist z (z \\in X \\land u \\in z))\n",
    "$$\n",
    "- **Power Set**\n",
    "$$\n",
    "\\text{For any $X$ there exists a set $Y=P(X)$} \\\\\n",
    "\\forall X \\exist Y \\forall u (u \\in Y \\leftrightarrow u \\subset X) \\\\\n",
    "$$\n",
    "$$\n",
    "\\text{The set of all subsets of $X$} \\\\\n",
    "P(X) = \\{u : u \\subset X \\}\n",
    "$$\n",
    "> $ U \\subset X : \\forall z (z \\in U \\rightarrow z \\in X)$\n",
    "- **Infinity**\n",
    "- **Replacement Schema**"
   ]
  }
 ],
 "metadata": {
  "language_info": {
   "name": "python"
  },
  "orig_nbformat": 4
 },
 "nbformat": 4,
 "nbformat_minor": 2
}
