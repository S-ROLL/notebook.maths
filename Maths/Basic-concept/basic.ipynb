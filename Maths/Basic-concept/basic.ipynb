{
 "cells": [
  {
   "cell_type": "markdown",
   "metadata": {},
   "source": [
    "# Basic concept"
   ]
  },
  {
   "cell_type": "markdown",
   "metadata": {},
   "source": [
    "## Derivative"
   ]
  },
  {
   "cell_type": "markdown",
   "metadata": {},
   "source": [
    "$$\n",
    "\\begin{split}\n",
    "(c)^{'} &= 0 \\\\\n",
    "(kx)^{'} = k &\\:,\\: (ku)^{'} = ku^{'} \\\\\n",
    "(x^n)^{'} = nx^{n-1} &\\:,\\: (u^n)^{'} = u^{'}nu^{n-1} \\\\\\\\\n",
    "(uv)^{'} &= u^{'}v + v^{'}u \\\\\n",
    "\\left(\\frac{u}{v}\\right)^{'} &= \\frac{u^{'}v - v^{'}u}{v^2} \\\\\n",
    "\\left(\\frac{1}{x}\\right)^{'} = -\\frac{1}{x^2} &\\:,\\: \\left(\\frac{1}{u}\\right)^{'} = \\frac{u^{'}}{u^2} \\\\\n",
    "\\\\\n",
    "(\\sqrt{x})^{'} = \\frac{1}{2\\sqrt{x}} &\\:,\\: (\\sqrt{u})^{'} = \\frac{u^{'}}{2\\sqrt{u}} \\\\\n",
    "\\\\\n",
    "(\\sin x)^{'} = \\cos x &\\:,\\: (\\sin u)^{'} = u^{'} \\cos u \\\\\n",
    "(\\cos x)^{'} = - \\sin x &\\:,\\: (\\cos u)^{'} = - u^{'} \\sin u  \\\\\n",
    "\\\\\n",
    "(e^x)^{'} = e^x &\\:,\\: (e^u)^{'} = u^{'} e^u \\\\\n",
    "(a^x)^{'} = a^x \\ln a &\\:,\\: (a^u)^{'} = u^{'}a^u \\ln a \\\\\n",
    "(\\ln x)^{'} = \\frac{1}{x} &\\:,\\: (\\ln u)^{'} = \\frac{u^{'}}{u} \\\\\n",
    "(\\log _ax)^{'} = \\frac{1}{x\\ln a} &\\:,\\: (\\log _au)^{'} = \\frac{u^{'}}{u\\ln a} \\\\\n",
    "\\\\\n",
    "(u \\pm v)^{'} &= u^{'} \\pm v^{'} \\\\\n",
    "(u_1 \\pm \\ldots \\pm u_n)^{'} &= u_1^{'} \\pm \\ldots \\pm u_n^{'} \\\\\n",
    "y = y[u(x)] & \\Rightarrow y^{'}(x) = y^{'}(u)u^{'}(x) \\\\\n",
    "\\left(\\frac{ax+b}{cx+d}\\right)^{'} &= \\frac{\\begin{vmatrix} a & b \\\\ c & d \\end{vmatrix}}{(cx+d)^2} \\\\\n",
    "\\end{split}\n",
    "$$"
   ]
  },
  {
   "cell_type": "markdown",
   "metadata": {},
   "source": [
    "## Integral ( do not miss $+C$ )"
   ]
  },
  {
   "cell_type": "markdown",
   "metadata": {},
   "source": [
    "$$\n",
    "\\begin{split}\n",
    "\\int dx = x  &\\:,\\: \\int du = u  \\\\\n",
    "\\int x^{\\alpha} dx = \\frac{x^{\\alpha +1}}{\\alpha +1}  &\\:,\\: \\int u^{\\alpha} du = \\frac{u^{\\alpha +1}}{\\alpha +1}  \\\\\n",
    "\\\\\n",
    "\\int a^x dx = \\frac{a^x}{\\ln a} &\\:,\\: \\int a^u dx = \\frac{a^u}{\\ln a} \\\\\n",
    "\\int \\frac{dx}{x} = \\ln |x| &\\:,\\: \\int \\frac{du}{u} = \\ln |u| \\\\\n",
    "\\\\\n",
    "\\int e^x dx = e^x &\\:,\\: \\int e^u du = e^u  \\\\\n",
    "\\int e^{kx} dx &= \\frac{e^kx}{k} \\\\\n",
    "\\\\\n",
    "\\int \\cos x dc = \\sin x  &\\:,\\: \\int \\cos udu = \\sin u \\\\\n",
    "\\int \\sin xdx = - \\cos x &\\:,\\: \\int \\sin udu = - \\cos u  \\\\\n",
    "\\int \\cos (ax+b)dx &= \\frac{1}{a} \\sin (ax+b) \\\\\n",
    "\\int \\sin (ax+b) dx &= -\\frac{1}{a} \\cos (ax+b) \\\\\n",
    "\\\\\n",
    "\\int (ax+b)^{\\alpha} &= \\frac{1}{a} \\frac{(ax+b)^{\\alpha +1}}{\\alpha +1}  \\\\\n",
    "\\end{split}\n",
    "$$"
   ]
  },
  {
   "cell_type": "markdown",
   "metadata": {},
   "source": [
    "## Root of trigonometric"
   ]
  },
  {
   "cell_type": "markdown",
   "metadata": {},
   "source": [
    "$$\n",
    "\\begin{split}\n",
    "\\sin u = 0 & \\Rightarrow u =k \\pi \\\\\n",
    "\\sin u = 1 & \\Rightarrow u = \\frac{\\pi}{2} + k2\\pi \\\\\n",
    "\\sin u = -1 & \\Rightarrow u = -\\frac{\\pi}{2}+k2\\pi \\\\\n",
    "\\\\\n",
    "\\cos u = 0 & \\Rightarrow u=\\frac{\\pi}{2}+k\\pi \\\\\n",
    "\\cos u = 1 & \\Rightarrow u=k2\\pi \\\\\n",
    "\\cos u = -1 & \\Rightarrow u = \\pi +k2\\pi \\\\\n",
    "\\end{split}\n",
    "$$"
   ]
  }
 ],
 "metadata": {
  "kernelspec": {
   "display_name": "Python 3",
   "language": "python",
   "name": "python3"
  },
  "language_info": {
   "codemirror_mode": {
    "name": "ipython",
    "version": 3
   },
   "file_extension": ".py",
   "mimetype": "text/x-python",
   "name": "python",
   "nbconvert_exporter": "python",
   "pygments_lexer": "ipython3",
   "version": "3.9.6"
  },
  "orig_nbformat": 4
 },
 "nbformat": 4,
 "nbformat_minor": 2
}
