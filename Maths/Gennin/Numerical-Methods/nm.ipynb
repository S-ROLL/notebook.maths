{
 "cells": [
  {
   "cell_type": "markdown",
   "metadata": {},
   "source": [
    "<h1 style=\"text-align: center;\">GIẢI TÍCH SỐ</h1>"
   ]
  },
  {
   "cell_type": "markdown",
   "metadata": {},
   "source": [
    "---"
   ]
  },
  {
   "cell_type": "markdown",
   "metadata": {},
   "source": [
    "## Tóm tắt nội dung\n",
    " \n",
    "- ~~**Sai số**~~\n",
    "- **Nội suy**\n",
    "    - ~~Lagrange~~\n",
    "    - Newton\n",
    "    - Bình phương tối thiểu\n",
    "- **Tính gần đúng Đạo hàm & tích phân xác định**\n",
    "    - Hình thang\n",
    "    - Simpson\n",
    "- **Tính gần đúng Nghiệm thực phương trình phi tuyến**\n",
    "    - ~~Chia đôi~~\n",
    "    - Lặp đơn\n",
    "    - Newton-Raphson\n",
    "    - Dây cung\n",
    "- **Tính gần đúng Hệ phương trình tuyến tính**\n",
    "    - Gauss\n",
    "    - Lặp đơn"
   ]
  },
  {
   "cell_type": "markdown",
   "metadata": {},
   "source": [
    "## Nguồn ôn tập & Tra cứu\n",
    "- [Google photos](https://photos.app.goo.gl/L6JDrnBXUGTJhcJa9)\n",
    "- [File Bài tập & Đề thi](https://drive.google.com/drive/folders/1PdZhXawBmx79kxpKBRwYbAc_UoxyRS1o?usp=sharing)\n",
    "- Numerical Methods for Engineers - Steven .C Chapra & Raymond P .Canale"
   ]
  },
  {
   "cell_type": "markdown",
   "metadata": {},
   "source": [
    "---"
   ]
  },
  {
   "cell_type": "markdown",
   "metadata": {},
   "source": [
    "## Nội suy"
   ]
  },
  {
   "cell_type": "markdown",
   "metadata": {},
   "source": [
    "### Newton"
   ]
  },
  {
   "cell_type": "markdown",
   "metadata": {},
   "source": [
    "- Sai phân tiến\n",
    "$$\n",
    "\\begin{split}\n",
    "f_n(x) &= f(x_0)+ (x-x_0)f[x_1,x_0]+ (x-x_0)(x-x_1)f[x_2,x_1,x_0] \\\\\n",
    "&+ \\ldots + (x-x_0)\\ldots (x-x_{n-1})f[x_n,x_{n-1},\\ldots , x_0] \\\\\n",
    "\\: \\\\\n",
    "f[x_n,&x_{n-1},\\ldots ,x_0] = \\frac{f[x_n,x_{n-1},\\ldots ,x_1]-f[x_{n-1},\\ldots ,x_0]}{x_n-x_0}\n",
    "\\end{split}\n",
    "$$"
   ]
  },
  {
   "cell_type": "markdown",
   "metadata": {},
   "source": [
    "- Sai phân lùi"
   ]
  },
  {
   "cell_type": "markdown",
   "metadata": {},
   "source": [
    "$$\n",
    "\\begin{split}\n",
    "P_n(x) &= y_n + (x-x_n) + f[x_n,x_{n-1}] + (x-x_n)(x-x_{n-1})f[x_n,x_{n-1},x_{n-2}] \\\\\n",
    "\\: \\\\\n",
    "&+ \\ldots + (x-x_n) \\ldots (x-x_1)f[x_n,x_{n-1}, \\ldots , x_0] \\\\\n",
    "\\end{split}\n",
    "$$"
   ]
  },
  {
   "cell_type": "markdown",
   "metadata": {},
   "source": [
    "### Bình phương tối thiểu"
   ]
  },
  {
   "cell_type": "markdown",
   "metadata": {},
   "source": [
    "- $y_i = a + bx_i$"
   ]
  },
  {
   "cell_type": "markdown",
   "metadata": {},
   "source": [
    "$$\n",
    "\\begin{split}\n",
    "\n",
    "\\rightarrow \\varepsilon _i &= y_i - a -bx_i \\\\\n",
    "\\: \\\\\n",
    "S = \\sum _{i=0}^n \\varepsilon _i^2 &= \\sum _{i=0}^n (y_i - a - bx_i)^2 \\\\\n",
    "\\: \\\\\n",
    "S_{\\text{min}} \\Rightarrow\n",
    "\\left\\{\n",
    "  \\begin{array}{rcr}\n",
    "  S_a^{'} &=& 0 \\\\\n",
    "  S_b^{'} &=& 0\n",
    "  \\end{array}\n",
    "\\right.\n",
    "& \\Rightarrow\n",
    "\\left\\{\n",
    "  \\begin{array}{rcr}\n",
    "  na + b \\sum x_i &=& \\sum y_i \\\\\n",
    "  a \\sum x_i + b \\sum x_i^2 &=& \\sum x_i y_i\n",
    "  \\end{array}\n",
    "\\right.\n",
    "\\end{split} \\\\\n",
    "$$"
   ]
  },
  {
   "cell_type": "markdown",
   "metadata": {},
   "source": [
    "- $y_i = a +bx_i +cx_i^2$"
   ]
  },
  {
   "cell_type": "markdown",
   "metadata": {},
   "source": [
    "$$\n",
    "S_{\\text{min}} \\Rightarrow\n",
    "\\left\\{\n",
    "  \\begin{array}{rcr}\n",
    "  na + b \\sum x_i + c \\sum x_i^2 &=& \\sum y_i \\\\\n",
    "  a \\sum x_i + b \\sum x_i^2 + c \\sum x_i^3 &=& \\sum x_i y_i \\\\\n",
    "  a \\sum x_i^2 +b \\sum x_i^3 + c \\sum x_i^4 &=& \\sum x_i^2 y_i\n",
    "  \\end{array}\n",
    "\\right.\n",
    "$$"
   ]
  },
  {
   "cell_type": "markdown",
   "metadata": {},
   "source": [
    "## Đạo hàm & tích phân xác định"
   ]
  },
  {
   "cell_type": "markdown",
   "metadata": {},
   "source": [
    "### Hình thang"
   ]
  },
  {
   "cell_type": "markdown",
   "metadata": {},
   "source": [
    "$$\n",
    "\\begin{split}\n",
    "I &= \\frac{h}{2} [y_0 + 2(y_1 + \\ldots + y_{n-1}) + y_n] \\\\\n",
    "\\: \\\\\n",
    "| I - I_t | & \\leq \\frac{M}{12} h^2 (b-a) \\\\\n",
    "h &= \\frac{b-a}{n} \\\\\n",
    "M &= \\text{max}|f^{(2)}(x)|\n",
    "\\end{split}\n",
    "$$"
   ]
  },
  {
   "cell_type": "markdown",
   "metadata": {},
   "source": [
    "### Simpson"
   ]
  },
  {
   "cell_type": "markdown",
   "metadata": {},
   "source": [
    "$$\n",
    "\\begin{split}\n",
    "I = \\frac{h}{3} [(y_0 + y_{2n}) + 4(y_1+y_3+ & \\ldots + y_{2n-1}) + 2(y_2+y_4+ \\ldots + y_{2n-2})] \\\\\n",
    "\\: \\\\\n",
    "|I-I_s| & \\leq \\frac{M}{180} h^4 (b-a) \\\\\n",
    "h &= \\frac{b-a}{2n} \\\\\n",
    "M &= \\text{max} |f^{(4)}(x)|\n",
    "\\end{split}\n",
    "$$"
   ]
  },
  {
   "cell_type": "markdown",
   "metadata": {},
   "source": [
    "## Nghiệm phương trình phi tuyến"
   ]
  },
  {
   "cell_type": "markdown",
   "metadata": {},
   "source": [
    "### Lặp đơn"
   ]
  },
  {
   "cell_type": "markdown",
   "metadata": {},
   "source": [
    "$$\n",
    "\\left\\{\n",
    "  \\begin{array}{rcr}\n",
    "  x_0 & \\text{chọn trước} \\in [a;b] \\\\\n",
    "  x_{n+1} &= \\varphi (x_n) \\: \\: \\forall n \\geq 0\n",
    "  \\end{array}\n",
    "\\right.\n",
    "$$"
   ]
  },
  {
   "cell_type": "markdown",
   "metadata": {},
   "source": [
    "$$\n",
    "\\begin{split}\n",
    "|x_n - \\alpha | & \\leq \\frac{q}{1-q}|x_n - x_{n-1}| \\\\\n",
    "| \\varphi (x)^{'}| = \\ldots &= q < 1 \\: \\: \\forall x \\in \\text{khoảng}\n",
    "\\end{split}\n",
    "$$"
   ]
  },
  {
   "cell_type": "markdown",
   "metadata": {},
   "source": [
    "> **NOTE** <br/>\n",
    "> - $\\varphi (x)^{'}>0 \\Rightarrow$ chon $x_0$ bat ky $\\in [a,b]$.\n",
    "> - $\\varphi (x)^{'}<0 \\Rightarrow$ chon $x_0$\n",
    ">   - $f(a)f(\\frac{a+b}{2})<0 \\Rightarrow x_0=a$\n",
    ">   - $f(b)f(\\frac{a+b}{2})<0 \\Rightarrow x_0=b$"
   ]
  },
  {
   "cell_type": "markdown",
   "metadata": {},
   "source": [
    "### Newton - Raphson"
   ]
  },
  {
   "cell_type": "markdown",
   "metadata": {},
   "source": [
    "$$\n",
    "\\left\\{\n",
    "  \\begin{array}{rcr}\n",
    "  x_0 & \\text{chọn trước} \\in [a;b] \\\\\n",
    "  x_{n+1} &= x_n - \\frac{f(x_n)}{f^{'}(x_n)} \\: \\: \\forall n \\geq 0\n",
    "  \\end{array}\n",
    "\\right.\n",
    "$$"
   ]
  },
  {
   "cell_type": "markdown",
   "metadata": {},
   "source": [
    "$$\n",
    "\\begin{split}\n",
    "|x_n - \\alpha | \\leq \\frac{|f(x_n)|}{m} & < \\varepsilon \\\\\n",
    "\\Rightarrow |f(x_n)| & < m \\varepsilon \\\\\n",
    "0 < m = \\text{min}|f^{'}(a \\text{ or } b)| &\\leq |f^{'}(x)| \\\\\n",
    "\\end{split}\n",
    "$$"
   ]
  },
  {
   "cell_type": "markdown",
   "metadata": {},
   "source": [
    "> **NOTE** <br/>\n",
    "> - $f(a)$ cung dau $f^{''} \\Rightarrow x_0=a$ <br/>\n",
    "> - $f(b)$ cung dau $f^{''} \\Rightarrow x_0=b$ <br/>"
   ]
  },
  {
   "cell_type": "markdown",
   "metadata": {},
   "source": [
    "### Dây cung"
   ]
  },
  {
   "cell_type": "markdown",
   "metadata": {},
   "source": [
    "$$\n",
    "\\begin{split}\n",
    "x_1 &= \\frac{af(b) - bf(a)}{f(b)-f(a)} \\\\\n",
    "\\\\\n",
    "|x_n - \\alpha | & \\leq \\frac{|f(x_n)|}{m} < \\varepsilon \\\\\n",
    "& \\Rightarrow |f(x_n)| < m \\varepsilon \\\\\n",
    "0 < m &= \\text{min}|f^{'}(a \\text{ or } b)| \\leq |f^{'}(x)| \\\\\n",
    "\\end{split}\n",
    "$$"
   ]
  },
  {
   "cell_type": "markdown",
   "metadata": {},
   "source": [
    "> **NOTE** <br/>\n",
    "> - $f(a)f(x_1) < 0 \\rightarrow [a,x_1] \\: \\: \\text{la KPL nghiem moi}$\n",
    "> - $f(x_1)f(b) < 0 \\rightarrow [x_1,b] \\: \\: \\text{la KPL nghiem moi}$"
   ]
  },
  {
   "cell_type": "markdown",
   "metadata": {},
   "source": [
    "## Nghiệm HPT"
   ]
  },
  {
   "cell_type": "markdown",
   "metadata": {},
   "source": [
    "### Gauss"
   ]
  },
  {
   "cell_type": "markdown",
   "metadata": {},
   "source": [
    "$$\n",
    "\\begin{split}\n",
    "\\overline{A} = (A|B) &= \\left(\\begin{array}{ccc|c}\n",
    "a_{11} & a_{12} & a_{13} & b_{1} \\\\\n",
    "a_{21} & a_{22} & a_{23} & b_{2} \\\\\n",
    "a_{31} & a_{32} & a_{33} & b_{3}\n",
    "\\end{array}\\right) \\\\\n",
    "\\\\\n",
    "& \\text{max }\\{|a_{11}|,|a_{12}|,|a_{13}|\\} \\\\\n",
    "\\\\\n",
    "a^{'}_{12} &= \\frac{a_{12}}{a_{11}}, a^{'}_{13}=\\frac{a_{13}}{a_{11}},b^{'}_{1}=\\frac{b_1}{a_{11}} \\\\\n",
    "\\\\\n",
    "a^{'}_{22}&=\\frac{\\begin{vmatrix} a_{11} & a_{12} \\\\ a_{21} & a_{22} \\end{vmatrix}}{a_{11}}, a^{'}_{23}= \\frac{\\begin{vmatrix} a_{11} & a_{13} \\\\ a_{21} & a_{23} \\end{vmatrix}}{a_{11}} , b^{'}_2= \\frac{\\begin{vmatrix} a_{11} & b_1 \\\\ a_{21} & b_2 \\end{vmatrix}}{a_{11}}\\\\\n",
    "\\\\\n",
    "a^{'}_{32}&=\\frac{\\begin{vmatrix} a_{11} & a_{12} \\\\ a_{31} & a_{32} \\end{vmatrix}}{a_{11}}, a^{'}_{33}= \\frac{\\begin{vmatrix} a_{11} & a_{13} \\\\ a_{31} & a_{33} \\end{vmatrix}}{a_{11}} , b^{'}_3= \\frac{\\begin{vmatrix} a_{11} & b_1 \\\\ a_{31} & b_3 \\end{vmatrix}}{a_{11}}\\\\\n",
    "\\end{split}\n",
    "$$"
   ]
  },
  {
   "cell_type": "markdown",
   "metadata": {},
   "source": [
    "$$\n",
    "\\begin{split}\n",
    "& \\text{lặp lại cho tới khi} \\\\\n",
    "\\\\\n",
    "\\overline{A} &= \\left(\\begin{array}{ccc|c}\n",
    "1 & a^{'}_{12} & a^{'}_{13} & b^{'}_{1} \\\\\n",
    "0 & 1 & a^{''}_{23} & b^{''}_{2} \\\\\n",
    "0 & 0 & 1 & b^{'''}_{3}\n",
    "\\end{array}\\right) \\\\\n",
    "\\end{split}\n",
    "$$"
   ]
  },
  {
   "cell_type": "markdown",
   "metadata": {},
   "source": [
    "### Lặp đơn"
   ]
  },
  {
   "cell_type": "markdown",
   "metadata": {},
   "source": [
    "$$\n",
    "\\begin{split}\n",
    "AX&=b \\Rightarrow X=BX+g \\\\\n",
    "\\end{split}\n",
    "$$"
   ]
  },
  {
   "cell_type": "markdown",
   "metadata": {},
   "source": [
    "$$\n",
    "\\left\\{\n",
    "  \\begin{split}\n",
    "  x^{(0)} &= g \\\\\n",
    "  x^{m} &= Bx^{m-1}+g\n",
    "  \\end{split}\n",
    "\\right.\n",
    "$$"
   ]
  },
  {
   "cell_type": "markdown",
   "metadata": {},
   "source": [
    "$$\n",
    "\\begin{split}\n",
    "\\parallel x^{(m)}-x^*\\parallel _p &\\leq \\frac{\\parallel B \\parallel_p^{(m)}}{1-\\parallel B\\parallel _p}\\parallel x^{(0)}-x^{(1)}\\parallel _p \\: (p=0;1) \\\\\n",
    "\\\\\n",
    "\\parallel B\\parallel _0 &= \\text{max} \\sum |b_{ij}| (\\text{theo dong}) < 1 \\\\\n",
    "& \\text{or} \\\\\n",
    "\\parallel B\\parallel _1 &= \\text{max} \\sum |b_{ij}| (\\text{theo cot}) < 1 \\\\\n",
    "\\end{split}\n",
    "$$"
   ]
  }
 ],
 "metadata": {
  "kernelspec": {
   "display_name": "Python 3",
   "language": "python",
   "name": "python3"
  },
  "language_info": {
   "codemirror_mode": {
    "name": "ipython",
    "version": 3
   },
   "file_extension": ".py",
   "mimetype": "text/x-python",
   "name": "python",
   "nbconvert_exporter": "python",
   "pygments_lexer": "ipython3",
   "version": "3.9.6"
  },
  "orig_nbformat": 4
 },
 "nbformat": 4,
 "nbformat_minor": 2
}
