{
 "cells": [
  {
   "cell_type": "markdown",
   "metadata": {},
   "source": [
    "<h1 style=\"text-align: center;\">Machine Learning</h1>"
   ]
  },
  {
   "cell_type": "markdown",
   "metadata": {},
   "source": [
    "## Sources"
   ]
  },
  {
   "cell_type": "markdown",
   "metadata": {},
   "source": [
    "- [Artificial Intelligence: A Modern Approach - Stuart Russell & Peter Norvig](https://drive.google.com/file/d/1RHtjs27paJda6H-v4WL1pZIVRsDgb-WU/edit?disco=AAABA8Shwlg)"
   ]
  },
  {
   "cell_type": "markdown",
   "metadata": {},
   "source": [
    "## Contents"
   ]
  },
  {
   "cell_type": "markdown",
   "metadata": {},
   "source": [
    "- Learning from Examples\n",
    "    - Forms of Learning\n",
    "    - Supervised Learning\n",
    "    - Learning Decision Trees\n",
    "    - Model Selection and Optimization\n",
    "    - The Theory of Learning\n",
    "    - Linear Regression and Classification\n",
    "    - Nonparametric Models\n",
    "    - Ensemble Learning\n",
    "    - Developing Machine Learning Systems\n",
    "- Learning Probabilistic Models\n",
    "- Deep Learning\n",
    "- Reinforcement Learning"
   ]
  },
  {
   "cell_type": "markdown",
   "metadata": {},
   "source": [
    "## Learning from Examples"
   ]
  }
 ],
 "metadata": {
  "kernelspec": {
   "display_name": "Python 3",
   "language": "python",
   "name": "python3"
  },
  "language_info": {
   "name": "python",
   "version": "3.9.6"
  },
  "orig_nbformat": 4
 },
 "nbformat": 4,
 "nbformat_minor": 2
}
