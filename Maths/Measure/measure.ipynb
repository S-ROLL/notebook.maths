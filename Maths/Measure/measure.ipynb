{
 "cells": [
  {
   "cell_type": "markdown",
   "metadata": {},
   "source": [
    "<h1 style=\"text-align: center;\">Measure</h1>"
   ]
  },
  {
   "cell_type": "markdown",
   "metadata": {},
   "source": [
    "## Sources"
   ]
  },
  {
   "cell_type": "markdown",
   "metadata": {},
   "source": [
    "- [Measure, Integration & Real Analysis - Sheldon Axler](https://drive.google.com/file/d/1ildcGrwgloX0shIJj01HxF-E5tsYblSj/view?usp=share_link)\n",
    "- [Đề cương 2024](https://drive.google.com/file/d/180SwH5S6THTLhL5xNnh05XTHMjtBCdmd/view?usp=share_link)"
   ]
  },
  {
   "cell_type": "markdown",
   "metadata": {},
   "source": [
    "## Contents (De cuong)"
   ]
  },
  {
   "cell_type": "markdown",
   "metadata": {},
   "source": [
    "- Độ đo\n",
    "- Hàm đo được\n",
    "- Tích phân Lebesgue của hàm đơn không\n",
    "- âm\n",
    "- Định nghĩa Tích phân Lebesgue của hàm đo được không âm\n",
    "- Tính chất của tích phân Lebesgue của hàm không âm\n",
    "- Tích phân Lebesgue của hàm tổng quát"
   ]
  }
 ],
 "metadata": {
  "language_info": {
   "name": "python"
  },
  "orig_nbformat": 4
 },
 "nbformat": 4,
 "nbformat_minor": 2
}
